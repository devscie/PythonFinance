{
  "nbformat": 4,
  "nbformat_minor": 0,
  "metadata": {
    "colab": {
      "name": "15_Python_Finance.ipynb",
      "provenance": [],
      "authorship_tag": "ABX9TyMyUAc4ume/7nCxis0biwW0"
    },
    "kernelspec": {
      "name": "python3",
      "display_name": "Python 3"
    },
    "language_info": {
      "name": "python"
    }
  },
  "cells": [
    {
      "cell_type": "markdown",
      "metadata": {
        "id": "0BdupURUxl7F"
      },
      "source": [
        "**Capitulo 15**: Através da linguagem de programação PYTHON e da ferramenta online Google Colab fazer estudos do mercado financeiro.\n",
        "\n",
        "Objetivo: Baixa as cotaçãos históricas de todas as empresas que compoem o Índice Bosvespa e as salvo em uma planilha do google."
      ]
    },
    {
      "cell_type": "markdown",
      "metadata": {
        "id": "C6tpv9Y-xxMk"
      },
      "source": [
        "## 1. Instalando gspread"
      ]
    },
    {
      "cell_type": "code",
      "metadata": {
        "id": "87dci03RxlD5"
      },
      "source": [
        "!pip install gspread"
      ],
      "execution_count": null,
      "outputs": []
    },
    {
      "cell_type": "markdown",
      "metadata": {
        "id": "tKzGdoPIx0o8"
      },
      "source": [
        "## 2. Importando as Bibliotecas"
      ]
    },
    {
      "cell_type": "code",
      "metadata": {
        "id": "vACefJggx7aS"
      },
      "source": [
        "from google.colab import auth\n",
        "import gspread\n",
        "from oauth2client.client import GoogleCredentials"
      ],
      "execution_count": 2,
      "outputs": []
    },
    {
      "cell_type": "markdown",
      "metadata": {
        "id": "_SJti_2Zx9mq"
      },
      "source": [
        "## 3. Realizando a Autenticação"
      ]
    },
    {
      "cell_type": "code",
      "metadata": {
        "id": "sIArFGjmx96i"
      },
      "source": [
        "auth.authenticate_user()\n",
        "gc = gspread.authorize(GoogleCredentials.get_application_default())"
      ],
      "execution_count": 3,
      "outputs": []
    },
    {
      "cell_type": "markdown",
      "metadata": {
        "id": "a0VJKZEcyEdj"
      },
      "source": [
        "## 4. Criando uma planilha vazia"
      ]
    },
    {
      "cell_type": "code",
      "metadata": {
        "colab": {
          "base_uri": "https://localhost:8080/"
        },
        "id": "x7bm9U1wyEBM",
        "outputId": "9c0d4dba-4750-42cd-a325-c2d210cde01d"
      },
      "source": [
        "gc.create('Carteira') #Nome da planilha"
      ],
      "execution_count": 4,
      "outputs": [
        {
          "output_type": "execute_result",
          "data": {
            "text/plain": [
              "<Spreadsheet 'Carteira' id:1das-1jxPgcAmwOneubDrPA_0aRki0HMAhv1wk9qhdSw>"
            ]
          },
          "metadata": {
            "tags": []
          },
          "execution_count": 4
        }
      ]
    },
    {
      "cell_type": "markdown",
      "metadata": {
        "id": "yX6oWtIOyMmL"
      },
      "source": [
        "## 5. Abrindo uma Planilha"
      ]
    },
    {
      "cell_type": "code",
      "metadata": {
        "id": "6l2f7VfnyMWz"
      },
      "source": [
        "plan_carteira = gc.open('Carteira') #Acessando Planilha"
      ],
      "execution_count": 5,
      "outputs": []
    },
    {
      "cell_type": "markdown",
      "metadata": {
        "id": "ykMsePCZ5lC8"
      },
      "source": [
        "## Salvando cotações do Yahoo Finance"
      ]
    },
    {
      "cell_type": "markdown",
      "metadata": {
        "id": "axD65bvo5m1s"
      },
      "source": [
        "  * Adicionando uma página à planilha"
      ]
    },
    {
      "cell_type": "code",
      "metadata": {
        "colab": {
          "base_uri": "https://localhost:8080/"
        },
        "id": "Jrycdwm65tAS",
        "outputId": "12e73535-9fee-4925-b6d7-d7dc6de2cee9"
      },
      "source": [
        "plan_carteira.add_worksheet('Cotações Yahoo', 5500, 71) #Adicionar pagina, linhas e colunas"
      ],
      "execution_count": 7,
      "outputs": [
        {
          "output_type": "execute_result",
          "data": {
            "text/plain": [
              "<Worksheet 'Cotações Yahoo' id:7688720>"
            ]
          },
          "metadata": {
            "tags": []
          },
          "execution_count": 7
        }
      ]
    },
    {
      "cell_type": "markdown",
      "metadata": {
        "id": "uhCbTgSV5xYk"
      },
      "source": [
        "  * Instalando o YFinance"
      ]
    },
    {
      "cell_type": "code",
      "metadata": {
        "colab": {
          "base_uri": "https://localhost:8080/"
        },
        "id": "v-6eF2Rr5z4y",
        "outputId": "142e5b84-883a-4c77-d41c-ea0cf2ff5ff3"
      },
      "source": [
        "!pip install yfinance"
      ],
      "execution_count": 8,
      "outputs": [
        {
          "output_type": "stream",
          "text": [
            "Collecting yfinance\n",
            "  Downloading https://files.pythonhosted.org/packages/a7/ee/315752b9ef281ba83c62aa7ec2e2074f85223da6e7e74efb4d3e11c0f510/yfinance-0.1.59.tar.gz\n",
            "Requirement already satisfied: pandas>=0.24 in /usr/local/lib/python3.7/dist-packages (from yfinance) (1.1.5)\n",
            "Requirement already satisfied: numpy>=1.15 in /usr/local/lib/python3.7/dist-packages (from yfinance) (1.19.5)\n",
            "Requirement already satisfied: requests>=2.20 in /usr/local/lib/python3.7/dist-packages (from yfinance) (2.23.0)\n",
            "Requirement already satisfied: multitasking>=0.0.7 in /usr/local/lib/python3.7/dist-packages (from yfinance) (0.0.9)\n",
            "Collecting lxml>=4.5.1\n",
            "\u001b[?25l  Downloading https://files.pythonhosted.org/packages/cf/4d/6537313bf58fe22b508f08cf3eb86b29b6f9edf68e00454224539421073b/lxml-4.6.3-cp37-cp37m-manylinux1_x86_64.whl (5.5MB)\n",
            "\u001b[K     |████████████████████████████████| 5.5MB 19.4MB/s \n",
            "\u001b[?25hRequirement already satisfied: pytz>=2017.2 in /usr/local/lib/python3.7/dist-packages (from pandas>=0.24->yfinance) (2018.9)\n",
            "Requirement already satisfied: python-dateutil>=2.7.3 in /usr/local/lib/python3.7/dist-packages (from pandas>=0.24->yfinance) (2.8.1)\n",
            "Requirement already satisfied: urllib3!=1.25.0,!=1.25.1,<1.26,>=1.21.1 in /usr/local/lib/python3.7/dist-packages (from requests>=2.20->yfinance) (1.24.3)\n",
            "Requirement already satisfied: idna<3,>=2.5 in /usr/local/lib/python3.7/dist-packages (from requests>=2.20->yfinance) (2.10)\n",
            "Requirement already satisfied: chardet<4,>=3.0.2 in /usr/local/lib/python3.7/dist-packages (from requests>=2.20->yfinance) (3.0.4)\n",
            "Requirement already satisfied: certifi>=2017.4.17 in /usr/local/lib/python3.7/dist-packages (from requests>=2.20->yfinance) (2020.12.5)\n",
            "Requirement already satisfied: six>=1.5 in /usr/local/lib/python3.7/dist-packages (from python-dateutil>=2.7.3->pandas>=0.24->yfinance) (1.15.0)\n",
            "Building wheels for collected packages: yfinance\n",
            "  Building wheel for yfinance (setup.py) ... \u001b[?25l\u001b[?25hdone\n",
            "  Created wheel for yfinance: filename=yfinance-0.1.59-py2.py3-none-any.whl size=23442 sha256=66bd9b5590d097b5f30c901425d709db3110cf71f372ddc4dd03cd369e70de70\n",
            "  Stored in directory: /root/.cache/pip/wheels/f8/2a/0f/4b5a86e1d52e451757eb6bc17fd899629f0925c777741b6d04\n",
            "Successfully built yfinance\n",
            "Installing collected packages: lxml, yfinance\n",
            "  Found existing installation: lxml 4.2.6\n",
            "    Uninstalling lxml-4.2.6:\n",
            "      Successfully uninstalled lxml-4.2.6\n",
            "Successfully installed lxml-4.6.3 yfinance-0.1.59\n"
          ],
          "name": "stdout"
        }
      ]
    },
    {
      "cell_type": "code",
      "metadata": {
        "id": "ZAcREQAt54va"
      },
      "source": [
        "import yfinance as yf"
      ],
      "execution_count": 9,
      "outputs": []
    },
    {
      "cell_type": "code",
      "metadata": {
        "id": "3X_uVlHc58i0"
      },
      "source": [
        "tickers_ibov = \"ABEV3.SA AZUL4.SA B3SA3.SA BBAS3.SA BBDC4.SA BBSE3.SA BPAC11.SA BRAP4.SA BRDT3.SA BRFS3.SA BRKM5.SA BRML3.SA BTOW3.SA CCRO3.SA CIEL3.SA CMIG4.SA COGN3.SA CRFB3.SA CSAN3.SA CSNA3.SA CVCB3.SA CYRE3.SA ECOR3.SA EGIE3.SA ELET6.SA EMBR3.SA ENBR3.SA EQTL3.SA FLRY3.SA GGBR4.SA GNDI3.SA GOAU4.SA GOLL4.SA HAPV3.SA HGTX3.SA HYPE3.SA IGTA3.SA IRBR3.SA ITSA4.SA ITUB4.SA JBSS3.SA KLBN11.SA LAME4.SA LREN3.SA MGLU3.SA MRFG3.SA MRVE3.SA MULT3.SA NTCO3.SA PCAR4.SA PETR4.SA QUAL3.SA RADL3.SA RAIL3.SA RENT3.SA SANB11.SA SBSP3.SA SMLS3.SA SULA11.SA SUZB3.SA TAEE11.SA TIMP3.SA TOTS3.SA UGPA3.SA USIM5.SA VALE3.SA VIVT4.SA VVAR3.SA WEGE3.SA YDUQ3.SA\""
      ],
      "execution_count": 10,
      "outputs": []
    },
    {
      "cell_type": "code",
      "metadata": {
        "colab": {
          "base_uri": "https://localhost:8080/"
        },
        "id": "u0uhK2Q-588s",
        "outputId": "2a7842e6-d824-40f2-ed9b-d073318a353e"
      },
      "source": [
        "dados_yf = yf.download(tickers=tickers_ibov, period='5y')[\"Adj Close\"]"
      ],
      "execution_count": 11,
      "outputs": [
        {
          "output_type": "stream",
          "text": [
            "[*********************100%***********************]  70 of 70 completed\n",
            "\n",
            "3 Failed downloads:\n",
            "- VIVT4.SA: No data found, symbol may be delisted\n",
            "- PCAR4.SA: No data found, symbol may be delisted\n",
            "- TIMP3.SA: No data found, symbol may be delisted\n"
          ],
          "name": "stdout"
        }
      ]
    },
    {
      "cell_type": "markdown",
      "metadata": {
        "id": "5QqLBBgE8byP"
      },
      "source": [
        "  * Selecionando a página criada"
      ]
    },
    {
      "cell_type": "code",
      "metadata": {
        "id": "GWr_ixdw8da3"
      },
      "source": [
        "pagina_yahoo = plan_carteira.get_worksheet(1)"
      ],
      "execution_count": 12,
      "outputs": []
    },
    {
      "cell_type": "markdown",
      "metadata": {
        "id": "-2rajDWc8gvH"
      },
      "source": [
        "  * Instalando a biblioteca gspread-dataframe"
      ]
    },
    {
      "cell_type": "code",
      "metadata": {
        "colab": {
          "base_uri": "https://localhost:8080/"
        },
        "id": "v2oOT-648fZM",
        "outputId": "09c07c32-f683-4df4-d6da-3a2f95cbbcdb"
      },
      "source": [
        "!pip install gspread-dataframe"
      ],
      "execution_count": 13,
      "outputs": [
        {
          "output_type": "stream",
          "text": [
            "Requirement already satisfied: gspread-dataframe in /usr/local/lib/python3.7/dist-packages (3.0.8)\n",
            "Requirement already satisfied: pandas>=0.14.0 in /usr/local/lib/python3.7/dist-packages (from gspread-dataframe) (1.1.5)\n",
            "Requirement already satisfied: gspread>=3.0.0 in /usr/local/lib/python3.7/dist-packages (from gspread-dataframe) (3.0.1)\n",
            "Requirement already satisfied: python-dateutil>=2.7.3 in /usr/local/lib/python3.7/dist-packages (from pandas>=0.14.0->gspread-dataframe) (2.8.1)\n",
            "Requirement already satisfied: pytz>=2017.2 in /usr/local/lib/python3.7/dist-packages (from pandas>=0.14.0->gspread-dataframe) (2018.9)\n",
            "Requirement already satisfied: numpy>=1.15.4 in /usr/local/lib/python3.7/dist-packages (from pandas>=0.14.0->gspread-dataframe) (1.19.5)\n",
            "Requirement already satisfied: requests>=2.2.1 in /usr/local/lib/python3.7/dist-packages (from gspread>=3.0.0->gspread-dataframe) (2.23.0)\n",
            "Requirement already satisfied: six>=1.5 in /usr/local/lib/python3.7/dist-packages (from python-dateutil>=2.7.3->pandas>=0.14.0->gspread-dataframe) (1.15.0)\n",
            "Requirement already satisfied: urllib3!=1.25.0,!=1.25.1,<1.26,>=1.21.1 in /usr/local/lib/python3.7/dist-packages (from requests>=2.2.1->gspread>=3.0.0->gspread-dataframe) (1.24.3)\n",
            "Requirement already satisfied: chardet<4,>=3.0.2 in /usr/local/lib/python3.7/dist-packages (from requests>=2.2.1->gspread>=3.0.0->gspread-dataframe) (3.0.4)\n",
            "Requirement already satisfied: idna<3,>=2.5 in /usr/local/lib/python3.7/dist-packages (from requests>=2.2.1->gspread>=3.0.0->gspread-dataframe) (2.10)\n",
            "Requirement already satisfied: certifi>=2017.4.17 in /usr/local/lib/python3.7/dist-packages (from requests>=2.2.1->gspread>=3.0.0->gspread-dataframe) (2020.12.5)\n"
          ],
          "name": "stdout"
        }
      ]
    },
    {
      "cell_type": "code",
      "metadata": {
        "id": "Zdn8CpK38kT_"
      },
      "source": [
        "from gspread_dataframe import get_as_dataframe, set_with_dataframe"
      ],
      "execution_count": 14,
      "outputs": []
    },
    {
      "cell_type": "markdown",
      "metadata": {
        "id": "70el5Ke88n6t"
      },
      "source": [
        "  * Preenchendo os dados na planilha"
      ]
    },
    {
      "cell_type": "code",
      "metadata": {
        "id": "zI43xkVI8mQf"
      },
      "source": [
        "set_with_dataframe(pagina_yahoo, dados_yf, include_index=True)"
      ],
      "execution_count": 34,
      "outputs": []
    },
    {
      "cell_type": "markdown",
      "metadata": {
        "id": "gLI9u8MZ5NjT"
      },
      "source": [
        "## Carteira de Ações"
      ]
    },
    {
      "cell_type": "markdown",
      "metadata": {
        "id": "eT-mmh3n_49D"
      },
      "source": [
        "  * Adicionando uma página à planilha"
      ]
    },
    {
      "cell_type": "code",
      "metadata": {
        "colab": {
          "base_uri": "https://localhost:8080/"
        },
        "id": "Q80uDw8c_6CW",
        "outputId": "d0e35afb-6b7a-4c2c-cbde-abe914582ed8"
      },
      "source": [
        "plan_carteira.add_worksheet('Cotações Carteira', 1500, 71) #Adicionar pagina, linhas e colunas"
      ],
      "execution_count": 16,
      "outputs": [
        {
          "output_type": "execute_result",
          "data": {
            "text/plain": [
              "<Worksheet 'Cotações Carteira' id:506203835>"
            ]
          },
          "metadata": {
            "tags": []
          },
          "execution_count": 16
        }
      ]
    },
    {
      "cell_type": "code",
      "metadata": {
        "id": "KuXyk1bF_nLU"
      },
      "source": [
        "#tickers = \"VVAR3.SA PSSA3.SA BBSE3.SA SULA11.SA B3SA3.SA MRFG3.SA BRFS3.SA SQIA3.SA CCRO3.SA KLBN4.SA SUZB3.SA CSAN3.SA\"\n",
        "\n",
        "tickers_carteira = \"PETR3.SA PRIO3.SA BBDC4.SA ITUB4.SA BBAS3.SA BIDI4.SA ITSA4.SA VALE3.SA MGLU3.SA MDIA3.SA ALPA4.SA WEGE3.SA TAEE11.SA TRPL4.SA ALUP11.SA EGIE3.SA EQTL3.SA ENGI11.SA SAPR11.SA MRVE3.SA EZTC3.SA TRIS3.SA ABEV3.SA QUAL3.SA FLRY3.SA RADL3.SA HYPE3.SA GNDI3.SA HAPV3.SA VIVT3.SA RENT3.SA RAIL3.SA JBSS3.SA LWSA3.SA TOTS3.SA UNIP6.SA NTCO3.SA\"\n"
      ],
      "execution_count": 18,
      "outputs": []
    },
    {
      "cell_type": "code",
      "metadata": {
        "colab": {
          "base_uri": "https://localhost:8080/"
        },
        "id": "v-rq5jq6_90U",
        "outputId": "20efb2e9-fe23-419b-e9b3-307ab6b57ab0"
      },
      "source": [
        "dados_yf = yf.download(tickers=tickers_carteira, period='5y')[\"Adj Close\"]"
      ],
      "execution_count": 19,
      "outputs": [
        {
          "output_type": "stream",
          "text": [
            "[*********************100%***********************]  37 of 37 completed\n"
          ],
          "name": "stdout"
        }
      ]
    },
    {
      "cell_type": "markdown",
      "metadata": {
        "id": "Etx5z0AgAdBm"
      },
      "source": [
        "  * Selecionando a página criada"
      ]
    },
    {
      "cell_type": "code",
      "metadata": {
        "id": "Je8BlqroAdj0"
      },
      "source": [
        "carteria_yahoo = plan_carteira.get_worksheet(2)"
      ],
      "execution_count": 20,
      "outputs": []
    },
    {
      "cell_type": "code",
      "metadata": {
        "id": "0HtJ_M2PA3Qg"
      },
      "source": [
        "set_with_dataframe(carteria_yahoo, dados_yf, include_index=True)"
      ],
      "execution_count": 33,
      "outputs": []
    },
    {
      "cell_type": "markdown",
      "metadata": {
        "id": "fVDaK3Xn5bs7"
      },
      "source": [
        "* Criando um DataFrame Pandas com uma planilha do Google Planilhas"
      ]
    },
    {
      "cell_type": "code",
      "metadata": {
        "id": "PCwLEWr95d_T"
      },
      "source": [
        "import pandas as pd"
      ],
      "execution_count": 22,
      "outputs": []
    },
    {
      "cell_type": "code",
      "metadata": {
        "id": "1_Tz8bFiCdkB"
      },
      "source": [
        "plan_carteira = gc.open('Carteira') #Acessando Planilha"
      ],
      "execution_count": 35,
      "outputs": []
    },
    {
      "cell_type": "markdown",
      "metadata": {
        "id": "wQJgKCzbEtbG"
      },
      "source": [
        "So if you want to retrieve other sheets, you need to use other methods like:\n",
        "\n",
        "1.specify index as a integer indicating the position of the sheet to open starting from 0:\n",
        "\n",
        "wks = gc.open(\"doc_name\").get_worksheet(index)\n",
        "\n",
        "or\n",
        "\n",
        "2.specify title of the sheet to open as a string:\n",
        "\n",
        "wks = gc.open(\"doc_name\").worksheet(title)\n",
        "\n",
        "That is to say, in you case, to get sheet2 you can probably use\n",
        "\n",
        "wks = gc.open(\"doc_name\").get_worksheet(1)"
      ]
    },
    {
      "cell_type": "code",
      "metadata": {
        "id": "lOqQuYrvDee4"
      },
      "source": [
        "wks = plan_carteira.get_worksheet(2)"
      ],
      "execution_count": 38,
      "outputs": []
    },
    {
      "cell_type": "code",
      "metadata": {
        "colab": {
          "base_uri": "https://localhost:8080/",
          "height": 779
        },
        "id": "EVfblKBW5gfT",
        "outputId": "9825575d-ac33-4918-a2ad-75679f7c4934"
      },
      "source": [
        "carteira = pd.DataFrame(wks.get_all_records()) #nomeplanilha.numerodaplanilha.todosregistros\n",
        "#carteira.set_index('Cod', inplace=True)\n",
        "\n",
        "carteira"
      ],
      "execution_count": 39,
      "outputs": [
        {
          "output_type": "execute_result",
          "data": {
            "text/html": [
              "<div>\n",
              "<style scoped>\n",
              "    .dataframe tbody tr th:only-of-type {\n",
              "        vertical-align: middle;\n",
              "    }\n",
              "\n",
              "    .dataframe tbody tr th {\n",
              "        vertical-align: top;\n",
              "    }\n",
              "\n",
              "    .dataframe thead th {\n",
              "        text-align: right;\n",
              "    }\n",
              "</style>\n",
              "<table border=\"1\" class=\"dataframe\">\n",
              "  <thead>\n",
              "    <tr style=\"text-align: right;\">\n",
              "      <th></th>\n",
              "      <th>Date</th>\n",
              "      <th>ABEV3.SA</th>\n",
              "      <th>ALPA4.SA</th>\n",
              "      <th>ALUP11.SA</th>\n",
              "      <th>BBAS3.SA</th>\n",
              "      <th>BBDC4.SA</th>\n",
              "      <th>BIDI4.SA</th>\n",
              "      <th>EGIE3.SA</th>\n",
              "      <th>ENGI11.SA</th>\n",
              "      <th>EQTL3.SA</th>\n",
              "      <th>EZTC3.SA</th>\n",
              "      <th>FLRY3.SA</th>\n",
              "      <th>GNDI3.SA</th>\n",
              "      <th>HAPV3.SA</th>\n",
              "      <th>HYPE3.SA</th>\n",
              "      <th>ITSA4.SA</th>\n",
              "      <th>ITUB4.SA</th>\n",
              "      <th>JBSS3.SA</th>\n",
              "      <th>LWSA3.SA</th>\n",
              "      <th>MDIA3.SA</th>\n",
              "      <th>MGLU3.SA</th>\n",
              "      <th>MRVE3.SA</th>\n",
              "      <th>NTCO3.SA</th>\n",
              "      <th>PETR3.SA</th>\n",
              "      <th>PRIO3.SA</th>\n",
              "      <th>QUAL3.SA</th>\n",
              "      <th>RADL3.SA</th>\n",
              "      <th>RAIL3.SA</th>\n",
              "      <th>RENT3.SA</th>\n",
              "      <th>SAPR11.SA</th>\n",
              "      <th>TAEE11.SA</th>\n",
              "      <th>TOTS3.SA</th>\n",
              "      <th>TRIS3.SA</th>\n",
              "      <th>TRPL4.SA</th>\n",
              "      <th>UNIP6.SA</th>\n",
              "      <th>VALE3.SA</th>\n",
              "      <th>VIVT3.SA</th>\n",
              "      <th>WEGE3.SA</th>\n",
              "    </tr>\n",
              "  </thead>\n",
              "  <tbody>\n",
              "    <tr>\n",
              "      <th>0</th>\n",
              "      <td>2016-04-18 00:00:00</td>\n",
              "      <td>16.39</td>\n",
              "      <td>6.48</td>\n",
              "      <td>10.91</td>\n",
              "      <td>17.52</td>\n",
              "      <td>13.05</td>\n",
              "      <td></td>\n",
              "      <td>21.24</td>\n",
              "      <td>12.88</td>\n",
              "      <td>7.54</td>\n",
              "      <td>10.39</td>\n",
              "      <td>9.01</td>\n",
              "      <td></td>\n",
              "      <td></td>\n",
              "      <td>23.95</td>\n",
              "      <td>5.28</td>\n",
              "      <td>16</td>\n",
              "      <td>8.75</td>\n",
              "      <td></td>\n",
              "      <td>25.12</td>\n",
              "      <td>0.11</td>\n",
              "      <td>8.17</td>\n",
              "      <td></td>\n",
              "      <td>10.67</td>\n",
              "      <td>1.76</td>\n",
              "      <td>11.48</td>\n",
              "      <td>10.48</td>\n",
              "      <td>3.74</td>\n",
              "      <td>9.25</td>\n",
              "      <td></td>\n",
              "      <td>12.29</td>\n",
              "      <td>8.68</td>\n",
              "      <td>1.27</td>\n",
              "      <td>7.79</td>\n",
              "      <td>2.57</td>\n",
              "      <td>15.59</td>\n",
              "      <td>25.3</td>\n",
              "      <td>9.93</td>\n",
              "    </tr>\n",
              "    <tr>\n",
              "      <th>1</th>\n",
              "      <td>2016-04-19 00:00:00</td>\n",
              "      <td>16.53</td>\n",
              "      <td>6.48</td>\n",
              "      <td>11.13</td>\n",
              "      <td>17.45</td>\n",
              "      <td>13.08</td>\n",
              "      <td></td>\n",
              "      <td>21.59</td>\n",
              "      <td>12.99</td>\n",
              "      <td>7.8</td>\n",
              "      <td>10.36</td>\n",
              "      <td>9.34</td>\n",
              "      <td></td>\n",
              "      <td></td>\n",
              "      <td>24.03</td>\n",
              "      <td>5.28</td>\n",
              "      <td>16.09</td>\n",
              "      <td>8.96</td>\n",
              "      <td></td>\n",
              "      <td>24.97</td>\n",
              "      <td>0.11</td>\n",
              "      <td>8.28</td>\n",
              "      <td></td>\n",
              "      <td>11.21</td>\n",
              "      <td>1.8</td>\n",
              "      <td>11.83</td>\n",
              "      <td>10.67</td>\n",
              "      <td>3.88</td>\n",
              "      <td>9.24</td>\n",
              "      <td></td>\n",
              "      <td>12.72</td>\n",
              "      <td>8.72</td>\n",
              "      <td>1.14</td>\n",
              "      <td>8</td>\n",
              "      <td>2.58</td>\n",
              "      <td>16.75</td>\n",
              "      <td>24.78</td>\n",
              "      <td>10.02</td>\n",
              "    </tr>\n",
              "    <tr>\n",
              "      <th>2</th>\n",
              "      <td>2016-04-20 00:00:00</td>\n",
              "      <td>16.6</td>\n",
              "      <td>6.57</td>\n",
              "      <td>10.99</td>\n",
              "      <td>17.33</td>\n",
              "      <td>13.07</td>\n",
              "      <td></td>\n",
              "      <td>21.39</td>\n",
              "      <td>12.99</td>\n",
              "      <td>7.77</td>\n",
              "      <td>9.96</td>\n",
              "      <td>9.33</td>\n",
              "      <td></td>\n",
              "      <td></td>\n",
              "      <td>24.36</td>\n",
              "      <td>5.17</td>\n",
              "      <td>15.79</td>\n",
              "      <td>8.7</td>\n",
              "      <td></td>\n",
              "      <td>24.89</td>\n",
              "      <td>0.11</td>\n",
              "      <td>7.77</td>\n",
              "      <td></td>\n",
              "      <td>11.19</td>\n",
              "      <td>1.88</td>\n",
              "      <td>11.79</td>\n",
              "      <td>10.39</td>\n",
              "      <td>3.9</td>\n",
              "      <td>9.41</td>\n",
              "      <td></td>\n",
              "      <td>12.37</td>\n",
              "      <td>8.79</td>\n",
              "      <td>1.15</td>\n",
              "      <td>7.93</td>\n",
              "      <td>2.57</td>\n",
              "      <td>17.81</td>\n",
              "      <td>24.45</td>\n",
              "      <td>9.92</td>\n",
              "    </tr>\n",
              "    <tr>\n",
              "      <th>3</th>\n",
              "      <td>2016-04-22 00:00:00</td>\n",
              "      <td>16.57</td>\n",
              "      <td>6.45</td>\n",
              "      <td>11.12</td>\n",
              "      <td>16.88</td>\n",
              "      <td>12.79</td>\n",
              "      <td></td>\n",
              "      <td>21.21</td>\n",
              "      <td>12.99</td>\n",
              "      <td>7.77</td>\n",
              "      <td>9.49</td>\n",
              "      <td>9.43</td>\n",
              "      <td></td>\n",
              "      <td></td>\n",
              "      <td>24.26</td>\n",
              "      <td>5.12</td>\n",
              "      <td>15.5</td>\n",
              "      <td>8.26</td>\n",
              "      <td></td>\n",
              "      <td>24.89</td>\n",
              "      <td>0.11</td>\n",
              "      <td>7.91</td>\n",
              "      <td></td>\n",
              "      <td>11.7</td>\n",
              "      <td>1.99</td>\n",
              "      <td>11.41</td>\n",
              "      <td>10.28</td>\n",
              "      <td>3.95</td>\n",
              "      <td>8.88</td>\n",
              "      <td></td>\n",
              "      <td>12.44</td>\n",
              "      <td>8.73</td>\n",
              "      <td>1.15</td>\n",
              "      <td>8.74</td>\n",
              "      <td>2.58</td>\n",
              "      <td>15.82</td>\n",
              "      <td>24.67</td>\n",
              "      <td>10.02</td>\n",
              "    </tr>\n",
              "    <tr>\n",
              "      <th>4</th>\n",
              "      <td>2016-04-25 00:00:00</td>\n",
              "      <td>16.54</td>\n",
              "      <td>6.31</td>\n",
              "      <td>10.8</td>\n",
              "      <td>16.51</td>\n",
              "      <td>12.5</td>\n",
              "      <td></td>\n",
              "      <td>21.35</td>\n",
              "      <td>13.01</td>\n",
              "      <td>7.68</td>\n",
              "      <td>9.33</td>\n",
              "      <td>9.21</td>\n",
              "      <td></td>\n",
              "      <td></td>\n",
              "      <td>24.3</td>\n",
              "      <td>5.07</td>\n",
              "      <td>15.37</td>\n",
              "      <td>8.56</td>\n",
              "      <td></td>\n",
              "      <td>24.6</td>\n",
              "      <td>0.11</td>\n",
              "      <td>7.99</td>\n",
              "      <td></td>\n",
              "      <td>11.21</td>\n",
              "      <td>1.9</td>\n",
              "      <td>11.29</td>\n",
              "      <td>10.24</td>\n",
              "      <td>3.95</td>\n",
              "      <td>8.75</td>\n",
              "      <td></td>\n",
              "      <td>12.26</td>\n",
              "      <td>8.74</td>\n",
              "      <td>1.1</td>\n",
              "      <td>8.55</td>\n",
              "      <td>2.57</td>\n",
              "      <td>14.78</td>\n",
              "      <td>23.82</td>\n",
              "      <td>9.99</td>\n",
              "    </tr>\n",
              "    <tr>\n",
              "      <th>...</th>\n",
              "      <td>...</td>\n",
              "      <td>...</td>\n",
              "      <td>...</td>\n",
              "      <td>...</td>\n",
              "      <td>...</td>\n",
              "      <td>...</td>\n",
              "      <td>...</td>\n",
              "      <td>...</td>\n",
              "      <td>...</td>\n",
              "      <td>...</td>\n",
              "      <td>...</td>\n",
              "      <td>...</td>\n",
              "      <td>...</td>\n",
              "      <td>...</td>\n",
              "      <td>...</td>\n",
              "      <td>...</td>\n",
              "      <td>...</td>\n",
              "      <td>...</td>\n",
              "      <td>...</td>\n",
              "      <td>...</td>\n",
              "      <td>...</td>\n",
              "      <td>...</td>\n",
              "      <td>...</td>\n",
              "      <td>...</td>\n",
              "      <td>...</td>\n",
              "      <td>...</td>\n",
              "      <td>...</td>\n",
              "      <td>...</td>\n",
              "      <td>...</td>\n",
              "      <td>...</td>\n",
              "      <td>...</td>\n",
              "      <td>...</td>\n",
              "      <td>...</td>\n",
              "      <td>...</td>\n",
              "      <td>...</td>\n",
              "      <td>...</td>\n",
              "      <td>...</td>\n",
              "      <td>...</td>\n",
              "    </tr>\n",
              "    <tr>\n",
              "      <th>1239</th>\n",
              "      <td>2021-04-12 00:00:00</td>\n",
              "      <td>15.51</td>\n",
              "      <td>38</td>\n",
              "      <td>26.43</td>\n",
              "      <td>29.55</td>\n",
              "      <td>25.67</td>\n",
              "      <td>63.06</td>\n",
              "      <td>41.54</td>\n",
              "      <td>43.48</td>\n",
              "      <td>24.5</td>\n",
              "      <td>33</td>\n",
              "      <td>26.98</td>\n",
              "      <td>82.05</td>\n",
              "      <td>14.81</td>\n",
              "      <td>34.19</td>\n",
              "      <td>10.21</td>\n",
              "      <td>27.3</td>\n",
              "      <td>32.25</td>\n",
              "      <td>26.17</td>\n",
              "      <td>29.62</td>\n",
              "      <td>21.65</td>\n",
              "      <td>18.5</td>\n",
              "      <td>51.18</td>\n",
              "      <td>22.96</td>\n",
              "      <td>96.91</td>\n",
              "      <td>28.98</td>\n",
              "      <td>24.6</td>\n",
              "      <td>20.48</td>\n",
              "      <td>62.98</td>\n",
              "      <td>21.16</td>\n",
              "      <td>39.14</td>\n",
              "      <td>31.29</td>\n",
              "      <td>10.16</td>\n",
              "      <td>25.24</td>\n",
              "      <td>74.59</td>\n",
              "      <td>103.4</td>\n",
              "      <td>43.81</td>\n",
              "      <td>75.51</td>\n",
              "    </tr>\n",
              "    <tr>\n",
              "      <th>1240</th>\n",
              "      <td>2021-04-13 00:00:00</td>\n",
              "      <td>15.63</td>\n",
              "      <td>38.27</td>\n",
              "      <td>25.78</td>\n",
              "      <td>29.55</td>\n",
              "      <td>25.5</td>\n",
              "      <td>61.8</td>\n",
              "      <td>41.55</td>\n",
              "      <td>43.55</td>\n",
              "      <td>24.37</td>\n",
              "      <td>32.97</td>\n",
              "      <td>27.21</td>\n",
              "      <td>83.62</td>\n",
              "      <td>15.19</td>\n",
              "      <td>35.1</td>\n",
              "      <td>10.19</td>\n",
              "      <td>27.29</td>\n",
              "      <td>32.34</td>\n",
              "      <td>27.2</td>\n",
              "      <td>28.81</td>\n",
              "      <td>22.2</td>\n",
              "      <td>17.99</td>\n",
              "      <td>51.91</td>\n",
              "      <td>22.96</td>\n",
              "      <td>100.5</td>\n",
              "      <td>29.68</td>\n",
              "      <td>24.87</td>\n",
              "      <td>20.28</td>\n",
              "      <td>63.2</td>\n",
              "      <td>21.11</td>\n",
              "      <td>39.15</td>\n",
              "      <td>31.32</td>\n",
              "      <td>10.07</td>\n",
              "      <td>25.31</td>\n",
              "      <td>75.6</td>\n",
              "      <td>103.58</td>\n",
              "      <td>43.52</td>\n",
              "      <td>74.98</td>\n",
              "    </tr>\n",
              "    <tr>\n",
              "      <th>1241</th>\n",
              "      <td>2021-04-14 00:00:00</td>\n",
              "      <td>15.81</td>\n",
              "      <td>37.64</td>\n",
              "      <td>25.5</td>\n",
              "      <td>29.6</td>\n",
              "      <td>25.8</td>\n",
              "      <td>63.01</td>\n",
              "      <td>41.32</td>\n",
              "      <td>43.03</td>\n",
              "      <td>24.19</td>\n",
              "      <td>32.81</td>\n",
              "      <td>27.18</td>\n",
              "      <td>83.08</td>\n",
              "      <td>15.11</td>\n",
              "      <td>34.33</td>\n",
              "      <td>10.26</td>\n",
              "      <td>27.64</td>\n",
              "      <td>33.3</td>\n",
              "      <td>26.91</td>\n",
              "      <td>28.89</td>\n",
              "      <td>22.12</td>\n",
              "      <td>18.57</td>\n",
              "      <td>52.08</td>\n",
              "      <td>23.33</td>\n",
              "      <td>101.8</td>\n",
              "      <td>29.25</td>\n",
              "      <td>24.78</td>\n",
              "      <td>20.35</td>\n",
              "      <td>63.65</td>\n",
              "      <td>20.77</td>\n",
              "      <td>39.33</td>\n",
              "      <td>30.93</td>\n",
              "      <td>9.99</td>\n",
              "      <td>25.57</td>\n",
              "      <td>77</td>\n",
              "      <td>107</td>\n",
              "      <td>43.8</td>\n",
              "      <td>76.23</td>\n",
              "    </tr>\n",
              "    <tr>\n",
              "      <th>1242</th>\n",
              "      <td>2021-04-15 00:00:00</td>\n",
              "      <td>15.87</td>\n",
              "      <td>38.07</td>\n",
              "      <td>25.73</td>\n",
              "      <td>29.64</td>\n",
              "      <td>23.45</td>\n",
              "      <td>62.56</td>\n",
              "      <td>41.52</td>\n",
              "      <td>43.02</td>\n",
              "      <td>24.55</td>\n",
              "      <td>33.63</td>\n",
              "      <td>27.11</td>\n",
              "      <td>82.03</td>\n",
              "      <td>15.11</td>\n",
              "      <td>34.93</td>\n",
              "      <td>10.26</td>\n",
              "      <td>27.64</td>\n",
              "      <td>34.51</td>\n",
              "      <td>26.75</td>\n",
              "      <td>28.7</td>\n",
              "      <td>22.2</td>\n",
              "      <td>18.49</td>\n",
              "      <td>52.84</td>\n",
              "      <td>22.92</td>\n",
              "      <td>97.6</td>\n",
              "      <td>29.31</td>\n",
              "      <td>24.96</td>\n",
              "      <td>20.6</td>\n",
              "      <td>63.6</td>\n",
              "      <td>20.82</td>\n",
              "      <td>39.23</td>\n",
              "      <td>31.31</td>\n",
              "      <td>10.1</td>\n",
              "      <td>25.49</td>\n",
              "      <td>77.11</td>\n",
              "      <td>108.21</td>\n",
              "      <td>43.81</td>\n",
              "      <td>78.3</td>\n",
              "    </tr>\n",
              "    <tr>\n",
              "      <th>1243</th>\n",
              "      <td>2021-04-16 00:00:00</td>\n",
              "      <td>15.8</td>\n",
              "      <td>38.15</td>\n",
              "      <td>25.62</td>\n",
              "      <td>29.77</td>\n",
              "      <td>23.73</td>\n",
              "      <td>64.44</td>\n",
              "      <td>41.94</td>\n",
              "      <td>43.02</td>\n",
              "      <td>24.94</td>\n",
              "      <td>34.08</td>\n",
              "      <td>27.2</td>\n",
              "      <td>82.7</td>\n",
              "      <td>15.34</td>\n",
              "      <td>35.4</td>\n",
              "      <td>10.3</td>\n",
              "      <td>27.95</td>\n",
              "      <td>33.41</td>\n",
              "      <td>26.94</td>\n",
              "      <td>28.9</td>\n",
              "      <td>21.92</td>\n",
              "      <td>18.81</td>\n",
              "      <td>50.16</td>\n",
              "      <td>22.65</td>\n",
              "      <td>98.14</td>\n",
              "      <td>29.18</td>\n",
              "      <td>24.75</td>\n",
              "      <td>21.01</td>\n",
              "      <td>64.18</td>\n",
              "      <td>21.3</td>\n",
              "      <td>40.15</td>\n",
              "      <td>31.15</td>\n",
              "      <td>10.19</td>\n",
              "      <td>26.12</td>\n",
              "      <td>77.3</td>\n",
              "      <td>108.67</td>\n",
              "      <td>44.14</td>\n",
              "      <td>77.05</td>\n",
              "    </tr>\n",
              "  </tbody>\n",
              "</table>\n",
              "<p>1244 rows × 38 columns</p>\n",
              "</div>"
            ],
            "text/plain": [
              "                     Date ABEV3.SA ALPA4.SA  ... VALE3.SA VIVT3.SA WEGE3.SA\n",
              "0     2016-04-18 00:00:00    16.39     6.48  ...    15.59     25.3     9.93\n",
              "1     2016-04-19 00:00:00    16.53     6.48  ...    16.75    24.78    10.02\n",
              "2     2016-04-20 00:00:00     16.6     6.57  ...    17.81    24.45     9.92\n",
              "3     2016-04-22 00:00:00    16.57     6.45  ...    15.82    24.67    10.02\n",
              "4     2016-04-25 00:00:00    16.54     6.31  ...    14.78    23.82     9.99\n",
              "...                   ...      ...      ...  ...      ...      ...      ...\n",
              "1239  2021-04-12 00:00:00    15.51       38  ...    103.4    43.81    75.51\n",
              "1240  2021-04-13 00:00:00    15.63    38.27  ...   103.58    43.52    74.98\n",
              "1241  2021-04-14 00:00:00    15.81    37.64  ...      107     43.8    76.23\n",
              "1242  2021-04-15 00:00:00    15.87    38.07  ...   108.21    43.81     78.3\n",
              "1243  2021-04-16 00:00:00     15.8    38.15  ...   108.67    44.14    77.05\n",
              "\n",
              "[1244 rows x 38 columns]"
            ]
          },
          "metadata": {
            "tags": []
          },
          "execution_count": 39
        }
      ]
    },
    {
      "cell_type": "markdown",
      "metadata": {
        "id": "-P0ldbcJ8tgz"
      },
      "source": [
        "## Dados Fundamentalistas"
      ]
    },
    {
      "cell_type": "markdown",
      "metadata": {
        "id": "5V3OgxDwGiWB"
      },
      "source": [
        "Baixar dados de fundamentos das empresas"
      ]
    },
    {
      "cell_type": "code",
      "metadata": {
        "colab": {
          "base_uri": "https://localhost:8080/"
        },
        "id": "blZrmXD18rdK",
        "outputId": "a2433626-a708-41db-ce35-7ddda04eb18d"
      },
      "source": [
        "plan_carteira.add_worksheet('fundamentus', 500, 20)"
      ],
      "execution_count": 40,
      "outputs": [
        {
          "output_type": "execute_result",
          "data": {
            "text/plain": [
              "<Worksheet 'fundamentus' id:588506320>"
            ]
          },
          "metadata": {
            "tags": []
          },
          "execution_count": 40
        }
      ]
    },
    {
      "cell_type": "code",
      "metadata": {
        "id": "MLfFI8hr8yJ5"
      },
      "source": [
        "pagina_fundamentus = plan_carteira.get_worksheet(3)"
      ],
      "execution_count": 41,
      "outputs": []
    },
    {
      "cell_type": "code",
      "metadata": {
        "id": "WEAUaXTm8zu4"
      },
      "source": [
        "url = 'https://www.fundamentus.com.br/resultado.php'"
      ],
      "execution_count": 53,
      "outputs": []
    },
    {
      "cell_type": "code",
      "metadata": {
        "colab": {
          "base_uri": "https://localhost:8080/",
          "height": 241
        },
        "id": "lnPCVQQlIxnT",
        "outputId": "fa5dfdb2-35d1-4878-b9f7-29a1f934fd98"
      },
      "source": [
        "import pandas as pd\n",
        "import requests\n",
        "\n",
        "header = {\n",
        "  \"User-Agent\": \"Mozilla/5.0 (X11; Linux x86_64) AppleWebKit/537.36 (KHTML, like Gecko) Chrome/50.0.2661.75 Safari/537.36\",\n",
        "  \"X-Requested-With\": \"XMLHttpRequest\"\n",
        "}\n",
        "\n",
        "r = requests.get(url, headers=header)\n",
        "dfs = pd.read_html(r.text)\n",
        "df = pd.concat(dfs)\n",
        "df.head()"
      ],
      "execution_count": 60,
      "outputs": [
        {
          "output_type": "execute_result",
          "data": {
            "text/html": [
              "<div>\n",
              "<style scoped>\n",
              "    .dataframe tbody tr th:only-of-type {\n",
              "        vertical-align: middle;\n",
              "    }\n",
              "\n",
              "    .dataframe tbody tr th {\n",
              "        vertical-align: top;\n",
              "    }\n",
              "\n",
              "    .dataframe thead th {\n",
              "        text-align: right;\n",
              "    }\n",
              "</style>\n",
              "<table border=\"1\" class=\"dataframe\">\n",
              "  <thead>\n",
              "    <tr style=\"text-align: right;\">\n",
              "      <th></th>\n",
              "      <th>Papel</th>\n",
              "      <th>Cotação</th>\n",
              "      <th>P/L</th>\n",
              "      <th>P/VP</th>\n",
              "      <th>PSR</th>\n",
              "      <th>Div.Yield</th>\n",
              "      <th>P/Ativo</th>\n",
              "      <th>P/Cap.Giro</th>\n",
              "      <th>P/EBIT</th>\n",
              "      <th>P/Ativ Circ.Liq</th>\n",
              "      <th>EV/EBIT</th>\n",
              "      <th>EV/EBITDA</th>\n",
              "      <th>Mrg Ebit</th>\n",
              "      <th>Mrg. Líq.</th>\n",
              "      <th>Liq. Corr.</th>\n",
              "      <th>ROIC</th>\n",
              "      <th>ROE</th>\n",
              "      <th>Liq.2meses</th>\n",
              "      <th>Patrim. Líq</th>\n",
              "      <th>Dív.Brut/ Patrim.</th>\n",
              "      <th>Cresc. Rec.5a</th>\n",
              "    </tr>\n",
              "  </thead>\n",
              "  <tbody>\n",
              "    <tr>\n",
              "      <th>0</th>\n",
              "      <td>IVTT3</td>\n",
              "      <td>0.0</td>\n",
              "      <td>0.0</td>\n",
              "      <td>000</td>\n",
              "      <td>0.0</td>\n",
              "      <td>0,00%</td>\n",
              "      <td>0000</td>\n",
              "      <td>0.0</td>\n",
              "      <td>0.0</td>\n",
              "      <td>0</td>\n",
              "      <td>0.0</td>\n",
              "      <td>0.0</td>\n",
              "      <td>0,00%</td>\n",
              "      <td>0,00%</td>\n",
              "      <td>0</td>\n",
              "      <td>0,00%</td>\n",
              "      <td>-0,40%</td>\n",
              "      <td>000</td>\n",
              "      <td>1.083.050.00000</td>\n",
              "      <td>0.0</td>\n",
              "      <td>20,67%</td>\n",
              "    </tr>\n",
              "    <tr>\n",
              "      <th>1</th>\n",
              "      <td>MRSA6B</td>\n",
              "      <td>0.0</td>\n",
              "      <td>0.0</td>\n",
              "      <td>000</td>\n",
              "      <td>0.0</td>\n",
              "      <td>0,00%</td>\n",
              "      <td>0000</td>\n",
              "      <td>0.0</td>\n",
              "      <td>0.0</td>\n",
              "      <td>0</td>\n",
              "      <td>0.0</td>\n",
              "      <td>0.0</td>\n",
              "      <td>0,00%</td>\n",
              "      <td>0,00%</td>\n",
              "      <td>0</td>\n",
              "      <td>0,00%</td>\n",
              "      <td>9,98%</td>\n",
              "      <td>000</td>\n",
              "      <td>4.312.820.00000</td>\n",
              "      <td>0.0</td>\n",
              "      <td>1,03%</td>\n",
              "    </tr>\n",
              "    <tr>\n",
              "      <th>2</th>\n",
              "      <td>EQMA6B</td>\n",
              "      <td>0.0</td>\n",
              "      <td>0.0</td>\n",
              "      <td>000</td>\n",
              "      <td>0.0</td>\n",
              "      <td>0,00%</td>\n",
              "      <td>0000</td>\n",
              "      <td>0.0</td>\n",
              "      <td>0.0</td>\n",
              "      <td>0</td>\n",
              "      <td>0.0</td>\n",
              "      <td>0.0</td>\n",
              "      <td>0,00%</td>\n",
              "      <td>0,00%</td>\n",
              "      <td>0</td>\n",
              "      <td>0,00%</td>\n",
              "      <td>23,36%</td>\n",
              "      <td>000</td>\n",
              "      <td>2.997.240.00000</td>\n",
              "      <td>0.0</td>\n",
              "      <td>7,29%</td>\n",
              "    </tr>\n",
              "    <tr>\n",
              "      <th>3</th>\n",
              "      <td>MNSA4</td>\n",
              "      <td>47.0</td>\n",
              "      <td>0.0</td>\n",
              "      <td>000</td>\n",
              "      <td>0.0</td>\n",
              "      <td>0,00%</td>\n",
              "      <td>0000</td>\n",
              "      <td>0.0</td>\n",
              "      <td>0.0</td>\n",
              "      <td>0</td>\n",
              "      <td>0.0</td>\n",
              "      <td>0.0</td>\n",
              "      <td>-208,15%</td>\n",
              "      <td>-362,66%</td>\n",
              "      <td>363</td>\n",
              "      <td>-13,50%</td>\n",
              "      <td>145,70%</td>\n",
              "      <td>000</td>\n",
              "      <td>-9.105.00000</td>\n",
              "      <td>-652.0</td>\n",
              "      <td>-41,11%</td>\n",
              "    </tr>\n",
              "    <tr>\n",
              "      <th>4</th>\n",
              "      <td>VSPT4</td>\n",
              "      <td>0.0</td>\n",
              "      <td>0.0</td>\n",
              "      <td>000</td>\n",
              "      <td>0.0</td>\n",
              "      <td>0,00%</td>\n",
              "      <td>0000</td>\n",
              "      <td>0.0</td>\n",
              "      <td>0.0</td>\n",
              "      <td>0</td>\n",
              "      <td>0.0</td>\n",
              "      <td>0.0</td>\n",
              "      <td>0,00%</td>\n",
              "      <td>0,00%</td>\n",
              "      <td>0</td>\n",
              "      <td>0,00%</td>\n",
              "      <td>-2,21%</td>\n",
              "      <td>000</td>\n",
              "      <td>5.139.110.00000</td>\n",
              "      <td>0.0</td>\n",
              "      <td>11,25%</td>\n",
              "    </tr>\n",
              "  </tbody>\n",
              "</table>\n",
              "</div>"
            ],
            "text/plain": [
              "    Papel  Cotação  P/L  ...      Patrim. Líq  Dív.Brut/ Patrim. Cresc. Rec.5a\n",
              "0   IVTT3      0.0  0.0  ...  1.083.050.00000                0.0        20,67%\n",
              "1  MRSA6B      0.0  0.0  ...  4.312.820.00000                0.0         1,03%\n",
              "2  EQMA6B      0.0  0.0  ...  2.997.240.00000                0.0         7,29%\n",
              "3   MNSA4     47.0  0.0  ...     -9.105.00000             -652.0       -41,11%\n",
              "4   VSPT4      0.0  0.0  ...  5.139.110.00000                0.0        11,25%\n",
              "\n",
              "[5 rows x 21 columns]"
            ]
          },
          "metadata": {
            "tags": []
          },
          "execution_count": 60
        }
      ]
    },
    {
      "cell_type": "code",
      "metadata": {
        "id": "iJWW0bHP81Tw"
      },
      "source": [
        "#df = pd.read_html(url, decimal=',', thousands='.')[0]\n",
        "df = pd.read_html(r.text, decimal=',', thousands='.')[0]"
      ],
      "execution_count": 63,
      "outputs": []
    },
    {
      "cell_type": "code",
      "metadata": {
        "colab": {
          "base_uri": "https://localhost:8080/"
        },
        "id": "pRhn9mcFMeNQ",
        "outputId": "5e1cfbe3-13fa-432a-9e02-d42121ed83fe"
      },
      "source": [
        "print(df)"
      ],
      "execution_count": 67,
      "outputs": [
        {
          "output_type": "stream",
          "text": [
            "      Papel  Cotação      P/L  ...   Patrim. Líq  Dív.Brut/ Patrim. Cresc. Rec.5a\n",
            "0     IVTT3     0.00     0.00  ...  1.083050e+09               0.00        20,67%\n",
            "1    MRSA6B     0.00     0.00  ...  4.312820e+09               0.00         1,03%\n",
            "2    EQMA6B     0.00     0.00  ...  2.997240e+09               0.00         7,29%\n",
            "3     MNSA4     0.47     0.00  ... -9.105000e+06              -6.52       -41,11%\n",
            "4     VSPT4     0.00     0.00  ...  5.139110e+09               0.00        11,25%\n",
            "..      ...      ...      ...  ...           ...                ...           ...\n",
            "938   LWSA3    26.94   799.00  ...  6.739730e+08               0.23        24,50%\n",
            "939   PRBC4    14.54   808.37  ...  1.210880e+09               0.00        11,60%\n",
            "940  UBBR11    14.75  1201.81  ...  1.031720e+10               0.00        10,58%\n",
            "941   UBBR3    18.00  1466.61  ...  1.031720e+10               0.00        10,58%\n",
            "942   DMVF3     9.25  3805.51  ...  8.361590e+08               0.16       -11,29%\n",
            "\n",
            "[943 rows x 21 columns]\n"
          ],
          "name": "stdout"
        }
      ]
    },
    {
      "cell_type": "code",
      "metadata": {
        "id": "B2IPkEA282rb"
      },
      "source": [
        "set_with_dataframe(pagina_fundamentus, df)"
      ],
      "execution_count": null,
      "outputs": []
    }
  ]
}