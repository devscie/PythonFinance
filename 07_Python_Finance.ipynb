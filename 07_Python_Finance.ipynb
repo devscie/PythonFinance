{
  "nbformat": 4,
  "nbformat_minor": 0,
  "metadata": {
    "colab": {
      "name": "07_Python_Finance.ipynb",
      "provenance": [],
      "collapsed_sections": [],
      "authorship_tag": "ABX9TyNTV293Zno8xxsjqk51or77"
    },
    "kernelspec": {
      "name": "python3",
      "display_name": "Python 3"
    },
    "language_info": {
      "name": "python"
    }
  },
  "cells": [
    {
      "cell_type": "markdown",
      "metadata": {
        "id": "iz2Tuf8C2hoc"
      },
      "source": [
        "# 07 - Python Finance\n",
        "\n",
        "**Capitulo 07**: Como calcular essa probabilidade usando Python."
      ]
    },
    {
      "cell_type": "markdown",
      "metadata": {
        "id": "xdooJhO1Olnn"
      },
      "source": [
        "Considerar que os retornos seguem uma distribuição de probabilidade normal induz a erros grosseiros.\n",
        "\n",
        "Utilizando distribuições de caudas gordas podemos ter uma aproximação melhor do mundo real.\n",
        "\n",
        "**Qual a probabilidade do índice bovespa cair mais de 12% ?** Ref.: 09/03/2020"
      ]
    },
    {
      "cell_type": "markdown",
      "metadata": {
        "id": "GoQ7GXYMt1kL"
      },
      "source": [
        "## Configurações Iniciais\n",
        "\n",
        "## 1. Importando bibliotecas\n",
        "\n",
        "1.1 Instalando o YFinance\n"
      ]
    },
    {
      "cell_type": "code",
      "metadata": {
        "id": "betAK92nshET"
      },
      "source": [
        "# Configurando dados historicos do Yahoo Finance\n",
        "!pip install yfinance --upgrade --no-cache-dir"
      ],
      "execution_count": null,
      "outputs": []
    },
    {
      "cell_type": "markdown",
      "metadata": {
        "id": "7foPovCAuVBA"
      },
      "source": [
        "1.2 Importando o YFinance e sobrescrevendo os métodos do pandas_datareader"
      ]
    },
    {
      "cell_type": "code",
      "metadata": {
        "id": "-mxNCu2vuXCi"
      },
      "source": [
        "import yfinance as yf\n",
        "#yf.pdr_override()"
      ],
      "execution_count": 2,
      "outputs": []
    },
    {
      "cell_type": "markdown",
      "metadata": {
        "id": "Tg17VivDuQ3q"
      },
      "source": [
        "1.3 Importando as Bibliotecas"
      ]
    },
    {
      "cell_type": "code",
      "metadata": {
        "id": "JHEYijH-uRiR"
      },
      "source": [
        "import numpy as np\n",
        "import pandas as pd\n",
        "import matplotlib.pyplot as plt\n",
        "import seaborn as sns\n",
        "sns.set()\n",
        "\n",
        "import matplotlib\n",
        "matplotlib.rcParams['figure.figsize'] = (16,8)\n",
        "matplotlib.rcParams.update({'font.size': 22})\n",
        "\n",
        "import warnings\n",
        "warnings.filterwarnings('ignore')"
      ],
      "execution_count": 3,
      "outputs": []
    },
    {
      "cell_type": "code",
      "metadata": {
        "id": "ANhkF02NR8dx"
      },
      "source": [
        "# biblioteca estatística\n",
        "from scipy.stats import norm, t"
      ],
      "execution_count": 4,
      "outputs": []
    },
    {
      "cell_type": "markdown",
      "metadata": {
        "id": "ABiLJwk9uZYM"
      },
      "source": [
        "## 2. Análise Estatística do Índice Bovespa"
      ]
    },
    {
      "cell_type": "code",
      "metadata": {
        "id": "KXLutTei6zsj",
        "colab": {
          "base_uri": "https://localhost:8080/"
        },
        "outputId": "574c034f-5873-426b-d4e5-5c5c66a8b7c7"
      },
      "source": [
        "# baixando as cotações\n",
        "ibov = yf.download(\"^BVSP\")[[\"Adj Close\"]]"
      ],
      "execution_count": 5,
      "outputs": [
        {
          "output_type": "stream",
          "text": [
            "\r[*********************100%***********************]  1 of 1 completed\n"
          ],
          "name": "stdout"
        }
      ]
    },
    {
      "cell_type": "markdown",
      "metadata": {
        "id": "Cq_bdZwSugoC"
      },
      "source": [
        "Exibindo dados"
      ]
    },
    {
      "cell_type": "code",
      "metadata": {
        "id": "Q2T_Ucmc5C6s",
        "colab": {
          "base_uri": "https://localhost:8080/",
          "height": 450
        },
        "outputId": "97c7224d-d2a4-48cf-cc40-40f363d0ef89"
      },
      "source": [
        "ibov"
      ],
      "execution_count": 6,
      "outputs": [
        {
          "output_type": "execute_result",
          "data": {
            "text/html": [
              "<div>\n",
              "<style scoped>\n",
              "    .dataframe tbody tr th:only-of-type {\n",
              "        vertical-align: middle;\n",
              "    }\n",
              "\n",
              "    .dataframe tbody tr th {\n",
              "        vertical-align: top;\n",
              "    }\n",
              "\n",
              "    .dataframe thead th {\n",
              "        text-align: right;\n",
              "    }\n",
              "</style>\n",
              "<table border=\"1\" class=\"dataframe\">\n",
              "  <thead>\n",
              "    <tr style=\"text-align: right;\">\n",
              "      <th></th>\n",
              "      <th>Adj Close</th>\n",
              "    </tr>\n",
              "    <tr>\n",
              "      <th>Date</th>\n",
              "      <th></th>\n",
              "    </tr>\n",
              "  </thead>\n",
              "  <tbody>\n",
              "    <tr>\n",
              "      <th>1993-04-27</th>\n",
              "      <td>24.500000</td>\n",
              "    </tr>\n",
              "    <tr>\n",
              "      <th>1993-04-28</th>\n",
              "      <td>24.299999</td>\n",
              "    </tr>\n",
              "    <tr>\n",
              "      <th>1993-04-29</th>\n",
              "      <td>23.700001</td>\n",
              "    </tr>\n",
              "    <tr>\n",
              "      <th>1993-04-30</th>\n",
              "      <td>24.100000</td>\n",
              "    </tr>\n",
              "    <tr>\n",
              "      <th>1993-05-03</th>\n",
              "      <td>24.100000</td>\n",
              "    </tr>\n",
              "    <tr>\n",
              "      <th>...</th>\n",
              "      <td>...</td>\n",
              "    </tr>\n",
              "    <tr>\n",
              "      <th>2021-03-22</th>\n",
              "      <td>114979.000000</td>\n",
              "    </tr>\n",
              "    <tr>\n",
              "      <th>2021-03-23</th>\n",
              "      <td>113262.000000</td>\n",
              "    </tr>\n",
              "    <tr>\n",
              "      <th>2021-03-24</th>\n",
              "      <td>112064.000000</td>\n",
              "    </tr>\n",
              "    <tr>\n",
              "      <th>2021-03-25</th>\n",
              "      <td>113750.000000</td>\n",
              "    </tr>\n",
              "    <tr>\n",
              "      <th>2021-03-26</th>\n",
              "      <td>114781.000000</td>\n",
              "    </tr>\n",
              "  </tbody>\n",
              "</table>\n",
              "<p>6903 rows × 1 columns</p>\n",
              "</div>"
            ],
            "text/plain": [
              "                Adj Close\n",
              "Date                     \n",
              "1993-04-27      24.500000\n",
              "1993-04-28      24.299999\n",
              "1993-04-29      23.700001\n",
              "1993-04-30      24.100000\n",
              "1993-05-03      24.100000\n",
              "...                   ...\n",
              "2021-03-22  114979.000000\n",
              "2021-03-23  113262.000000\n",
              "2021-03-24  112064.000000\n",
              "2021-03-25  113750.000000\n",
              "2021-03-26  114781.000000\n",
              "\n",
              "[6903 rows x 1 columns]"
            ]
          },
          "metadata": {
            "tags": []
          },
          "execution_count": 6
        }
      ]
    },
    {
      "cell_type": "code",
      "metadata": {
        "id": "rLE88uaS3tUw"
      },
      "source": [
        "# criando coluna com retorno percentual para cada dia\n",
        "ibov['retorno'] = ibov['Adj Close'].pct_change()\n",
        "ibov.dropna(inplace=True)"
      ],
      "execution_count": 7,
      "outputs": []
    },
    {
      "cell_type": "markdown",
      "metadata": {
        "id": "0c7U8Sb_O61f"
      },
      "source": [
        "Exibindo dados"
      ]
    },
    {
      "cell_type": "code",
      "metadata": {
        "colab": {
          "base_uri": "https://localhost:8080/",
          "height": 450
        },
        "id": "w0iQvLtKENzc",
        "outputId": "830720c0-a288-4814-85c7-fe466b20e5c9"
      },
      "source": [
        "# variação diaria do índice\n",
        "ibov"
      ],
      "execution_count": 8,
      "outputs": [
        {
          "output_type": "execute_result",
          "data": {
            "text/html": [
              "<div>\n",
              "<style scoped>\n",
              "    .dataframe tbody tr th:only-of-type {\n",
              "        vertical-align: middle;\n",
              "    }\n",
              "\n",
              "    .dataframe tbody tr th {\n",
              "        vertical-align: top;\n",
              "    }\n",
              "\n",
              "    .dataframe thead th {\n",
              "        text-align: right;\n",
              "    }\n",
              "</style>\n",
              "<table border=\"1\" class=\"dataframe\">\n",
              "  <thead>\n",
              "    <tr style=\"text-align: right;\">\n",
              "      <th></th>\n",
              "      <th>Adj Close</th>\n",
              "      <th>retorno</th>\n",
              "    </tr>\n",
              "    <tr>\n",
              "      <th>Date</th>\n",
              "      <th></th>\n",
              "      <th></th>\n",
              "    </tr>\n",
              "  </thead>\n",
              "  <tbody>\n",
              "    <tr>\n",
              "      <th>1993-04-28</th>\n",
              "      <td>24.299999</td>\n",
              "      <td>-0.008163</td>\n",
              "    </tr>\n",
              "    <tr>\n",
              "      <th>1993-04-29</th>\n",
              "      <td>23.700001</td>\n",
              "      <td>-0.024691</td>\n",
              "    </tr>\n",
              "    <tr>\n",
              "      <th>1993-04-30</th>\n",
              "      <td>24.100000</td>\n",
              "      <td>0.016878</td>\n",
              "    </tr>\n",
              "    <tr>\n",
              "      <th>1993-05-03</th>\n",
              "      <td>24.100000</td>\n",
              "      <td>0.000000</td>\n",
              "    </tr>\n",
              "    <tr>\n",
              "      <th>1993-05-04</th>\n",
              "      <td>24.900000</td>\n",
              "      <td>0.033195</td>\n",
              "    </tr>\n",
              "    <tr>\n",
              "      <th>...</th>\n",
              "      <td>...</td>\n",
              "      <td>...</td>\n",
              "    </tr>\n",
              "    <tr>\n",
              "      <th>2021-03-22</th>\n",
              "      <td>114979.000000</td>\n",
              "      <td>-0.010695</td>\n",
              "    </tr>\n",
              "    <tr>\n",
              "      <th>2021-03-23</th>\n",
              "      <td>113262.000000</td>\n",
              "      <td>-0.014933</td>\n",
              "    </tr>\n",
              "    <tr>\n",
              "      <th>2021-03-24</th>\n",
              "      <td>112064.000000</td>\n",
              "      <td>-0.010577</td>\n",
              "    </tr>\n",
              "    <tr>\n",
              "      <th>2021-03-25</th>\n",
              "      <td>113750.000000</td>\n",
              "      <td>0.015045</td>\n",
              "    </tr>\n",
              "    <tr>\n",
              "      <th>2021-03-26</th>\n",
              "      <td>114781.000000</td>\n",
              "      <td>0.009064</td>\n",
              "    </tr>\n",
              "  </tbody>\n",
              "</table>\n",
              "<p>6902 rows × 2 columns</p>\n",
              "</div>"
            ],
            "text/plain": [
              "                Adj Close   retorno\n",
              "Date                               \n",
              "1993-04-28      24.299999 -0.008163\n",
              "1993-04-29      23.700001 -0.024691\n",
              "1993-04-30      24.100000  0.016878\n",
              "1993-05-03      24.100000  0.000000\n",
              "1993-05-04      24.900000  0.033195\n",
              "...                   ...       ...\n",
              "2021-03-22  114979.000000 -0.010695\n",
              "2021-03-23  113262.000000 -0.014933\n",
              "2021-03-24  112064.000000 -0.010577\n",
              "2021-03-25  113750.000000  0.015045\n",
              "2021-03-26  114781.000000  0.009064\n",
              "\n",
              "[6902 rows x 2 columns]"
            ]
          },
          "metadata": {
            "tags": []
          },
          "execution_count": 8
        }
      ]
    },
    {
      "cell_type": "markdown",
      "metadata": {
        "id": "jj-kdDLOO_Dt"
      },
      "source": [
        "Calculando Média do retorno e Desvio Padrão"
      ]
    },
    {
      "cell_type": "code",
      "metadata": {
        "colab": {
          "base_uri": "https://localhost:8080/"
        },
        "id": "dXEkn1FoFr2o",
        "outputId": "ecefe5fc-5df0-4d1d-c73f-73a83f01c47c"
      },
      "source": [
        "# calcular a média do retorno\n",
        "media_ibov = ibov['retorno'].mean()\n",
        "print('Retorno médio = {:.2f}%'.format(media_ibov*100))"
      ],
      "execution_count": 9,
      "outputs": [
        {
          "output_type": "stream",
          "text": [
            "Retorno médio = 0.15%\n"
          ],
          "name": "stdout"
        }
      ]
    },
    {
      "cell_type": "code",
      "metadata": {
        "id": "pqjdmfrb5WjK",
        "colab": {
          "base_uri": "https://localhost:8080/"
        },
        "outputId": "6d675f79-209d-4e5f-de8e-95a28636d580"
      },
      "source": [
        "# calcular o desvio padrão\n",
        "desvio_padrao_ibov = ibov['retorno'].std()\n",
        "print('Desvio padrão = {:.2f}%'.format(desvio_padrao_ibov*100))"
      ],
      "execution_count": 10,
      "outputs": [
        {
          "output_type": "stream",
          "text": [
            "Desvio padrão = 2.26%\n"
          ],
          "name": "stdout"
        }
      ]
    },
    {
      "cell_type": "markdown",
      "metadata": {
        "id": "ja4pU2fdPG7E"
      },
      "source": [
        "Exibindo os dados que corresponde a pergunta do estudo"
      ]
    },
    {
      "cell_type": "code",
      "metadata": {
        "id": "E7n4HlxZ4Cd4",
        "colab": {
          "base_uri": "https://localhost:8080/",
          "height": 235
        },
        "outputId": "79c28370-80fb-4b24-ec59-cc1145f3727f"
      },
      "source": [
        "# buscar os dias que o índice ibovespa teve retorno abaixo 12%\n",
        "ibov[ibov[\"retorno\"] < -0.12]"
      ],
      "execution_count": 11,
      "outputs": [
        {
          "output_type": "execute_result",
          "data": {
            "text/html": [
              "<div>\n",
              "<style scoped>\n",
              "    .dataframe tbody tr th:only-of-type {\n",
              "        vertical-align: middle;\n",
              "    }\n",
              "\n",
              "    .dataframe tbody tr th {\n",
              "        vertical-align: top;\n",
              "    }\n",
              "\n",
              "    .dataframe thead th {\n",
              "        text-align: right;\n",
              "    }\n",
              "</style>\n",
              "<table border=\"1\" class=\"dataframe\">\n",
              "  <thead>\n",
              "    <tr style=\"text-align: right;\">\n",
              "      <th></th>\n",
              "      <th>Adj Close</th>\n",
              "      <th>retorno</th>\n",
              "    </tr>\n",
              "    <tr>\n",
              "      <th>Date</th>\n",
              "      <th></th>\n",
              "      <th></th>\n",
              "    </tr>\n",
              "  </thead>\n",
              "  <tbody>\n",
              "    <tr>\n",
              "      <th>1997-10-27</th>\n",
              "      <td>9817.0</td>\n",
              "      <td>-0.149675</td>\n",
              "    </tr>\n",
              "    <tr>\n",
              "      <th>1998-09-10</th>\n",
              "      <td>4761.0</td>\n",
              "      <td>-0.158090</td>\n",
              "    </tr>\n",
              "    <tr>\n",
              "      <th>2020-03-09</th>\n",
              "      <td>86067.0</td>\n",
              "      <td>-0.121738</td>\n",
              "    </tr>\n",
              "    <tr>\n",
              "      <th>2020-03-12</th>\n",
              "      <td>72583.0</td>\n",
              "      <td>-0.147797</td>\n",
              "    </tr>\n",
              "    <tr>\n",
              "      <th>2020-03-16</th>\n",
              "      <td>71168.0</td>\n",
              "      <td>-0.139215</td>\n",
              "    </tr>\n",
              "  </tbody>\n",
              "</table>\n",
              "</div>"
            ],
            "text/plain": [
              "            Adj Close   retorno\n",
              "Date                           \n",
              "1997-10-27     9817.0 -0.149675\n",
              "1998-09-10     4761.0 -0.158090\n",
              "2020-03-09    86067.0 -0.121738\n",
              "2020-03-12    72583.0 -0.147797\n",
              "2020-03-16    71168.0 -0.139215"
            ]
          },
          "metadata": {
            "tags": []
          },
          "execution_count": 11
        }
      ]
    },
    {
      "cell_type": "markdown",
      "metadata": {
        "id": "gEqe1I3JS5K5"
      },
      "source": [
        "## 3. Análise\n",
        "\n",
        "**Qual a probabilidade do ibov cair mais que 12% considerando que os retornos seguem uma distribuição normal?**"
      ]
    },
    {
      "cell_type": "code",
      "metadata": {
        "colab": {
          "base_uri": "https://localhost:8080/"
        },
        "id": "9nVtYIN3S1_P",
        "outputId": "d00e2fe5-ae0f-4410-d1ce-bfe213b8a083"
      },
      "source": [
        "probabilidade_teorica = norm.cdf(-0.12, loc=media_ibov, scale=desvio_padrao_ibov)\n",
        "print('{:.8f}%'.format(probabilidade_teorica*100))"
      ],
      "execution_count": 12,
      "outputs": [
        {
          "output_type": "stream",
          "text": [
            "0.00000371%\n"
          ],
          "name": "stdout"
        }
      ]
    },
    {
      "cell_type": "code",
      "metadata": {
        "id": "Arb0t61r5ryS",
        "colab": {
          "base_uri": "https://localhost:8080/"
        },
        "outputId": "e77332c0-e85d-4e19-a16d-9f921c4c3950"
      },
      "source": [
        "frequencia_teorica = 1 / probabilidade_teorica\n",
        "print('Uma vez a cada {} dias'.format(int(round(frequencia_teorica, 5))))\n",
        "print('Ou uma vez a cada {} anos'.format(int(round(frequencia_teorica/252, 5))))"
      ],
      "execution_count": 13,
      "outputs": [
        {
          "output_type": "stream",
          "text": [
            "Uma vez a cada 26946255 dias\n",
            "Ou uma vez a cada 106929 anos\n"
          ],
          "name": "stdout"
        }
      ]
    },
    {
      "cell_type": "code",
      "metadata": {
        "id": "Re2t3ppWGkKG"
      },
      "source": [
        "#ibov[ibov[\"retorno\"] > 0.05].size / ibov.size * 100"
      ],
      "execution_count": null,
      "outputs": []
    },
    {
      "cell_type": "code",
      "metadata": {
        "id": "pBvtxDY651vb",
        "colab": {
          "base_uri": "https://localhost:8080/",
          "height": 436
        },
        "outputId": "d1349871-b187-4f81-9617-c92f6a879528"
      },
      "source": [
        "ibov['retorno'].plot(title=\"Retorno Diário do Índice Bovespa\");"
      ],
      "execution_count": 14,
      "outputs": [
        {
          "output_type": "display_data",
          "data": {
            "image/png": "[encoded data removed]",
            "text/plain": [
              "<Figure size 1152x576 with 1 Axes>"
            ]
          },
          "metadata": {
            "tags": []
          }
        }
      ]
    },
    {
      "cell_type": "markdown",
      "metadata": {
        "id": "ZWfHTOZPF8-g"
      },
      "source": [
        "Comparando o gráfico para visualizar se segue uma normal téorica, utilizando os mesmos parametros (padrão de média e desvio padrão) definidos anterior."
      ]
    },
    {
      "cell_type": "code",
      "metadata": {
        "id": "D7nWqRxFTBYr"
      },
      "source": [
        "ibov['retorno_teorico'] = norm.rvs(size=ibov['retorno'].size,  loc=media_ibov, scale=desvio_padrao_ibov)"
      ],
      "execution_count": 15,
      "outputs": []
    },
    {
      "cell_type": "code",
      "metadata": {
        "colab": {
          "base_uri": "https://localhost:8080/",
          "height": 453
        },
        "id": "WW9O7YdITBvI",
        "outputId": "977db4ba-eb28-46b5-d01b-86c57fa423cf"
      },
      "source": [
        "ax = ibov['retorno_teorico'].plot(title=\"Retorno Normal Simulado\");\n",
        "ax.set_ylim(-0.2, 0.4)"
      ],
      "execution_count": 16,
      "outputs": [
        {
          "output_type": "execute_result",
          "data": {
            "text/plain": [
              "(-0.2, 0.4)"
            ]
          },
          "metadata": {
            "tags": []
          },
          "execution_count": 16
        },
        {
          "output_type": "display_data",
          "data": {
            "image/png": "[encoded data removed]",
            "text/plain": [
              "<Figure size 1152x576 with 1 Axes>"
            ]
          },
          "metadata": {
            "tags": []
          }
        }
      ]
    },
    {
      "cell_type": "markdown",
      "metadata": {
        "id": "VSTIQg33HDzw"
      },
      "source": [
        "Distribuição normal os retornos é bem mais comportada, os retornos são centrados na média."
      ]
    },
    {
      "cell_type": "code",
      "metadata": {
        "colab": {
          "base_uri": "https://localhost:8080/",
          "height": 451
        },
        "id": "tV95ckmuHldI",
        "outputId": "af8e0a33-6a2e-4da7-840c-95a0166fb6bf"
      },
      "source": [
        "sns.distplot(ibov['retorno'], bins=100, kde=False);"
      ],
      "execution_count": 18,
      "outputs": [
        {
          "output_type": "display_data",
          "data": {
            "image/png": "[encoded data removed]",
            "text/plain": [
              "<Figure size 1152x576 with 1 Axes>"
            ]
          },
          "metadata": {
            "tags": []
          }
        }
      ]
    },
    {
      "cell_type": "markdown",
      "metadata": {
        "id": "27DOWN62IRyQ"
      },
      "source": [
        "Histograma da distribuição dos retornos"
      ]
    },
    {
      "cell_type": "code",
      "metadata": {
        "colab": {
          "base_uri": "https://localhost:8080/",
          "height": 454
        },
        "id": "-xRjywSgIG2I",
        "outputId": "29884402-56f5-4901-b700-9055ddfce3e1"
      },
      "source": [
        "sns.distplot(ibov['retorno'], bins=100, kde=False, fit=norm);"
      ],
      "execution_count": 19,
      "outputs": [
        {
          "output_type": "display_data",
          "data": {
            "image/png": "[encoded data removed]",
            "text/plain": [
              "<Figure size 1152x576 with 1 Axes>"
            ]
          },
          "metadata": {
            "tags": []
          }
        }
      ]
    },
    {
      "cell_type": "markdown",
      "metadata": {
        "id": "QdV4WuqoINJf"
      },
      "source": [
        "Os dados tem um pico elevado, dados centralizados em torno da média. Os dados intermediarios (rombos) taxa de ocorrrência menor, nas caldas tem maior ocorrência."
      ]
    },
    {
      "cell_type": "code",
      "metadata": {
        "colab": {
          "base_uri": "https://localhost:8080/",
          "height": 454
        },
        "id": "gG-e_2rhTEeK",
        "outputId": "01ca03e3-e1e0-4873-c354-a0b52bf569c9"
      },
      "source": [
        "sns.distplot(ibov['retorno'], bins=100, kde=False, fit=t);"
      ],
      "execution_count": 17,
      "outputs": [
        {
          "output_type": "display_data",
          "data": {
            "image/png": "[encoded data removed]",
            "text/plain": [
              "<Figure size 1152x576 with 1 Axes>"
            ]
          },
          "metadata": {
            "tags": []
          }
        }
      ]
    },
    {
      "cell_type": "markdown",
      "metadata": {
        "id": "25jp-mynJN9i"
      },
      "source": [
        "Encontrar paramentros que coincidem com a amostra.\n"
      ]
    },
    {
      "cell_type": "code",
      "metadata": {
        "colab": {
          "base_uri": "https://localhost:8080/"
        },
        "id": "W9pe03ZzTH1V",
        "outputId": "f5e0169b-9b71-418c-fc72-4ef8b2840bbe"
      },
      "source": [
        "# obter paramentros que foram utilizados para fazer o ajustar, fit da curva\n",
        "(graus_de_liberdade,  media_t, desvio_padrao_t) = t.fit(ibov['retorno'])\n",
        "print('Distribuição T-Student\\nGraus de liberdade={:.2f} \\nMédia={:.4f} \\nDesvio padrão={:.5f}'.format(graus_de_liberdade, media_t, desvio_padrao_t))"
      ],
      "execution_count": 20,
      "outputs": [
        {
          "output_type": "stream",
          "text": [
            "Distribuição T-Student\n",
            "Graus de liberdade=3.28 \n",
            "Média=0.0012 \n",
            "Desvio padrão=0.01444\n"
          ],
          "name": "stdout"
        }
      ]
    },
    {
      "cell_type": "code",
      "metadata": {
        "colab": {
          "base_uri": "https://localhost:8080/"
        },
        "id": "CmUmMck4TJeL",
        "outputId": "1e3aba33-be3c-4246-9c7b-9be4773a42cb"
      },
      "source": [
        "# considerando a distribuição de calda gorda\n",
        "probabilidade_teorica_t = t.cdf(-0.12, graus_de_liberdade,  loc=media_t, scale=desvio_padrao_t)\n",
        "print('{:.8f}%'.format(probabilidade_teorica_t*100))"
      ],
      "execution_count": 21,
      "outputs": [
        {
          "output_type": "stream",
          "text": [
            "0.12571533%\n"
          ],
          "name": "stdout"
        }
      ]
    },
    {
      "cell_type": "code",
      "metadata": {
        "colab": {
          "base_uri": "https://localhost:8080/"
        },
        "id": "BHEZpIfbTLIJ",
        "outputId": "77da7145-d948-4e67-860a-50483292b69d"
      },
      "source": [
        "frequencia_teorica_t = 1 / probabilidade_teorica_t\n",
        "print('Para uma distribuição T-Student: \\nUma vez a cada {} dias'.format(int(round(frequencia_teorica_t, 5))))\n",
        "print('Ou uma vez a cada {} anos'.format(int(round(frequencia_teorica_t/252, 5))))"
      ],
      "execution_count": 22,
      "outputs": [
        {
          "output_type": "stream",
          "text": [
            "Para uma distribuição T-Student: \n",
            "Uma vez a cada 795 dias\n",
            "Ou uma vez a cada 3 anos\n"
          ],
          "name": "stdout"
        }
      ]
    },
    {
      "cell_type": "markdown",
      "metadata": {
        "id": "PJUFS3DIKBDy"
      },
      "source": [
        "Comparação distribuição calda gorda e distribuição normal"
      ]
    },
    {
      "cell_type": "code",
      "metadata": {
        "colab": {
          "base_uri": "https://localhost:8080/"
        },
        "id": "jEkhYDazTMuP",
        "outputId": "476b9a24-e150-4b8e-a5c8-c06d5107e202"
      },
      "source": [
        "frequencia_teorica = 1 / probabilidade_teorica\n",
        "print('Para uma distribuição Normal: \\nUma vez a cada {} dias'.format(int(round(frequencia_teorica, 5))))\n",
        "print('Ou uma vez a cada {} anos'.format(int(round(frequencia_teorica/252, 5))))"
      ],
      "execution_count": 23,
      "outputs": [
        {
          "output_type": "stream",
          "text": [
            "Para uma distribuição Normal: \n",
            "Uma vez a cada 26946255 dias\n",
            "Ou uma vez a cada 106929 anos\n"
          ],
          "name": "stdout"
        }
      ]
    },
    {
      "cell_type": "code",
      "metadata": {
        "colab": {
          "base_uri": "https://localhost:8080/"
        },
        "id": "-7Ar8AVCTOpj",
        "outputId": "27cc998b-20ba-48f5-e881-3cd86a8d76c1"
      },
      "source": [
        "frequencia_observada = ibov['retorno'].size / ibov[ibov[\"retorno\"] < -0.12].shape[0] \n",
        "print('Na vida real aconteceu: \\nUma vez a cada {} dias'.format(int(round(frequencia_observada, 5))))"
      ],
      "execution_count": 24,
      "outputs": [
        {
          "output_type": "stream",
          "text": [
            "Na vida real aconteceu: \n",
            "Uma vez a cada 1380 dias\n"
          ],
          "name": "stdout"
        }
      ]
    },
    {
      "cell_type": "markdown",
      "metadata": {
        "id": "0jcgZ38c8cRz"
      },
      "source": [
        "## 4. Observações"
      ]
    },
    {
      "cell_type": "markdown",
      "metadata": {
        "id": "5AgTuOMSKWXB"
      },
      "source": [
        "Distribuição T Stuent ---> Over Fit\n",
        "\n",
        "A gente não consegue calcular baixas probabilidades.\n",
        "\n",
        "As baixas probabilidades são muito sujeitas a erros (erros do modelo e erros do paramentro)."
      ]
    },
    {
      "cell_type": "markdown",
      "metadata": {
        "id": "2M9rkEYdOGyL"
      },
      "source": [
        "Segundo Nassim Taleb, não recomenda, não orienta a calcular baixas probabilidades. O mais importante do que calcular  probalilidade do evento, é saber se expor aos eventos de baixa probabilidade que causam grandes impactos.\n",
        "\n",
        "**A lógica do Cisne Negro: O impacto do altamente improvável (Taleb, Nassim Nicholas)**"
      ]
    },
    {
      "cell_type": "markdown",
      "metadata": {
        "id": "UCUTOsNMN-q8"
      },
      "source": [
        "Apesar de varios modelos utilizarem a distribuição normal, ela é uma simplificação que gera muitos erros, principalmente quando lidamos com eventos de baixa probabilidade, eventos na calda da distribuição.\n",
        "\n",
        "A gente consegue trabalhar de forma mais aproximada, com menos erros utilizando a distribuição de calda gorda."
      ]
    }
  ]
}