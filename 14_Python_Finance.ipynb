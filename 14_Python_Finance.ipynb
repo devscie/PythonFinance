{
  "nbformat": 4,
  "nbformat_minor": 0,
  "metadata": {
    "colab": {
      "name": "14_Python_Finance.ipynb",
      "provenance": [],
      "authorship_tag": "ABX9TyPeume5MEV1VLjRio2VdqBz"
    },
    "kernelspec": {
      "name": "python3",
      "display_name": "Python 3"
    },
    "language_info": {
      "name": "python"
    }
  },
  "cells": [
    {
      "cell_type": "markdown",
      "metadata": {
        "id": "0BdupURUxl7F"
      },
      "source": [
        "**Capitulo 14**: GOOGLE COLAB e GOOGLE PLANILHAS INTEGRADOS: Salvando Dados na Nuvem com PYTHON.\n",
        "\n",
        "Objetivo: Integrar o GOOGLE COLAB e GOOGLE PLANILHAS e salvar seus DADOS NA NUVEM via PYTHON."
      ]
    },
    {
      "cell_type": "markdown",
      "metadata": {
        "id": "C6tpv9Y-xxMk"
      },
      "source": [
        "## 1. Instalando gspread"
      ]
    },
    {
      "cell_type": "code",
      "metadata": {
        "id": "87dci03RxlD5"
      },
      "source": [
        "!pip install gspread"
      ],
      "execution_count": null,
      "outputs": []
    },
    {
      "cell_type": "markdown",
      "metadata": {
        "id": "tKzGdoPIx0o8"
      },
      "source": [
        "## 2. Importando as Bibliotecas"
      ]
    },
    {
      "cell_type": "code",
      "metadata": {
        "id": "vACefJggx7aS"
      },
      "source": [
        "from google.colab import auth\n",
        "import gspread\n",
        "from oauth2client.client import GoogleCredentials"
      ],
      "execution_count": 2,
      "outputs": []
    },
    {
      "cell_type": "markdown",
      "metadata": {
        "id": "_SJti_2Zx9mq"
      },
      "source": [
        "## 3. Realizando a Autenticação"
      ]
    },
    {
      "cell_type": "code",
      "metadata": {
        "id": "sIArFGjmx96i"
      },
      "source": [
        "auth.authenticate_user()\n",
        "gc = gspread.authorize(GoogleCredentials.get_application_default())"
      ],
      "execution_count": 3,
      "outputs": []
    },
    {
      "cell_type": "markdown",
      "metadata": {
        "id": "a0VJKZEcyEdj"
      },
      "source": [
        "## 4. Criando uma planilha vazia"
      ]
    },
    {
      "cell_type": "code",
      "metadata": {
        "colab": {
          "base_uri": "https://localhost:8080/"
        },
        "id": "x7bm9U1wyEBM",
        "outputId": "f6076411-d0d8-4ea9-945a-c57110ce7bfe"
      },
      "source": [
        "gc.create('Planilha_Teste') #Nome da planilha"
      ],
      "execution_count": 4,
      "outputs": [
        {
          "output_type": "execute_result",
          "data": {
            "text/plain": [
              "<Spreadsheet 'Planilha_Teste' id:1BppLdpGYRhnyD3g4ieg99mbni55eDpQoguPTqpwEMrs>"
            ]
          },
          "metadata": {
            "tags": []
          },
          "execution_count": 4
        }
      ]
    },
    {
      "cell_type": "markdown",
      "metadata": {
        "id": "yX6oWtIOyMmL"
      },
      "source": [
        "## 5. Abrindo uma Planilha"
      ]
    },
    {
      "cell_type": "code",
      "metadata": {
        "id": "6l2f7VfnyMWz"
      },
      "source": [
        "planilha = gc.open('Planilha_Teste') #Acessando Planilha"
      ],
      "execution_count": 5,
      "outputs": []
    },
    {
      "cell_type": "markdown",
      "metadata": {
        "id": "QOR1zWGbyYJ6"
      },
      "source": [
        "## 6. Adicionando uma nova Página"
      ]
    },
    {
      "cell_type": "code",
      "metadata": {
        "colab": {
          "base_uri": "https://localhost:8080/"
        },
        "id": "TvG_VqtjyYnm",
        "outputId": "9f86f415-396c-42dd-a0cc-fa03c2aacff6"
      },
      "source": [
        "planilha.add_worksheet('Página2', 10, 5) #Adicionar um nova página, especificando número de linhas e colunas"
      ],
      "execution_count": 6,
      "outputs": [
        {
          "output_type": "execute_result",
          "data": {
            "text/plain": [
              "<Worksheet 'Página2' id:1741019357>"
            ]
          },
          "metadata": {
            "tags": []
          },
          "execution_count": 6
        }
      ]
    },
    {
      "cell_type": "markdown",
      "metadata": {
        "id": "UwBcCumzyhTo"
      },
      "source": [
        "## 7. Selecionando uma Página"
      ]
    },
    {
      "cell_type": "code",
      "metadata": {
        "id": "_11cQKX_ymVM"
      },
      "source": [
        "pagina1 = planilha.get_worksheet(0) #Antes de preencher selecionar aba, indice igual número da aba"
      ],
      "execution_count": 7,
      "outputs": []
    },
    {
      "cell_type": "markdown",
      "metadata": {
        "id": "MRL1VRhZyoPU"
      },
      "source": [
        "## 8. Apagando uma Página"
      ]
    },
    {
      "cell_type": "code",
      "metadata": {
        "colab": {
          "base_uri": "https://localhost:8080/"
        },
        "id": "sANAQJCbyn5k",
        "outputId": "38f40795-410a-4a60-99a6-4b0b8a7a9f58"
      },
      "source": [
        "planilha.del_worksheet(pagina1) #Apagar aba, Página1"
      ],
      "execution_count": 8,
      "outputs": [
        {
          "output_type": "execute_result",
          "data": {
            "text/plain": [
              "{'replies': [{}],\n",
              " 'spreadsheetId': '1BppLdpGYRhnyD3g4ieg99mbni55eDpQoguPTqpwEMrs'}"
            ]
          },
          "metadata": {
            "tags": []
          },
          "execution_count": 8
        }
      ]
    },
    {
      "cell_type": "markdown",
      "metadata": {
        "id": "QU0paZf9ywPj"
      },
      "source": [
        "## 9. Alterando os valores das células\n",
        "\n",
        "  * 1º passo: selecionar a página"
      ]
    },
    {
      "cell_type": "code",
      "metadata": {
        "id": "zHJnBddNy_qx"
      },
      "source": [
        "nova_pagina = planilha.get_worksheet(0) #Antes de preencher selecionar aba, indice igual número da aba"
      ],
      "execution_count": 9,
      "outputs": []
    },
    {
      "cell_type": "markdown",
      "metadata": {
        "id": "_B3hYSHey2iN"
      },
      "source": [
        "  * update_acell(): pelo código da célula\n"
      ]
    },
    {
      "cell_type": "code",
      "metadata": {
        "colab": {
          "base_uri": "https://localhost:8080/"
        },
        "id": "I4ZcI75xywjw",
        "outputId": "c0a03807-3daf-45b5-a691-9707f3f0a733"
      },
      "source": [
        "nova_pagina.update_acell('a1', 120) #Preencher a célula A1"
      ],
      "execution_count": 10,
      "outputs": [
        {
          "output_type": "execute_result",
          "data": {
            "text/plain": [
              "{'spreadsheetId': '1BppLdpGYRhnyD3g4ieg99mbni55eDpQoguPTqpwEMrs',\n",
              " 'updatedCells': 1,\n",
              " 'updatedColumns': 1,\n",
              " 'updatedRange': \"'Página2'!A1\",\n",
              " 'updatedRows': 1}"
            ]
          },
          "metadata": {
            "tags": []
          },
          "execution_count": 10
        }
      ]
    },
    {
      "cell_type": "markdown",
      "metadata": {
        "id": "CbYyRr6_zNcm"
      },
      "source": [
        "  * update_cell: pelos números da linha e coluna"
      ]
    },
    {
      "cell_type": "code",
      "metadata": {
        "colab": {
          "base_uri": "https://localhost:8080/"
        },
        "id": "h_Fx2-EozTPJ",
        "outputId": "c9d4e87f-2e3a-4e01-f7de-41f03a5d8bc1"
      },
      "source": [
        "nova_pagina.update_cell(2,2, 'qualquer texto') #Prencher por parâmetro linha x coluna "
      ],
      "execution_count": 11,
      "outputs": [
        {
          "output_type": "execute_result",
          "data": {
            "text/plain": [
              "{'spreadsheetId': '1BppLdpGYRhnyD3g4ieg99mbni55eDpQoguPTqpwEMrs',\n",
              " 'updatedCells': 1,\n",
              " 'updatedColumns': 1,\n",
              " 'updatedRange': \"'Página2'!B2\",\n",
              " 'updatedRows': 1}"
            ]
          },
          "metadata": {
            "tags": []
          },
          "execution_count": 11
        }
      ]
    },
    {
      "cell_type": "markdown",
      "metadata": {
        "id": "y8h3fIVDzXjw"
      },
      "source": [
        "  * update_cells(): por uma lista de valores"
      ]
    },
    {
      "cell_type": "code",
      "metadata": {
        "colab": {
          "base_uri": "https://localhost:8080/"
        },
        "id": "2WfaXf58zXM4",
        "outputId": "10e8a312-2d7a-4232-dd77-a6715302652d"
      },
      "source": [
        "lista_cel = nova_pagina.range('a1:b2') #Selecionar intervalo na planilha\n",
        "lista_cel #exibir o intervalo (varias células)"
      ],
      "execution_count": 12,
      "outputs": [
        {
          "output_type": "execute_result",
          "data": {
            "text/plain": [
              "[<Cell R1C1 '120'>,\n",
              " <Cell R1C2 ''>,\n",
              " <Cell R2C1 ''>,\n",
              " <Cell R2C2 'qualquer texto'>]"
            ]
          },
          "metadata": {
            "tags": []
          },
          "execution_count": 12
        }
      ]
    },
    {
      "cell_type": "code",
      "metadata": {
        "colab": {
          "base_uri": "https://localhost:8080/"
        },
        "id": "zpgxt42_zjr8",
        "outputId": "be01cc44-6009-4d6d-fab1-b65e100811a6"
      },
      "source": [
        "valores = ['a','b','c','d'] #criando valores\n",
        "\n",
        "for i, valor in enumerate(valores):\n",
        "  lista_cel[i].value = valor\n",
        "\n",
        "lista_cel"
      ],
      "execution_count": 13,
      "outputs": [
        {
          "output_type": "execute_result",
          "data": {
            "text/plain": [
              "[<Cell R1C1 'a'>, <Cell R1C2 'b'>, <Cell R2C1 'c'>, <Cell R2C2 'd'>]"
            ]
          },
          "metadata": {
            "tags": []
          },
          "execution_count": 13
        }
      ]
    },
    {
      "cell_type": "code",
      "metadata": {
        "colab": {
          "base_uri": "https://localhost:8080/"
        },
        "id": "YNRAzaxdzlk9",
        "outputId": "93a659c6-7c5f-482d-a229-f2c303197fe6"
      },
      "source": [
        "nova_pagina.update_cells(lista_cel) #Atualizar valores na planilha"
      ],
      "execution_count": 14,
      "outputs": [
        {
          "output_type": "execute_result",
          "data": {
            "text/plain": [
              "{'spreadsheetId': '1BppLdpGYRhnyD3g4ieg99mbni55eDpQoguPTqpwEMrs',\n",
              " 'updatedCells': 4,\n",
              " 'updatedColumns': 2,\n",
              " 'updatedRange': \"'Página2'!A1:B2\",\n",
              " 'updatedRows': 2}"
            ]
          },
          "metadata": {
            "tags": []
          },
          "execution_count": 14
        }
      ]
    }
  ]
}