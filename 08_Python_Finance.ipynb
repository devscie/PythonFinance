{
  "nbformat": 4,
  "nbformat_minor": 0,
  "metadata": {
    "colab": {
      "name": "08_Python_Finance.ipynb",
      "provenance": [],
      "collapsed_sections": [],
      "authorship_tag": "ABX9TyMQpR1652XCOz8Iwgz+zNCX"
    },
    "kernelspec": {
      "name": "python3",
      "display_name": "Python 3"
    },
    "language_info": {
      "name": "python"
    }
  },
  "cells": [
    {
      "cell_type": "markdown",
      "metadata": {
        "id": "iz2Tuf8C2hoc"
      },
      "source": [
        "# 08 - Python Finance\n",
        "\n",
        "**Capitulo 08**: Análise de empresas com Python, obtendo dados das empresas listadas na bolsa usando Python."
      ]
    },
    {
      "cell_type": "markdown",
      "metadata": {
        "id": "xdooJhO1Olnn"
      },
      "source": [
        "Realizar webscraping (raspagem de dados) e baixar os dados dos balanços das empresas disponíveis no site **fundamentus**.\n",
        "\n",
        "Em seguida criar um ranking das melhores empresas segundo a da Magic Formula de **Joel Greenblatt**."
      ]
    },
    {
      "cell_type": "markdown",
      "metadata": {
        "id": "GoQ7GXYMt1kL"
      },
      "source": [
        "## **Configurações Iniciais**\n",
        "\n",
        "## 1. Importando bibliotecas"
      ]
    },
    {
      "cell_type": "code",
      "metadata": {
        "id": "betAK92nshET"
      },
      "source": [
        "import numpy as np\n",
        "import pandas as pd\n",
        "import string\n",
        "import warnings\n",
        "warnings.filterwarnings('ignore')\n",
        "\n",
        "import requests"
      ],
      "execution_count": 1,
      "outputs": []
    },
    {
      "cell_type": "markdown",
      "metadata": {
        "id": "7foPovCAuVBA"
      },
      "source": [
        "## 2. Obtendo e tratando os dados"
      ]
    },
    {
      "cell_type": "code",
      "metadata": {
        "id": "-mxNCu2vuXCi"
      },
      "source": [
        "url = 'http://www.fundamentus.com.br/resultado.php'"
      ],
      "execution_count": 2,
      "outputs": []
    },
    {
      "cell_type": "code",
      "metadata": {
        "id": "NZsa0M3lQ5bJ"
      },
      "source": [
        "header = {\n",
        "  \"User-Agent\": \"Mozilla/5.0 (Windows NT 10.0; Win64; x64) AppleWebKit/537.36 (KHTML, like Gecko) Chrome/84.0.4147.89 Safari/537.36\"  \n",
        " }\n",
        "\n",
        "r = requests.get(url, headers=header)"
      ],
      "execution_count": 3,
      "outputs": []
    },
    {
      "cell_type": "code",
      "metadata": {
        "id": "Uz1pQi7bQ_xD"
      },
      "source": [
        "df = pd.read_html(r.text,  decimal=',', thousands='.')[0]"
      ],
      "execution_count": 4,
      "outputs": []
    },
    {
      "cell_type": "markdown",
      "metadata": {
        "id": "m47DOnNoRd5M"
      },
      "source": [
        "Exibindo dados"
      ]
    },
    {
      "cell_type": "code",
      "metadata": {
        "colab": {
          "base_uri": "https://localhost:8080/",
          "height": 456
        },
        "id": "HFKPSw-qRAbP",
        "outputId": "93dbb0b8-3dcc-482c-8fc8-57d235b0a113"
      },
      "source": [
        "df"
      ],
      "execution_count": 5,
      "outputs": [
        {
          "output_type": "execute_result",
          "data": {
            "text/html": [
              "<div>\n",
              "<style scoped>\n",
              "    .dataframe tbody tr th:only-of-type {\n",
              "        vertical-align: middle;\n",
              "    }\n",
              "\n",
              "    .dataframe tbody tr th {\n",
              "        vertical-align: top;\n",
              "    }\n",
              "\n",
              "    .dataframe thead th {\n",
              "        text-align: right;\n",
              "    }\n",
              "</style>\n",
              "<table border=\"1\" class=\"dataframe\">\n",
              "  <thead>\n",
              "    <tr style=\"text-align: right;\">\n",
              "      <th></th>\n",
              "      <th>Papel</th>\n",
              "      <th>Cotação</th>\n",
              "      <th>P/L</th>\n",
              "      <th>P/VP</th>\n",
              "      <th>PSR</th>\n",
              "      <th>Div.Yield</th>\n",
              "      <th>P/Ativo</th>\n",
              "      <th>P/Cap.Giro</th>\n",
              "      <th>P/EBIT</th>\n",
              "      <th>P/Ativ Circ.Liq</th>\n",
              "      <th>EV/EBIT</th>\n",
              "      <th>EV/EBITDA</th>\n",
              "      <th>Mrg Ebit</th>\n",
              "      <th>Mrg. Líq.</th>\n",
              "      <th>Liq. Corr.</th>\n",
              "      <th>ROIC</th>\n",
              "      <th>ROE</th>\n",
              "      <th>Liq.2meses</th>\n",
              "      <th>Patrim. Líq</th>\n",
              "      <th>Dív.Brut/ Patrim.</th>\n",
              "      <th>Cresc. Rec.5a</th>\n",
              "    </tr>\n",
              "  </thead>\n",
              "  <tbody>\n",
              "    <tr>\n",
              "      <th>0</th>\n",
              "      <td>ODER3</td>\n",
              "      <td>0.00</td>\n",
              "      <td>0.00</td>\n",
              "      <td>0.00</td>\n",
              "      <td>0.000</td>\n",
              "      <td>0,00%</td>\n",
              "      <td>0.000</td>\n",
              "      <td>0.00</td>\n",
              "      <td>0.00</td>\n",
              "      <td>0.00</td>\n",
              "      <td>0.00</td>\n",
              "      <td>0.00</td>\n",
              "      <td>0,00%</td>\n",
              "      <td>0,00%</td>\n",
              "      <td>0.00</td>\n",
              "      <td>0,00%</td>\n",
              "      <td>41,79%</td>\n",
              "      <td>0.0</td>\n",
              "      <td>2.842660e+08</td>\n",
              "      <td>0.00</td>\n",
              "      <td>10,81%</td>\n",
              "    </tr>\n",
              "    <tr>\n",
              "      <th>1</th>\n",
              "      <td>CSTB4</td>\n",
              "      <td>147.69</td>\n",
              "      <td>0.00</td>\n",
              "      <td>0.00</td>\n",
              "      <td>0.000</td>\n",
              "      <td>0,00%</td>\n",
              "      <td>0.000</td>\n",
              "      <td>0.00</td>\n",
              "      <td>0.00</td>\n",
              "      <td>0.00</td>\n",
              "      <td>0.00</td>\n",
              "      <td>0.00</td>\n",
              "      <td>40,85%</td>\n",
              "      <td>28,98%</td>\n",
              "      <td>2.60</td>\n",
              "      <td>22,40%</td>\n",
              "      <td>20,11%</td>\n",
              "      <td>0.0</td>\n",
              "      <td>8.420670e+09</td>\n",
              "      <td>0.14</td>\n",
              "      <td>31,91%</td>\n",
              "    </tr>\n",
              "    <tr>\n",
              "      <th>2</th>\n",
              "      <td>EQMA5B</td>\n",
              "      <td>0.00</td>\n",
              "      <td>0.00</td>\n",
              "      <td>0.00</td>\n",
              "      <td>0.000</td>\n",
              "      <td>0,00%</td>\n",
              "      <td>0.000</td>\n",
              "      <td>0.00</td>\n",
              "      <td>0.00</td>\n",
              "      <td>0.00</td>\n",
              "      <td>0.00</td>\n",
              "      <td>0.00</td>\n",
              "      <td>0,00%</td>\n",
              "      <td>0,00%</td>\n",
              "      <td>0.00</td>\n",
              "      <td>0,00%</td>\n",
              "      <td>23,36%</td>\n",
              "      <td>0.0</td>\n",
              "      <td>2.997240e+09</td>\n",
              "      <td>0.00</td>\n",
              "      <td>7,29%</td>\n",
              "    </tr>\n",
              "    <tr>\n",
              "      <th>3</th>\n",
              "      <td>MNSA3</td>\n",
              "      <td>0.42</td>\n",
              "      <td>0.00</td>\n",
              "      <td>0.00</td>\n",
              "      <td>0.000</td>\n",
              "      <td>0,00%</td>\n",
              "      <td>0.000</td>\n",
              "      <td>0.00</td>\n",
              "      <td>0.00</td>\n",
              "      <td>0.00</td>\n",
              "      <td>0.00</td>\n",
              "      <td>0.00</td>\n",
              "      <td>-208,15%</td>\n",
              "      <td>-362,66%</td>\n",
              "      <td>3.63</td>\n",
              "      <td>-13,50%</td>\n",
              "      <td>145,70%</td>\n",
              "      <td>0.0</td>\n",
              "      <td>-9.105000e+06</td>\n",
              "      <td>-6.52</td>\n",
              "      <td>-41,11%</td>\n",
              "    </tr>\n",
              "    <tr>\n",
              "      <th>4</th>\n",
              "      <td>CLSC6</td>\n",
              "      <td>0.00</td>\n",
              "      <td>0.00</td>\n",
              "      <td>0.00</td>\n",
              "      <td>0.000</td>\n",
              "      <td>0,00%</td>\n",
              "      <td>0.000</td>\n",
              "      <td>0.00</td>\n",
              "      <td>0.00</td>\n",
              "      <td>0.00</td>\n",
              "      <td>0.00</td>\n",
              "      <td>0.00</td>\n",
              "      <td>0,00%</td>\n",
              "      <td>0,00%</td>\n",
              "      <td>0.00</td>\n",
              "      <td>0,00%</td>\n",
              "      <td>26,13%</td>\n",
              "      <td>0.0</td>\n",
              "      <td>1.984640e+09</td>\n",
              "      <td>0.00</td>\n",
              "      <td>9,05%</td>\n",
              "    </tr>\n",
              "    <tr>\n",
              "      <th>...</th>\n",
              "      <td>...</td>\n",
              "      <td>...</td>\n",
              "      <td>...</td>\n",
              "      <td>...</td>\n",
              "      <td>...</td>\n",
              "      <td>...</td>\n",
              "      <td>...</td>\n",
              "      <td>...</td>\n",
              "      <td>...</td>\n",
              "      <td>...</td>\n",
              "      <td>...</td>\n",
              "      <td>...</td>\n",
              "      <td>...</td>\n",
              "      <td>...</td>\n",
              "      <td>...</td>\n",
              "      <td>...</td>\n",
              "      <td>...</td>\n",
              "      <td>...</td>\n",
              "      <td>...</td>\n",
              "      <td>...</td>\n",
              "      <td>...</td>\n",
              "    </tr>\n",
              "    <tr>\n",
              "      <th>936</th>\n",
              "      <td>LWSA3</td>\n",
              "      <td>23.00</td>\n",
              "      <td>682.15</td>\n",
              "      <td>19.98</td>\n",
              "      <td>27.582</td>\n",
              "      <td>0,12%</td>\n",
              "      <td>9.272</td>\n",
              "      <td>37.73</td>\n",
              "      <td>311.15</td>\n",
              "      <td>462.67</td>\n",
              "      <td>304.88</td>\n",
              "      <td>132.11</td>\n",
              "      <td>8,86%</td>\n",
              "      <td>4,04%</td>\n",
              "      <td>1.79</td>\n",
              "      <td>4,30%</td>\n",
              "      <td>2,93%</td>\n",
              "      <td>270431000.0</td>\n",
              "      <td>6.739730e+08</td>\n",
              "      <td>0.23</td>\n",
              "      <td>24,50%</td>\n",
              "    </tr>\n",
              "    <tr>\n",
              "      <th>937</th>\n",
              "      <td>PRBC4</td>\n",
              "      <td>14.54</td>\n",
              "      <td>808.37</td>\n",
              "      <td>39.12</td>\n",
              "      <td>0.000</td>\n",
              "      <td>0,00%</td>\n",
              "      <td>0.000</td>\n",
              "      <td>0.00</td>\n",
              "      <td>0.00</td>\n",
              "      <td>0.00</td>\n",
              "      <td>0.00</td>\n",
              "      <td>0.00</td>\n",
              "      <td>0,00%</td>\n",
              "      <td>0,00%</td>\n",
              "      <td>0.00</td>\n",
              "      <td>0,00%</td>\n",
              "      <td>4,84%</td>\n",
              "      <td>0.0</td>\n",
              "      <td>1.210880e+09</td>\n",
              "      <td>0.00</td>\n",
              "      <td>11,60%</td>\n",
              "    </tr>\n",
              "    <tr>\n",
              "      <th>938</th>\n",
              "      <td>UBBR11</td>\n",
              "      <td>14.75</td>\n",
              "      <td>1201.81</td>\n",
              "      <td>3.91</td>\n",
              "      <td>0.000</td>\n",
              "      <td>0,00%</td>\n",
              "      <td>0.000</td>\n",
              "      <td>0.00</td>\n",
              "      <td>0.00</td>\n",
              "      <td>0.00</td>\n",
              "      <td>0.00</td>\n",
              "      <td>0.00</td>\n",
              "      <td>0,00%</td>\n",
              "      <td>0,00%</td>\n",
              "      <td>0.00</td>\n",
              "      <td>0,00%</td>\n",
              "      <td>0,33%</td>\n",
              "      <td>0.0</td>\n",
              "      <td>1.031720e+10</td>\n",
              "      <td>0.00</td>\n",
              "      <td>10,58%</td>\n",
              "    </tr>\n",
              "    <tr>\n",
              "      <th>939</th>\n",
              "      <td>UBBR3</td>\n",
              "      <td>18.00</td>\n",
              "      <td>1466.61</td>\n",
              "      <td>4.77</td>\n",
              "      <td>0.000</td>\n",
              "      <td>0,00%</td>\n",
              "      <td>0.000</td>\n",
              "      <td>0.00</td>\n",
              "      <td>0.00</td>\n",
              "      <td>0.00</td>\n",
              "      <td>0.00</td>\n",
              "      <td>0.00</td>\n",
              "      <td>0,00%</td>\n",
              "      <td>0,00%</td>\n",
              "      <td>0.00</td>\n",
              "      <td>0,00%</td>\n",
              "      <td>0,33%</td>\n",
              "      <td>0.0</td>\n",
              "      <td>1.031720e+10</td>\n",
              "      <td>0.00</td>\n",
              "      <td>10,58%</td>\n",
              "    </tr>\n",
              "    <tr>\n",
              "      <th>940</th>\n",
              "      <td>DMVF3</td>\n",
              "      <td>8.97</td>\n",
              "      <td>3690.32</td>\n",
              "      <td>0.54</td>\n",
              "      <td>0.452</td>\n",
              "      <td>0,00%</td>\n",
              "      <td>0.312</td>\n",
              "      <td>2.75</td>\n",
              "      <td>7.75</td>\n",
              "      <td>-3.34</td>\n",
              "      <td>6.47</td>\n",
              "      <td>2.79</td>\n",
              "      <td>5,83%</td>\n",
              "      <td>0,01%</td>\n",
              "      <td>1.52</td>\n",
              "      <td>5,25%</td>\n",
              "      <td>0,01%</td>\n",
              "      <td>2565550.0</td>\n",
              "      <td>8.361590e+08</td>\n",
              "      <td>0.16</td>\n",
              "      <td>-11,29%</td>\n",
              "    </tr>\n",
              "  </tbody>\n",
              "</table>\n",
              "<p>941 rows × 21 columns</p>\n",
              "</div>"
            ],
            "text/plain": [
              "      Papel  Cotação      P/L  ...   Patrim. Líq  Dív.Brut/ Patrim. Cresc. Rec.5a\n",
              "0     ODER3     0.00     0.00  ...  2.842660e+08               0.00        10,81%\n",
              "1     CSTB4   147.69     0.00  ...  8.420670e+09               0.14        31,91%\n",
              "2    EQMA5B     0.00     0.00  ...  2.997240e+09               0.00         7,29%\n",
              "3     MNSA3     0.42     0.00  ... -9.105000e+06              -6.52       -41,11%\n",
              "4     CLSC6     0.00     0.00  ...  1.984640e+09               0.00         9,05%\n",
              "..      ...      ...      ...  ...           ...                ...           ...\n",
              "936   LWSA3    23.00   682.15  ...  6.739730e+08               0.23        24,50%\n",
              "937   PRBC4    14.54   808.37  ...  1.210880e+09               0.00        11,60%\n",
              "938  UBBR11    14.75  1201.81  ...  1.031720e+10               0.00        10,58%\n",
              "939   UBBR3    18.00  1466.61  ...  1.031720e+10               0.00        10,58%\n",
              "940   DMVF3     8.97  3690.32  ...  8.361590e+08               0.16       -11,29%\n",
              "\n",
              "[941 rows x 21 columns]"
            ]
          },
          "metadata": {
            "tags": []
          },
          "execution_count": 5
        }
      ]
    },
    {
      "cell_type": "code",
      "metadata": {
        "id": "t3OOwlGdRFv6"
      },
      "source": [
        "for coluna in ['Div.Yield', 'Mrg Ebit', 'Mrg. Líq.', 'ROIC', 'ROE', 'Cresc. Rec.5a']:\n",
        "  df[coluna] = df[coluna].str.replace('.', '')\n",
        "  df[coluna] = df[coluna].str.replace(',', '.')\n",
        "  df[coluna] = df[coluna].str.rstrip('%').astype('float') / 100"
      ],
      "execution_count": 6,
      "outputs": []
    },
    {
      "cell_type": "markdown",
      "metadata": {
        "id": "qXseQ6SWVArq"
      },
      "source": [
        "Exibindo dados tratados"
      ]
    },
    {
      "cell_type": "code",
      "metadata": {
        "colab": {
          "base_uri": "https://localhost:8080/",
          "height": 456
        },
        "id": "udVGbnRbVCNZ",
        "outputId": "78ac5c78-70ac-4657-df2d-e9c963d17552"
      },
      "source": [
        "df"
      ],
      "execution_count": 7,
      "outputs": [
        {
          "output_type": "execute_result",
          "data": {
            "text/html": [
              "<div>\n",
              "<style scoped>\n",
              "    .dataframe tbody tr th:only-of-type {\n",
              "        vertical-align: middle;\n",
              "    }\n",
              "\n",
              "    .dataframe tbody tr th {\n",
              "        vertical-align: top;\n",
              "    }\n",
              "\n",
              "    .dataframe thead th {\n",
              "        text-align: right;\n",
              "    }\n",
              "</style>\n",
              "<table border=\"1\" class=\"dataframe\">\n",
              "  <thead>\n",
              "    <tr style=\"text-align: right;\">\n",
              "      <th></th>\n",
              "      <th>Papel</th>\n",
              "      <th>Cotação</th>\n",
              "      <th>P/L</th>\n",
              "      <th>P/VP</th>\n",
              "      <th>PSR</th>\n",
              "      <th>Div.Yield</th>\n",
              "      <th>P/Ativo</th>\n",
              "      <th>P/Cap.Giro</th>\n",
              "      <th>P/EBIT</th>\n",
              "      <th>P/Ativ Circ.Liq</th>\n",
              "      <th>EV/EBIT</th>\n",
              "      <th>EV/EBITDA</th>\n",
              "      <th>Mrg Ebit</th>\n",
              "      <th>Mrg. Líq.</th>\n",
              "      <th>Liq. Corr.</th>\n",
              "      <th>ROIC</th>\n",
              "      <th>ROE</th>\n",
              "      <th>Liq.2meses</th>\n",
              "      <th>Patrim. Líq</th>\n",
              "      <th>Dív.Brut/ Patrim.</th>\n",
              "      <th>Cresc. Rec.5a</th>\n",
              "    </tr>\n",
              "  </thead>\n",
              "  <tbody>\n",
              "    <tr>\n",
              "      <th>0</th>\n",
              "      <td>ODER3</td>\n",
              "      <td>0.00</td>\n",
              "      <td>0.00</td>\n",
              "      <td>0.00</td>\n",
              "      <td>0.000</td>\n",
              "      <td>0.0000</td>\n",
              "      <td>0.000</td>\n",
              "      <td>0.00</td>\n",
              "      <td>0.00</td>\n",
              "      <td>0.00</td>\n",
              "      <td>0.00</td>\n",
              "      <td>0.00</td>\n",
              "      <td>0.0000</td>\n",
              "      <td>0.0000</td>\n",
              "      <td>0.00</td>\n",
              "      <td>0.0000</td>\n",
              "      <td>0.4179</td>\n",
              "      <td>0.0</td>\n",
              "      <td>2.842660e+08</td>\n",
              "      <td>0.00</td>\n",
              "      <td>0.1081</td>\n",
              "    </tr>\n",
              "    <tr>\n",
              "      <th>1</th>\n",
              "      <td>CSTB4</td>\n",
              "      <td>147.69</td>\n",
              "      <td>0.00</td>\n",
              "      <td>0.00</td>\n",
              "      <td>0.000</td>\n",
              "      <td>0.0000</td>\n",
              "      <td>0.000</td>\n",
              "      <td>0.00</td>\n",
              "      <td>0.00</td>\n",
              "      <td>0.00</td>\n",
              "      <td>0.00</td>\n",
              "      <td>0.00</td>\n",
              "      <td>0.4085</td>\n",
              "      <td>0.2898</td>\n",
              "      <td>2.60</td>\n",
              "      <td>0.2240</td>\n",
              "      <td>0.2011</td>\n",
              "      <td>0.0</td>\n",
              "      <td>8.420670e+09</td>\n",
              "      <td>0.14</td>\n",
              "      <td>0.3191</td>\n",
              "    </tr>\n",
              "    <tr>\n",
              "      <th>2</th>\n",
              "      <td>EQMA5B</td>\n",
              "      <td>0.00</td>\n",
              "      <td>0.00</td>\n",
              "      <td>0.00</td>\n",
              "      <td>0.000</td>\n",
              "      <td>0.0000</td>\n",
              "      <td>0.000</td>\n",
              "      <td>0.00</td>\n",
              "      <td>0.00</td>\n",
              "      <td>0.00</td>\n",
              "      <td>0.00</td>\n",
              "      <td>0.00</td>\n",
              "      <td>0.0000</td>\n",
              "      <td>0.0000</td>\n",
              "      <td>0.00</td>\n",
              "      <td>0.0000</td>\n",
              "      <td>0.2336</td>\n",
              "      <td>0.0</td>\n",
              "      <td>2.997240e+09</td>\n",
              "      <td>0.00</td>\n",
              "      <td>0.0729</td>\n",
              "    </tr>\n",
              "    <tr>\n",
              "      <th>3</th>\n",
              "      <td>MNSA3</td>\n",
              "      <td>0.42</td>\n",
              "      <td>0.00</td>\n",
              "      <td>0.00</td>\n",
              "      <td>0.000</td>\n",
              "      <td>0.0000</td>\n",
              "      <td>0.000</td>\n",
              "      <td>0.00</td>\n",
              "      <td>0.00</td>\n",
              "      <td>0.00</td>\n",
              "      <td>0.00</td>\n",
              "      <td>0.00</td>\n",
              "      <td>-2.0815</td>\n",
              "      <td>-3.6266</td>\n",
              "      <td>3.63</td>\n",
              "      <td>-0.1350</td>\n",
              "      <td>1.4570</td>\n",
              "      <td>0.0</td>\n",
              "      <td>-9.105000e+06</td>\n",
              "      <td>-6.52</td>\n",
              "      <td>-0.4111</td>\n",
              "    </tr>\n",
              "    <tr>\n",
              "      <th>4</th>\n",
              "      <td>CLSC6</td>\n",
              "      <td>0.00</td>\n",
              "      <td>0.00</td>\n",
              "      <td>0.00</td>\n",
              "      <td>0.000</td>\n",
              "      <td>0.0000</td>\n",
              "      <td>0.000</td>\n",
              "      <td>0.00</td>\n",
              "      <td>0.00</td>\n",
              "      <td>0.00</td>\n",
              "      <td>0.00</td>\n",
              "      <td>0.00</td>\n",
              "      <td>0.0000</td>\n",
              "      <td>0.0000</td>\n",
              "      <td>0.00</td>\n",
              "      <td>0.0000</td>\n",
              "      <td>0.2613</td>\n",
              "      <td>0.0</td>\n",
              "      <td>1.984640e+09</td>\n",
              "      <td>0.00</td>\n",
              "      <td>0.0905</td>\n",
              "    </tr>\n",
              "    <tr>\n",
              "      <th>...</th>\n",
              "      <td>...</td>\n",
              "      <td>...</td>\n",
              "      <td>...</td>\n",
              "      <td>...</td>\n",
              "      <td>...</td>\n",
              "      <td>...</td>\n",
              "      <td>...</td>\n",
              "      <td>...</td>\n",
              "      <td>...</td>\n",
              "      <td>...</td>\n",
              "      <td>...</td>\n",
              "      <td>...</td>\n",
              "      <td>...</td>\n",
              "      <td>...</td>\n",
              "      <td>...</td>\n",
              "      <td>...</td>\n",
              "      <td>...</td>\n",
              "      <td>...</td>\n",
              "      <td>...</td>\n",
              "      <td>...</td>\n",
              "      <td>...</td>\n",
              "    </tr>\n",
              "    <tr>\n",
              "      <th>936</th>\n",
              "      <td>LWSA3</td>\n",
              "      <td>23.00</td>\n",
              "      <td>682.15</td>\n",
              "      <td>19.98</td>\n",
              "      <td>27.582</td>\n",
              "      <td>0.0012</td>\n",
              "      <td>9.272</td>\n",
              "      <td>37.73</td>\n",
              "      <td>311.15</td>\n",
              "      <td>462.67</td>\n",
              "      <td>304.88</td>\n",
              "      <td>132.11</td>\n",
              "      <td>0.0886</td>\n",
              "      <td>0.0404</td>\n",
              "      <td>1.79</td>\n",
              "      <td>0.0430</td>\n",
              "      <td>0.0293</td>\n",
              "      <td>270431000.0</td>\n",
              "      <td>6.739730e+08</td>\n",
              "      <td>0.23</td>\n",
              "      <td>0.2450</td>\n",
              "    </tr>\n",
              "    <tr>\n",
              "      <th>937</th>\n",
              "      <td>PRBC4</td>\n",
              "      <td>14.54</td>\n",
              "      <td>808.37</td>\n",
              "      <td>39.12</td>\n",
              "      <td>0.000</td>\n",
              "      <td>0.0000</td>\n",
              "      <td>0.000</td>\n",
              "      <td>0.00</td>\n",
              "      <td>0.00</td>\n",
              "      <td>0.00</td>\n",
              "      <td>0.00</td>\n",
              "      <td>0.00</td>\n",
              "      <td>0.0000</td>\n",
              "      <td>0.0000</td>\n",
              "      <td>0.00</td>\n",
              "      <td>0.0000</td>\n",
              "      <td>0.0484</td>\n",
              "      <td>0.0</td>\n",
              "      <td>1.210880e+09</td>\n",
              "      <td>0.00</td>\n",
              "      <td>0.1160</td>\n",
              "    </tr>\n",
              "    <tr>\n",
              "      <th>938</th>\n",
              "      <td>UBBR11</td>\n",
              "      <td>14.75</td>\n",
              "      <td>1201.81</td>\n",
              "      <td>3.91</td>\n",
              "      <td>0.000</td>\n",
              "      <td>0.0000</td>\n",
              "      <td>0.000</td>\n",
              "      <td>0.00</td>\n",
              "      <td>0.00</td>\n",
              "      <td>0.00</td>\n",
              "      <td>0.00</td>\n",
              "      <td>0.00</td>\n",
              "      <td>0.0000</td>\n",
              "      <td>0.0000</td>\n",
              "      <td>0.00</td>\n",
              "      <td>0.0000</td>\n",
              "      <td>0.0033</td>\n",
              "      <td>0.0</td>\n",
              "      <td>1.031720e+10</td>\n",
              "      <td>0.00</td>\n",
              "      <td>0.1058</td>\n",
              "    </tr>\n",
              "    <tr>\n",
              "      <th>939</th>\n",
              "      <td>UBBR3</td>\n",
              "      <td>18.00</td>\n",
              "      <td>1466.61</td>\n",
              "      <td>4.77</td>\n",
              "      <td>0.000</td>\n",
              "      <td>0.0000</td>\n",
              "      <td>0.000</td>\n",
              "      <td>0.00</td>\n",
              "      <td>0.00</td>\n",
              "      <td>0.00</td>\n",
              "      <td>0.00</td>\n",
              "      <td>0.00</td>\n",
              "      <td>0.0000</td>\n",
              "      <td>0.0000</td>\n",
              "      <td>0.00</td>\n",
              "      <td>0.0000</td>\n",
              "      <td>0.0033</td>\n",
              "      <td>0.0</td>\n",
              "      <td>1.031720e+10</td>\n",
              "      <td>0.00</td>\n",
              "      <td>0.1058</td>\n",
              "    </tr>\n",
              "    <tr>\n",
              "      <th>940</th>\n",
              "      <td>DMVF3</td>\n",
              "      <td>8.97</td>\n",
              "      <td>3690.32</td>\n",
              "      <td>0.54</td>\n",
              "      <td>0.452</td>\n",
              "      <td>0.0000</td>\n",
              "      <td>0.312</td>\n",
              "      <td>2.75</td>\n",
              "      <td>7.75</td>\n",
              "      <td>-3.34</td>\n",
              "      <td>6.47</td>\n",
              "      <td>2.79</td>\n",
              "      <td>0.0583</td>\n",
              "      <td>0.0001</td>\n",
              "      <td>1.52</td>\n",
              "      <td>0.0525</td>\n",
              "      <td>0.0001</td>\n",
              "      <td>2565550.0</td>\n",
              "      <td>8.361590e+08</td>\n",
              "      <td>0.16</td>\n",
              "      <td>-0.1129</td>\n",
              "    </tr>\n",
              "  </tbody>\n",
              "</table>\n",
              "<p>941 rows × 21 columns</p>\n",
              "</div>"
            ],
            "text/plain": [
              "      Papel  Cotação      P/L  ...   Patrim. Líq  Dív.Brut/ Patrim.  Cresc. Rec.5a\n",
              "0     ODER3     0.00     0.00  ...  2.842660e+08               0.00         0.1081\n",
              "1     CSTB4   147.69     0.00  ...  8.420670e+09               0.14         0.3191\n",
              "2    EQMA5B     0.00     0.00  ...  2.997240e+09               0.00         0.0729\n",
              "3     MNSA3     0.42     0.00  ... -9.105000e+06              -6.52        -0.4111\n",
              "4     CLSC6     0.00     0.00  ...  1.984640e+09               0.00         0.0905\n",
              "..      ...      ...      ...  ...           ...                ...            ...\n",
              "936   LWSA3    23.00   682.15  ...  6.739730e+08               0.23         0.2450\n",
              "937   PRBC4    14.54   808.37  ...  1.210880e+09               0.00         0.1160\n",
              "938  UBBR11    14.75  1201.81  ...  1.031720e+10               0.00         0.1058\n",
              "939   UBBR3    18.00  1466.61  ...  1.031720e+10               0.00         0.1058\n",
              "940   DMVF3     8.97  3690.32  ...  8.361590e+08               0.16        -0.1129\n",
              "\n",
              "[941 rows x 21 columns]"
            ]
          },
          "metadata": {
            "tags": []
          },
          "execution_count": 7
        }
      ]
    },
    {
      "cell_type": "markdown",
      "metadata": {
        "id": "ABiLJwk9uZYM"
      },
      "source": [
        "## 2. Analisando os dados coletados\n"
      ]
    },
    {
      "cell_type": "code",
      "metadata": {
        "colab": {
          "base_uri": "https://localhost:8080/"
        },
        "id": "SIdGcxMkWSo-",
        "outputId": "bdcbb71a-e6c1-4cd1-de8e-c91a71a6fbf0"
      },
      "source": [
        "df.shape"
      ],
      "execution_count": 8,
      "outputs": [
        {
          "output_type": "execute_result",
          "data": {
            "text/plain": [
              "(941, 21)"
            ]
          },
          "metadata": {
            "tags": []
          },
          "execution_count": 8
        }
      ]
    },
    {
      "cell_type": "markdown",
      "metadata": {
        "id": "7wpioRk0VUbo"
      },
      "source": [
        "Liquidez diaria dos últimos dois meses maior 1k, empresas com negociação média superior a 1k por dia nos últimos dois meses."
      ]
    },
    {
      "cell_type": "code",
      "metadata": {
        "id": "KXLutTei6zsj"
      },
      "source": [
        "df = df[df['Liq.2meses'] > 1000000]"
      ],
      "execution_count": 9,
      "outputs": []
    },
    {
      "cell_type": "markdown",
      "metadata": {
        "id": "YVpHFdsgWY6p"
      },
      "source": [
        "Excluindo empresas pequenas com baixa negociação da análise."
      ]
    },
    {
      "cell_type": "code",
      "metadata": {
        "colab": {
          "base_uri": "https://localhost:8080/"
        },
        "id": "h9nB68NAWbDs",
        "outputId": "d8228c08-8791-4bbc-cc96-9d5e567a7f25"
      },
      "source": [
        "df.shape"
      ],
      "execution_count": 10,
      "outputs": [
        {
          "output_type": "execute_result",
          "data": {
            "text/plain": [
              "(247, 21)"
            ]
          },
          "metadata": {
            "tags": []
          },
          "execution_count": 10
        }
      ]
    },
    {
      "cell_type": "markdown",
      "metadata": {
        "id": "ft_3A1wQWrBZ"
      },
      "source": [
        "Listar empresas segundo os critérios, **'pos', 'EV/EBIT', 'ROIC'**"
      ]
    },
    {
      "cell_type": "code",
      "metadata": {
        "id": "-DbiCrtxRhlT"
      },
      "source": [
        "ranking = pd.DataFrame()\n",
        "ranking['pos'] = range(1,151)\n",
        "ranking['EV/EBIT'] = df[ df['EV/EBIT'] > 0 ].sort_values(by=['EV/EBIT'])['Papel'][:150].values\n",
        "ranking['ROIC'] = df.sort_values(by=['ROIC'], ascending=False)['Papel'][:150].values #maior para menor"
      ],
      "execution_count": 11,
      "outputs": []
    },
    {
      "cell_type": "markdown",
      "metadata": {
        "id": "jj4Ey907RmiB"
      },
      "source": [
        "Exibindo dados ranqueados"
      ]
    },
    {
      "cell_type": "code",
      "metadata": {
        "colab": {
          "base_uri": "https://localhost:8080/",
          "height": 419
        },
        "id": "33IpedlbRj9n",
        "outputId": "1648ed83-c416-43fd-97b2-c4f8fbc11d8d"
      },
      "source": [
        "ranking"
      ],
      "execution_count": 12,
      "outputs": [
        {
          "output_type": "execute_result",
          "data": {
            "text/html": [
              "<div>\n",
              "<style scoped>\n",
              "    .dataframe tbody tr th:only-of-type {\n",
              "        vertical-align: middle;\n",
              "    }\n",
              "\n",
              "    .dataframe tbody tr th {\n",
              "        vertical-align: top;\n",
              "    }\n",
              "\n",
              "    .dataframe thead th {\n",
              "        text-align: right;\n",
              "    }\n",
              "</style>\n",
              "<table border=\"1\" class=\"dataframe\">\n",
              "  <thead>\n",
              "    <tr style=\"text-align: right;\">\n",
              "      <th></th>\n",
              "      <th>pos</th>\n",
              "      <th>EV/EBIT</th>\n",
              "      <th>ROIC</th>\n",
              "    </tr>\n",
              "  </thead>\n",
              "  <tbody>\n",
              "    <tr>\n",
              "      <th>0</th>\n",
              "      <td>1</td>\n",
              "      <td>PSSA3</td>\n",
              "      <td>WIZS3</td>\n",
              "    </tr>\n",
              "    <tr>\n",
              "      <th>1</th>\n",
              "      <td>2</td>\n",
              "      <td>PCAR3</td>\n",
              "      <td>PSSA3</td>\n",
              "    </tr>\n",
              "    <tr>\n",
              "      <th>2</th>\n",
              "      <td>3</td>\n",
              "      <td>WIZS3</td>\n",
              "      <td>ODPV3</td>\n",
              "    </tr>\n",
              "    <tr>\n",
              "      <th>3</th>\n",
              "      <td>4</td>\n",
              "      <td>MRFG3</td>\n",
              "      <td>MOSI3</td>\n",
              "    </tr>\n",
              "    <tr>\n",
              "      <th>4</th>\n",
              "      <td>5</td>\n",
              "      <td>ALUP11</td>\n",
              "      <td>CMIN3</td>\n",
              "    </tr>\n",
              "    <tr>\n",
              "      <th>...</th>\n",
              "      <td>...</td>\n",
              "      <td>...</td>\n",
              "      <td>...</td>\n",
              "    </tr>\n",
              "    <tr>\n",
              "      <th>145</th>\n",
              "      <td>146</td>\n",
              "      <td>RENT3</td>\n",
              "      <td>RLOG3</td>\n",
              "    </tr>\n",
              "    <tr>\n",
              "      <th>146</th>\n",
              "      <td>147</td>\n",
              "      <td>CSAN3</td>\n",
              "      <td>DMVF3</td>\n",
              "    </tr>\n",
              "    <tr>\n",
              "      <th>147</th>\n",
              "      <td>148</td>\n",
              "      <td>ELET3</td>\n",
              "      <td>PRIO3</td>\n",
              "    </tr>\n",
              "    <tr>\n",
              "      <th>148</th>\n",
              "      <td>149</td>\n",
              "      <td>ELET6</td>\n",
              "      <td>RAIL3</td>\n",
              "    </tr>\n",
              "    <tr>\n",
              "      <th>149</th>\n",
              "      <td>150</td>\n",
              "      <td>LOGG3</td>\n",
              "      <td>YDUQ3</td>\n",
              "    </tr>\n",
              "  </tbody>\n",
              "</table>\n",
              "<p>150 rows × 3 columns</p>\n",
              "</div>"
            ],
            "text/plain": [
              "     pos EV/EBIT   ROIC\n",
              "0      1   PSSA3  WIZS3\n",
              "1      2   PCAR3  PSSA3\n",
              "2      3   WIZS3  ODPV3\n",
              "3      4   MRFG3  MOSI3\n",
              "4      5  ALUP11  CMIN3\n",
              "..   ...     ...    ...\n",
              "145  146   RENT3  RLOG3\n",
              "146  147   CSAN3  DMVF3\n",
              "147  148   ELET3  PRIO3\n",
              "148  149   ELET6  RAIL3\n",
              "149  150   LOGG3  YDUQ3\n",
              "\n",
              "[150 rows x 3 columns]"
            ]
          },
          "metadata": {
            "tags": []
          },
          "execution_count": 12
        }
      ]
    },
    {
      "cell_type": "markdown",
      "metadata": {
        "id": "WoBCEWcnj9g6"
      },
      "source": [
        "Formula magica somar os dois rankings, quais empresas tem os melhores valores (empresas melhores classificadas com relação ao preço e relação a qualidade)."
      ]
    },
    {
      "cell_type": "code",
      "metadata": {
        "id": "k1oltDiPRqDL"
      },
      "source": [
        "a = ranking.pivot_table(columns='EV/EBIT', values='pos')"
      ],
      "execution_count": 15,
      "outputs": []
    },
    {
      "cell_type": "code",
      "metadata": {
        "id": "RpgeelCkRqdA"
      },
      "source": [
        "b = ranking.pivot_table(columns='ROIC', values='pos')"
      ],
      "execution_count": 16,
      "outputs": []
    },
    {
      "cell_type": "code",
      "metadata": {
        "colab": {
          "base_uri": "https://localhost:8080/",
          "height": 160
        },
        "id": "dZ-QCdVWRr7a",
        "outputId": "17202816-932c-41b9-a1d7-debd6422626f"
      },
      "source": [
        "t = pd.concat([a,b])\n",
        "t"
      ],
      "execution_count": 17,
      "outputs": [
        {
          "output_type": "execute_result",
          "data": {
            "text/html": [
              "<div>\n",
              "<style scoped>\n",
              "    .dataframe tbody tr th:only-of-type {\n",
              "        vertical-align: middle;\n",
              "    }\n",
              "\n",
              "    .dataframe tbody tr th {\n",
              "        vertical-align: top;\n",
              "    }\n",
              "\n",
              "    .dataframe thead th {\n",
              "        text-align: right;\n",
              "    }\n",
              "</style>\n",
              "<table border=\"1\" class=\"dataframe\">\n",
              "  <thead>\n",
              "    <tr style=\"text-align: right;\">\n",
              "      <th></th>\n",
              "      <th>ABEV3</th>\n",
              "      <th>AGRO3</th>\n",
              "      <th>ALSO3</th>\n",
              "      <th>ALUP11</th>\n",
              "      <th>AMBP3</th>\n",
              "      <th>ANIM3</th>\n",
              "      <th>ASAI3</th>\n",
              "      <th>AURA33</th>\n",
              "      <th>B3SA3</th>\n",
              "      <th>BEEF3</th>\n",
              "      <th>BRDT3</th>\n",
              "      <th>BRFS3</th>\n",
              "      <th>BRKM5</th>\n",
              "      <th>BRML3</th>\n",
              "      <th>BRPR3</th>\n",
              "      <th>BSEV3</th>\n",
              "      <th>CAML3</th>\n",
              "      <th>CARD3</th>\n",
              "      <th>CCPR3</th>\n",
              "      <th>CCRO3</th>\n",
              "      <th>CESP6</th>\n",
              "      <th>CIEL3</th>\n",
              "      <th>CMIG3</th>\n",
              "      <th>CMIG4</th>\n",
              "      <th>CMIN3</th>\n",
              "      <th>COCE5</th>\n",
              "      <th>CPFE3</th>\n",
              "      <th>CPLE3</th>\n",
              "      <th>CPLE6</th>\n",
              "      <th>CRFB3</th>\n",
              "      <th>CSAN3</th>\n",
              "      <th>CSMG3</th>\n",
              "      <th>CSNA3</th>\n",
              "      <th>CURY3</th>\n",
              "      <th>CYRE3</th>\n",
              "      <th>DIRR3</th>\n",
              "      <th>DMVF3</th>\n",
              "      <th>DTEX3</th>\n",
              "      <th>ECOR3</th>\n",
              "      <th>EGIE3</th>\n",
              "      <th>...</th>\n",
              "      <th>TEND3</th>\n",
              "      <th>TESA3</th>\n",
              "      <th>TGMA3</th>\n",
              "      <th>TIET11</th>\n",
              "      <th>TIET4</th>\n",
              "      <th>TIMS3</th>\n",
              "      <th>TOTS3</th>\n",
              "      <th>TRIS3</th>\n",
              "      <th>TRPL4</th>\n",
              "      <th>TUPY3</th>\n",
              "      <th>UGPA3</th>\n",
              "      <th>UNIP6</th>\n",
              "      <th>USIM3</th>\n",
              "      <th>USIM5</th>\n",
              "      <th>VALE3</th>\n",
              "      <th>VAMO3</th>\n",
              "      <th>VIVA3</th>\n",
              "      <th>VIVT3</th>\n",
              "      <th>VLID3</th>\n",
              "      <th>VVAR3</th>\n",
              "      <th>WIZS3</th>\n",
              "      <th>WSON33</th>\n",
              "      <th>AERI3</th>\n",
              "      <th>ALPA4</th>\n",
              "      <th>BOAS3</th>\n",
              "      <th>GNDI3</th>\n",
              "      <th>HAPV3</th>\n",
              "      <th>LINX3</th>\n",
              "      <th>LREN3</th>\n",
              "      <th>MGLU3</th>\n",
              "      <th>MOSI3</th>\n",
              "      <th>PETZ3</th>\n",
              "      <th>PNVL3</th>\n",
              "      <th>PRIO3</th>\n",
              "      <th>RADL3</th>\n",
              "      <th>RDOR3</th>\n",
              "      <th>SULA11</th>\n",
              "      <th>TFCO4</th>\n",
              "      <th>WEGE3</th>\n",
              "      <th>YDUQ3</th>\n",
              "    </tr>\n",
              "  </thead>\n",
              "  <tbody>\n",
              "    <tr>\n",
              "      <th>pos</th>\n",
              "      <td>102</td>\n",
              "      <td>81</td>\n",
              "      <td>103.0</td>\n",
              "      <td>5</td>\n",
              "      <td>121</td>\n",
              "      <td>99</td>\n",
              "      <td>53</td>\n",
              "      <td>50</td>\n",
              "      <td>110</td>\n",
              "      <td>15</td>\n",
              "      <td>115</td>\n",
              "      <td>72</td>\n",
              "      <td>44</td>\n",
              "      <td>127.0</td>\n",
              "      <td>136.0</td>\n",
              "      <td>59</td>\n",
              "      <td>52</td>\n",
              "      <td>70</td>\n",
              "      <td>76</td>\n",
              "      <td>118</td>\n",
              "      <td>104.0</td>\n",
              "      <td>131.0</td>\n",
              "      <td>29</td>\n",
              "      <td>17</td>\n",
              "      <td>24</td>\n",
              "      <td>107.0</td>\n",
              "      <td>58</td>\n",
              "      <td>16</td>\n",
              "      <td>20</td>\n",
              "      <td>63</td>\n",
              "      <td>147</td>\n",
              "      <td>26</td>\n",
              "      <td>49</td>\n",
              "      <td>69</td>\n",
              "      <td>122</td>\n",
              "      <td>48</td>\n",
              "      <td>23</td>\n",
              "      <td>109</td>\n",
              "      <td>47</td>\n",
              "      <td>51</td>\n",
              "      <td>...</td>\n",
              "      <td>36</td>\n",
              "      <td>43</td>\n",
              "      <td>80</td>\n",
              "      <td>18</td>\n",
              "      <td>19</td>\n",
              "      <td>56</td>\n",
              "      <td>93</td>\n",
              "      <td>67</td>\n",
              "      <td>9</td>\n",
              "      <td>83</td>\n",
              "      <td>133</td>\n",
              "      <td>42</td>\n",
              "      <td>57</td>\n",
              "      <td>55</td>\n",
              "      <td>6</td>\n",
              "      <td>144</td>\n",
              "      <td>141</td>\n",
              "      <td>90</td>\n",
              "      <td>130.0</td>\n",
              "      <td>60</td>\n",
              "      <td>3</td>\n",
              "      <td>25</td>\n",
              "      <td>NaN</td>\n",
              "      <td>NaN</td>\n",
              "      <td>NaN</td>\n",
              "      <td>NaN</td>\n",
              "      <td>NaN</td>\n",
              "      <td>NaN</td>\n",
              "      <td>NaN</td>\n",
              "      <td>NaN</td>\n",
              "      <td>NaN</td>\n",
              "      <td>NaN</td>\n",
              "      <td>NaN</td>\n",
              "      <td>NaN</td>\n",
              "      <td>NaN</td>\n",
              "      <td>NaN</td>\n",
              "      <td>NaN</td>\n",
              "      <td>NaN</td>\n",
              "      <td>NaN</td>\n",
              "      <td>NaN</td>\n",
              "    </tr>\n",
              "    <tr>\n",
              "      <th>pos</th>\n",
              "      <td>38</td>\n",
              "      <td>93</td>\n",
              "      <td>NaN</td>\n",
              "      <td>36</td>\n",
              "      <td>58</td>\n",
              "      <td>129</td>\n",
              "      <td>17</td>\n",
              "      <td>11</td>\n",
              "      <td>24</td>\n",
              "      <td>20</td>\n",
              "      <td>124</td>\n",
              "      <td>92</td>\n",
              "      <td>60</td>\n",
              "      <td>NaN</td>\n",
              "      <td>NaN</td>\n",
              "      <td>33</td>\n",
              "      <td>54</td>\n",
              "      <td>37</td>\n",
              "      <td>145</td>\n",
              "      <td>119</td>\n",
              "      <td>NaN</td>\n",
              "      <td>NaN</td>\n",
              "      <td>76</td>\n",
              "      <td>77</td>\n",
              "      <td>5</td>\n",
              "      <td>NaN</td>\n",
              "      <td>52</td>\n",
              "      <td>88</td>\n",
              "      <td>87</td>\n",
              "      <td>48</td>\n",
              "      <td>140</td>\n",
              "      <td>62</td>\n",
              "      <td>23</td>\n",
              "      <td>21</td>\n",
              "      <td>142</td>\n",
              "      <td>138</td>\n",
              "      <td>147</td>\n",
              "      <td>99</td>\n",
              "      <td>30</td>\n",
              "      <td>29</td>\n",
              "      <td>...</td>\n",
              "      <td>59</td>\n",
              "      <td>101</td>\n",
              "      <td>50</td>\n",
              "      <td>16</td>\n",
              "      <td>15</td>\n",
              "      <td>100</td>\n",
              "      <td>14</td>\n",
              "      <td>81</td>\n",
              "      <td>31</td>\n",
              "      <td>126</td>\n",
              "      <td>136</td>\n",
              "      <td>18</td>\n",
              "      <td>85</td>\n",
              "      <td>84</td>\n",
              "      <td>13</td>\n",
              "      <td>61</td>\n",
              "      <td>55</td>\n",
              "      <td>134</td>\n",
              "      <td>NaN</td>\n",
              "      <td>64</td>\n",
              "      <td>1</td>\n",
              "      <td>34</td>\n",
              "      <td>72.0</td>\n",
              "      <td>41.0</td>\n",
              "      <td>74.0</td>\n",
              "      <td>67.0</td>\n",
              "      <td>71.0</td>\n",
              "      <td>127.0</td>\n",
              "      <td>106.0</td>\n",
              "      <td>141.0</td>\n",
              "      <td>4.0</td>\n",
              "      <td>75.0</td>\n",
              "      <td>131.0</td>\n",
              "      <td>148.0</td>\n",
              "      <td>95.0</td>\n",
              "      <td>133.0</td>\n",
              "      <td>105.0</td>\n",
              "      <td>28.0</td>\n",
              "      <td>19.0</td>\n",
              "      <td>150.0</td>\n",
              "    </tr>\n",
              "  </tbody>\n",
              "</table>\n",
              "<p>2 rows × 168 columns</p>\n",
              "</div>"
            ],
            "text/plain": [
              "     ABEV3  AGRO3  ALSO3  ALUP11  AMBP3  ...  RDOR3  SULA11  TFCO4  WEGE3  YDUQ3\n",
              "pos    102     81  103.0       5    121  ...    NaN     NaN    NaN    NaN    NaN\n",
              "pos     38     93    NaN      36     58  ...  133.0   105.0   28.0   19.0  150.0\n",
              "\n",
              "[2 rows x 168 columns]"
            ]
          },
          "metadata": {
            "tags": []
          },
          "execution_count": 17
        }
      ]
    },
    {
      "cell_type": "code",
      "metadata": {
        "colab": {
          "base_uri": "https://localhost:8080/"
        },
        "id": "VPt3Hi_3R9Qd",
        "outputId": "e37ceae7-9d2a-43af-9692-ed09e92521fa"
      },
      "source": [
        "# descartar as empresas que não tem os dois rank, indicadores EV/EBIT e ROIC\n",
        "rank = t.dropna(axis=1).sum()\n",
        "rank"
      ],
      "execution_count": 18,
      "outputs": [
        {
          "output_type": "execute_result",
          "data": {
            "text/plain": [
              "ABEV3     140\n",
              "AGRO3     174\n",
              "ALUP11     41\n",
              "AMBP3     179\n",
              "ANIM3     228\n",
              "         ... \n",
              "VIVA3     196\n",
              "VIVT3     224\n",
              "VVAR3     124\n",
              "WIZS3       4\n",
              "WSON33     59\n",
              "Length: 132, dtype: int64"
            ]
          },
          "metadata": {
            "tags": []
          },
          "execution_count": 18
        }
      ]
    },
    {
      "cell_type": "markdown",
      "metadata": {
        "id": "gEqe1I3JS5K5"
      },
      "source": [
        "## 3. Resultados\n"
      ]
    },
    {
      "cell_type": "code",
      "metadata": {
        "colab": {
          "base_uri": "https://localhost:8080/"
        },
        "id": "AdjRmHgHR_xc",
        "outputId": "7a4d3593-f476-467e-bf77-b92225f27a62"
      },
      "source": [
        "rank.sort_values()[:38]"
      ],
      "execution_count": 19,
      "outputs": [
        {
          "output_type": "execute_result",
          "data": {
            "text/plain": [
              "PSSA3      3\n",
              "WIZS3      4\n",
              "MRFG3     13\n",
              "PLPL3     14\n",
              "VALE3     19\n",
              "CMIN3     29\n",
              "TIET4     34\n",
              "TIET11    34\n",
              "BEEF3     35\n",
              "TASA4     38\n",
              "TRPL4     40\n",
              "TASA3     40\n",
              "ALUP11    41\n",
              "PCAR3     53\n",
              "SAPR11    55\n",
              "SAPR4     56\n",
              "JBSS3     56\n",
              "SAPR3     57\n",
              "LEVE3     57\n",
              "WSON33    59\n",
              "UNIP6     60\n",
              "AURA33    61\n",
              "TAEE3     62\n",
              "TAEE11    64\n",
              "TAEE4     67\n",
              "LAVV3     68\n",
              "ASAI3     70\n",
              "CSNA3     72\n",
              "EQTL3     73\n",
              "ODPV3     74\n",
              "ECOR3     77\n",
              "EGIE3     80\n",
              "CSMG3     88\n",
              "QUAL3     89\n",
              "CURY3     90\n",
              "BSEV3     92\n",
              "CMIG4     94\n",
              "TEND3     95\n",
              "dtype: int64"
            ]
          },
          "metadata": {
            "tags": []
          },
          "execution_count": 19
        }
      ]
    },
    {
      "cell_type": "markdown",
      "metadata": {
        "id": "wryPg0FqmRNJ"
      },
      "source": [
        "Remover empresas seguradoras, empresas de bancos.\n",
        "\n",
        "Distorções quando comparadas empresas do setor financeiro utilizando os multiplos (indicadores EV/EBIT e ROIC)."
      ]
    },
    {
      "cell_type": "markdown",
      "metadata": {
        "id": "0jcgZ38c8cRz"
      },
      "source": [
        "## 4. Observações"
      ]
    },
    {
      "cell_type": "markdown",
      "metadata": {
        "id": "uOrPPFLyZv0N"
      },
      "source": [
        "**Empresas baratas Brasileiras**\n",
        "\n",
        "*Empresas que estejam valendo pouco comparadas ao tanto que ela gera de caixa.*\n",
        "\n"
      ]
    },
    {
      "cell_type": "markdown",
      "metadata": {
        "id": "FZn0Ch0OXcdN"
      },
      "source": [
        "O EV/EBIT é um indicador financeiro que compara o Valor da Firma (EV ou Enterprise Value) com o Lucro Antes de Impostos e Taxas, o EBIT.\n",
        "\n",
        "A principal função do EV/EBIT é ajudar a identificar quanto uma empresa custa em relação ao que ela produz a partir de sua atividade fim."
      ]
    },
    {
      "cell_type": "markdown",
      "metadata": {
        "id": "a49lGOwLX9Zr"
      },
      "source": [
        "**EV/EBIT**\n",
        "\n",
        "EV ---> Valor da Firma\n",
        "Valor da Firma ---> Valor de mercado + Dív. Líquida\n",
        "\n",
        "*Valor de mercado ---> Valor Ação (Cotação ou Preço atual) * Nro. de Ações emitidas*\n",
        "\n",
        "EBIT ---> Lucro Líquido + Resultado Financeiro + Impostos\n",
        "\n",
        "EV/EBIT ---> Valor de mercado (EV) / Lucro Antes de Juros e Impostos (EBIT)\n",
        "\n",
        "\n"
      ]
    },
    {
      "cell_type": "markdown",
      "metadata": {
        "id": "TwlcZ39LX4Oh"
      },
      "source": [
        "É importante destacar que na fórmula EV/EBIT, o EV representa o valor de mercado da empresa somado à sua dívida líquida. Enquanto isso, o EBIT representa o nível de lucro operacional que a empresa produz em seu tamanho atual.\n",
        "\n",
        "Nesse sentido, o EV/EBIT permite saber qual o potencial de geração de lucros de uma companhia. Vale lembrar que, para fins comparativos, ele deve ser utilizado apenas entre empresas do mesmo setor e, de preferência, que sejam concorrentes diretas."
      ]
    },
    {
      "cell_type": "markdown",
      "metadata": {
        "id": "VlmGcRcddlfF"
      },
      "source": [
        "**Exemplo:**\n",
        "\n",
        "Uma empresa “A” e uma empresa “B” possuem, respectivamente, um EV/EBIT de 9,2 vezes e 8,9 vezes, seria possível afirmar que:\n",
        "\n",
        "A empresa “A” está mais valorizada e melhor avaliada no mercado, podendo ser a melhor opção para a venda;\n",
        "\n",
        "A empresa “B” está mais desvalorizada e pior avaliada no mercado, podendo ser a melhor opção para a compra."
      ]
    },
    {
      "cell_type": "markdown",
      "metadata": {
        "id": "nbevAlZRifgV"
      },
      "source": [
        "Quando o EV/EBIT está elevado, existe uma indicação de que a empresa possui uma boa avaliação no mercado. Consequentemente, isso significa que suas ações estão valorizadas.\n",
        "\n",
        "Enquanto isso, um EV/EBIT baixo demonstra que a empresa está sendo subavaliada. Com isso, possuem uma forte tendência de valorização ao longo do tempo, tornando a ação mais atrativa para a compra."
      ]
    },
    {
      "cell_type": "markdown",
      "metadata": {
        "id": "Uws2Qg2da68y"
      },
      "source": [
        "**Empresas boas Brasileiras**"
      ]
    },
    {
      "cell_type": "markdown",
      "metadata": {
        "id": "LKazDfiBa9Bd"
      },
      "source": [
        "O ROIC (Return Over Invested Capital), ou Retorno sobre o Capital Investido, é uma métrica utilizada para informar, em termos percentuais, quanto dinheiro uma empresa consegue gerar em razão do capital investido.\n",
        "\n",
        "Com o ROIC, é possível ter uma visão geral sobre a performance financeira de um negócio."
      ]
    },
    {
      "cell_type": "markdown",
      "metadata": {
        "id": "Ya6x9IkWftgy"
      },
      "source": [
        "**ROIC**\n",
        "\n",
        "NOPAT ---> representa o lucro operacional após a distribuição de dividendos entre os acionistas\n",
        "\n",
        "Valor Contábil ---> é a soma de todo capital investido na empresa.\n",
        "\n",
        "ROIC ---> NOPAT / Valor Contábil"
      ]
    },
    {
      "cell_type": "markdown",
      "metadata": {
        "id": "BNivuEYfbG4S"
      },
      "source": [
        "**Exemplo de uma empresa:**\n",
        "\n",
        "Lucro Operacional: R$20 milhões\n",
        "\n",
        "Valor Contábil do Capital Investido: R$80 milhões\n",
        "\n",
        "Dividendos: R$5 milhões\n",
        "\n",
        "NOPAT dessa empresa é igual a R$15 milhões\n",
        "\n",
        "ROIC ---> 15.000.000 / 80.000.000 = 18,75%\n",
        "\n",
        "(Lucro Operacional - Dividendos) / Valor Contábil do Capital Investido = ROIC\n",
        "\n"
      ]
    },
    {
      "cell_type": "markdown",
      "metadata": {
        "id": "TfjMWEmXfmLG"
      },
      "source": [
        "O parâmetro para avaliar se esse percentual é elevado ou não será o histórico da empresa e de suas concorrentes do mesmo setor.\n",
        "\n",
        "Vale ressaltar que esse é um dado bem relevante pois demonstra o retorno sobre capital investido na empresa, mostrando muitas vezes qual companhia pode utilizar de forma mais eficiente o capital captado através de empréstimos, financiamentos ou acionistas."
      ]
    },
    {
      "cell_type": "markdown",
      "metadata": {
        "id": "hzK2zLtAbHLl"
      },
      "source": [
        "Por conta dessas características, o ROIC é um dos indicadores financeiros mais utilizados por investidores na análise fundamentalista de ações.\n",
        "\n",
        "Pois, muitos investidores acabam utilizando esse indicador na decisão sobre qual empresa realizar um investimento."
      ]
    }
  ]
}