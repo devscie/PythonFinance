{
  "nbformat": 4,
  "nbformat_minor": 0,
  "metadata": {
    "colab": {
      "name": "08_Python_Finance.ipynb",
      "provenance": [],
      "collapsed_sections": [],
      "authorship_tag": "ABX9TyMTY0CnIQZbSAWRpOU3iKqU"
    },
    "kernelspec": {
      "name": "python3",
      "display_name": "Python 3"
    },
    "language_info": {
      "name": "python"
    }
  },
  "cells": [
    {
      "cell_type": "markdown",
      "metadata": {
        "id": "iz2Tuf8C2hoc"
      },
      "source": [
        "# 08 - Python Finance\n",
        "\n",
        "**Capitulo 08**: Análise de empresas com Python, obtendo dados das empresas listadas na bolsa usando Python."
      ]
    },
    {
      "cell_type": "markdown",
      "metadata": {
        "id": "xdooJhO1Olnn"
      },
      "source": [
        "Realizar webscraping (raspagem de dados) e baixar os dados dos balanços das empresas disponíveis no site **fundamentus**.\n",
        "\n",
        "Em seguida criar um ranking das melhores empresas segundo a da Magic Formula de **Joel Greenblatt**."
      ]
    },
    {
      "cell_type": "markdown",
      "metadata": {
        "id": "GoQ7GXYMt1kL"
      },
      "source": [
        "## **Configurações Iniciais**\n",
        "\n",
        "## 1. Importando bibliotecas"
      ]
    },
    {
      "cell_type": "code",
      "metadata": {
        "id": "betAK92nshET"
      },
      "source": [
        "import numpy as np\n",
        "import pandas as pd\n",
        "import string\n",
        "import warnings\n",
        "warnings.filterwarnings('ignore')\n",
        "\n",
        "import requests"
      ],
      "execution_count": 1,
      "outputs": []
    },
    {
      "cell_type": "markdown",
      "metadata": {
        "id": "7foPovCAuVBA"
      },
      "source": [
        "## 2. Obtendo e tratando os dados"
      ]
    },
    {
      "cell_type": "code",
      "metadata": {
        "id": "-mxNCu2vuXCi"
      },
      "source": [
        "url = 'http://www.fundamentus.com.br/resultado.php'"
      ],
      "execution_count": 2,
      "outputs": []
    },
    {
      "cell_type": "code",
      "metadata": {
        "id": "NZsa0M3lQ5bJ"
      },
      "source": [
        "header = {\n",
        "  \"User-Agent\": \"Mozilla/5.0 (Windows NT 10.0; Win64; x64) AppleWebKit/537.36 (KHTML, like Gecko) Chrome/84.0.4147.89 Safari/537.36\"  \n",
        " }\n",
        "\n",
        "r = requests.get(url, headers=header)"
      ],
      "execution_count": 3,
      "outputs": []
    },
    {
      "cell_type": "code",
      "metadata": {
        "id": "Uz1pQi7bQ_xD"
      },
      "source": [
        "df = pd.read_html(r.text,  decimal=',', thousands='.')[0]"
      ],
      "execution_count": 4,
      "outputs": []
    },
    {
      "cell_type": "markdown",
      "metadata": {
        "id": "m47DOnNoRd5M"
      },
      "source": [
        "Exibindo dados"
      ]
    },
    {
      "cell_type": "code",
      "metadata": {
        "colab": {
          "base_uri": "https://localhost:8080/",
          "height": 456
        },
        "id": "HFKPSw-qRAbP",
        "outputId": "42074fc0-30dc-408b-b4fe-8ddd13046e30"
      },
      "source": [
        "df"
      ],
      "execution_count": 5,
      "outputs": [
        {
          "output_type": "execute_result",
          "data": {
            "text/html": [
              "<div>\n",
              "<style scoped>\n",
              "    .dataframe tbody tr th:only-of-type {\n",
              "        vertical-align: middle;\n",
              "    }\n",
              "\n",
              "    .dataframe tbody tr th {\n",
              "        vertical-align: top;\n",
              "    }\n",
              "\n",
              "    .dataframe thead th {\n",
              "        text-align: right;\n",
              "    }\n",
              "</style>\n",
              "<table border=\"1\" class=\"dataframe\">\n",
              "  <thead>\n",
              "    <tr style=\"text-align: right;\">\n",
              "      <th></th>\n",
              "      <th>Papel</th>\n",
              "      <th>Cotação</th>\n",
              "      <th>P/L</th>\n",
              "      <th>P/VP</th>\n",
              "      <th>PSR</th>\n",
              "      <th>Div.Yield</th>\n",
              "      <th>P/Ativo</th>\n",
              "      <th>P/Cap.Giro</th>\n",
              "      <th>P/EBIT</th>\n",
              "      <th>P/Ativ Circ.Liq</th>\n",
              "      <th>EV/EBIT</th>\n",
              "      <th>EV/EBITDA</th>\n",
              "      <th>Mrg Ebit</th>\n",
              "      <th>Mrg. Líq.</th>\n",
              "      <th>Liq. Corr.</th>\n",
              "      <th>ROIC</th>\n",
              "      <th>ROE</th>\n",
              "      <th>Liq.2meses</th>\n",
              "      <th>Patrim. Líq</th>\n",
              "      <th>Dív.Brut/ Patrim.</th>\n",
              "      <th>Cresc. Rec.5a</th>\n",
              "    </tr>\n",
              "  </thead>\n",
              "  <tbody>\n",
              "    <tr>\n",
              "      <th>0</th>\n",
              "      <td>POPR4</td>\n",
              "      <td>10.17</td>\n",
              "      <td>0.00</td>\n",
              "      <td>0.00</td>\n",
              "      <td>0.000</td>\n",
              "      <td>0,00%</td>\n",
              "      <td>0.000</td>\n",
              "      <td>0.00</td>\n",
              "      <td>0.00</td>\n",
              "      <td>0.00</td>\n",
              "      <td>0.00</td>\n",
              "      <td>0.00</td>\n",
              "      <td>8,66%</td>\n",
              "      <td>5,65%</td>\n",
              "      <td>1.08</td>\n",
              "      <td>15,25%</td>\n",
              "      <td>19,93%</td>\n",
              "      <td>0.0</td>\n",
              "      <td>5.458030e+08</td>\n",
              "      <td>0.82</td>\n",
              "      <td>30,93%</td>\n",
              "    </tr>\n",
              "    <tr>\n",
              "      <th>1</th>\n",
              "      <td>VNET3</td>\n",
              "      <td>0.00</td>\n",
              "      <td>0.00</td>\n",
              "      <td>0.00</td>\n",
              "      <td>0.000</td>\n",
              "      <td>0,00%</td>\n",
              "      <td>0.000</td>\n",
              "      <td>0.00</td>\n",
              "      <td>0.00</td>\n",
              "      <td>0.00</td>\n",
              "      <td>0.00</td>\n",
              "      <td>0.00</td>\n",
              "      <td>0,00%</td>\n",
              "      <td>0,00%</td>\n",
              "      <td>0.00</td>\n",
              "      <td>0,00%</td>\n",
              "      <td>5,17%</td>\n",
              "      <td>0.0</td>\n",
              "      <td>9.490850e+09</td>\n",
              "      <td>0.00</td>\n",
              "      <td>-17,77%</td>\n",
              "    </tr>\n",
              "    <tr>\n",
              "      <th>2</th>\n",
              "      <td>PMET3</td>\n",
              "      <td>0.00</td>\n",
              "      <td>0.00</td>\n",
              "      <td>0.00</td>\n",
              "      <td>0.000</td>\n",
              "      <td>0,00%</td>\n",
              "      <td>0.000</td>\n",
              "      <td>0.00</td>\n",
              "      <td>0.00</td>\n",
              "      <td>0.00</td>\n",
              "      <td>0.00</td>\n",
              "      <td>0.00</td>\n",
              "      <td>0,00%</td>\n",
              "      <td>0,00%</td>\n",
              "      <td>0.00</td>\n",
              "      <td>0,00%</td>\n",
              "      <td>4,10%</td>\n",
              "      <td>0.0</td>\n",
              "      <td>-2.908630e+08</td>\n",
              "      <td>0.00</td>\n",
              "      <td>37,74%</td>\n",
              "    </tr>\n",
              "    <tr>\n",
              "      <th>3</th>\n",
              "      <td>MRSA6B</td>\n",
              "      <td>0.00</td>\n",
              "      <td>0.00</td>\n",
              "      <td>0.00</td>\n",
              "      <td>0.000</td>\n",
              "      <td>0,00%</td>\n",
              "      <td>0.000</td>\n",
              "      <td>0.00</td>\n",
              "      <td>0.00</td>\n",
              "      <td>0.00</td>\n",
              "      <td>0.00</td>\n",
              "      <td>0.00</td>\n",
              "      <td>0,00%</td>\n",
              "      <td>0,00%</td>\n",
              "      <td>0.00</td>\n",
              "      <td>0,00%</td>\n",
              "      <td>9,98%</td>\n",
              "      <td>0.0</td>\n",
              "      <td>4.312820e+09</td>\n",
              "      <td>0.00</td>\n",
              "      <td>1,03%</td>\n",
              "    </tr>\n",
              "    <tr>\n",
              "      <th>4</th>\n",
              "      <td>CLAN3</td>\n",
              "      <td>0.00</td>\n",
              "      <td>0.00</td>\n",
              "      <td>0.00</td>\n",
              "      <td>0.000</td>\n",
              "      <td>0,00%</td>\n",
              "      <td>0.000</td>\n",
              "      <td>0.00</td>\n",
              "      <td>0.00</td>\n",
              "      <td>0.00</td>\n",
              "      <td>0.00</td>\n",
              "      <td>0.00</td>\n",
              "      <td>0,00%</td>\n",
              "      <td>0,00%</td>\n",
              "      <td>0.00</td>\n",
              "      <td>0,00%</td>\n",
              "      <td>-1,05%</td>\n",
              "      <td>0.0</td>\n",
              "      <td>1.012240e+09</td>\n",
              "      <td>0.00</td>\n",
              "      <td>-63,96%</td>\n",
              "    </tr>\n",
              "    <tr>\n",
              "      <th>...</th>\n",
              "      <td>...</td>\n",
              "      <td>...</td>\n",
              "      <td>...</td>\n",
              "      <td>...</td>\n",
              "      <td>...</td>\n",
              "      <td>...</td>\n",
              "      <td>...</td>\n",
              "      <td>...</td>\n",
              "      <td>...</td>\n",
              "      <td>...</td>\n",
              "      <td>...</td>\n",
              "      <td>...</td>\n",
              "      <td>...</td>\n",
              "      <td>...</td>\n",
              "      <td>...</td>\n",
              "      <td>...</td>\n",
              "      <td>...</td>\n",
              "      <td>...</td>\n",
              "      <td>...</td>\n",
              "      <td>...</td>\n",
              "      <td>...</td>\n",
              "    </tr>\n",
              "    <tr>\n",
              "      <th>936</th>\n",
              "      <td>LWSA3</td>\n",
              "      <td>23.00</td>\n",
              "      <td>682.15</td>\n",
              "      <td>19.98</td>\n",
              "      <td>27.582</td>\n",
              "      <td>0,12%</td>\n",
              "      <td>9.272</td>\n",
              "      <td>37.73</td>\n",
              "      <td>311.15</td>\n",
              "      <td>462.67</td>\n",
              "      <td>304.88</td>\n",
              "      <td>132.11</td>\n",
              "      <td>8,86%</td>\n",
              "      <td>4,04%</td>\n",
              "      <td>1.79</td>\n",
              "      <td>4,30%</td>\n",
              "      <td>2,93%</td>\n",
              "      <td>270431000.0</td>\n",
              "      <td>6.739730e+08</td>\n",
              "      <td>0.23</td>\n",
              "      <td>24,50%</td>\n",
              "    </tr>\n",
              "    <tr>\n",
              "      <th>937</th>\n",
              "      <td>PRBC4</td>\n",
              "      <td>14.54</td>\n",
              "      <td>808.37</td>\n",
              "      <td>39.12</td>\n",
              "      <td>0.000</td>\n",
              "      <td>0,00%</td>\n",
              "      <td>0.000</td>\n",
              "      <td>0.00</td>\n",
              "      <td>0.00</td>\n",
              "      <td>0.00</td>\n",
              "      <td>0.00</td>\n",
              "      <td>0.00</td>\n",
              "      <td>0,00%</td>\n",
              "      <td>0,00%</td>\n",
              "      <td>0.00</td>\n",
              "      <td>0,00%</td>\n",
              "      <td>4,84%</td>\n",
              "      <td>0.0</td>\n",
              "      <td>1.210880e+09</td>\n",
              "      <td>0.00</td>\n",
              "      <td>11,60%</td>\n",
              "    </tr>\n",
              "    <tr>\n",
              "      <th>938</th>\n",
              "      <td>UBBR11</td>\n",
              "      <td>14.75</td>\n",
              "      <td>1201.81</td>\n",
              "      <td>3.91</td>\n",
              "      <td>0.000</td>\n",
              "      <td>0,00%</td>\n",
              "      <td>0.000</td>\n",
              "      <td>0.00</td>\n",
              "      <td>0.00</td>\n",
              "      <td>0.00</td>\n",
              "      <td>0.00</td>\n",
              "      <td>0.00</td>\n",
              "      <td>0,00%</td>\n",
              "      <td>0,00%</td>\n",
              "      <td>0.00</td>\n",
              "      <td>0,00%</td>\n",
              "      <td>0,33%</td>\n",
              "      <td>0.0</td>\n",
              "      <td>1.031720e+10</td>\n",
              "      <td>0.00</td>\n",
              "      <td>10,58%</td>\n",
              "    </tr>\n",
              "    <tr>\n",
              "      <th>939</th>\n",
              "      <td>UBBR3</td>\n",
              "      <td>18.00</td>\n",
              "      <td>1466.61</td>\n",
              "      <td>4.77</td>\n",
              "      <td>0.000</td>\n",
              "      <td>0,00%</td>\n",
              "      <td>0.000</td>\n",
              "      <td>0.00</td>\n",
              "      <td>0.00</td>\n",
              "      <td>0.00</td>\n",
              "      <td>0.00</td>\n",
              "      <td>0.00</td>\n",
              "      <td>0,00%</td>\n",
              "      <td>0,00%</td>\n",
              "      <td>0.00</td>\n",
              "      <td>0,00%</td>\n",
              "      <td>0,33%</td>\n",
              "      <td>0.0</td>\n",
              "      <td>1.031720e+10</td>\n",
              "      <td>0.00</td>\n",
              "      <td>10,58%</td>\n",
              "    </tr>\n",
              "    <tr>\n",
              "      <th>940</th>\n",
              "      <td>DMVF3</td>\n",
              "      <td>8.97</td>\n",
              "      <td>3690.32</td>\n",
              "      <td>0.54</td>\n",
              "      <td>0.452</td>\n",
              "      <td>0,00%</td>\n",
              "      <td>0.312</td>\n",
              "      <td>2.75</td>\n",
              "      <td>7.75</td>\n",
              "      <td>-3.34</td>\n",
              "      <td>6.47</td>\n",
              "      <td>2.79</td>\n",
              "      <td>5,83%</td>\n",
              "      <td>0,01%</td>\n",
              "      <td>1.52</td>\n",
              "      <td>5,25%</td>\n",
              "      <td>0,01%</td>\n",
              "      <td>2565550.0</td>\n",
              "      <td>8.361590e+08</td>\n",
              "      <td>0.16</td>\n",
              "      <td>-11,29%</td>\n",
              "    </tr>\n",
              "  </tbody>\n",
              "</table>\n",
              "<p>941 rows × 21 columns</p>\n",
              "</div>"
            ],
            "text/plain": [
              "      Papel  Cotação      P/L  ...   Patrim. Líq  Dív.Brut/ Patrim. Cresc. Rec.5a\n",
              "0     POPR4    10.17     0.00  ...  5.458030e+08               0.82        30,93%\n",
              "1     VNET3     0.00     0.00  ...  9.490850e+09               0.00       -17,77%\n",
              "2     PMET3     0.00     0.00  ... -2.908630e+08               0.00        37,74%\n",
              "3    MRSA6B     0.00     0.00  ...  4.312820e+09               0.00         1,03%\n",
              "4     CLAN3     0.00     0.00  ...  1.012240e+09               0.00       -63,96%\n",
              "..      ...      ...      ...  ...           ...                ...           ...\n",
              "936   LWSA3    23.00   682.15  ...  6.739730e+08               0.23        24,50%\n",
              "937   PRBC4    14.54   808.37  ...  1.210880e+09               0.00        11,60%\n",
              "938  UBBR11    14.75  1201.81  ...  1.031720e+10               0.00        10,58%\n",
              "939   UBBR3    18.00  1466.61  ...  1.031720e+10               0.00        10,58%\n",
              "940   DMVF3     8.97  3690.32  ...  8.361590e+08               0.16       -11,29%\n",
              "\n",
              "[941 rows x 21 columns]"
            ]
          },
          "metadata": {
            "tags": []
          },
          "execution_count": 5
        }
      ]
    },
    {
      "cell_type": "code",
      "metadata": {
        "id": "t3OOwlGdRFv6"
      },
      "source": [
        "for coluna in ['Div.Yield', 'Mrg Ebit', 'Mrg. Líq.', 'ROIC', 'ROE', 'Cresc. Rec.5a']:\n",
        "  df[coluna] = df[coluna].str.replace('.', '')\n",
        "  df[coluna] = df[coluna].str.replace(',', '.')\n",
        "  df[coluna] = df[coluna].str.rstrip('%').astype('float') / 100"
      ],
      "execution_count": 6,
      "outputs": []
    },
    {
      "cell_type": "markdown",
      "metadata": {
        "id": "qXseQ6SWVArq"
      },
      "source": [
        "Exibindo dados tratados"
      ]
    },
    {
      "cell_type": "code",
      "metadata": {
        "colab": {
          "base_uri": "https://localhost:8080/",
          "height": 456
        },
        "id": "udVGbnRbVCNZ",
        "outputId": "879c0100-e35d-42ee-881c-362d36266161"
      },
      "source": [
        "df"
      ],
      "execution_count": 7,
      "outputs": [
        {
          "output_type": "execute_result",
          "data": {
            "text/html": [
              "<div>\n",
              "<style scoped>\n",
              "    .dataframe tbody tr th:only-of-type {\n",
              "        vertical-align: middle;\n",
              "    }\n",
              "\n",
              "    .dataframe tbody tr th {\n",
              "        vertical-align: top;\n",
              "    }\n",
              "\n",
              "    .dataframe thead th {\n",
              "        text-align: right;\n",
              "    }\n",
              "</style>\n",
              "<table border=\"1\" class=\"dataframe\">\n",
              "  <thead>\n",
              "    <tr style=\"text-align: right;\">\n",
              "      <th></th>\n",
              "      <th>Papel</th>\n",
              "      <th>Cotação</th>\n",
              "      <th>P/L</th>\n",
              "      <th>P/VP</th>\n",
              "      <th>PSR</th>\n",
              "      <th>Div.Yield</th>\n",
              "      <th>P/Ativo</th>\n",
              "      <th>P/Cap.Giro</th>\n",
              "      <th>P/EBIT</th>\n",
              "      <th>P/Ativ Circ.Liq</th>\n",
              "      <th>EV/EBIT</th>\n",
              "      <th>EV/EBITDA</th>\n",
              "      <th>Mrg Ebit</th>\n",
              "      <th>Mrg. Líq.</th>\n",
              "      <th>Liq. Corr.</th>\n",
              "      <th>ROIC</th>\n",
              "      <th>ROE</th>\n",
              "      <th>Liq.2meses</th>\n",
              "      <th>Patrim. Líq</th>\n",
              "      <th>Dív.Brut/ Patrim.</th>\n",
              "      <th>Cresc. Rec.5a</th>\n",
              "    </tr>\n",
              "  </thead>\n",
              "  <tbody>\n",
              "    <tr>\n",
              "      <th>0</th>\n",
              "      <td>POPR4</td>\n",
              "      <td>10.17</td>\n",
              "      <td>0.00</td>\n",
              "      <td>0.00</td>\n",
              "      <td>0.000</td>\n",
              "      <td>0.0000</td>\n",
              "      <td>0.000</td>\n",
              "      <td>0.00</td>\n",
              "      <td>0.00</td>\n",
              "      <td>0.00</td>\n",
              "      <td>0.00</td>\n",
              "      <td>0.00</td>\n",
              "      <td>0.0866</td>\n",
              "      <td>0.0565</td>\n",
              "      <td>1.08</td>\n",
              "      <td>0.1525</td>\n",
              "      <td>0.1993</td>\n",
              "      <td>0.0</td>\n",
              "      <td>5.458030e+08</td>\n",
              "      <td>0.82</td>\n",
              "      <td>0.3093</td>\n",
              "    </tr>\n",
              "    <tr>\n",
              "      <th>1</th>\n",
              "      <td>VNET3</td>\n",
              "      <td>0.00</td>\n",
              "      <td>0.00</td>\n",
              "      <td>0.00</td>\n",
              "      <td>0.000</td>\n",
              "      <td>0.0000</td>\n",
              "      <td>0.000</td>\n",
              "      <td>0.00</td>\n",
              "      <td>0.00</td>\n",
              "      <td>0.00</td>\n",
              "      <td>0.00</td>\n",
              "      <td>0.00</td>\n",
              "      <td>0.0000</td>\n",
              "      <td>0.0000</td>\n",
              "      <td>0.00</td>\n",
              "      <td>0.0000</td>\n",
              "      <td>0.0517</td>\n",
              "      <td>0.0</td>\n",
              "      <td>9.490850e+09</td>\n",
              "      <td>0.00</td>\n",
              "      <td>-0.1777</td>\n",
              "    </tr>\n",
              "    <tr>\n",
              "      <th>2</th>\n",
              "      <td>PMET3</td>\n",
              "      <td>0.00</td>\n",
              "      <td>0.00</td>\n",
              "      <td>0.00</td>\n",
              "      <td>0.000</td>\n",
              "      <td>0.0000</td>\n",
              "      <td>0.000</td>\n",
              "      <td>0.00</td>\n",
              "      <td>0.00</td>\n",
              "      <td>0.00</td>\n",
              "      <td>0.00</td>\n",
              "      <td>0.00</td>\n",
              "      <td>0.0000</td>\n",
              "      <td>0.0000</td>\n",
              "      <td>0.00</td>\n",
              "      <td>0.0000</td>\n",
              "      <td>0.0410</td>\n",
              "      <td>0.0</td>\n",
              "      <td>-2.908630e+08</td>\n",
              "      <td>0.00</td>\n",
              "      <td>0.3774</td>\n",
              "    </tr>\n",
              "    <tr>\n",
              "      <th>3</th>\n",
              "      <td>MRSA6B</td>\n",
              "      <td>0.00</td>\n",
              "      <td>0.00</td>\n",
              "      <td>0.00</td>\n",
              "      <td>0.000</td>\n",
              "      <td>0.0000</td>\n",
              "      <td>0.000</td>\n",
              "      <td>0.00</td>\n",
              "      <td>0.00</td>\n",
              "      <td>0.00</td>\n",
              "      <td>0.00</td>\n",
              "      <td>0.00</td>\n",
              "      <td>0.0000</td>\n",
              "      <td>0.0000</td>\n",
              "      <td>0.00</td>\n",
              "      <td>0.0000</td>\n",
              "      <td>0.0998</td>\n",
              "      <td>0.0</td>\n",
              "      <td>4.312820e+09</td>\n",
              "      <td>0.00</td>\n",
              "      <td>0.0103</td>\n",
              "    </tr>\n",
              "    <tr>\n",
              "      <th>4</th>\n",
              "      <td>CLAN3</td>\n",
              "      <td>0.00</td>\n",
              "      <td>0.00</td>\n",
              "      <td>0.00</td>\n",
              "      <td>0.000</td>\n",
              "      <td>0.0000</td>\n",
              "      <td>0.000</td>\n",
              "      <td>0.00</td>\n",
              "      <td>0.00</td>\n",
              "      <td>0.00</td>\n",
              "      <td>0.00</td>\n",
              "      <td>0.00</td>\n",
              "      <td>0.0000</td>\n",
              "      <td>0.0000</td>\n",
              "      <td>0.00</td>\n",
              "      <td>0.0000</td>\n",
              "      <td>-0.0105</td>\n",
              "      <td>0.0</td>\n",
              "      <td>1.012240e+09</td>\n",
              "      <td>0.00</td>\n",
              "      <td>-0.6396</td>\n",
              "    </tr>\n",
              "    <tr>\n",
              "      <th>...</th>\n",
              "      <td>...</td>\n",
              "      <td>...</td>\n",
              "      <td>...</td>\n",
              "      <td>...</td>\n",
              "      <td>...</td>\n",
              "      <td>...</td>\n",
              "      <td>...</td>\n",
              "      <td>...</td>\n",
              "      <td>...</td>\n",
              "      <td>...</td>\n",
              "      <td>...</td>\n",
              "      <td>...</td>\n",
              "      <td>...</td>\n",
              "      <td>...</td>\n",
              "      <td>...</td>\n",
              "      <td>...</td>\n",
              "      <td>...</td>\n",
              "      <td>...</td>\n",
              "      <td>...</td>\n",
              "      <td>...</td>\n",
              "      <td>...</td>\n",
              "    </tr>\n",
              "    <tr>\n",
              "      <th>936</th>\n",
              "      <td>LWSA3</td>\n",
              "      <td>23.00</td>\n",
              "      <td>682.15</td>\n",
              "      <td>19.98</td>\n",
              "      <td>27.582</td>\n",
              "      <td>0.0012</td>\n",
              "      <td>9.272</td>\n",
              "      <td>37.73</td>\n",
              "      <td>311.15</td>\n",
              "      <td>462.67</td>\n",
              "      <td>304.88</td>\n",
              "      <td>132.11</td>\n",
              "      <td>0.0886</td>\n",
              "      <td>0.0404</td>\n",
              "      <td>1.79</td>\n",
              "      <td>0.0430</td>\n",
              "      <td>0.0293</td>\n",
              "      <td>270431000.0</td>\n",
              "      <td>6.739730e+08</td>\n",
              "      <td>0.23</td>\n",
              "      <td>0.2450</td>\n",
              "    </tr>\n",
              "    <tr>\n",
              "      <th>937</th>\n",
              "      <td>PRBC4</td>\n",
              "      <td>14.54</td>\n",
              "      <td>808.37</td>\n",
              "      <td>39.12</td>\n",
              "      <td>0.000</td>\n",
              "      <td>0.0000</td>\n",
              "      <td>0.000</td>\n",
              "      <td>0.00</td>\n",
              "      <td>0.00</td>\n",
              "      <td>0.00</td>\n",
              "      <td>0.00</td>\n",
              "      <td>0.00</td>\n",
              "      <td>0.0000</td>\n",
              "      <td>0.0000</td>\n",
              "      <td>0.00</td>\n",
              "      <td>0.0000</td>\n",
              "      <td>0.0484</td>\n",
              "      <td>0.0</td>\n",
              "      <td>1.210880e+09</td>\n",
              "      <td>0.00</td>\n",
              "      <td>0.1160</td>\n",
              "    </tr>\n",
              "    <tr>\n",
              "      <th>938</th>\n",
              "      <td>UBBR11</td>\n",
              "      <td>14.75</td>\n",
              "      <td>1201.81</td>\n",
              "      <td>3.91</td>\n",
              "      <td>0.000</td>\n",
              "      <td>0.0000</td>\n",
              "      <td>0.000</td>\n",
              "      <td>0.00</td>\n",
              "      <td>0.00</td>\n",
              "      <td>0.00</td>\n",
              "      <td>0.00</td>\n",
              "      <td>0.00</td>\n",
              "      <td>0.0000</td>\n",
              "      <td>0.0000</td>\n",
              "      <td>0.00</td>\n",
              "      <td>0.0000</td>\n",
              "      <td>0.0033</td>\n",
              "      <td>0.0</td>\n",
              "      <td>1.031720e+10</td>\n",
              "      <td>0.00</td>\n",
              "      <td>0.1058</td>\n",
              "    </tr>\n",
              "    <tr>\n",
              "      <th>939</th>\n",
              "      <td>UBBR3</td>\n",
              "      <td>18.00</td>\n",
              "      <td>1466.61</td>\n",
              "      <td>4.77</td>\n",
              "      <td>0.000</td>\n",
              "      <td>0.0000</td>\n",
              "      <td>0.000</td>\n",
              "      <td>0.00</td>\n",
              "      <td>0.00</td>\n",
              "      <td>0.00</td>\n",
              "      <td>0.00</td>\n",
              "      <td>0.00</td>\n",
              "      <td>0.0000</td>\n",
              "      <td>0.0000</td>\n",
              "      <td>0.00</td>\n",
              "      <td>0.0000</td>\n",
              "      <td>0.0033</td>\n",
              "      <td>0.0</td>\n",
              "      <td>1.031720e+10</td>\n",
              "      <td>0.00</td>\n",
              "      <td>0.1058</td>\n",
              "    </tr>\n",
              "    <tr>\n",
              "      <th>940</th>\n",
              "      <td>DMVF3</td>\n",
              "      <td>8.97</td>\n",
              "      <td>3690.32</td>\n",
              "      <td>0.54</td>\n",
              "      <td>0.452</td>\n",
              "      <td>0.0000</td>\n",
              "      <td>0.312</td>\n",
              "      <td>2.75</td>\n",
              "      <td>7.75</td>\n",
              "      <td>-3.34</td>\n",
              "      <td>6.47</td>\n",
              "      <td>2.79</td>\n",
              "      <td>0.0583</td>\n",
              "      <td>0.0001</td>\n",
              "      <td>1.52</td>\n",
              "      <td>0.0525</td>\n",
              "      <td>0.0001</td>\n",
              "      <td>2565550.0</td>\n",
              "      <td>8.361590e+08</td>\n",
              "      <td>0.16</td>\n",
              "      <td>-0.1129</td>\n",
              "    </tr>\n",
              "  </tbody>\n",
              "</table>\n",
              "<p>941 rows × 21 columns</p>\n",
              "</div>"
            ],
            "text/plain": [
              "      Papel  Cotação      P/L  ...   Patrim. Líq  Dív.Brut/ Patrim.  Cresc. Rec.5a\n",
              "0     POPR4    10.17     0.00  ...  5.458030e+08               0.82         0.3093\n",
              "1     VNET3     0.00     0.00  ...  9.490850e+09               0.00        -0.1777\n",
              "2     PMET3     0.00     0.00  ... -2.908630e+08               0.00         0.3774\n",
              "3    MRSA6B     0.00     0.00  ...  4.312820e+09               0.00         0.0103\n",
              "4     CLAN3     0.00     0.00  ...  1.012240e+09               0.00        -0.6396\n",
              "..      ...      ...      ...  ...           ...                ...            ...\n",
              "936   LWSA3    23.00   682.15  ...  6.739730e+08               0.23         0.2450\n",
              "937   PRBC4    14.54   808.37  ...  1.210880e+09               0.00         0.1160\n",
              "938  UBBR11    14.75  1201.81  ...  1.031720e+10               0.00         0.1058\n",
              "939   UBBR3    18.00  1466.61  ...  1.031720e+10               0.00         0.1058\n",
              "940   DMVF3     8.97  3690.32  ...  8.361590e+08               0.16        -0.1129\n",
              "\n",
              "[941 rows x 21 columns]"
            ]
          },
          "metadata": {
            "tags": []
          },
          "execution_count": 7
        }
      ]
    },
    {
      "cell_type": "markdown",
      "metadata": {
        "id": "ABiLJwk9uZYM"
      },
      "source": [
        "## 2. Analisando os dados coletados\n"
      ]
    },
    {
      "cell_type": "code",
      "metadata": {
        "colab": {
          "base_uri": "https://localhost:8080/"
        },
        "id": "SIdGcxMkWSo-",
        "outputId": "9377f0a8-093c-493d-efab-14496ba63e36"
      },
      "source": [
        "df.shape"
      ],
      "execution_count": 8,
      "outputs": [
        {
          "output_type": "execute_result",
          "data": {
            "text/plain": [
              "(941, 21)"
            ]
          },
          "metadata": {
            "tags": []
          },
          "execution_count": 8
        }
      ]
    },
    {
      "cell_type": "markdown",
      "metadata": {
        "id": "7wpioRk0VUbo"
      },
      "source": [
        "Liquidez diaria dos últimos dois meses maior 1k, empresas com negociação média superior a 1k por dia nos últimos dois meses."
      ]
    },
    {
      "cell_type": "code",
      "metadata": {
        "id": "KXLutTei6zsj"
      },
      "source": [
        "df = df[df['Liq.2meses'] > 1000000]"
      ],
      "execution_count": 9,
      "outputs": []
    },
    {
      "cell_type": "markdown",
      "metadata": {
        "id": "YVpHFdsgWY6p"
      },
      "source": [
        "Excluindo empresas pequenas com baixa negociação da análise."
      ]
    },
    {
      "cell_type": "code",
      "metadata": {
        "colab": {
          "base_uri": "https://localhost:8080/"
        },
        "id": "h9nB68NAWbDs",
        "outputId": "8fd2de37-1a90-4ca2-a353-0964bc3d972d"
      },
      "source": [
        "df.shape"
      ],
      "execution_count": 10,
      "outputs": [
        {
          "output_type": "execute_result",
          "data": {
            "text/plain": [
              "(247, 21)"
            ]
          },
          "metadata": {
            "tags": []
          },
          "execution_count": 10
        }
      ]
    },
    {
      "cell_type": "markdown",
      "metadata": {
        "id": "ft_3A1wQWrBZ"
      },
      "source": [
        "Listar empresas segundo os critérios, **'pos', 'EV/EBIT', 'ROIC'**"
      ]
    },
    {
      "cell_type": "code",
      "metadata": {
        "id": "-DbiCrtxRhlT"
      },
      "source": [
        "ranking = pd.DataFrame()\n",
        "ranking['pos'] = range(1,151)\n",
        "ranking['EV/EBIT'] = df[ df['EV/EBIT'] > 0 ].sort_values(by=['EV/EBIT'])['Papel'][:150].values\n",
        "ranking['ROIC'] = df.sort_values(by=['ROIC'], ascending=False)['Papel'][:150].values #maior para menor"
      ],
      "execution_count": 11,
      "outputs": []
    },
    {
      "cell_type": "markdown",
      "metadata": {
        "id": "jj4Ey907RmiB"
      },
      "source": [
        "Exibindo dados ranqueados"
      ]
    },
    {
      "cell_type": "code",
      "metadata": {
        "colab": {
          "base_uri": "https://localhost:8080/",
          "height": 419
        },
        "id": "33IpedlbRj9n",
        "outputId": "bdfda50b-fde3-4c8d-ba94-43275682d5f4"
      },
      "source": [
        "ranking"
      ],
      "execution_count": 12,
      "outputs": [
        {
          "output_type": "execute_result",
          "data": {
            "text/html": [
              "<div>\n",
              "<style scoped>\n",
              "    .dataframe tbody tr th:only-of-type {\n",
              "        vertical-align: middle;\n",
              "    }\n",
              "\n",
              "    .dataframe tbody tr th {\n",
              "        vertical-align: top;\n",
              "    }\n",
              "\n",
              "    .dataframe thead th {\n",
              "        text-align: right;\n",
              "    }\n",
              "</style>\n",
              "<table border=\"1\" class=\"dataframe\">\n",
              "  <thead>\n",
              "    <tr style=\"text-align: right;\">\n",
              "      <th></th>\n",
              "      <th>pos</th>\n",
              "      <th>EV/EBIT</th>\n",
              "      <th>ROIC</th>\n",
              "    </tr>\n",
              "  </thead>\n",
              "  <tbody>\n",
              "    <tr>\n",
              "      <th>0</th>\n",
              "      <td>1</td>\n",
              "      <td>PSSA3</td>\n",
              "      <td>WIZS3</td>\n",
              "    </tr>\n",
              "    <tr>\n",
              "      <th>1</th>\n",
              "      <td>2</td>\n",
              "      <td>PCAR3</td>\n",
              "      <td>PSSA3</td>\n",
              "    </tr>\n",
              "    <tr>\n",
              "      <th>2</th>\n",
              "      <td>3</td>\n",
              "      <td>WIZS3</td>\n",
              "      <td>ODPV3</td>\n",
              "    </tr>\n",
              "    <tr>\n",
              "      <th>3</th>\n",
              "      <td>4</td>\n",
              "      <td>MRFG3</td>\n",
              "      <td>MOSI3</td>\n",
              "    </tr>\n",
              "    <tr>\n",
              "      <th>4</th>\n",
              "      <td>5</td>\n",
              "      <td>FHER3</td>\n",
              "      <td>CMIN3</td>\n",
              "    </tr>\n",
              "    <tr>\n",
              "      <th>...</th>\n",
              "      <td>...</td>\n",
              "      <td>...</td>\n",
              "      <td>...</td>\n",
              "    </tr>\n",
              "    <tr>\n",
              "      <th>145</th>\n",
              "      <td>146</td>\n",
              "      <td>JSLG3</td>\n",
              "      <td>CCPR3</td>\n",
              "    </tr>\n",
              "    <tr>\n",
              "      <th>146</th>\n",
              "      <td>147</td>\n",
              "      <td>RENT3</td>\n",
              "      <td>RLOG3</td>\n",
              "    </tr>\n",
              "    <tr>\n",
              "      <th>147</th>\n",
              "      <td>148</td>\n",
              "      <td>CSAN3</td>\n",
              "      <td>DMVF3</td>\n",
              "    </tr>\n",
              "    <tr>\n",
              "      <th>148</th>\n",
              "      <td>149</td>\n",
              "      <td>ELET3</td>\n",
              "      <td>PRIO3</td>\n",
              "    </tr>\n",
              "    <tr>\n",
              "      <th>149</th>\n",
              "      <td>150</td>\n",
              "      <td>ELET6</td>\n",
              "      <td>RAIL3</td>\n",
              "    </tr>\n",
              "  </tbody>\n",
              "</table>\n",
              "<p>150 rows × 3 columns</p>\n",
              "</div>"
            ],
            "text/plain": [
              "     pos EV/EBIT   ROIC\n",
              "0      1   PSSA3  WIZS3\n",
              "1      2   PCAR3  PSSA3\n",
              "2      3   WIZS3  ODPV3\n",
              "3      4   MRFG3  MOSI3\n",
              "4      5   FHER3  CMIN3\n",
              "..   ...     ...    ...\n",
              "145  146   JSLG3  CCPR3\n",
              "146  147   RENT3  RLOG3\n",
              "147  148   CSAN3  DMVF3\n",
              "148  149   ELET3  PRIO3\n",
              "149  150   ELET6  RAIL3\n",
              "\n",
              "[150 rows x 3 columns]"
            ]
          },
          "metadata": {
            "tags": []
          },
          "execution_count": 12
        }
      ]
    },
    {
      "cell_type": "markdown",
      "metadata": {
        "id": "WoBCEWcnj9g6"
      },
      "source": [
        "Formula magica somar os dois rankings, quais empresas tem os melhores valores (empresas melhores classificadas com relação ao preço e relação a qualidade)."
      ]
    },
    {
      "cell_type": "code",
      "metadata": {
        "id": "k1oltDiPRqDL"
      },
      "source": [
        "a = ranking.pivot_table(columns='EV/EBIT', values='pos')"
      ],
      "execution_count": 13,
      "outputs": []
    },
    {
      "cell_type": "code",
      "metadata": {
        "id": "RpgeelCkRqdA"
      },
      "source": [
        "b = ranking.pivot_table(columns='ROIC', values='pos')"
      ],
      "execution_count": 14,
      "outputs": []
    },
    {
      "cell_type": "code",
      "metadata": {
        "colab": {
          "base_uri": "https://localhost:8080/",
          "height": 160
        },
        "id": "dZ-QCdVWRr7a",
        "outputId": "9f9df2da-5b81-4c62-a4d0-97918ee4658c"
      },
      "source": [
        "t = pd.concat([a,b])\n",
        "t"
      ],
      "execution_count": 15,
      "outputs": [
        {
          "output_type": "execute_result",
          "data": {
            "text/html": [
              "<div>\n",
              "<style scoped>\n",
              "    .dataframe tbody tr th:only-of-type {\n",
              "        vertical-align: middle;\n",
              "    }\n",
              "\n",
              "    .dataframe tbody tr th {\n",
              "        vertical-align: top;\n",
              "    }\n",
              "\n",
              "    .dataframe thead th {\n",
              "        text-align: right;\n",
              "    }\n",
              "</style>\n",
              "<table border=\"1\" class=\"dataframe\">\n",
              "  <thead>\n",
              "    <tr style=\"text-align: right;\">\n",
              "      <th></th>\n",
              "      <th>ABEV3</th>\n",
              "      <th>AGRO3</th>\n",
              "      <th>ALSO3</th>\n",
              "      <th>ALUP11</th>\n",
              "      <th>AMBP3</th>\n",
              "      <th>ANIM3</th>\n",
              "      <th>ASAI3</th>\n",
              "      <th>AURA33</th>\n",
              "      <th>B3SA3</th>\n",
              "      <th>BEEF3</th>\n",
              "      <th>BRDT3</th>\n",
              "      <th>BRFS3</th>\n",
              "      <th>BRKM5</th>\n",
              "      <th>BRML3</th>\n",
              "      <th>BRPR3</th>\n",
              "      <th>BSEV3</th>\n",
              "      <th>CAML3</th>\n",
              "      <th>CARD3</th>\n",
              "      <th>CCPR3</th>\n",
              "      <th>CCRO3</th>\n",
              "      <th>CESP6</th>\n",
              "      <th>CIEL3</th>\n",
              "      <th>CMIG3</th>\n",
              "      <th>CMIG4</th>\n",
              "      <th>CMIN3</th>\n",
              "      <th>COCE5</th>\n",
              "      <th>CPFE3</th>\n",
              "      <th>CPLE3</th>\n",
              "      <th>CPLE6</th>\n",
              "      <th>CRFB3</th>\n",
              "      <th>CSAN3</th>\n",
              "      <th>CSMG3</th>\n",
              "      <th>CSNA3</th>\n",
              "      <th>CURY3</th>\n",
              "      <th>CYRE3</th>\n",
              "      <th>DIRR3</th>\n",
              "      <th>DMVF3</th>\n",
              "      <th>DTEX3</th>\n",
              "      <th>ECOR3</th>\n",
              "      <th>EGIE3</th>\n",
              "      <th>...</th>\n",
              "      <th>TECN3</th>\n",
              "      <th>TEND3</th>\n",
              "      <th>TESA3</th>\n",
              "      <th>TGMA3</th>\n",
              "      <th>TIET11</th>\n",
              "      <th>TIET4</th>\n",
              "      <th>TIMS3</th>\n",
              "      <th>TOTS3</th>\n",
              "      <th>TRIS3</th>\n",
              "      <th>TRPL4</th>\n",
              "      <th>TUPY3</th>\n",
              "      <th>UGPA3</th>\n",
              "      <th>UNIP6</th>\n",
              "      <th>USIM3</th>\n",
              "      <th>USIM5</th>\n",
              "      <th>VALE3</th>\n",
              "      <th>VAMO3</th>\n",
              "      <th>VIVA3</th>\n",
              "      <th>VIVT3</th>\n",
              "      <th>VLID3</th>\n",
              "      <th>VVAR3</th>\n",
              "      <th>WIZS3</th>\n",
              "      <th>WSON33</th>\n",
              "      <th>AERI3</th>\n",
              "      <th>ALPA4</th>\n",
              "      <th>BOAS3</th>\n",
              "      <th>GNDI3</th>\n",
              "      <th>HAPV3</th>\n",
              "      <th>LINX3</th>\n",
              "      <th>LREN3</th>\n",
              "      <th>MGLU3</th>\n",
              "      <th>MOSI3</th>\n",
              "      <th>PETZ3</th>\n",
              "      <th>PNVL3</th>\n",
              "      <th>PRIO3</th>\n",
              "      <th>RADL3</th>\n",
              "      <th>RDOR3</th>\n",
              "      <th>SULA11</th>\n",
              "      <th>TFCO4</th>\n",
              "      <th>WEGE3</th>\n",
              "    </tr>\n",
              "  </thead>\n",
              "  <tbody>\n",
              "    <tr>\n",
              "      <th>pos</th>\n",
              "      <td>103</td>\n",
              "      <td>82</td>\n",
              "      <td>104.0</td>\n",
              "      <td>6</td>\n",
              "      <td>122</td>\n",
              "      <td>100</td>\n",
              "      <td>54</td>\n",
              "      <td>51</td>\n",
              "      <td>111</td>\n",
              "      <td>16</td>\n",
              "      <td>116</td>\n",
              "      <td>73</td>\n",
              "      <td>45</td>\n",
              "      <td>128.0</td>\n",
              "      <td>137.0</td>\n",
              "      <td>60</td>\n",
              "      <td>53</td>\n",
              "      <td>71</td>\n",
              "      <td>77</td>\n",
              "      <td>119</td>\n",
              "      <td>105.0</td>\n",
              "      <td>132.0</td>\n",
              "      <td>34</td>\n",
              "      <td>22</td>\n",
              "      <td>25</td>\n",
              "      <td>108.0</td>\n",
              "      <td>59</td>\n",
              "      <td>17</td>\n",
              "      <td>20</td>\n",
              "      <td>64</td>\n",
              "      <td>148</td>\n",
              "      <td>27</td>\n",
              "      <td>50</td>\n",
              "      <td>70</td>\n",
              "      <td>123</td>\n",
              "      <td>49</td>\n",
              "      <td>24</td>\n",
              "      <td>110</td>\n",
              "      <td>48</td>\n",
              "      <td>52</td>\n",
              "      <td>...</td>\n",
              "      <td>83.0</td>\n",
              "      <td>37</td>\n",
              "      <td>44</td>\n",
              "      <td>81</td>\n",
              "      <td>18</td>\n",
              "      <td>19</td>\n",
              "      <td>57</td>\n",
              "      <td>94</td>\n",
              "      <td>68</td>\n",
              "      <td>10</td>\n",
              "      <td>84</td>\n",
              "      <td>134</td>\n",
              "      <td>43</td>\n",
              "      <td>58</td>\n",
              "      <td>56</td>\n",
              "      <td>7</td>\n",
              "      <td>145</td>\n",
              "      <td>142</td>\n",
              "      <td>91</td>\n",
              "      <td>131.0</td>\n",
              "      <td>61</td>\n",
              "      <td>3</td>\n",
              "      <td>26</td>\n",
              "      <td>NaN</td>\n",
              "      <td>NaN</td>\n",
              "      <td>NaN</td>\n",
              "      <td>NaN</td>\n",
              "      <td>NaN</td>\n",
              "      <td>NaN</td>\n",
              "      <td>NaN</td>\n",
              "      <td>NaN</td>\n",
              "      <td>NaN</td>\n",
              "      <td>NaN</td>\n",
              "      <td>NaN</td>\n",
              "      <td>NaN</td>\n",
              "      <td>NaN</td>\n",
              "      <td>NaN</td>\n",
              "      <td>NaN</td>\n",
              "      <td>NaN</td>\n",
              "      <td>NaN</td>\n",
              "    </tr>\n",
              "    <tr>\n",
              "      <th>pos</th>\n",
              "      <td>38</td>\n",
              "      <td>94</td>\n",
              "      <td>NaN</td>\n",
              "      <td>36</td>\n",
              "      <td>58</td>\n",
              "      <td>130</td>\n",
              "      <td>17</td>\n",
              "      <td>11</td>\n",
              "      <td>24</td>\n",
              "      <td>20</td>\n",
              "      <td>126</td>\n",
              "      <td>91</td>\n",
              "      <td>61</td>\n",
              "      <td>NaN</td>\n",
              "      <td>NaN</td>\n",
              "      <td>33</td>\n",
              "      <td>54</td>\n",
              "      <td>37</td>\n",
              "      <td>146</td>\n",
              "      <td>121</td>\n",
              "      <td>NaN</td>\n",
              "      <td>NaN</td>\n",
              "      <td>93</td>\n",
              "      <td>92</td>\n",
              "      <td>5</td>\n",
              "      <td>NaN</td>\n",
              "      <td>52</td>\n",
              "      <td>86</td>\n",
              "      <td>84</td>\n",
              "      <td>48</td>\n",
              "      <td>140</td>\n",
              "      <td>62</td>\n",
              "      <td>23</td>\n",
              "      <td>21</td>\n",
              "      <td>143</td>\n",
              "      <td>139</td>\n",
              "      <td>148</td>\n",
              "      <td>100</td>\n",
              "      <td>30</td>\n",
              "      <td>29</td>\n",
              "      <td>...</td>\n",
              "      <td>NaN</td>\n",
              "      <td>59</td>\n",
              "      <td>102</td>\n",
              "      <td>50</td>\n",
              "      <td>15</td>\n",
              "      <td>16</td>\n",
              "      <td>101</td>\n",
              "      <td>14</td>\n",
              "      <td>79</td>\n",
              "      <td>31</td>\n",
              "      <td>127</td>\n",
              "      <td>137</td>\n",
              "      <td>18</td>\n",
              "      <td>82</td>\n",
              "      <td>83</td>\n",
              "      <td>13</td>\n",
              "      <td>60</td>\n",
              "      <td>55</td>\n",
              "      <td>135</td>\n",
              "      <td>NaN</td>\n",
              "      <td>64</td>\n",
              "      <td>1</td>\n",
              "      <td>34</td>\n",
              "      <td>72.0</td>\n",
              "      <td>41.0</td>\n",
              "      <td>74.0</td>\n",
              "      <td>67.0</td>\n",
              "      <td>70.0</td>\n",
              "      <td>128.0</td>\n",
              "      <td>107.0</td>\n",
              "      <td>142.0</td>\n",
              "      <td>4.0</td>\n",
              "      <td>75.0</td>\n",
              "      <td>132.0</td>\n",
              "      <td>149.0</td>\n",
              "      <td>96.0</td>\n",
              "      <td>134.0</td>\n",
              "      <td>106.0</td>\n",
              "      <td>28.0</td>\n",
              "      <td>19.0</td>\n",
              "    </tr>\n",
              "  </tbody>\n",
              "</table>\n",
              "<p>2 rows × 167 columns</p>\n",
              "</div>"
            ],
            "text/plain": [
              "     ABEV3  AGRO3  ALSO3  ALUP11  AMBP3  ...  RADL3  RDOR3  SULA11  TFCO4  WEGE3\n",
              "pos    103     82  104.0       6    122  ...    NaN    NaN     NaN    NaN    NaN\n",
              "pos     38     94    NaN      36     58  ...   96.0  134.0   106.0   28.0   19.0\n",
              "\n",
              "[2 rows x 167 columns]"
            ]
          },
          "metadata": {
            "tags": []
          },
          "execution_count": 15
        }
      ]
    },
    {
      "cell_type": "code",
      "metadata": {
        "colab": {
          "base_uri": "https://localhost:8080/"
        },
        "id": "VPt3Hi_3R9Qd",
        "outputId": "a291ec5a-3d04-44fe-ac1f-925462243d54"
      },
      "source": [
        "# descartar as empresas que não tem os dois rank, indicadores EV/EBIT e ROIC\n",
        "rank = t.dropna(axis=1).sum()\n",
        "rank"
      ],
      "execution_count": 16,
      "outputs": [
        {
          "output_type": "execute_result",
          "data": {
            "text/plain": [
              "ABEV3     141\n",
              "AGRO3     176\n",
              "ALUP11     42\n",
              "AMBP3     180\n",
              "ANIM3     230\n",
              "         ... \n",
              "VIVA3     197\n",
              "VIVT3     226\n",
              "VVAR3     125\n",
              "WIZS3       4\n",
              "WSON33     60\n",
              "Length: 133, dtype: int64"
            ]
          },
          "metadata": {
            "tags": []
          },
          "execution_count": 16
        }
      ]
    },
    {
      "cell_type": "markdown",
      "metadata": {
        "id": "gEqe1I3JS5K5"
      },
      "source": [
        "## 3. Resultados\n"
      ]
    },
    {
      "cell_type": "code",
      "metadata": {
        "colab": {
          "base_uri": "https://localhost:8080/",
          "height": 334
        },
        "id": "pHAvlFJArSTm",
        "outputId": "421badde-2dd4-46d0-efd1-ecc1a3b90ce8"
      },
      "source": [
        "df.describe()"
      ],
      "execution_count": 17,
      "outputs": [
        {
          "output_type": "execute_result",
          "data": {
            "text/html": [
              "<div>\n",
              "<style scoped>\n",
              "    .dataframe tbody tr th:only-of-type {\n",
              "        vertical-align: middle;\n",
              "    }\n",
              "\n",
              "    .dataframe tbody tr th {\n",
              "        vertical-align: top;\n",
              "    }\n",
              "\n",
              "    .dataframe thead th {\n",
              "        text-align: right;\n",
              "    }\n",
              "</style>\n",
              "<table border=\"1\" class=\"dataframe\">\n",
              "  <thead>\n",
              "    <tr style=\"text-align: right;\">\n",
              "      <th></th>\n",
              "      <th>Cotação</th>\n",
              "      <th>P/L</th>\n",
              "      <th>P/VP</th>\n",
              "      <th>PSR</th>\n",
              "      <th>Div.Yield</th>\n",
              "      <th>P/Ativo</th>\n",
              "      <th>P/Cap.Giro</th>\n",
              "      <th>P/EBIT</th>\n",
              "      <th>P/Ativ Circ.Liq</th>\n",
              "      <th>EV/EBIT</th>\n",
              "      <th>EV/EBITDA</th>\n",
              "      <th>Mrg Ebit</th>\n",
              "      <th>Mrg. Líq.</th>\n",
              "      <th>Liq. Corr.</th>\n",
              "      <th>ROIC</th>\n",
              "      <th>ROE</th>\n",
              "      <th>Liq.2meses</th>\n",
              "      <th>Patrim. Líq</th>\n",
              "      <th>Dív.Brut/ Patrim.</th>\n",
              "      <th>Cresc. Rec.5a</th>\n",
              "    </tr>\n",
              "  </thead>\n",
              "  <tbody>\n",
              "    <tr>\n",
              "      <th>count</th>\n",
              "      <td>247.000000</td>\n",
              "      <td>247.000000</td>\n",
              "      <td>247.000000</td>\n",
              "      <td>247.000000</td>\n",
              "      <td>247.000000</td>\n",
              "      <td>247.000000</td>\n",
              "      <td>247.000000</td>\n",
              "      <td>247.000000</td>\n",
              "      <td>247.000000</td>\n",
              "      <td>247.000000</td>\n",
              "      <td>247.000000</td>\n",
              "      <td>247.000000</td>\n",
              "      <td>247.000000</td>\n",
              "      <td>247.000000</td>\n",
              "      <td>247.000000</td>\n",
              "      <td>247.000000</td>\n",
              "      <td>2.470000e+02</td>\n",
              "      <td>2.470000e+02</td>\n",
              "      <td>247.000000</td>\n",
              "      <td>247.000000</td>\n",
              "    </tr>\n",
              "    <tr>\n",
              "      <th>mean</th>\n",
              "      <td>23.142996</td>\n",
              "      <td>-38.711700</td>\n",
              "      <td>7.370607</td>\n",
              "      <td>6.728186</td>\n",
              "      <td>0.017175</td>\n",
              "      <td>1.530328</td>\n",
              "      <td>6.991538</td>\n",
              "      <td>10.298381</td>\n",
              "      <td>-0.877004</td>\n",
              "      <td>17.893563</td>\n",
              "      <td>1.384211</td>\n",
              "      <td>-0.119398</td>\n",
              "      <td>-2.198728</td>\n",
              "      <td>1.952874</td>\n",
              "      <td>0.079392</td>\n",
              "      <td>0.034019</td>\n",
              "      <td>1.312121e+08</td>\n",
              "      <td>1.191329e+10</td>\n",
              "      <td>1.814575</td>\n",
              "      <td>0.304950</td>\n",
              "    </tr>\n",
              "    <tr>\n",
              "      <th>std</th>\n",
              "      <td>19.860729</td>\n",
              "      <td>658.004994</td>\n",
              "      <td>34.511303</td>\n",
              "      <td>59.997425</td>\n",
              "      <td>0.025437</td>\n",
              "      <td>3.796225</td>\n",
              "      <td>25.386088</td>\n",
              "      <td>139.636454</td>\n",
              "      <td>47.358201</td>\n",
              "      <td>239.930827</td>\n",
              "      <td>111.515298</td>\n",
              "      <td>2.956637</td>\n",
              "      <td>28.882694</td>\n",
              "      <td>1.598856</td>\n",
              "      <td>0.132161</td>\n",
              "      <td>1.895335</td>\n",
              "      <td>3.058425e+08</td>\n",
              "      <td>3.634592e+10</td>\n",
              "      <td>10.267169</td>\n",
              "      <td>2.546868</td>\n",
              "    </tr>\n",
              "    <tr>\n",
              "      <th>min</th>\n",
              "      <td>0.870000</td>\n",
              "      <td>-5448.940000</td>\n",
              "      <td>-17.550000</td>\n",
              "      <td>0.000000</td>\n",
              "      <td>0.000000</td>\n",
              "      <td>0.000000</td>\n",
              "      <td>-115.470000</td>\n",
              "      <td>-1261.630000</td>\n",
              "      <td>-248.230000</td>\n",
              "      <td>-1258.160000</td>\n",
              "      <td>-1258.160000</td>\n",
              "      <td>-40.192800</td>\n",
              "      <td>-448.133000</td>\n",
              "      <td>0.000000</td>\n",
              "      <td>-1.131300</td>\n",
              "      <td>-26.264900</td>\n",
              "      <td>1.032290e+06</td>\n",
              "      <td>-1.440710e+10</td>\n",
              "      <td>-19.030000</td>\n",
              "      <td>-0.515500</td>\n",
              "    </tr>\n",
              "    <tr>\n",
              "      <th>25%</th>\n",
              "      <td>9.635000</td>\n",
              "      <td>0.000000</td>\n",
              "      <td>1.070000</td>\n",
              "      <td>0.641000</td>\n",
              "      <td>0.000000</td>\n",
              "      <td>0.380500</td>\n",
              "      <td>1.255000</td>\n",
              "      <td>2.525000</td>\n",
              "      <td>-4.350000</td>\n",
              "      <td>3.800000</td>\n",
              "      <td>4.145000</td>\n",
              "      <td>0.019800</td>\n",
              "      <td>0.000000</td>\n",
              "      <td>1.120000</td>\n",
              "      <td>0.009400</td>\n",
              "      <td>0.009900</td>\n",
              "      <td>1.135340e+07</td>\n",
              "      <td>7.802195e+08</td>\n",
              "      <td>0.175000</td>\n",
              "      <td>0.000000</td>\n",
              "    </tr>\n",
              "    <tr>\n",
              "      <th>50%</th>\n",
              "      <td>18.820000</td>\n",
              "      <td>10.920000</td>\n",
              "      <td>2.050000</td>\n",
              "      <td>1.430000</td>\n",
              "      <td>0.004500</td>\n",
              "      <td>0.774000</td>\n",
              "      <td>3.880000</td>\n",
              "      <td>8.850000</td>\n",
              "      <td>-1.340000</td>\n",
              "      <td>10.240000</td>\n",
              "      <td>7.520000</td>\n",
              "      <td>0.106500</td>\n",
              "      <td>0.047900</td>\n",
              "      <td>1.680000</td>\n",
              "      <td>0.075900</td>\n",
              "      <td>0.097800</td>\n",
              "      <td>3.748310e+07</td>\n",
              "      <td>2.234260e+09</td>\n",
              "      <td>0.570000</td>\n",
              "      <td>0.070000</td>\n",
              "    </tr>\n",
              "    <tr>\n",
              "      <th>75%</th>\n",
              "      <td>28.600000</td>\n",
              "      <td>25.680000</td>\n",
              "      <td>4.255000</td>\n",
              "      <td>3.365000</td>\n",
              "      <td>0.025250</td>\n",
              "      <td>1.331000</td>\n",
              "      <td>9.540000</td>\n",
              "      <td>19.235000</td>\n",
              "      <td>0.000000</td>\n",
              "      <td>20.685000</td>\n",
              "      <td>14.650000</td>\n",
              "      <td>0.209100</td>\n",
              "      <td>0.138750</td>\n",
              "      <td>2.355000</td>\n",
              "      <td>0.121100</td>\n",
              "      <td>0.168650</td>\n",
              "      <td>1.346920e+08</td>\n",
              "      <td>7.532410e+09</td>\n",
              "      <td>1.300000</td>\n",
              "      <td>0.175850</td>\n",
              "    </tr>\n",
              "    <tr>\n",
              "      <th>max</th>\n",
              "      <td>153.000000</td>\n",
              "      <td>3690.320000</td>\n",
              "      <td>503.020000</td>\n",
              "      <td>942.787000</td>\n",
              "      <td>0.190600</td>\n",
              "      <td>43.747000</td>\n",
              "      <td>163.770000</td>\n",
              "      <td>1089.840000</td>\n",
              "      <td>462.670000</td>\n",
              "      <td>3194.580000</td>\n",
              "      <td>252.130000</td>\n",
              "      <td>1.023800</td>\n",
              "      <td>1.249000</td>\n",
              "      <td>11.800000</td>\n",
              "      <td>0.622400</td>\n",
              "      <td>6.236300</td>\n",
              "      <td>2.931480e+09</td>\n",
              "      <td>3.084100e+11</td>\n",
              "      <td>151.270000</td>\n",
              "      <td>39.144300</td>\n",
              "    </tr>\n",
              "  </tbody>\n",
              "</table>\n",
              "</div>"
            ],
            "text/plain": [
              "          Cotação          P/L  ...  Dív.Brut/ Patrim.  Cresc. Rec.5a\n",
              "count  247.000000   247.000000  ...         247.000000     247.000000\n",
              "mean    23.142996   -38.711700  ...           1.814575       0.304950\n",
              "std     19.860729   658.004994  ...          10.267169       2.546868\n",
              "min      0.870000 -5448.940000  ...         -19.030000      -0.515500\n",
              "25%      9.635000     0.000000  ...           0.175000       0.000000\n",
              "50%     18.820000    10.920000  ...           0.570000       0.070000\n",
              "75%     28.600000    25.680000  ...           1.300000       0.175850\n",
              "max    153.000000  3690.320000  ...         151.270000      39.144300\n",
              "\n",
              "[8 rows x 20 columns]"
            ]
          },
          "metadata": {
            "tags": []
          },
          "execution_count": 17
        }
      ]
    },
    {
      "cell_type": "code",
      "metadata": {
        "colab": {
          "base_uri": "https://localhost:8080/"
        },
        "id": "usDCi6in1t0f",
        "outputId": "35c58208-dbf0-4187-da7e-9b3b36f353b7"
      },
      "source": [
        "df[\"Liq.2meses\"].describe()"
      ],
      "execution_count": 18,
      "outputs": [
        {
          "output_type": "execute_result",
          "data": {
            "text/plain": [
              "count    2.470000e+02\n",
              "mean     1.312121e+08\n",
              "std      3.058425e+08\n",
              "min      1.032290e+06\n",
              "25%      1.135340e+07\n",
              "50%      3.748310e+07\n",
              "75%      1.346920e+08\n",
              "max      2.931480e+09\n",
              "Name: Liq.2meses, dtype: float64"
            ]
          },
          "metadata": {
            "tags": []
          },
          "execution_count": 18
        }
      ]
    },
    {
      "cell_type": "code",
      "metadata": {
        "colab": {
          "base_uri": "https://localhost:8080/"
        },
        "id": "vaOMykL1t4fh",
        "outputId": "3369d609-e4bf-489b-8fa0-56fde59fc99e"
      },
      "source": [
        "df[\"EV/EBIT\"].describe()"
      ],
      "execution_count": 19,
      "outputs": [
        {
          "output_type": "execute_result",
          "data": {
            "text/plain": [
              "count     247.000000\n",
              "mean       17.893563\n",
              "std       239.930827\n",
              "min     -1258.160000\n",
              "25%         3.800000\n",
              "50%        10.240000\n",
              "75%        20.685000\n",
              "max      3194.580000\n",
              "Name: EV/EBIT, dtype: float64"
            ]
          },
          "metadata": {
            "tags": []
          },
          "execution_count": 19
        }
      ]
    },
    {
      "cell_type": "code",
      "metadata": {
        "colab": {
          "base_uri": "https://localhost:8080/"
        },
        "id": "gH5ZGEdHt9uP",
        "outputId": "bb85805a-fdcc-415a-9e60-ce48b98f7bee"
      },
      "source": [
        "df[\"ROIC\"].describe()"
      ],
      "execution_count": 20,
      "outputs": [
        {
          "output_type": "execute_result",
          "data": {
            "text/plain": [
              "count    247.000000\n",
              "mean       0.079392\n",
              "std        0.132161\n",
              "min       -1.131300\n",
              "25%        0.009400\n",
              "50%        0.075900\n",
              "75%        0.121100\n",
              "max        0.622400\n",
              "Name: ROIC, dtype: float64"
            ]
          },
          "metadata": {
            "tags": []
          },
          "execution_count": 20
        }
      ]
    },
    {
      "cell_type": "code",
      "metadata": {
        "colab": {
          "base_uri": "https://localhost:8080/"
        },
        "id": "AdjRmHgHR_xc",
        "outputId": "277b4d17-452c-4146-9bdd-7417a057e73c"
      },
      "source": [
        "rank.sort_values()[:38]"
      ],
      "execution_count": 21,
      "outputs": [
        {
          "output_type": "execute_result",
          "data": {
            "text/plain": [
              "PSSA3      3\n",
              "WIZS3      4\n",
              "MRFG3     13\n",
              "PLPL3     15\n",
              "VALE3     20\n",
              "CMIN3     30\n",
              "TIET11    33\n",
              "TIET4     35\n",
              "BEEF3     36\n",
              "TASA4     38\n",
              "TASA3     40\n",
              "TRPL4     41\n",
              "ALUP11    42\n",
              "PCAR3     53\n",
              "JBSS3     56\n",
              "SAPR4     57\n",
              "SAPR3     57\n",
              "SAPR11    57\n",
              "LEVE3     58\n",
              "WSON33    60\n",
              "UNIP6     61\n",
              "AURA33    62\n",
              "TAEE11    65\n",
              "TAEE3     65\n",
              "TAEE4     66\n",
              "LAVV3     69\n",
              "ASAI3     71\n",
              "CSNA3     73\n",
              "EQTL3     74\n",
              "ODPV3     75\n",
              "ECOR3     78\n",
              "EGIE3     81\n",
              "CSMG3     89\n",
              "QUAL3     90\n",
              "CURY3     91\n",
              "BSEV3     93\n",
              "FHER3     94\n",
              "TEND3     96\n",
              "dtype: int64"
            ]
          },
          "metadata": {
            "tags": []
          },
          "execution_count": 21
        }
      ]
    },
    {
      "cell_type": "code",
      "metadata": {
        "colab": {
          "base_uri": "https://localhost:8080/"
        },
        "id": "iyw3cSeupmoH",
        "outputId": "fb4053d3-6b0f-4917-dc8b-d8d61919f7f8"
      },
      "source": [
        "rank.shape"
      ],
      "execution_count": 22,
      "outputs": [
        {
          "output_type": "execute_result",
          "data": {
            "text/plain": [
              "(133,)"
            ]
          },
          "metadata": {
            "tags": []
          },
          "execution_count": 22
        }
      ]
    },
    {
      "cell_type": "markdown",
      "metadata": {
        "id": "wryPg0FqmRNJ"
      },
      "source": [
        "Remover empresas seguradoras, empresas de bancos.\n",
        "\n",
        "Distorções quando comparadas empresas do setor financeiro utilizando os multiplos (indicadores EV/EBIT e ROIC)."
      ]
    },
    {
      "cell_type": "markdown",
      "metadata": {
        "id": "kEwkrqso611l"
      },
      "source": [
        "## 3.1 Resultados"
      ]
    },
    {
      "cell_type": "code",
      "metadata": {
        "colab": {
          "base_uri": "https://localhost:8080/",
          "height": 210
        },
        "id": "YjuSZzlZ1kBu",
        "outputId": "42ea0ab6-1254-40d4-97ed-b89695c93c46"
      },
      "source": [
        "df = df[df['Liq.2meses'] > 1000000000]\n",
        "df"
      ],
      "execution_count": 23,
      "outputs": [
        {
          "output_type": "execute_result",
          "data": {
            "text/html": [
              "<div>\n",
              "<style scoped>\n",
              "    .dataframe tbody tr th:only-of-type {\n",
              "        vertical-align: middle;\n",
              "    }\n",
              "\n",
              "    .dataframe tbody tr th {\n",
              "        vertical-align: top;\n",
              "    }\n",
              "\n",
              "    .dataframe thead th {\n",
              "        text-align: right;\n",
              "    }\n",
              "</style>\n",
              "<table border=\"1\" class=\"dataframe\">\n",
              "  <thead>\n",
              "    <tr style=\"text-align: right;\">\n",
              "      <th></th>\n",
              "      <th>Papel</th>\n",
              "      <th>Cotação</th>\n",
              "      <th>P/L</th>\n",
              "      <th>P/VP</th>\n",
              "      <th>PSR</th>\n",
              "      <th>Div.Yield</th>\n",
              "      <th>P/Ativo</th>\n",
              "      <th>P/Cap.Giro</th>\n",
              "      <th>P/EBIT</th>\n",
              "      <th>P/Ativ Circ.Liq</th>\n",
              "      <th>EV/EBIT</th>\n",
              "      <th>EV/EBITDA</th>\n",
              "      <th>Mrg Ebit</th>\n",
              "      <th>Mrg. Líq.</th>\n",
              "      <th>Liq. Corr.</th>\n",
              "      <th>ROIC</th>\n",
              "      <th>ROE</th>\n",
              "      <th>Liq.2meses</th>\n",
              "      <th>Patrim. Líq</th>\n",
              "      <th>Dív.Brut/ Patrim.</th>\n",
              "      <th>Cresc. Rec.5a</th>\n",
              "    </tr>\n",
              "  </thead>\n",
              "  <tbody>\n",
              "    <tr>\n",
              "      <th>675</th>\n",
              "      <td>BBDC4</td>\n",
              "      <td>26.80</td>\n",
              "      <td>14.37</td>\n",
              "      <td>1.65</td>\n",
              "      <td>0.000</td>\n",
              "      <td>0.0248</td>\n",
              "      <td>0.000</td>\n",
              "      <td>0.0</td>\n",
              "      <td>0.00</td>\n",
              "      <td>0.00</td>\n",
              "      <td>0.00</td>\n",
              "      <td>0.00</td>\n",
              "      <td>0.0000</td>\n",
              "      <td>0.0000</td>\n",
              "      <td>0.00</td>\n",
              "      <td>0.0000</td>\n",
              "      <td>0.1151</td>\n",
              "      <td>1.261630e+09</td>\n",
              "      <td>1.437030e+11</td>\n",
              "      <td>0.00</td>\n",
              "      <td>-0.0927</td>\n",
              "    </tr>\n",
              "    <tr>\n",
              "      <th>679</th>\n",
              "      <td>ITUB4</td>\n",
              "      <td>28.07</td>\n",
              "      <td>14.51</td>\n",
              "      <td>2.01</td>\n",
              "      <td>0.000</td>\n",
              "      <td>0.0194</td>\n",
              "      <td>0.000</td>\n",
              "      <td>0.0</td>\n",
              "      <td>0.00</td>\n",
              "      <td>0.00</td>\n",
              "      <td>0.00</td>\n",
              "      <td>0.00</td>\n",
              "      <td>0.0000</td>\n",
              "      <td>0.0000</td>\n",
              "      <td>0.00</td>\n",
              "      <td>0.0000</td>\n",
              "      <td>0.1387</td>\n",
              "      <td>1.233940e+09</td>\n",
              "      <td>1.366990e+11</td>\n",
              "      <td>0.00</td>\n",
              "      <td>-0.2996</td>\n",
              "    </tr>\n",
              "    <tr>\n",
              "      <th>749</th>\n",
              "      <td>VALE3</td>\n",
              "      <td>95.53</td>\n",
              "      <td>18.90</td>\n",
              "      <td>2.72</td>\n",
              "      <td>2.421</td>\n",
              "      <td>0.0698</td>\n",
              "      <td>1.056</td>\n",
              "      <td>9.9</td>\n",
              "      <td>4.71</td>\n",
              "      <td>-2.96</td>\n",
              "      <td>4.79</td>\n",
              "      <td>4.14</td>\n",
              "      <td>0.5136</td>\n",
              "      <td>0.1194</td>\n",
              "      <td>1.67</td>\n",
              "      <td>0.2742</td>\n",
              "      <td>0.1438</td>\n",
              "      <td>2.931480e+09</td>\n",
              "      <td>1.857850e+11</td>\n",
              "      <td>0.42</td>\n",
              "      <td>0.2086</td>\n",
              "    </tr>\n",
              "    <tr>\n",
              "      <th>861</th>\n",
              "      <td>PETR4</td>\n",
              "      <td>23.46</td>\n",
              "      <td>43.05</td>\n",
              "      <td>0.99</td>\n",
              "      <td>1.125</td>\n",
              "      <td>0.0000</td>\n",
              "      <td>0.310</td>\n",
              "      <td>50.7</td>\n",
              "      <td>3.28</td>\n",
              "      <td>-0.57</td>\n",
              "      <td>6.79</td>\n",
              "      <td>4.05</td>\n",
              "      <td>0.3434</td>\n",
              "      <td>0.0230</td>\n",
              "      <td>1.04</td>\n",
              "      <td>0.1053</td>\n",
              "      <td>0.0230</td>\n",
              "      <td>2.627880e+09</td>\n",
              "      <td>3.084100e+11</td>\n",
              "      <td>1.27</td>\n",
              "      <td>-0.0013</td>\n",
              "    </tr>\n",
              "  </tbody>\n",
              "</table>\n",
              "</div>"
            ],
            "text/plain": [
              "     Papel  Cotação    P/L  ...   Patrim. Líq  Dív.Brut/ Patrim.  Cresc. Rec.5a\n",
              "675  BBDC4    26.80  14.37  ...  1.437030e+11               0.00        -0.0927\n",
              "679  ITUB4    28.07  14.51  ...  1.366990e+11               0.00        -0.2996\n",
              "749  VALE3    95.53  18.90  ...  1.857850e+11               0.42         0.2086\n",
              "861  PETR4    23.46  43.05  ...  3.084100e+11               1.27        -0.0013\n",
              "\n",
              "[4 rows x 21 columns]"
            ]
          },
          "metadata": {
            "tags": []
          },
          "execution_count": 23
        }
      ]
    },
    {
      "cell_type": "code",
      "metadata": {
        "colab": {
          "base_uri": "https://localhost:8080/"
        },
        "id": "hUNAb3dZ2-Z2",
        "outputId": "defc6efe-c871-4eb6-e650-9d3c6722ff39"
      },
      "source": [
        "df.shape"
      ],
      "execution_count": 24,
      "outputs": [
        {
          "output_type": "execute_result",
          "data": {
            "text/plain": [
              "(4, 21)"
            ]
          },
          "metadata": {
            "tags": []
          },
          "execution_count": 24
        }
      ]
    },
    {
      "cell_type": "code",
      "metadata": {
        "colab": {
          "base_uri": "https://localhost:8080/",
          "height": 334
        },
        "id": "j3NNrs113QRN",
        "outputId": "4505fba4-1436-4008-946c-24885344e2f2"
      },
      "source": [
        "df.describe()"
      ],
      "execution_count": 25,
      "outputs": [
        {
          "output_type": "execute_result",
          "data": {
            "text/html": [
              "<div>\n",
              "<style scoped>\n",
              "    .dataframe tbody tr th:only-of-type {\n",
              "        vertical-align: middle;\n",
              "    }\n",
              "\n",
              "    .dataframe tbody tr th {\n",
              "        vertical-align: top;\n",
              "    }\n",
              "\n",
              "    .dataframe thead th {\n",
              "        text-align: right;\n",
              "    }\n",
              "</style>\n",
              "<table border=\"1\" class=\"dataframe\">\n",
              "  <thead>\n",
              "    <tr style=\"text-align: right;\">\n",
              "      <th></th>\n",
              "      <th>Cotação</th>\n",
              "      <th>P/L</th>\n",
              "      <th>P/VP</th>\n",
              "      <th>PSR</th>\n",
              "      <th>Div.Yield</th>\n",
              "      <th>P/Ativo</th>\n",
              "      <th>P/Cap.Giro</th>\n",
              "      <th>P/EBIT</th>\n",
              "      <th>P/Ativ Circ.Liq</th>\n",
              "      <th>EV/EBIT</th>\n",
              "      <th>EV/EBITDA</th>\n",
              "      <th>Mrg Ebit</th>\n",
              "      <th>Mrg. Líq.</th>\n",
              "      <th>Liq. Corr.</th>\n",
              "      <th>ROIC</th>\n",
              "      <th>ROE</th>\n",
              "      <th>Liq.2meses</th>\n",
              "      <th>Patrim. Líq</th>\n",
              "      <th>Dív.Brut/ Patrim.</th>\n",
              "      <th>Cresc. Rec.5a</th>\n",
              "    </tr>\n",
              "  </thead>\n",
              "  <tbody>\n",
              "    <tr>\n",
              "      <th>count</th>\n",
              "      <td>4.000000</td>\n",
              "      <td>4.00000</td>\n",
              "      <td>4.000000</td>\n",
              "      <td>4.000000</td>\n",
              "      <td>4.000000</td>\n",
              "      <td>4.000000</td>\n",
              "      <td>4.000000</td>\n",
              "      <td>4.000000</td>\n",
              "      <td>4.000000</td>\n",
              "      <td>4.000000</td>\n",
              "      <td>4.000000</td>\n",
              "      <td>4.000000</td>\n",
              "      <td>4.000000</td>\n",
              "      <td>4.000000</td>\n",
              "      <td>4.000000</td>\n",
              "      <td>4.000000</td>\n",
              "      <td>4.000000e+00</td>\n",
              "      <td>4.000000e+00</td>\n",
              "      <td>4.000000</td>\n",
              "      <td>4.000000</td>\n",
              "    </tr>\n",
              "    <tr>\n",
              "      <th>mean</th>\n",
              "      <td>43.465000</td>\n",
              "      <td>22.70750</td>\n",
              "      <td>1.842500</td>\n",
              "      <td>0.886500</td>\n",
              "      <td>0.028500</td>\n",
              "      <td>0.341500</td>\n",
              "      <td>15.150000</td>\n",
              "      <td>1.997500</td>\n",
              "      <td>-0.882500</td>\n",
              "      <td>2.895000</td>\n",
              "      <td>2.047500</td>\n",
              "      <td>0.214250</td>\n",
              "      <td>0.035600</td>\n",
              "      <td>0.677500</td>\n",
              "      <td>0.094875</td>\n",
              "      <td>0.105150</td>\n",
              "      <td>2.013732e+09</td>\n",
              "      <td>1.936492e+11</td>\n",
              "      <td>0.422500</td>\n",
              "      <td>-0.046250</td>\n",
              "    </tr>\n",
              "    <tr>\n",
              "      <th>std</th>\n",
              "      <td>34.764409</td>\n",
              "      <td>13.72379</td>\n",
              "      <td>0.721543</td>\n",
              "      <td>1.152293</td>\n",
              "      <td>0.029521</td>\n",
              "      <td>0.498246</td>\n",
              "      <td>24.155124</td>\n",
              "      <td>2.379249</td>\n",
              "      <td>1.410824</td>\n",
              "      <td>3.441129</td>\n",
              "      <td>2.364535</td>\n",
              "      <td>0.256967</td>\n",
              "      <td>0.056909</td>\n",
              "      <td>0.823504</td>\n",
              "      <td>0.129446</td>\n",
              "      <td>0.056175</td>\n",
              "      <td>8.931540e+08</td>\n",
              "      <td>7.951904e+10</td>\n",
              "      <td>0.598686</td>\n",
              "      <td>0.210802</td>\n",
              "    </tr>\n",
              "    <tr>\n",
              "      <th>min</th>\n",
              "      <td>23.460000</td>\n",
              "      <td>14.37000</td>\n",
              "      <td>0.990000</td>\n",
              "      <td>0.000000</td>\n",
              "      <td>0.000000</td>\n",
              "      <td>0.000000</td>\n",
              "      <td>0.000000</td>\n",
              "      <td>0.000000</td>\n",
              "      <td>-2.960000</td>\n",
              "      <td>0.000000</td>\n",
              "      <td>0.000000</td>\n",
              "      <td>0.000000</td>\n",
              "      <td>0.000000</td>\n",
              "      <td>0.000000</td>\n",
              "      <td>0.000000</td>\n",
              "      <td>0.023000</td>\n",
              "      <td>1.233940e+09</td>\n",
              "      <td>1.366990e+11</td>\n",
              "      <td>0.000000</td>\n",
              "      <td>-0.299600</td>\n",
              "    </tr>\n",
              "    <tr>\n",
              "      <th>25%</th>\n",
              "      <td>25.965000</td>\n",
              "      <td>14.47500</td>\n",
              "      <td>1.485000</td>\n",
              "      <td>0.000000</td>\n",
              "      <td>0.014550</td>\n",
              "      <td>0.000000</td>\n",
              "      <td>0.000000</td>\n",
              "      <td>0.000000</td>\n",
              "      <td>-1.167500</td>\n",
              "      <td>0.000000</td>\n",
              "      <td>0.000000</td>\n",
              "      <td>0.000000</td>\n",
              "      <td>0.000000</td>\n",
              "      <td>0.000000</td>\n",
              "      <td>0.000000</td>\n",
              "      <td>0.092075</td>\n",
              "      <td>1.254708e+09</td>\n",
              "      <td>1.419520e+11</td>\n",
              "      <td>0.000000</td>\n",
              "      <td>-0.144425</td>\n",
              "    </tr>\n",
              "    <tr>\n",
              "      <th>50%</th>\n",
              "      <td>27.435000</td>\n",
              "      <td>16.70500</td>\n",
              "      <td>1.830000</td>\n",
              "      <td>0.562500</td>\n",
              "      <td>0.022100</td>\n",
              "      <td>0.155000</td>\n",
              "      <td>4.950000</td>\n",
              "      <td>1.640000</td>\n",
              "      <td>-0.285000</td>\n",
              "      <td>2.395000</td>\n",
              "      <td>2.025000</td>\n",
              "      <td>0.171700</td>\n",
              "      <td>0.011500</td>\n",
              "      <td>0.520000</td>\n",
              "      <td>0.052650</td>\n",
              "      <td>0.126900</td>\n",
              "      <td>1.944755e+09</td>\n",
              "      <td>1.647440e+11</td>\n",
              "      <td>0.210000</td>\n",
              "      <td>-0.047000</td>\n",
              "    </tr>\n",
              "    <tr>\n",
              "      <th>75%</th>\n",
              "      <td>44.935000</td>\n",
              "      <td>24.93750</td>\n",
              "      <td>2.187500</td>\n",
              "      <td>1.449000</td>\n",
              "      <td>0.036050</td>\n",
              "      <td>0.496500</td>\n",
              "      <td>20.100000</td>\n",
              "      <td>3.637500</td>\n",
              "      <td>0.000000</td>\n",
              "      <td>5.290000</td>\n",
              "      <td>4.072500</td>\n",
              "      <td>0.385950</td>\n",
              "      <td>0.047100</td>\n",
              "      <td>1.197500</td>\n",
              "      <td>0.147525</td>\n",
              "      <td>0.139975</td>\n",
              "      <td>2.703780e+09</td>\n",
              "      <td>2.164412e+11</td>\n",
              "      <td>0.632500</td>\n",
              "      <td>0.051175</td>\n",
              "    </tr>\n",
              "    <tr>\n",
              "      <th>max</th>\n",
              "      <td>95.530000</td>\n",
              "      <td>43.05000</td>\n",
              "      <td>2.720000</td>\n",
              "      <td>2.421000</td>\n",
              "      <td>0.069800</td>\n",
              "      <td>1.056000</td>\n",
              "      <td>50.700000</td>\n",
              "      <td>4.710000</td>\n",
              "      <td>0.000000</td>\n",
              "      <td>6.790000</td>\n",
              "      <td>4.140000</td>\n",
              "      <td>0.513600</td>\n",
              "      <td>0.119400</td>\n",
              "      <td>1.670000</td>\n",
              "      <td>0.274200</td>\n",
              "      <td>0.143800</td>\n",
              "      <td>2.931480e+09</td>\n",
              "      <td>3.084100e+11</td>\n",
              "      <td>1.270000</td>\n",
              "      <td>0.208600</td>\n",
              "    </tr>\n",
              "  </tbody>\n",
              "</table>\n",
              "</div>"
            ],
            "text/plain": [
              "         Cotação       P/L  ...  Dív.Brut/ Patrim.  Cresc. Rec.5a\n",
              "count   4.000000   4.00000  ...           4.000000       4.000000\n",
              "mean   43.465000  22.70750  ...           0.422500      -0.046250\n",
              "std    34.764409  13.72379  ...           0.598686       0.210802\n",
              "min    23.460000  14.37000  ...           0.000000      -0.299600\n",
              "25%    25.965000  14.47500  ...           0.000000      -0.144425\n",
              "50%    27.435000  16.70500  ...           0.210000      -0.047000\n",
              "75%    44.935000  24.93750  ...           0.632500       0.051175\n",
              "max    95.530000  43.05000  ...           1.270000       0.208600\n",
              "\n",
              "[8 rows x 20 columns]"
            ]
          },
          "metadata": {
            "tags": []
          },
          "execution_count": 25
        }
      ]
    },
    {
      "cell_type": "markdown",
      "metadata": {
        "id": "0jcgZ38c8cRz"
      },
      "source": [
        "## 4. Observações"
      ]
    },
    {
      "cell_type": "markdown",
      "metadata": {
        "id": "uOrPPFLyZv0N"
      },
      "source": [
        "**Empresas baratas Brasileiras**\n",
        "\n",
        "*Empresas que estejam valendo pouco comparadas ao tanto que ela gera de caixa.*\n",
        "\n"
      ]
    },
    {
      "cell_type": "markdown",
      "metadata": {
        "id": "FZn0Ch0OXcdN"
      },
      "source": [
        "O EV/EBIT é um indicador financeiro que compara o Valor da Firma (EV ou Enterprise Value) com o Lucro Antes de Impostos e Taxas, o EBIT.\n",
        "\n",
        "A principal função do EV/EBIT é ajudar a identificar quanto uma empresa custa em relação ao que ela produz a partir de sua atividade fim."
      ]
    },
    {
      "cell_type": "markdown",
      "metadata": {
        "id": "a49lGOwLX9Zr"
      },
      "source": [
        "**EV/EBIT**\n",
        "\n",
        "EV ---> Valor da Firma\n",
        "Valor da Firma ---> Valor de mercado + Dív. Líquida\n",
        "\n",
        "*Valor de mercado ---> Valor Ação (Cotação ou Preço atual) * Nro. de Ações emitidas*\n",
        "\n",
        "EBIT ---> Lucro Líquido + Resultado Financeiro + Impostos\n",
        "\n",
        "EV/EBIT ---> Valor de mercado (EV) / Lucro Antes de Juros e Impostos (EBIT)\n",
        "\n",
        "\n"
      ]
    },
    {
      "cell_type": "markdown",
      "metadata": {
        "id": "TwlcZ39LX4Oh"
      },
      "source": [
        "É importante destacar que na fórmula EV/EBIT, o EV representa o valor de mercado da empresa somado à sua dívida líquida. Enquanto isso, o EBIT representa o nível de lucro operacional que a empresa produz em seu tamanho atual.\n",
        "\n",
        "Nesse sentido, o EV/EBIT permite saber qual o potencial de geração de lucros de uma companhia. Vale lembrar que, para fins comparativos, ele deve ser utilizado apenas entre empresas do mesmo setor e, de preferência, que sejam concorrentes diretas."
      ]
    },
    {
      "cell_type": "markdown",
      "metadata": {
        "id": "VlmGcRcddlfF"
      },
      "source": [
        "**Exemplo:**\n",
        "\n",
        "Uma empresa “A” e uma empresa “B” possuem, respectivamente, um EV/EBIT de 9,2 vezes e 8,9 vezes, seria possível afirmar que:\n",
        "\n",
        "A empresa “A” está mais valorizada e melhor avaliada no mercado, podendo ser a melhor opção para a venda;\n",
        "\n",
        "A empresa “B” está mais desvalorizada e pior avaliada no mercado, podendo ser a melhor opção para a compra."
      ]
    },
    {
      "cell_type": "markdown",
      "metadata": {
        "id": "nbevAlZRifgV"
      },
      "source": [
        "Quando o EV/EBIT está elevado, existe uma indicação de que a empresa possui uma boa avaliação no mercado. Consequentemente, isso significa que suas ações estão valorizadas.\n",
        "\n",
        "Enquanto isso, um EV/EBIT baixo demonstra que a empresa está sendo subavaliada. Com isso, possuem uma forte tendência de valorização ao longo do tempo, tornando a ação mais atrativa para a compra."
      ]
    },
    {
      "cell_type": "markdown",
      "metadata": {
        "id": "Uws2Qg2da68y"
      },
      "source": [
        "**Empresas boas Brasileiras**"
      ]
    },
    {
      "cell_type": "markdown",
      "metadata": {
        "id": "LKazDfiBa9Bd"
      },
      "source": [
        "O ROIC (Return Over Invested Capital), ou Retorno sobre o Capital Investido, é uma métrica utilizada para informar, em termos percentuais, quanto dinheiro uma empresa consegue gerar em razão do capital investido.\n",
        "\n",
        "Com o ROIC, é possível ter uma visão geral sobre a performance financeira de um negócio."
      ]
    },
    {
      "cell_type": "markdown",
      "metadata": {
        "id": "Ya6x9IkWftgy"
      },
      "source": [
        "**ROIC**\n",
        "\n",
        "NOPAT ---> representa o lucro operacional após a distribuição de dividendos entre os acionistas\n",
        "\n",
        "Valor Contábil ---> é a soma de todo capital investido na empresa.\n",
        "\n",
        "ROIC ---> NOPAT / Valor Contábil"
      ]
    },
    {
      "cell_type": "markdown",
      "metadata": {
        "id": "BNivuEYfbG4S"
      },
      "source": [
        "**Exemplo de uma empresa:**\n",
        "\n",
        "Lucro Operacional: R$20 milhões\n",
        "\n",
        "Valor Contábil do Capital Investido: R$80 milhões\n",
        "\n",
        "Dividendos: R$5 milhões\n",
        "\n",
        "NOPAT dessa empresa é igual a R$15 milhões\n",
        "\n",
        "ROIC ---> 15.000.000 / 80.000.000 = 18,75%\n",
        "\n",
        "(Lucro Operacional - Dividendos) / Valor Contábil do Capital Investido = ROIC\n",
        "\n"
      ]
    },
    {
      "cell_type": "markdown",
      "metadata": {
        "id": "TfjMWEmXfmLG"
      },
      "source": [
        "O parâmetro para avaliar se esse percentual é elevado ou não será o histórico da empresa e de suas concorrentes do mesmo setor.\n",
        "\n",
        "Vale ressaltar que esse é um dado bem relevante pois demonstra o retorno sobre capital investido na empresa, mostrando muitas vezes qual companhia pode utilizar de forma mais eficiente o capital captado através de empréstimos, financiamentos ou acionistas."
      ]
    },
    {
      "cell_type": "markdown",
      "metadata": {
        "id": "hzK2zLtAbHLl"
      },
      "source": [
        "Por conta dessas características, o ROIC é um dos indicadores financeiros mais utilizados por investidores na análise fundamentalista de ações.\n",
        "\n",
        "Pois, muitos investidores acabam utilizando esse indicador na decisão sobre qual empresa realizar um investimento."
      ]
    }
  ]
}