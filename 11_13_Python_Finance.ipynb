{
  "nbformat": 4,
  "nbformat_minor": 0,
  "metadata": {
    "colab": {
      "name": "11_13_Python_Finance.ipynb",
      "provenance": [],
      "collapsed_sections": [],
      "authorship_tag": "ABX9TyOQb/svMExlDV3Xpk8QXqEX"
    },
    "kernelspec": {
      "name": "python3",
      "display_name": "Python 3"
    },
    "language_info": {
      "name": "python"
    }
  },
  "cells": [
    {
      "cell_type": "markdown",
      "metadata": {
        "id": "iz2Tuf8C2hoc"
      },
      "source": [
        "## 11_13 - Python Finance\n",
        "\n",
        "**Capitulo 11**: O site INVESTING.COM possui uma imensa base de dados de ativos financeiros de vários países.\n",
        "\n",
        "Objetivo: acessar a base de dados do investing.com com python para obter dados de cotas de fundos de investimento brasileiros. Como exemplo, comparamos o fundo alaska black, ip participações e bova11\n",
        "\n",
        "**Capitulo 12**: O site INVESTING.COM possui uma imensa base de dados de ativos financeiros de vários países.\n",
        "\n",
        "Objetivo: Acessar a base de dados do investing.Com com python. Vamos obter cotações de empresas brasileiras e índices de ações como  o índice bovespa e o índice de fundos imobiliários ifix.\n",
        "\n",
        "**Capitulo 13**: O site INVESTING.COM possui uma imensa base de dados de ativos financeiros de vários países.\n",
        "\n",
        "Objetivo: Montar estrutura a termo da curva de juros com dados do investing.com utilizando python."
      ]
    },
    {
      "cell_type": "markdown",
      "metadata": {
        "id": "n8xZKL95aQ7t"
      },
      "source": [
        "## 1. Importando bibliotecas"
      ]
    },
    {
      "cell_type": "code",
      "metadata": {
        "id": "HmiIXoq2zjmc"
      },
      "source": [
        "!pip install investpy"
      ],
      "execution_count": null,
      "outputs": []
    },
    {
      "cell_type": "code",
      "metadata": {
        "id": "MzgSwwNwzksl"
      },
      "source": [
        "import investpy as inv"
      ],
      "execution_count": null,
      "outputs": []
    },
    {
      "cell_type": "code",
      "metadata": {
        "id": "7NjNIIYGzluT"
      },
      "source": [
        "import plotly.graph_objects as go"
      ],
      "execution_count": null,
      "outputs": []
    },
    {
      "cell_type": "code",
      "metadata": {
        "id": "y5y3w71E8Ujv"
      },
      "source": [
        "import matplotlib.pyplot as plt\n",
        "import pandas as pd\n",
        "import seaborn as sns; sns.set()\n",
        "import matplotlib\n",
        "matplotlib.rcParams['figure.figsize'] = (16,8)"
      ],
      "execution_count": null,
      "outputs": []
    },
    {
      "cell_type": "markdown",
      "metadata": {
        "id": "Z7W0CfgY4tug"
      },
      "source": [
        "##2. Fundos de Investimentos"
      ]
    },
    {
      "cell_type": "code",
      "metadata": {
        "id": "iLa5n5WCC7F-"
      },
      "source": [
        "fundos_br = inv.get_funds_list(country='brazil')\n",
        "fundos_br"
      ],
      "execution_count": null,
      "outputs": []
    },
    {
      "cell_type": "code",
      "metadata": {
        "id": "ocL1jKxhDg6-"
      },
      "source": [
        "len(fundos_br)"
      ],
      "execution_count": null,
      "outputs": []
    },
    {
      "cell_type": "code",
      "metadata": {
        "id": "YpCCNga4Dn1A"
      },
      "source": [
        "fundos_br[:5]"
      ],
      "execution_count": null,
      "outputs": []
    },
    {
      "cell_type": "code",
      "metadata": {
        "id": "bJHAP8e-uXHo"
      },
      "source": [
        "pesq = inv.search_funds(by='name', value='alaska black')\n",
        "pesq"
      ],
      "execution_count": null,
      "outputs": []
    },
    {
      "cell_type": "code",
      "metadata": {
        "id": "HndPbRRwuXpP"
      },
      "source": [
        "pesq['name'][0]"
      ],
      "execution_count": null,
      "outputs": []
    },
    {
      "cell_type": "code",
      "metadata": {
        "id": "YbxhdS7PuZWy"
      },
      "source": [
        "fundo = 'Alaska Black Fundo De Investimento Em Cotas De Fundos De Investimento Em Ações - Bdr Nível I'\n",
        "alaska = inv.get_fund_historical_data(fundo, country='brazil', from_date='01/01/1900', to_date='26/04/2020')['Close']\n",
        "alaska"
      ],
      "execution_count": null,
      "outputs": []
    },
    {
      "cell_type": "code",
      "metadata": {
        "id": "vn4Hs9NPubMd"
      },
      "source": [
        "alaska.plot();"
      ],
      "execution_count": null,
      "outputs": []
    },
    {
      "cell_type": "code",
      "metadata": {
        "id": "XcRF068eudlc"
      },
      "source": [
        "pesq2 = inv.search_funds(by='name', value='ip parti')\n",
        "pesq2"
      ],
      "execution_count": null,
      "outputs": []
    },
    {
      "cell_type": "code",
      "metadata": {
        "id": "30XdbnIxugI_"
      },
      "source": [
        "pesq2['name'][1]"
      ],
      "execution_count": null,
      "outputs": []
    },
    {
      "cell_type": "code",
      "metadata": {
        "id": "hU_GT4bFuh_z"
      },
      "source": [
        "fundo = 'Ip Participações Ipg Fundo De Investimento Em Cotas De Fundos De Investimento Em Ações Bdr Nível I'\n",
        "ip = inv.get_fund_historical_data(fundo, country='brazil', from_date='01/01/1900', to_date='26/04/2020')['Close']\n",
        "ip"
      ],
      "execution_count": null,
      "outputs": []
    },
    {
      "cell_type": "code",
      "metadata": {
        "id": "Vcuq0MXiukpH"
      },
      "source": [
        "ip.plot();"
      ],
      "execution_count": null,
      "outputs": []
    },
    {
      "cell_type": "code",
      "metadata": {
        "id": "q-GgyGacum2d"
      },
      "source": [
        "inv.get_etfs_overview(country='brazil')"
      ],
      "execution_count": null,
      "outputs": []
    },
    {
      "cell_type": "code",
      "metadata": {
        "id": "WSICg3aAupI4"
      },
      "source": [
        "bova11 = inv.get_etf_historical_data('Ishares Ibovespa', country='brazil', from_date='01/01/1900', to_date='25/04/2020')['Close']\n",
        "bova11"
      ],
      "execution_count": null,
      "outputs": []
    },
    {
      "cell_type": "code",
      "metadata": {
        "id": "rCW5J5ETurUz"
      },
      "source": [
        "bova11.plot();"
      ],
      "execution_count": null,
      "outputs": []
    },
    {
      "cell_type": "code",
      "metadata": {
        "id": "jT8cC99Kus_Z"
      },
      "source": [
        "comparativo = pd.DataFrame()\n",
        "data_inicio = ip.index[0]\n",
        "\n",
        "comparativo['ip'] = ip / ip.loc[data_inicio]\n",
        "comparativo['alaska'] = alaska / alaska.loc[data_inicio]\n",
        "comparativo['bova11'] = bova11 / bova11.loc[data_inicio]\n",
        "\n",
        "comparativo"
      ],
      "execution_count": null,
      "outputs": []
    },
    {
      "cell_type": "code",
      "metadata": {
        "id": "RUjhlHDFuvLp"
      },
      "source": [
        "comparativo.plot();"
      ],
      "execution_count": null,
      "outputs": []
    },
    {
      "cell_type": "markdown",
      "metadata": {
        "id": "O0hjco2qu2IU"
      },
      "source": [
        "## 3. Índices"
      ]
    },
    {
      "cell_type": "code",
      "metadata": {
        "id": "RXL7fPltuw9N"
      },
      "source": [
        "inv.get_indices_list('brazil')"
      ],
      "execution_count": null,
      "outputs": []
    },
    {
      "cell_type": "code",
      "metadata": {
        "id": "HDwfiE21u0_N"
      },
      "source": [
        "inv.get_index_recent_data('Bovespa', country='brazil')"
      ],
      "execution_count": null,
      "outputs": []
    },
    {
      "cell_type": "code",
      "metadata": {
        "id": "uABjQ0-Ru72v"
      },
      "source": [
        "ibov = inv.get_index_historical_data('Bovespa', country='brazil', from_date='01/01/1900', to_date='26/04/2020')\n",
        "ibov"
      ],
      "execution_count": null,
      "outputs": []
    },
    {
      "cell_type": "code",
      "metadata": {
        "id": "-g8hUDKmu9fk"
      },
      "source": [
        "ibov_dolarizado = inv.get_index_historical_data('Ibovespa USD', country='brazil', from_date='01/01/1900', to_date='26/04/2020')\n",
        "ibov_dolarizado"
      ],
      "execution_count": null,
      "outputs": []
    },
    {
      "cell_type": "code",
      "metadata": {
        "id": "WZeXno3DvCin"
      },
      "source": [
        "ifix = inv.get_index_historical_data('BM&FBOVESPA Real Estate IFIX', country='brazil', from_date='01/01/1900', to_date='26/04/2020')\n",
        "ifix"
      ],
      "execution_count": null,
      "outputs": []
    },
    {
      "cell_type": "code",
      "metadata": {
        "id": "5xUKfJr_vEj1"
      },
      "source": [
        "indices = pd.DataFrame()\n",
        "data_inicio = ifix.index[0]\n",
        "\n",
        "indices['ifix'] = ifix['Close'] / ifix['Close'].loc[data_inicio]\n",
        "indices['ibov'] = ibov['Close'] / ibov['Close'].loc[data_inicio]"
      ],
      "execution_count": null,
      "outputs": []
    },
    {
      "cell_type": "code",
      "metadata": {
        "id": "uO1_n0yDvHpV"
      },
      "source": [
        "indices.plot();"
      ],
      "execution_count": null,
      "outputs": []
    },
    {
      "cell_type": "markdown",
      "metadata": {
        "id": "gYsVfuryvKS6"
      },
      "source": [
        "## 4. Ações"
      ]
    },
    {
      "cell_type": "code",
      "metadata": {
        "id": "tzlStoN4vKln"
      },
      "source": [
        "inv.get_stocks('brazil')"
      ],
      "execution_count": null,
      "outputs": []
    },
    {
      "cell_type": "code",
      "metadata": {
        "id": "lW0RAs4GvN6z"
      },
      "source": [
        "inv.get_stock_company_profile('bbdc4', country='brazil')"
      ],
      "execution_count": null,
      "outputs": []
    },
    {
      "cell_type": "code",
      "metadata": {
        "id": "mykhHZ1evQjr"
      },
      "source": [
        "bradesco = inv.get_stock_historical_data('bbdc4', country='brazil',  from_date='01/01/1900', to_date='25/04/2020')"
      ],
      "execution_count": null,
      "outputs": []
    },
    {
      "cell_type": "code",
      "metadata": {
        "id": "WB4w6Ma1vTC3"
      },
      "source": [
        "bradesco['Close'].plot();"
      ],
      "execution_count": null,
      "outputs": []
    },
    {
      "cell_type": "code",
      "metadata": {
        "id": "VwBawfIGvUtb"
      },
      "source": [
        "inv.get_stock_information('bbdc4', country='brazil')"
      ],
      "execution_count": null,
      "outputs": []
    },
    {
      "cell_type": "code",
      "metadata": {
        "id": "tpVnCS69vWlT"
      },
      "source": [
        "inv.technical_indicators('bbdc4', country='brazil', product_type='stock')"
      ],
      "execution_count": null,
      "outputs": []
    },
    {
      "cell_type": "code",
      "metadata": {
        "id": "Em5evuKbvcsu"
      },
      "source": [
        "inv.moving_averages('bbdc4', country='brazil', product_type='stock')"
      ],
      "execution_count": null,
      "outputs": []
    },
    {
      "cell_type": "markdown",
      "metadata": {
        "id": "L0tV8ShbvjrA"
      },
      "source": [
        "## 5. Curva de Juros"
      ]
    },
    {
      "cell_type": "code",
      "metadata": {
        "id": "Pw7YAyoPve2l"
      },
      "source": [
        "bondsBR = inv.get_bonds_list('brazil')"
      ],
      "execution_count": null,
      "outputs": []
    },
    {
      "cell_type": "code",
      "metadata": {
        "id": "ZWg_egtgvoCk"
      },
      "source": [
        "bondsBR"
      ],
      "execution_count": null,
      "outputs": []
    },
    {
      "cell_type": "code",
      "metadata": {
        "id": "VG5L0TxRvt4n"
      },
      "source": [
        "bonds_overview  = inv.get_bonds_overview('brazil')"
      ],
      "execution_count": null,
      "outputs": []
    },
    {
      "cell_type": "code",
      "metadata": {
        "id": "zLwNpN7Wvv46"
      },
      "source": [
        "bonds_overview"
      ],
      "execution_count": null,
      "outputs": []
    },
    {
      "cell_type": "code",
      "metadata": {
        "id": "kMph2S48vwlq"
      },
      "source": [
        "plt.plot(bondsBR, bonds_overview['last_close']);"
      ],
      "execution_count": null,
      "outputs": []
    },
    {
      "cell_type": "code",
      "metadata": {
        "id": "shLXNoTMvy6U"
      },
      "source": [
        "data_inicio = '01/01/2010'\n",
        "data_fim = '28/04/2020'\n",
        "\n",
        "um_ano = inv.get_bond_historical_data('Brazil 1Y', from_date=data_inicio, to_date=data_fim)\n",
        "um_ano"
      ],
      "execution_count": null,
      "outputs": []
    },
    {
      "cell_type": "code",
      "metadata": {
        "id": "3xdRbc1Iv0Ii"
      },
      "source": [
        "um_ano['Close'].plot();"
      ],
      "execution_count": null,
      "outputs": []
    },
    {
      "cell_type": "code",
      "metadata": {
        "id": "X2tH9X4Vv1qc"
      },
      "source": [
        "data_inicio = '01/01/2010'\n",
        "data_fim = '28/04/2020'\n",
        "bonds = pd.DataFrame()\n",
        "\n",
        "for prazo in bondsBR:\n",
        "  bonds[prazo] = inv.get_bond_historical_data(prazo, from_date=data_inicio, to_date=data_fim)['Close']"
      ],
      "execution_count": null,
      "outputs": []
    },
    {
      "cell_type": "code",
      "metadata": {
        "id": "m6EFcKtCv4S6"
      },
      "source": [
        "bonds.index = pd.to_datetime(bonds.index)"
      ],
      "execution_count": null,
      "outputs": []
    },
    {
      "cell_type": "code",
      "metadata": {
        "id": "KBqfZCimv54O"
      },
      "source": [
        "bonds"
      ],
      "execution_count": null,
      "outputs": []
    },
    {
      "cell_type": "code",
      "metadata": {
        "id": "LHO7xAH1v7UH"
      },
      "source": [
        "plt.plot(bondsBR , bonds.loc['2020-04-23'].values)"
      ],
      "execution_count": null,
      "outputs": []
    },
    {
      "cell_type": "code",
      "metadata": {
        "id": "3rHnya3Cv-bc"
      },
      "source": [
        "fig = go.Figure()\n",
        "\n",
        "for i in bonds.index:\n",
        "  fig.add_trace(go.Scatter(x=bondsBR, y=bonds.loc[i], mode='lines', name=str(i)))\n",
        "\n",
        "fig.show()"
      ],
      "execution_count": null,
      "outputs": []
    },
    {
      "cell_type": "code",
      "metadata": {
        "id": "Nbirnfo1wAUc"
      },
      "source": [
        "data_inicio = '01/01/2010'\n",
        "data_fim = '28/04/2020'\n",
        "bondsMensal = pd.DataFrame()\n",
        "\n",
        "for prazo in bondsBR:\n",
        "  bondsMensal[prazo] = inv.get_bond_historical_data(prazo, from_date=data_inicio, to_date=data_fim, interval='Monthly')['Close']"
      ],
      "execution_count": null,
      "outputs": []
    },
    {
      "cell_type": "code",
      "metadata": {
        "id": "IGTH1j5twCw6"
      },
      "source": [
        "fig = go.Figure()\n",
        "\n",
        "for i in bondsMensal.index:\n",
        "  fig.add_trace(\n",
        "      go.Scatter(\n",
        "          x=bondsBR, \n",
        "          y=bondsMensal.loc[i], \n",
        "          mode='lines', \n",
        "          name=str(i),\n",
        "          visible=False\n",
        "      )\n",
        "  )\n",
        "\n",
        "fig.data[0].visible = True\n",
        "\n",
        "steps = []\n",
        "\n",
        "for i in range(len(fig.data)):\n",
        "  step = dict(\n",
        "      method='restyle',\n",
        "      args=['visible', [False] * len(fig.data)],\n",
        "      label=fig.data[i]['name'][:7]\n",
        "  )\n",
        "  step['args'][1][i] = True\n",
        "  steps.append(step)\n",
        "\n",
        "sliders = [dict(\n",
        "    active=0,\n",
        "    currentvalue={'prefix':\"Mês: \"},\n",
        "    pad={'t':50},\n",
        "    steps=steps\n",
        ")]\n",
        "\n",
        "fig.update_layout(\n",
        "    sliders=sliders,\n",
        "    yaxis = dict(range=[3,14.5])\n",
        ")\n",
        "\n",
        "fig.show()"
      ],
      "execution_count": null,
      "outputs": []
    },
    {
      "cell_type": "code",
      "metadata": {
        "id": "DYyTTNUlwDd8"
      },
      "source": [
        "def consulta_bc(codigo_bcb):\n",
        "  url = 'http://api.bcb.gov.br/dados/serie/bcdata.sgs.{}/dados?formato=json'.format(codigo_bcb)\n",
        "  df = pd.read_json(url)\n",
        "  df['data'] = pd.to_datetime(df['data'], dayfirst=True)\n",
        "  df.set_index('data', inplace=True)\n",
        "  return df"
      ],
      "execution_count": null,
      "outputs": []
    },
    {
      "cell_type": "code",
      "metadata": {
        "id": "vdXRyYYcwFeG"
      },
      "source": [
        "selic_meta = consulta_bc(432)"
      ],
      "execution_count": null,
      "outputs": []
    },
    {
      "cell_type": "code",
      "metadata": {
        "id": "HgCSG5c_wJ87"
      },
      "source": [
        "s2015 = selic_meta[selic_meta.index.year >= 2015]\n",
        "b2015 = bonds[bonds.index.year >= 2015]"
      ],
      "execution_count": null,
      "outputs": []
    },
    {
      "cell_type": "code",
      "metadata": {
        "id": "3XldKR1gwLJc"
      },
      "source": [
        "fig = go.Figure()\n",
        "\n",
        "for i in bondsBR:\n",
        "  fig.add_trace(go.Scatter(x=b2015.index, y=b2015[i], mode='lines', name=str(i)))\n",
        "\n",
        "fig.add_trace(go.Scatter(x=s2015.index, y=s2015['valor'], mode='lines', name='SELIC', line={'color':'black'}))\n",
        "\n",
        "fig.show()"
      ],
      "execution_count": null,
      "outputs": []
    }
  ]
}