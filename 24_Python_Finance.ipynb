{
  "nbformat": 4,
  "nbformat_minor": 0,
  "metadata": {
    "colab": {
      "name": "24_Python_Finance.ipynb",
      "provenance": [],
      "authorship_tag": "ABX9TyPj+NXZQgjb8lo/TEgGPIEZ"
    },
    "kernelspec": {
      "name": "python3",
      "display_name": "Python 3"
    },
    "language_info": {
      "name": "python"
    }
  },
  "cells": [
    {
      "cell_type": "markdown",
      "metadata": {
        "id": "gFqaks0oea4P"
      },
      "source": [
        "# Biblioteca de Backtesting BT\n",
        "\n",
        "Documentação: https://pmorissette.github.io/bt/"
      ]
    },
    {
      "cell_type": "markdown",
      "metadata": {
        "id": "Fo35MoFMefZ4"
      },
      "source": [
        "# Instalação e configurações Iniciais"
      ]
    },
    {
      "cell_type": "code",
      "metadata": {
        "id": "6fveHhaddOcY"
      },
      "source": [
        "!pip install bt"
      ],
      "execution_count": null,
      "outputs": []
    },
    {
      "cell_type": "code",
      "metadata": {
        "id": "uIGLoIXUeixt"
      },
      "source": [
        "!pip install yfinance"
      ],
      "execution_count": null,
      "outputs": []
    },
    {
      "cell_type": "code",
      "metadata": {
        "id": "wX7oSmRZejIg"
      },
      "source": [
        "import bt\n",
        "import yfinance as yf\n",
        "\n",
        "import pandas as pd\n",
        "import matplotlib\n",
        "matplotlib.style.use('seaborn-darkgrid')\n",
        "%matplotlib inline"
      ],
      "execution_count": 4,
      "outputs": []
    },
    {
      "cell_type": "markdown",
      "metadata": {
        "id": "q1wFaZvBekqo"
      },
      "source": [
        "# Funções"
      ]
    },
    {
      "cell_type": "markdown",
      "metadata": {
        "id": "OZLOK9ENja3g"
      },
      "source": [
        "Função de consulta a base de dados do banco central"
      ]
    },
    {
      "cell_type": "code",
      "metadata": {
        "id": "4Ng0LhQTekZx"
      },
      "source": [
        "def consulta_bc(codigo_bcb):\n",
        "  url = 'http://api.bcb.gov.br/dados/serie/bcdata.sgs.{}/dados?formato=json'.format(codigo_bcb)\n",
        "  df = pd.read_json(url)\n",
        "  df['data'] = pd.to_datetime(df['data'], dayfirst=True)\n",
        "  df.set_index('data', inplace=True)\n",
        "  return df"
      ],
      "execution_count": 5,
      "outputs": []
    },
    {
      "cell_type": "markdown",
      "metadata": {
        "id": "h9iJakGwjgS4"
      },
      "source": [
        "Função busca a serie histórica do CDI, a partir dos paramentros data inicio e fim, calcula um dataframe com o retorno aculmulado ao longo do período."
      ]
    },
    {
      "cell_type": "code",
      "metadata": {
        "id": "wNG0TwQ0epzn"
      },
      "source": [
        "def cdi_acumulado(data_inicio, data_fim):\n",
        "  cdi = consulta_bc(12)\n",
        "  cdi_acumulado = (1 + cdi[data_inicio : data_fim] / 100).cumprod()\n",
        "  cdi_acumulado.iloc[0] = 1\n",
        "  return cdi_acumulado"
      ],
      "execution_count": 6,
      "outputs": []
    },
    {
      "cell_type": "markdown",
      "metadata": {
        "id": "Ut3m7N-Lesp7"
      },
      "source": [
        "# Obtendo e tratando os dados"
      ]
    },
    {
      "cell_type": "code",
      "metadata": {
        "id": "ug3Lyb6OeutB"
      },
      "source": [
        "data_inicio = '2015-01-02'\n",
        "data_fim    = '2019-12-31'"
      ],
      "execution_count": 7,
      "outputs": []
    },
    {
      "cell_type": "code",
      "metadata": {
        "id": "8hzfE0Xcevma"
      },
      "source": [
        "cdi = cdi_acumulado(data_inicio=data_inicio, data_fim=data_fim)"
      ],
      "execution_count": 8,
      "outputs": []
    },
    {
      "cell_type": "code",
      "metadata": {
        "id": "ZISKOeXHewom"
      },
      "source": [
        "tickers_carteira = ['BOVA11.SA', 'SMAL11.SA']"
      ],
      "execution_count": 9,
      "outputs": []
    },
    {
      "cell_type": "code",
      "metadata": {
        "colab": {
          "base_uri": "https://localhost:8080/"
        },
        "id": "ksyU1eeiexfJ",
        "outputId": "10004071-5733-4c37-cb23-29d2bf4e78db"
      },
      "source": [
        "carteira = yf.download(tickers_carteira, start=data_inicio, end=data_fim)['Adj Close']"
      ],
      "execution_count": 10,
      "outputs": [
        {
          "output_type": "stream",
          "text": [
            "[*********************100%***********************]  2 of 2 completed\n"
          ],
          "name": "stdout"
        }
      ]
    },
    {
      "cell_type": "code",
      "metadata": {
        "id": "5zKO86colHnf",
        "colab": {
          "base_uri": "https://localhost:8080/",
          "height": 445
        },
        "outputId": "7bfbdb8c-3c29-4c6a-945d-d60d410961e4"
      },
      "source": [
        "carteira"
      ],
      "execution_count": 11,
      "outputs": [
        {
          "output_type": "execute_result",
          "data": {
            "text/html": [
              "<div>\n",
              "<style scoped>\n",
              "    .dataframe tbody tr th:only-of-type {\n",
              "        vertical-align: middle;\n",
              "    }\n",
              "\n",
              "    .dataframe tbody tr th {\n",
              "        vertical-align: top;\n",
              "    }\n",
              "\n",
              "    .dataframe thead th {\n",
              "        text-align: right;\n",
              "    }\n",
              "</style>\n",
              "<table border=\"1\" class=\"dataframe\">\n",
              "  <thead>\n",
              "    <tr style=\"text-align: right;\">\n",
              "      <th></th>\n",
              "      <th>BOVA11.SA</th>\n",
              "      <th>SMAL11.SA</th>\n",
              "    </tr>\n",
              "    <tr>\n",
              "      <th>Date</th>\n",
              "      <th></th>\n",
              "      <th></th>\n",
              "    </tr>\n",
              "  </thead>\n",
              "  <tbody>\n",
              "    <tr>\n",
              "      <th>2015-01-02</th>\n",
              "      <td>47.259998</td>\n",
              "      <td>52.020000</td>\n",
              "    </tr>\n",
              "    <tr>\n",
              "      <th>2015-01-05</th>\n",
              "      <td>46.320000</td>\n",
              "      <td>50.549999</td>\n",
              "    </tr>\n",
              "    <tr>\n",
              "      <th>2015-01-06</th>\n",
              "      <td>46.580002</td>\n",
              "      <td>50.000000</td>\n",
              "    </tr>\n",
              "    <tr>\n",
              "      <th>2015-01-07</th>\n",
              "      <td>48.150002</td>\n",
              "      <td>51.250000</td>\n",
              "    </tr>\n",
              "    <tr>\n",
              "      <th>2015-01-08</th>\n",
              "      <td>48.509998</td>\n",
              "      <td>52.000000</td>\n",
              "    </tr>\n",
              "    <tr>\n",
              "      <th>...</th>\n",
              "      <td>...</td>\n",
              "      <td>...</td>\n",
              "    </tr>\n",
              "    <tr>\n",
              "      <th>2019-12-20</th>\n",
              "      <td>110.839996</td>\n",
              "      <td>133.199997</td>\n",
              "    </tr>\n",
              "    <tr>\n",
              "      <th>2019-12-23</th>\n",
              "      <td>111.669998</td>\n",
              "      <td>134.580002</td>\n",
              "    </tr>\n",
              "    <tr>\n",
              "      <th>2019-12-26</th>\n",
              "      <td>112.809998</td>\n",
              "      <td>136.809998</td>\n",
              "    </tr>\n",
              "    <tr>\n",
              "      <th>2019-12-27</th>\n",
              "      <td>112.169998</td>\n",
              "      <td>136.949997</td>\n",
              "    </tr>\n",
              "    <tr>\n",
              "      <th>2019-12-30</th>\n",
              "      <td>111.230003</td>\n",
              "      <td>136.440002</td>\n",
              "    </tr>\n",
              "  </tbody>\n",
              "</table>\n",
              "<p>1241 rows × 2 columns</p>\n",
              "</div>"
            ],
            "text/plain": [
              "             BOVA11.SA   SMAL11.SA\n",
              "Date                              \n",
              "2015-01-02   47.259998   52.020000\n",
              "2015-01-05   46.320000   50.549999\n",
              "2015-01-06   46.580002   50.000000\n",
              "2015-01-07   48.150002   51.250000\n",
              "2015-01-08   48.509998   52.000000\n",
              "...                ...         ...\n",
              "2019-12-20  110.839996  133.199997\n",
              "2019-12-23  111.669998  134.580002\n",
              "2019-12-26  112.809998  136.809998\n",
              "2019-12-27  112.169998  136.949997\n",
              "2019-12-30  111.230003  136.440002\n",
              "\n",
              "[1241 rows x 2 columns]"
            ]
          },
          "metadata": {},
          "execution_count": 11
        }
      ]
    },
    {
      "cell_type": "markdown",
      "metadata": {
        "id": "sSQnPMqdlI8A"
      },
      "source": [
        "Acrescentar no dataframe coluna com o valor do CDI"
      ]
    },
    {
      "cell_type": "code",
      "metadata": {
        "id": "ewR9LQekeyog"
      },
      "source": [
        "carteira['renda_fixa'] = cdi\n",
        "carteira.dropna(inplace=True)"
      ],
      "execution_count": 12,
      "outputs": []
    },
    {
      "cell_type": "code",
      "metadata": {
        "colab": {
          "base_uri": "https://localhost:8080/",
          "height": 445
        },
        "id": "-G5zY7eJezms",
        "outputId": "7974a4fa-2762-4f12-e663-1281bfd857c1"
      },
      "source": [
        "carteira"
      ],
      "execution_count": 13,
      "outputs": [
        {
          "output_type": "execute_result",
          "data": {
            "text/html": [
              "<div>\n",
              "<style scoped>\n",
              "    .dataframe tbody tr th:only-of-type {\n",
              "        vertical-align: middle;\n",
              "    }\n",
              "\n",
              "    .dataframe tbody tr th {\n",
              "        vertical-align: top;\n",
              "    }\n",
              "\n",
              "    .dataframe thead th {\n",
              "        text-align: right;\n",
              "    }\n",
              "</style>\n",
              "<table border=\"1\" class=\"dataframe\">\n",
              "  <thead>\n",
              "    <tr style=\"text-align: right;\">\n",
              "      <th></th>\n",
              "      <th>BOVA11.SA</th>\n",
              "      <th>SMAL11.SA</th>\n",
              "      <th>renda_fixa</th>\n",
              "    </tr>\n",
              "    <tr>\n",
              "      <th>Date</th>\n",
              "      <th></th>\n",
              "      <th></th>\n",
              "      <th></th>\n",
              "    </tr>\n",
              "  </thead>\n",
              "  <tbody>\n",
              "    <tr>\n",
              "      <th>2015-01-02</th>\n",
              "      <td>47.259998</td>\n",
              "      <td>52.020000</td>\n",
              "      <td>1.000000</td>\n",
              "    </tr>\n",
              "    <tr>\n",
              "      <th>2015-01-05</th>\n",
              "      <td>46.320000</td>\n",
              "      <td>50.549999</td>\n",
              "      <td>1.000869</td>\n",
              "    </tr>\n",
              "    <tr>\n",
              "      <th>2015-01-06</th>\n",
              "      <td>46.580002</td>\n",
              "      <td>50.000000</td>\n",
              "      <td>1.001304</td>\n",
              "    </tr>\n",
              "    <tr>\n",
              "      <th>2015-01-07</th>\n",
              "      <td>48.150002</td>\n",
              "      <td>51.250000</td>\n",
              "      <td>1.001739</td>\n",
              "    </tr>\n",
              "    <tr>\n",
              "      <th>2015-01-08</th>\n",
              "      <td>48.509998</td>\n",
              "      <td>52.000000</td>\n",
              "      <td>1.002175</td>\n",
              "    </tr>\n",
              "    <tr>\n",
              "      <th>...</th>\n",
              "      <td>...</td>\n",
              "      <td>...</td>\n",
              "      <td>...</td>\n",
              "    </tr>\n",
              "    <tr>\n",
              "      <th>2019-12-20</th>\n",
              "      <td>110.839996</td>\n",
              "      <td>133.199997</td>\n",
              "      <td>1.598532</td>\n",
              "    </tr>\n",
              "    <tr>\n",
              "      <th>2019-12-23</th>\n",
              "      <td>111.669998</td>\n",
              "      <td>134.580002</td>\n",
              "      <td>1.598805</td>\n",
              "    </tr>\n",
              "    <tr>\n",
              "      <th>2019-12-26</th>\n",
              "      <td>112.809998</td>\n",
              "      <td>136.809998</td>\n",
              "      <td>1.599352</td>\n",
              "    </tr>\n",
              "    <tr>\n",
              "      <th>2019-12-27</th>\n",
              "      <td>112.169998</td>\n",
              "      <td>136.949997</td>\n",
              "      <td>1.599625</td>\n",
              "    </tr>\n",
              "    <tr>\n",
              "      <th>2019-12-30</th>\n",
              "      <td>111.230003</td>\n",
              "      <td>136.440002</td>\n",
              "      <td>1.599898</td>\n",
              "    </tr>\n",
              "  </tbody>\n",
              "</table>\n",
              "<p>1235 rows × 3 columns</p>\n",
              "</div>"
            ],
            "text/plain": [
              "             BOVA11.SA   SMAL11.SA  renda_fixa\n",
              "Date                                          \n",
              "2015-01-02   47.259998   52.020000    1.000000\n",
              "2015-01-05   46.320000   50.549999    1.000869\n",
              "2015-01-06   46.580002   50.000000    1.001304\n",
              "2015-01-07   48.150002   51.250000    1.001739\n",
              "2015-01-08   48.509998   52.000000    1.002175\n",
              "...                ...         ...         ...\n",
              "2019-12-20  110.839996  133.199997    1.598532\n",
              "2019-12-23  111.669998  134.580002    1.598805\n",
              "2019-12-26  112.809998  136.809998    1.599352\n",
              "2019-12-27  112.169998  136.949997    1.599625\n",
              "2019-12-30  111.230003  136.440002    1.599898\n",
              "\n",
              "[1235 rows x 3 columns]"
            ]
          },
          "metadata": {},
          "execution_count": 13
        }
      ]
    },
    {
      "cell_type": "markdown",
      "metadata": {
        "id": "YTKSJH9Ptpbi"
      },
      "source": [
        "Renomear o label do dataframe para especificar o peso especifico de cada ativo"
      ]
    },
    {
      "cell_type": "code",
      "metadata": {
        "colab": {
          "base_uri": "https://localhost:8080/"
        },
        "id": "SyJGWlJTtgoJ",
        "outputId": "398b15d6-edc6-4e38-c669-a8f815243f4a"
      },
      "source": [
        "carteira.columns"
      ],
      "execution_count": 14,
      "outputs": [
        {
          "output_type": "execute_result",
          "data": {
            "text/plain": [
              "Index(['BOVA11.SA', 'SMAL11.SA', 'renda_fixa'], dtype='object')"
            ]
          },
          "metadata": {},
          "execution_count": 14
        }
      ]
    },
    {
      "cell_type": "code",
      "metadata": {
        "id": "i_xsFRrEtTn8"
      },
      "source": [
        "carteira.columns = carteira.columns.str.rstrip('.SA')"
      ],
      "execution_count": 15,
      "outputs": []
    },
    {
      "cell_type": "code",
      "metadata": {
        "colab": {
          "base_uri": "https://localhost:8080/",
          "height": 445
        },
        "id": "yMy8pJhcuAjp",
        "outputId": "a4ab0ea9-7bb8-4cc0-de40-3c0c3ec93e44"
      },
      "source": [
        "carteira"
      ],
      "execution_count": 16,
      "outputs": [
        {
          "output_type": "execute_result",
          "data": {
            "text/html": [
              "<div>\n",
              "<style scoped>\n",
              "    .dataframe tbody tr th:only-of-type {\n",
              "        vertical-align: middle;\n",
              "    }\n",
              "\n",
              "    .dataframe tbody tr th {\n",
              "        vertical-align: top;\n",
              "    }\n",
              "\n",
              "    .dataframe thead th {\n",
              "        text-align: right;\n",
              "    }\n",
              "</style>\n",
              "<table border=\"1\" class=\"dataframe\">\n",
              "  <thead>\n",
              "    <tr style=\"text-align: right;\">\n",
              "      <th></th>\n",
              "      <th>BOVA11</th>\n",
              "      <th>SMAL11</th>\n",
              "      <th>renda_fixa</th>\n",
              "    </tr>\n",
              "    <tr>\n",
              "      <th>Date</th>\n",
              "      <th></th>\n",
              "      <th></th>\n",
              "      <th></th>\n",
              "    </tr>\n",
              "  </thead>\n",
              "  <tbody>\n",
              "    <tr>\n",
              "      <th>2015-01-02</th>\n",
              "      <td>47.259998</td>\n",
              "      <td>52.020000</td>\n",
              "      <td>1.000000</td>\n",
              "    </tr>\n",
              "    <tr>\n",
              "      <th>2015-01-05</th>\n",
              "      <td>46.320000</td>\n",
              "      <td>50.549999</td>\n",
              "      <td>1.000869</td>\n",
              "    </tr>\n",
              "    <tr>\n",
              "      <th>2015-01-06</th>\n",
              "      <td>46.580002</td>\n",
              "      <td>50.000000</td>\n",
              "      <td>1.001304</td>\n",
              "    </tr>\n",
              "    <tr>\n",
              "      <th>2015-01-07</th>\n",
              "      <td>48.150002</td>\n",
              "      <td>51.250000</td>\n",
              "      <td>1.001739</td>\n",
              "    </tr>\n",
              "    <tr>\n",
              "      <th>2015-01-08</th>\n",
              "      <td>48.509998</td>\n",
              "      <td>52.000000</td>\n",
              "      <td>1.002175</td>\n",
              "    </tr>\n",
              "    <tr>\n",
              "      <th>...</th>\n",
              "      <td>...</td>\n",
              "      <td>...</td>\n",
              "      <td>...</td>\n",
              "    </tr>\n",
              "    <tr>\n",
              "      <th>2019-12-20</th>\n",
              "      <td>110.839996</td>\n",
              "      <td>133.199997</td>\n",
              "      <td>1.598532</td>\n",
              "    </tr>\n",
              "    <tr>\n",
              "      <th>2019-12-23</th>\n",
              "      <td>111.669998</td>\n",
              "      <td>134.580002</td>\n",
              "      <td>1.598805</td>\n",
              "    </tr>\n",
              "    <tr>\n",
              "      <th>2019-12-26</th>\n",
              "      <td>112.809998</td>\n",
              "      <td>136.809998</td>\n",
              "      <td>1.599352</td>\n",
              "    </tr>\n",
              "    <tr>\n",
              "      <th>2019-12-27</th>\n",
              "      <td>112.169998</td>\n",
              "      <td>136.949997</td>\n",
              "      <td>1.599625</td>\n",
              "    </tr>\n",
              "    <tr>\n",
              "      <th>2019-12-30</th>\n",
              "      <td>111.230003</td>\n",
              "      <td>136.440002</td>\n",
              "      <td>1.599898</td>\n",
              "    </tr>\n",
              "  </tbody>\n",
              "</table>\n",
              "<p>1235 rows × 3 columns</p>\n",
              "</div>"
            ],
            "text/plain": [
              "                BOVA11      SMAL11  renda_fixa\n",
              "Date                                          \n",
              "2015-01-02   47.259998   52.020000    1.000000\n",
              "2015-01-05   46.320000   50.549999    1.000869\n",
              "2015-01-06   46.580002   50.000000    1.001304\n",
              "2015-01-07   48.150002   51.250000    1.001739\n",
              "2015-01-08   48.509998   52.000000    1.002175\n",
              "...                ...         ...         ...\n",
              "2019-12-20  110.839996  133.199997    1.598532\n",
              "2019-12-23  111.669998  134.580002    1.598805\n",
              "2019-12-26  112.809998  136.809998    1.599352\n",
              "2019-12-27  112.169998  136.949997    1.599625\n",
              "2019-12-30  111.230003  136.440002    1.599898\n",
              "\n",
              "[1235 rows x 3 columns]"
            ]
          },
          "metadata": {},
          "execution_count": 16
        }
      ]
    },
    {
      "cell_type": "markdown",
      "metadata": {
        "id": "NWBLm5E9e09D"
      },
      "source": [
        "# Backtesting 1"
      ]
    },
    {
      "cell_type": "markdown",
      "metadata": {
        "id": "plRk2lpBuYS3"
      },
      "source": [
        "peso definido para cada ativo"
      ]
    },
    {
      "cell_type": "code",
      "metadata": {
        "id": "3B-m7ause2bt"
      },
      "source": [
        "rebalanceamento = bt.Strategy('rebalanceamento', \n",
        "                [bt.algos.RunMonthly(run_on_end_of_period=True),\n",
        "                 bt.algos.SelectAll(),\n",
        "                 bt.algos.WeighSpecified(BOVA11=0.4, SMAL11=0.4, renda_fixa=0.2),\n",
        "                 bt.algos.Rebalance()])"
      ],
      "execution_count": 17,
      "outputs": []
    },
    {
      "cell_type": "code",
      "metadata": {
        "id": "IORPIdIEe6eZ"
      },
      "source": [
        "buy_hold = bt.Strategy('Buy&Hold', \n",
        "                   [ bt.algos.RunOnce(),\n",
        "                     bt.algos.SelectAll(),\n",
        "                     bt.algos.WeighEqually(),\n",
        "                     bt.algos.Rebalance()]\n",
        "                    )"
      ],
      "execution_count": 18,
      "outputs": []
    },
    {
      "cell_type": "markdown",
      "metadata": {
        "id": "iV05J7xVmvxf"
      },
      "source": [
        "Primeira estratégia compra e venda de ativos para rebalancear a carteira e realizar aporte todos os meses; Segunda estratégia realizar aporte e manter os ativos em carteira."
      ]
    },
    {
      "cell_type": "code",
      "metadata": {
        "id": "AczNwFlCfDJ1"
      },
      "source": [
        "bt1 = bt.Backtest(rebalanceamento, carteira)\n",
        "bt2 = bt.Backtest(buy_hold, carteira[['BOVA11', 'SMAL11']])"
      ],
      "execution_count": 19,
      "outputs": []
    },
    {
      "cell_type": "code",
      "metadata": {
        "id": "Y9FxnvqYfEcd",
        "colab": {
          "base_uri": "https://localhost:8080/"
        },
        "outputId": "123c24cd-0aa7-4445-fb6b-6430b6c427f3"
      },
      "source": [
        "resultados = bt.run(bt1, bt2)"
      ],
      "execution_count": 20,
      "outputs": [
        {
          "output_type": "stream",
          "text": [
            "/usr/local/lib/python3.7/dist-packages/ffn/core.py:2299: RuntimeWarning: divide by zero encountered in true_divide\n",
            "  res = np.divide(er.mean(), std)\n",
            "/usr/local/lib/python3.7/dist-packages/ffn/core.py:2299: RuntimeWarning: divide by zero encountered in true_divide\n",
            "  res = np.divide(er.mean(), std)\n",
            "/usr/local/lib/python3.7/dist-packages/ffn/core.py:2299: RuntimeWarning: divide by zero encountered in true_divide\n",
            "  res = np.divide(er.mean(), std)\n",
            "/usr/local/lib/python3.7/dist-packages/ffn/core.py:2299: RuntimeWarning: divide by zero encountered in true_divide\n",
            "  res = np.divide(er.mean(), std)\n"
          ],
          "name": "stderr"
        }
      ]
    },
    {
      "cell_type": "markdown",
      "metadata": {
        "id": "-deIWdPDfLgz"
      },
      "source": [
        "## Resultados"
      ]
    },
    {
      "cell_type": "code",
      "metadata": {
        "colab": {
          "base_uri": "https://localhost:8080/"
        },
        "id": "RficFzHAfKA2",
        "outputId": "596592ca-780e-475f-edec-d08b888ee5a2"
      },
      "source": [
        "resultados.display()"
      ],
      "execution_count": 21,
      "outputs": [
        {
          "output_type": "stream",
          "text": [
            "Stat                 rebalanceamento    Buy&Hold\n",
            "-------------------  -----------------  ----------\n",
            "Start                2015-01-01         2015-01-01\n",
            "End                  2019-12-30         2019-12-30\n",
            "Risk-free rate       0.00%              0.00%\n",
            "\n",
            "Total Return         132.11%            148.81%\n",
            "Daily Sharpe         1.12               1.00\n",
            "Daily Sortino        1.86               1.66\n",
            "CAGR                 18.37%             20.02%\n",
            "Max Drawdown         -26.67%            -34.15%\n",
            "Calmar Ratio         0.69               0.59\n",
            "\n",
            "MTD                  7.74%              9.66%\n",
            "3m                   12.55%             15.58%\n",
            "6m                   18.71%             22.98%\n",
            "YTD                  35.45%             43.68%\n",
            "1Y                   35.45%             43.68%\n",
            "3Y (ann.)            25.79%             30.26%\n",
            "5Y (ann.)            18.37%             20.02%\n",
            "10Y (ann.)           -                  -\n",
            "Since Incep. (ann.)  18.37%             20.02%\n",
            "\n",
            "Daily Sharpe         1.12               1.00\n",
            "Daily Sortino        1.86               1.66\n",
            "Daily Mean (ann.)    18.55%             20.75%\n",
            "Daily Vol (ann.)     16.49%             20.68%\n",
            "Daily Skew           -0.34              -0.31\n",
            "Daily Kurt           3.42               3.30\n",
            "Best Day             4.40%              5.52%\n",
            "Worst Day            -7.49%             -9.27%\n",
            "\n",
            "Monthly Sharpe       1.27               1.14\n",
            "Monthly Sortino      2.87               2.49\n",
            "Monthly Mean (ann.)  19.50%             21.93%\n",
            "Monthly Vol (ann.)   15.38%             19.28%\n",
            "Monthly Skew         0.06               0.05\n",
            "Monthly Kurt         -0.31              -0.32\n",
            "Best Month           11.81%             14.67%\n",
            "Worst Month          -8.75%             -11.06%\n",
            "\n",
            "Yearly Sharpe        2.41               2.22\n",
            "Yearly Sortino       inf                inf\n",
            "Yearly Mean          27.17%             31.61%\n",
            "Yearly Vol           11.27%             14.22%\n",
            "Yearly Skew          -1.81              -1.55\n",
            "Yearly Kurt          3.44               2.79\n",
            "Best Year            35.45%             43.68%\n",
            "Worst Year           10.54%             11.08%\n",
            "\n",
            "Avg. Drawdown        -2.45%             -3.29%\n",
            "Avg. Drawdown Days   24.48              26.58\n",
            "Avg. Up Month        4.02%              4.96%\n",
            "Avg. Down Month      -3.04%             -3.85%\n",
            "Win Year %           100.00%            100.00%\n",
            "Win 12m %            89.80%             85.71%\n"
          ],
          "name": "stdout"
        }
      ]
    },
    {
      "cell_type": "code",
      "metadata": {
        "colab": {
          "base_uri": "https://localhost:8080/",
          "height": 314
        },
        "id": "UbEnf9uDiuH6",
        "outputId": "3a9ac830-bda7-4187-e5c5-1d03aa0aa710"
      },
      "source": [
        "resultados.plot();"
      ],
      "execution_count": 22,
      "outputs": [
        {
          "output_type": "display_data",
          "data": {
            "image/png": "[encoded data removed]",
            "text/plain": [
              "<Figure size 1080x360 with 1 Axes>"
            ]
          },
          "metadata": {
            "needs_background": "light"
          }
        }
      ]
    },
    {
      "cell_type": "markdown",
      "metadata": {
        "id": "p1pm97Plivr5"
      },
      "source": [
        "## Operações"
      ]
    },
    {
      "cell_type": "code",
      "metadata": {
        "colab": {
          "base_uri": "https://localhost:8080/",
          "height": 445
        },
        "id": "YdVElFnsiyJg",
        "outputId": "17c85560-c0d8-41fd-ea4f-2b7ab76f0150"
      },
      "source": [
        "resultados.get_transactions()"
      ],
      "execution_count": 23,
      "outputs": [
        {
          "output_type": "execute_result",
          "data": {
            "text/html": [
              "<div>\n",
              "<style scoped>\n",
              "    .dataframe tbody tr th:only-of-type {\n",
              "        vertical-align: middle;\n",
              "    }\n",
              "\n",
              "    .dataframe tbody tr th {\n",
              "        vertical-align: top;\n",
              "    }\n",
              "\n",
              "    .dataframe thead th {\n",
              "        text-align: right;\n",
              "    }\n",
              "</style>\n",
              "<table border=\"1\" class=\"dataframe\">\n",
              "  <thead>\n",
              "    <tr style=\"text-align: right;\">\n",
              "      <th></th>\n",
              "      <th></th>\n",
              "      <th>price</th>\n",
              "      <th>quantity</th>\n",
              "    </tr>\n",
              "    <tr>\n",
              "      <th>Date</th>\n",
              "      <th>Security</th>\n",
              "      <th></th>\n",
              "      <th></th>\n",
              "    </tr>\n",
              "  </thead>\n",
              "  <tbody>\n",
              "    <tr>\n",
              "      <th rowspan=\"3\" valign=\"top\">2015-01-02</th>\n",
              "      <th>BOVA11</th>\n",
              "      <td>47.259998</td>\n",
              "      <td>8463.0</td>\n",
              "    </tr>\n",
              "    <tr>\n",
              "      <th>SMAL11</th>\n",
              "      <td>52.020000</td>\n",
              "      <td>7689.0</td>\n",
              "    </tr>\n",
              "    <tr>\n",
              "      <th>renda_fixa</th>\n",
              "      <td>1.000000</td>\n",
              "      <td>200000.0</td>\n",
              "    </tr>\n",
              "    <tr>\n",
              "      <th rowspan=\"2\" valign=\"top\">2015-01-30</th>\n",
              "      <th>BOVA11</th>\n",
              "      <td>45.610001</td>\n",
              "      <td>-152.0</td>\n",
              "    </tr>\n",
              "    <tr>\n",
              "      <th>SMAL11</th>\n",
              "      <td>46.790001</td>\n",
              "      <td>412.0</td>\n",
              "    </tr>\n",
              "    <tr>\n",
              "      <th>...</th>\n",
              "      <th>...</th>\n",
              "      <td>...</td>\n",
              "      <td>...</td>\n",
              "    </tr>\n",
              "    <tr>\n",
              "      <th rowspan=\"2\" valign=\"top\">2019-10-31</th>\n",
              "      <th>SMAL11</th>\n",
              "      <td>115.570000</td>\n",
              "      <td>-36.0</td>\n",
              "    </tr>\n",
              "    <tr>\n",
              "      <th>renda_fixa</th>\n",
              "      <td>1.588157</td>\n",
              "      <td>3838.0</td>\n",
              "    </tr>\n",
              "    <tr>\n",
              "      <th rowspan=\"3\" valign=\"top\">2019-11-29</th>\n",
              "      <th>BOVA11</th>\n",
              "      <td>104.349998</td>\n",
              "      <td>111.0</td>\n",
              "    </tr>\n",
              "    <tr>\n",
              "      <th>SMAL11</th>\n",
              "      <td>121.199997</td>\n",
              "      <td>-167.0</td>\n",
              "    </tr>\n",
              "    <tr>\n",
              "      <th>renda_fixa</th>\n",
              "      <td>1.594198</td>\n",
              "      <td>5482.0</td>\n",
              "    </tr>\n",
              "  </tbody>\n",
              "</table>\n",
              "<p>179 rows × 2 columns</p>\n",
              "</div>"
            ],
            "text/plain": [
              "                            price  quantity\n",
              "Date       Security                        \n",
              "2015-01-02 BOVA11       47.259998    8463.0\n",
              "           SMAL11       52.020000    7689.0\n",
              "           renda_fixa    1.000000  200000.0\n",
              "2015-01-30 BOVA11       45.610001    -152.0\n",
              "           SMAL11       46.790001     412.0\n",
              "...                           ...       ...\n",
              "2019-10-31 SMAL11      115.570000     -36.0\n",
              "           renda_fixa    1.588157    3838.0\n",
              "2019-11-29 BOVA11      104.349998     111.0\n",
              "           SMAL11      121.199997    -167.0\n",
              "           renda_fixa    1.594198    5482.0\n",
              "\n",
              "[179 rows x 2 columns]"
            ]
          },
          "metadata": {},
          "execution_count": 23
        }
      ]
    },
    {
      "cell_type": "markdown",
      "metadata": {
        "id": "1Aw8AwDAi0_S"
      },
      "source": [
        "## Pesos"
      ]
    },
    {
      "cell_type": "code",
      "metadata": {
        "colab": {
          "base_uri": "https://localhost:8080/",
          "height": 414
        },
        "id": "IqeZ04u2i3qR",
        "outputId": "b4bdf7f6-7739-438d-8d2a-9c8d8afbc416"
      },
      "source": [
        "resultados.get_security_weights()"
      ],
      "execution_count": 24,
      "outputs": [
        {
          "output_type": "execute_result",
          "data": {
            "text/html": [
              "<div>\n",
              "<style scoped>\n",
              "    .dataframe tbody tr th:only-of-type {\n",
              "        vertical-align: middle;\n",
              "    }\n",
              "\n",
              "    .dataframe tbody tr th {\n",
              "        vertical-align: top;\n",
              "    }\n",
              "\n",
              "    .dataframe thead th {\n",
              "        text-align: right;\n",
              "    }\n",
              "</style>\n",
              "<table border=\"1\" class=\"dataframe\">\n",
              "  <thead>\n",
              "    <tr style=\"text-align: right;\">\n",
              "      <th></th>\n",
              "      <th>BOVA11</th>\n",
              "      <th>SMAL11</th>\n",
              "      <th>renda_fixa</th>\n",
              "    </tr>\n",
              "  </thead>\n",
              "  <tbody>\n",
              "    <tr>\n",
              "      <th>2015-01-01</th>\n",
              "      <td>0.000000</td>\n",
              "      <td>0.000000</td>\n",
              "      <td>0.000000</td>\n",
              "    </tr>\n",
              "    <tr>\n",
              "      <th>2015-01-02</th>\n",
              "      <td>0.399961</td>\n",
              "      <td>0.399982</td>\n",
              "      <td>0.200000</td>\n",
              "    </tr>\n",
              "    <tr>\n",
              "      <th>2015-01-05</th>\n",
              "      <td>0.399633</td>\n",
              "      <td>0.396241</td>\n",
              "      <td>0.204068</td>\n",
              "    </tr>\n",
              "    <tr>\n",
              "      <th>2015-01-06</th>\n",
              "      <td>0.402673</td>\n",
              "      <td>0.392707</td>\n",
              "      <td>0.204562</td>\n",
              "    </tr>\n",
              "    <tr>\n",
              "      <th>2015-01-07</th>\n",
              "      <td>0.406697</td>\n",
              "      <td>0.393291</td>\n",
              "      <td>0.199956</td>\n",
              "    </tr>\n",
              "    <tr>\n",
              "      <th>...</th>\n",
              "      <td>...</td>\n",
              "      <td>...</td>\n",
              "      <td>...</td>\n",
              "    </tr>\n",
              "    <tr>\n",
              "      <th>2019-12-20</th>\n",
              "      <td>0.398917</td>\n",
              "      <td>0.412748</td>\n",
              "      <td>0.188300</td>\n",
              "    </tr>\n",
              "    <tr>\n",
              "      <th>2019-12-23</th>\n",
              "      <td>0.398993</td>\n",
              "      <td>0.414003</td>\n",
              "      <td>0.186968</td>\n",
              "    </tr>\n",
              "    <tr>\n",
              "      <th>2019-12-26</th>\n",
              "      <td>0.398682</td>\n",
              "      <td>0.416286</td>\n",
              "      <td>0.184997</td>\n",
              "    </tr>\n",
              "    <tr>\n",
              "      <th>2019-12-27</th>\n",
              "      <td>0.397136</td>\n",
              "      <td>0.417465</td>\n",
              "      <td>0.185363</td>\n",
              "    </tr>\n",
              "    <tr>\n",
              "      <th>2019-12-30</th>\n",
              "      <td>0.395728</td>\n",
              "      <td>0.417938</td>\n",
              "      <td>0.186299</td>\n",
              "    </tr>\n",
              "  </tbody>\n",
              "</table>\n",
              "<p>1236 rows × 3 columns</p>\n",
              "</div>"
            ],
            "text/plain": [
              "              BOVA11    SMAL11  renda_fixa\n",
              "2015-01-01  0.000000  0.000000    0.000000\n",
              "2015-01-02  0.399961  0.399982    0.200000\n",
              "2015-01-05  0.399633  0.396241    0.204068\n",
              "2015-01-06  0.402673  0.392707    0.204562\n",
              "2015-01-07  0.406697  0.393291    0.199956\n",
              "...              ...       ...         ...\n",
              "2019-12-20  0.398917  0.412748    0.188300\n",
              "2019-12-23  0.398993  0.414003    0.186968\n",
              "2019-12-26  0.398682  0.416286    0.184997\n",
              "2019-12-27  0.397136  0.417465    0.185363\n",
              "2019-12-30  0.395728  0.417938    0.186299\n",
              "\n",
              "[1236 rows x 3 columns]"
            ]
          },
          "metadata": {},
          "execution_count": 24
        }
      ]
    },
    {
      "cell_type": "code",
      "metadata": {
        "colab": {
          "base_uri": "https://localhost:8080/",
          "height": 298
        },
        "id": "1DjA6365i4zJ",
        "outputId": "f221766f-7663-4f69-91aa-c1120f407c99"
      },
      "source": [
        "resultados.plot_security_weights()"
      ],
      "execution_count": 25,
      "outputs": [
        {
          "output_type": "display_data",
          "data": {
            "image/png": "[encoded data removed]",
            "text/plain": [
              "<Figure size 1080x360 with 1 Axes>"
            ]
          },
          "metadata": {
            "needs_background": "light"
          }
        }
      ]
    },
    {
      "cell_type": "markdown",
      "metadata": {
        "id": "IZRid2ovvMk1"
      },
      "source": [
        "# Backtesting 2"
      ]
    },
    {
      "cell_type": "code",
      "metadata": {
        "id": "dk1ePEmJuR5d"
      },
      "source": [
        "rebalanceamento = bt.Strategy('rebalanceamento', \n",
        "                [bt.algos.RunMonthly(run_on_end_of_period=True),\n",
        "                 bt.algos.SelectAll(),\n",
        "                 bt.algos.CapitalFlow(10000),\n",
        "                 bt.algos.WeighSpecified(BOVA11=0.4, SMAL11=0.4, renda_fixa=0.2),\n",
        "                 bt.algos.Rebalance()])"
      ],
      "execution_count": 26,
      "outputs": []
    },
    {
      "cell_type": "code",
      "metadata": {
        "id": "Ucke1zjvrRYC"
      },
      "source": [
        "buy_hold = bt.Strategy('Buy&Hold', \n",
        "                   [ bt.algos.RunOnce(),\n",
        "                     bt.algos.SelectAll(),\n",
        "                     bt.algos.WeighEqually(),\n",
        "                     bt.algos.Rebalance()]\n",
        "                    )"
      ],
      "execution_count": 27,
      "outputs": []
    },
    {
      "cell_type": "code",
      "metadata": {
        "id": "A6Q8C2Whu6_F"
      },
      "source": [
        "bt1 = bt.Backtest(rebalanceamento, carteira)\n",
        "bt2 = bt.Backtest(buy_hold, carteira[['BOVA11', 'SMAL11']])"
      ],
      "execution_count": 28,
      "outputs": []
    },
    {
      "cell_type": "code",
      "metadata": {
        "colab": {
          "base_uri": "https://localhost:8080/"
        },
        "id": "j2suyWMsu-H3",
        "outputId": "3795c094-8438-413e-cc30-84a1f261d29b"
      },
      "source": [
        "resultados = bt.run(bt1, bt2)"
      ],
      "execution_count": 29,
      "outputs": [
        {
          "output_type": "stream",
          "text": [
            "/usr/local/lib/python3.7/dist-packages/ffn/core.py:2299: RuntimeWarning: divide by zero encountered in true_divide\n",
            "  res = np.divide(er.mean(), std)\n",
            "/usr/local/lib/python3.7/dist-packages/ffn/core.py:2299: RuntimeWarning: divide by zero encountered in true_divide\n",
            "  res = np.divide(er.mean(), std)\n",
            "/usr/local/lib/python3.7/dist-packages/ffn/core.py:2299: RuntimeWarning: divide by zero encountered in true_divide\n",
            "  res = np.divide(er.mean(), std)\n",
            "/usr/local/lib/python3.7/dist-packages/ffn/core.py:2299: RuntimeWarning: divide by zero encountered in true_divide\n",
            "  res = np.divide(er.mean(), std)\n"
          ],
          "name": "stderr"
        }
      ]
    },
    {
      "cell_type": "markdown",
      "metadata": {
        "id": "peGc9YVxvD__"
      },
      "source": [
        "## Resultados"
      ]
    },
    {
      "cell_type": "code",
      "metadata": {
        "colab": {
          "base_uri": "https://localhost:8080/"
        },
        "id": "ru2n2R-jvfXR",
        "outputId": "ec6974d9-3c1e-4cf3-f6cb-f041d7f895b9"
      },
      "source": [
        "resultados.display()"
      ],
      "execution_count": 30,
      "outputs": [
        {
          "output_type": "stream",
          "text": [
            "Stat                 rebalanceamento    Buy&Hold\n",
            "-------------------  -----------------  ----------\n",
            "Start                2015-01-01         2015-01-01\n",
            "End                  2019-12-30         2019-12-30\n",
            "Risk-free rate       0.00%              0.00%\n",
            "\n",
            "Total Return         132.03%            148.81%\n",
            "Daily Sharpe         1.12               1.00\n",
            "Daily Sortino        1.86               1.66\n",
            "CAGR                 18.36%             20.02%\n",
            "Max Drawdown         -26.66%            -34.15%\n",
            "Calmar Ratio         0.69               0.59\n",
            "\n",
            "MTD                  7.74%              9.66%\n",
            "3m                   12.55%             15.58%\n",
            "6m                   18.71%             22.98%\n",
            "YTD                  35.45%             43.68%\n",
            "1Y                   35.45%             43.68%\n",
            "3Y (ann.)            25.78%             30.26%\n",
            "5Y (ann.)            18.36%             20.02%\n",
            "10Y (ann.)           -                  -\n",
            "Since Incep. (ann.)  18.36%             20.02%\n",
            "\n",
            "Daily Sharpe         1.12               1.00\n",
            "Daily Sortino        1.86               1.66\n",
            "Daily Mean (ann.)    18.54%             20.75%\n",
            "Daily Vol (ann.)     16.49%             20.68%\n",
            "Daily Skew           -0.34              -0.31\n",
            "Daily Kurt           3.42               3.30\n",
            "Best Day             4.40%              5.52%\n",
            "Worst Day            -7.49%             -9.27%\n",
            "\n",
            "Monthly Sharpe       1.27               1.14\n",
            "Monthly Sortino      2.87               2.49\n",
            "Monthly Mean (ann.)  19.49%             21.93%\n",
            "Monthly Vol (ann.)   15.39%             19.28%\n",
            "Monthly Skew         0.06               0.05\n",
            "Monthly Kurt         -0.31              -0.32\n",
            "Best Month           11.83%             14.67%\n",
            "Worst Month          -8.75%             -11.06%\n",
            "\n",
            "Yearly Sharpe        2.41               2.22\n",
            "Yearly Sortino       inf                inf\n",
            "Yearly Mean          27.15%             31.61%\n",
            "Yearly Vol           11.27%             14.22%\n",
            "Yearly Skew          -1.80              -1.55\n",
            "Yearly Kurt          3.43               2.79\n",
            "Best Year            35.45%             43.68%\n",
            "Worst Year           10.52%             11.08%\n",
            "\n",
            "Avg. Drawdown        -2.47%             -3.29%\n",
            "Avg. Drawdown Days   24.84              26.58\n",
            "Avg. Up Month        4.02%              4.96%\n",
            "Avg. Down Month      -3.04%             -3.85%\n",
            "Win Year %           100.00%            100.00%\n",
            "Win 12m %            89.80%             85.71%\n"
          ],
          "name": "stdout"
        }
      ]
    },
    {
      "cell_type": "code",
      "metadata": {
        "colab": {
          "base_uri": "https://localhost:8080/",
          "height": 314
        },
        "id": "oLFuSiXDvh73",
        "outputId": "35035761-0f5a-4e06-e232-fd918a0da1a7"
      },
      "source": [
        "resultados.plot();"
      ],
      "execution_count": 31,
      "outputs": [
        {
          "output_type": "display_data",
          "data": {
            "image/png": "[encoded data removed]",
            "text/plain": [
              "<Figure size 1080x360 with 1 Axes>"
            ]
          },
          "metadata": {
            "needs_background": "light"
          }
        }
      ]
    },
    {
      "cell_type": "markdown",
      "metadata": {
        "id": "68c6Ooipuyrj"
      },
      "source": [
        "## Operações"
      ]
    },
    {
      "cell_type": "code",
      "metadata": {
        "colab": {
          "base_uri": "https://localhost:8080/",
          "height": 445
        },
        "id": "A8hoGMGGvjvR",
        "outputId": "d6a5fb0e-a45f-458c-9282-393dc18eb270"
      },
      "source": [
        "resultados.get_transactions()"
      ],
      "execution_count": 32,
      "outputs": [
        {
          "output_type": "execute_result",
          "data": {
            "text/html": [
              "<div>\n",
              "<style scoped>\n",
              "    .dataframe tbody tr th:only-of-type {\n",
              "        vertical-align: middle;\n",
              "    }\n",
              "\n",
              "    .dataframe tbody tr th {\n",
              "        vertical-align: top;\n",
              "    }\n",
              "\n",
              "    .dataframe thead th {\n",
              "        text-align: right;\n",
              "    }\n",
              "</style>\n",
              "<table border=\"1\" class=\"dataframe\">\n",
              "  <thead>\n",
              "    <tr style=\"text-align: right;\">\n",
              "      <th></th>\n",
              "      <th></th>\n",
              "      <th>price</th>\n",
              "      <th>quantity</th>\n",
              "    </tr>\n",
              "    <tr>\n",
              "      <th>Date</th>\n",
              "      <th>Security</th>\n",
              "      <th></th>\n",
              "      <th></th>\n",
              "    </tr>\n",
              "  </thead>\n",
              "  <tbody>\n",
              "    <tr>\n",
              "      <th rowspan=\"3\" valign=\"top\">2015-01-02</th>\n",
              "      <th>BOVA11</th>\n",
              "      <td>47.259998</td>\n",
              "      <td>8548.0</td>\n",
              "    </tr>\n",
              "    <tr>\n",
              "      <th>SMAL11</th>\n",
              "      <td>52.020000</td>\n",
              "      <td>7766.0</td>\n",
              "    </tr>\n",
              "    <tr>\n",
              "      <th>renda_fixa</th>\n",
              "      <td>1.000000</td>\n",
              "      <td>202000.0</td>\n",
              "    </tr>\n",
              "    <tr>\n",
              "      <th rowspan=\"2\" valign=\"top\">2015-01-30</th>\n",
              "      <th>BOVA11</th>\n",
              "      <td>45.610001</td>\n",
              "      <td>-67.0</td>\n",
              "    </tr>\n",
              "    <tr>\n",
              "      <th>SMAL11</th>\n",
              "      <td>46.790001</td>\n",
              "      <td>502.0</td>\n",
              "    </tr>\n",
              "    <tr>\n",
              "      <th>...</th>\n",
              "      <th>...</th>\n",
              "      <td>...</td>\n",
              "      <td>...</td>\n",
              "    </tr>\n",
              "    <tr>\n",
              "      <th rowspan=\"2\" valign=\"top\">2019-10-31</th>\n",
              "      <th>SMAL11</th>\n",
              "      <td>115.570000</td>\n",
              "      <td>-17.0</td>\n",
              "    </tr>\n",
              "    <tr>\n",
              "      <th>renda_fixa</th>\n",
              "      <td>1.588157</td>\n",
              "      <td>6848.0</td>\n",
              "    </tr>\n",
              "    <tr>\n",
              "      <th rowspan=\"3\" valign=\"top\">2019-11-29</th>\n",
              "      <th>BOVA11</th>\n",
              "      <td>104.349998</td>\n",
              "      <td>200.0</td>\n",
              "    </tr>\n",
              "    <tr>\n",
              "      <th>SMAL11</th>\n",
              "      <td>121.199997</td>\n",
              "      <td>-212.0</td>\n",
              "    </tr>\n",
              "    <tr>\n",
              "      <th>renda_fixa</th>\n",
              "      <td>1.594198</td>\n",
              "      <td>9262.0</td>\n",
              "    </tr>\n",
              "  </tbody>\n",
              "</table>\n",
              "<p>179 rows × 2 columns</p>\n",
              "</div>"
            ],
            "text/plain": [
              "                            price  quantity\n",
              "Date       Security                        \n",
              "2015-01-02 BOVA11       47.259998    8548.0\n",
              "           SMAL11       52.020000    7766.0\n",
              "           renda_fixa    1.000000  202000.0\n",
              "2015-01-30 BOVA11       45.610001     -67.0\n",
              "           SMAL11       46.790001     502.0\n",
              "...                           ...       ...\n",
              "2019-10-31 SMAL11      115.570000     -17.0\n",
              "           renda_fixa    1.588157    6848.0\n",
              "2019-11-29 BOVA11      104.349998     200.0\n",
              "           SMAL11      121.199997    -212.0\n",
              "           renda_fixa    1.594198    9262.0\n",
              "\n",
              "[179 rows x 2 columns]"
            ]
          },
          "metadata": {},
          "execution_count": 32
        }
      ]
    },
    {
      "cell_type": "markdown",
      "metadata": {
        "id": "P_SPd5Sxvllz"
      },
      "source": [
        "##Pesos"
      ]
    },
    {
      "cell_type": "code",
      "metadata": {
        "colab": {
          "base_uri": "https://localhost:8080/",
          "height": 414
        },
        "id": "6bYXSqrpvmq6",
        "outputId": "a5d9d0b5-1434-4292-b2fd-122ce937da8c"
      },
      "source": [
        "resultados.get_security_weights()"
      ],
      "execution_count": 33,
      "outputs": [
        {
          "output_type": "execute_result",
          "data": {
            "text/html": [
              "<div>\n",
              "<style scoped>\n",
              "    .dataframe tbody tr th:only-of-type {\n",
              "        vertical-align: middle;\n",
              "    }\n",
              "\n",
              "    .dataframe tbody tr th {\n",
              "        vertical-align: top;\n",
              "    }\n",
              "\n",
              "    .dataframe thead th {\n",
              "        text-align: right;\n",
              "    }\n",
              "</style>\n",
              "<table border=\"1\" class=\"dataframe\">\n",
              "  <thead>\n",
              "    <tr style=\"text-align: right;\">\n",
              "      <th></th>\n",
              "      <th>BOVA11</th>\n",
              "      <th>SMAL11</th>\n",
              "      <th>renda_fixa</th>\n",
              "    </tr>\n",
              "  </thead>\n",
              "  <tbody>\n",
              "    <tr>\n",
              "      <th>2015-01-01</th>\n",
              "      <td>0.000000</td>\n",
              "      <td>0.000000</td>\n",
              "      <td>0.000000</td>\n",
              "    </tr>\n",
              "    <tr>\n",
              "      <th>2015-01-02</th>\n",
              "      <td>0.399979</td>\n",
              "      <td>0.399987</td>\n",
              "      <td>0.200000</td>\n",
              "    </tr>\n",
              "    <tr>\n",
              "      <th>2015-01-05</th>\n",
              "      <td>0.399650</td>\n",
              "      <td>0.396247</td>\n",
              "      <td>0.204068</td>\n",
              "    </tr>\n",
              "    <tr>\n",
              "      <th>2015-01-06</th>\n",
              "      <td>0.402691</td>\n",
              "      <td>0.392713</td>\n",
              "      <td>0.204562</td>\n",
              "    </tr>\n",
              "    <tr>\n",
              "      <th>2015-01-07</th>\n",
              "      <td>0.406714</td>\n",
              "      <td>0.393296</td>\n",
              "      <td>0.199956</td>\n",
              "    </tr>\n",
              "    <tr>\n",
              "      <th>...</th>\n",
              "      <td>...</td>\n",
              "      <td>...</td>\n",
              "      <td>...</td>\n",
              "    </tr>\n",
              "    <tr>\n",
              "      <th>2019-12-20</th>\n",
              "      <td>0.398907</td>\n",
              "      <td>0.412742</td>\n",
              "      <td>0.188300</td>\n",
              "    </tr>\n",
              "    <tr>\n",
              "      <th>2019-12-23</th>\n",
              "      <td>0.398983</td>\n",
              "      <td>0.413997</td>\n",
              "      <td>0.186968</td>\n",
              "    </tr>\n",
              "    <tr>\n",
              "      <th>2019-12-26</th>\n",
              "      <td>0.398672</td>\n",
              "      <td>0.416280</td>\n",
              "      <td>0.184998</td>\n",
              "    </tr>\n",
              "    <tr>\n",
              "      <th>2019-12-27</th>\n",
              "      <td>0.397127</td>\n",
              "      <td>0.417459</td>\n",
              "      <td>0.185364</td>\n",
              "    </tr>\n",
              "    <tr>\n",
              "      <th>2019-12-30</th>\n",
              "      <td>0.395718</td>\n",
              "      <td>0.417931</td>\n",
              "      <td>0.186299</td>\n",
              "    </tr>\n",
              "  </tbody>\n",
              "</table>\n",
              "<p>1236 rows × 3 columns</p>\n",
              "</div>"
            ],
            "text/plain": [
              "              BOVA11    SMAL11  renda_fixa\n",
              "2015-01-01  0.000000  0.000000    0.000000\n",
              "2015-01-02  0.399979  0.399987    0.200000\n",
              "2015-01-05  0.399650  0.396247    0.204068\n",
              "2015-01-06  0.402691  0.392713    0.204562\n",
              "2015-01-07  0.406714  0.393296    0.199956\n",
              "...              ...       ...         ...\n",
              "2019-12-20  0.398907  0.412742    0.188300\n",
              "2019-12-23  0.398983  0.413997    0.186968\n",
              "2019-12-26  0.398672  0.416280    0.184998\n",
              "2019-12-27  0.397127  0.417459    0.185364\n",
              "2019-12-30  0.395718  0.417931    0.186299\n",
              "\n",
              "[1236 rows x 3 columns]"
            ]
          },
          "metadata": {},
          "execution_count": 33
        }
      ]
    },
    {
      "cell_type": "code",
      "metadata": {
        "colab": {
          "base_uri": "https://localhost:8080/",
          "height": 298
        },
        "id": "ipu5Rs2Qvnot",
        "outputId": "8811e331-68ff-4526-bf0d-1ca0fafc6287"
      },
      "source": [
        "resultados.plot_security_weights()"
      ],
      "execution_count": 34,
      "outputs": [
        {
          "output_type": "display_data",
          "data": {
            "image/png": "[encoded data removed]",
            "text/plain": [
              "<Figure size 1080x360 with 1 Axes>"
            ]
          },
          "metadata": {
            "needs_background": "light"
          }
        }
      ]
    }
  ]
}