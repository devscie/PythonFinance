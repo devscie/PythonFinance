{
  "nbformat": 4,
  "nbformat_minor": 0,
  "metadata": {
    "colab": {
      "name": "23_Python_Finance.ipynb",
      "provenance": [],
      "authorship_tag": "ABX9TyNbtOikXgsfQFBEe4fFL1Au"
    },
    "kernelspec": {
      "name": "python3",
      "display_name": "Python 3"
    },
    "language_info": {
      "name": "python"
    }
  },
  "cells": [
    {
      "cell_type": "markdown",
      "metadata": {
        "id": "gFqaks0oea4P"
      },
      "source": [
        "# Biblioteca de Backtesting BT\n",
        "\n",
        "Documentação: https://pmorissette.github.io/bt/"
      ]
    },
    {
      "cell_type": "markdown",
      "metadata": {
        "id": "Fo35MoFMefZ4"
      },
      "source": [
        "# Instalação e configurações Iniciais"
      ]
    },
    {
      "cell_type": "code",
      "metadata": {
        "id": "6fveHhaddOcY"
      },
      "source": [
        "!pip install bt"
      ],
      "execution_count": null,
      "outputs": []
    },
    {
      "cell_type": "code",
      "metadata": {
        "id": "uIGLoIXUeixt"
      },
      "source": [
        "!pip install yfinance"
      ],
      "execution_count": null,
      "outputs": []
    },
    {
      "cell_type": "code",
      "metadata": {
        "id": "wX7oSmRZejIg"
      },
      "source": [
        "import bt\n",
        "import yfinance as yf\n",
        "\n",
        "import pandas as pd\n",
        "import matplotlib\n",
        "matplotlib.style.use('seaborn-darkgrid')\n",
        "%matplotlib inline"
      ],
      "execution_count": 3,
      "outputs": []
    },
    {
      "cell_type": "markdown",
      "metadata": {
        "id": "q1wFaZvBekqo"
      },
      "source": [
        "# Funções"
      ]
    },
    {
      "cell_type": "markdown",
      "metadata": {
        "id": "OZLOK9ENja3g"
      },
      "source": [
        "Função de consulta a base de dados do banco central"
      ]
    },
    {
      "cell_type": "code",
      "metadata": {
        "id": "4Ng0LhQTekZx"
      },
      "source": [
        "def consulta_bc(codigo_bcb):\n",
        "  url = 'http://api.bcb.gov.br/dados/serie/bcdata.sgs.{}/dados?formato=json'.format(codigo_bcb)\n",
        "  df = pd.read_json(url)\n",
        "  df['data'] = pd.to_datetime(df['data'], dayfirst=True)\n",
        "  df.set_index('data', inplace=True)\n",
        "  return df"
      ],
      "execution_count": 4,
      "outputs": []
    },
    {
      "cell_type": "markdown",
      "metadata": {
        "id": "h9iJakGwjgS4"
      },
      "source": [
        "Função busca a serie histórica do CDI, a partir dos paramentros data inicio e fim, calcula um dataframe com o retorno aculmulado ao longo do período."
      ]
    },
    {
      "cell_type": "code",
      "metadata": {
        "id": "wNG0TwQ0epzn"
      },
      "source": [
        "def cdi_acumulado(data_inicio, data_fim):\n",
        "  cdi = consulta_bc(12)\n",
        "  cdi_acumulado = (1 + cdi[data_inicio : data_fim] / 100).cumprod()\n",
        "  cdi_acumulado.iloc[0] = 1\n",
        "  return cdi_acumulado"
      ],
      "execution_count": 5,
      "outputs": []
    },
    {
      "cell_type": "markdown",
      "metadata": {
        "id": "Ut3m7N-Lesp7"
      },
      "source": [
        "# Obtendo e tratando os dados"
      ]
    },
    {
      "cell_type": "code",
      "metadata": {
        "id": "ug3Lyb6OeutB"
      },
      "source": [
        "data_inicio = '2015-01-02'\n",
        "data_fim    = '2019-12-31'"
      ],
      "execution_count": 6,
      "outputs": []
    },
    {
      "cell_type": "code",
      "metadata": {
        "id": "8hzfE0Xcevma"
      },
      "source": [
        "cdi = cdi_acumulado(data_inicio=data_inicio, data_fim=data_fim)"
      ],
      "execution_count": 7,
      "outputs": []
    },
    {
      "cell_type": "code",
      "metadata": {
        "id": "ZISKOeXHewom"
      },
      "source": [
        "tickers_carteira = ['BOVA11.SA', 'SMAL11.SA']"
      ],
      "execution_count": 8,
      "outputs": []
    },
    {
      "cell_type": "code",
      "metadata": {
        "colab": {
          "base_uri": "https://localhost:8080/"
        },
        "id": "ksyU1eeiexfJ",
        "outputId": "ec834ec8-10c9-4eb6-b551-d5f3ef0d6bd7"
      },
      "source": [
        "carteira = yf.download(tickers_carteira, start=data_inicio, end=data_fim)['Adj Close']"
      ],
      "execution_count": 9,
      "outputs": [
        {
          "output_type": "stream",
          "text": [
            "[*********************100%***********************]  2 of 2 completed\n"
          ],
          "name": "stdout"
        }
      ]
    },
    {
      "cell_type": "code",
      "metadata": {
        "id": "5zKO86colHnf"
      },
      "source": [
        "carteira"
      ],
      "execution_count": null,
      "outputs": []
    },
    {
      "cell_type": "markdown",
      "metadata": {
        "id": "sSQnPMqdlI8A"
      },
      "source": [
        "Acrescentar no dataframe coluna com o valor do CDI"
      ]
    },
    {
      "cell_type": "code",
      "metadata": {
        "id": "ewR9LQekeyog"
      },
      "source": [
        "carteira['renda_fixa'] = cdi\n",
        "carteira.dropna(inplace=True)"
      ],
      "execution_count": 10,
      "outputs": []
    },
    {
      "cell_type": "code",
      "metadata": {
        "colab": {
          "base_uri": "https://localhost:8080/",
          "height": 445
        },
        "id": "-G5zY7eJezms",
        "outputId": "54767efb-b55a-4353-a152-7ea7ff0dfaf0"
      },
      "source": [
        "carteira"
      ],
      "execution_count": 11,
      "outputs": [
        {
          "output_type": "execute_result",
          "data": {
            "text/html": [
              "<div>\n",
              "<style scoped>\n",
              "    .dataframe tbody tr th:only-of-type {\n",
              "        vertical-align: middle;\n",
              "    }\n",
              "\n",
              "    .dataframe tbody tr th {\n",
              "        vertical-align: top;\n",
              "    }\n",
              "\n",
              "    .dataframe thead th {\n",
              "        text-align: right;\n",
              "    }\n",
              "</style>\n",
              "<table border=\"1\" class=\"dataframe\">\n",
              "  <thead>\n",
              "    <tr style=\"text-align: right;\">\n",
              "      <th></th>\n",
              "      <th>BOVA11.SA</th>\n",
              "      <th>SMAL11.SA</th>\n",
              "      <th>renda_fixa</th>\n",
              "    </tr>\n",
              "    <tr>\n",
              "      <th>Date</th>\n",
              "      <th></th>\n",
              "      <th></th>\n",
              "      <th></th>\n",
              "    </tr>\n",
              "  </thead>\n",
              "  <tbody>\n",
              "    <tr>\n",
              "      <th>2015-01-02</th>\n",
              "      <td>47.259998</td>\n",
              "      <td>52.020000</td>\n",
              "      <td>1.000000</td>\n",
              "    </tr>\n",
              "    <tr>\n",
              "      <th>2015-01-05</th>\n",
              "      <td>46.320000</td>\n",
              "      <td>50.549999</td>\n",
              "      <td>1.000869</td>\n",
              "    </tr>\n",
              "    <tr>\n",
              "      <th>2015-01-06</th>\n",
              "      <td>46.580002</td>\n",
              "      <td>50.000000</td>\n",
              "      <td>1.001304</td>\n",
              "    </tr>\n",
              "    <tr>\n",
              "      <th>2015-01-07</th>\n",
              "      <td>48.150002</td>\n",
              "      <td>51.250000</td>\n",
              "      <td>1.001739</td>\n",
              "    </tr>\n",
              "    <tr>\n",
              "      <th>2015-01-08</th>\n",
              "      <td>48.509998</td>\n",
              "      <td>52.000000</td>\n",
              "      <td>1.002175</td>\n",
              "    </tr>\n",
              "    <tr>\n",
              "      <th>...</th>\n",
              "      <td>...</td>\n",
              "      <td>...</td>\n",
              "      <td>...</td>\n",
              "    </tr>\n",
              "    <tr>\n",
              "      <th>2019-12-20</th>\n",
              "      <td>110.839996</td>\n",
              "      <td>133.199997</td>\n",
              "      <td>1.598532</td>\n",
              "    </tr>\n",
              "    <tr>\n",
              "      <th>2019-12-23</th>\n",
              "      <td>111.669998</td>\n",
              "      <td>134.580002</td>\n",
              "      <td>1.598805</td>\n",
              "    </tr>\n",
              "    <tr>\n",
              "      <th>2019-12-26</th>\n",
              "      <td>112.809998</td>\n",
              "      <td>136.809998</td>\n",
              "      <td>1.599352</td>\n",
              "    </tr>\n",
              "    <tr>\n",
              "      <th>2019-12-27</th>\n",
              "      <td>112.169998</td>\n",
              "      <td>136.949997</td>\n",
              "      <td>1.599625</td>\n",
              "    </tr>\n",
              "    <tr>\n",
              "      <th>2019-12-30</th>\n",
              "      <td>111.230003</td>\n",
              "      <td>136.440002</td>\n",
              "      <td>1.599898</td>\n",
              "    </tr>\n",
              "  </tbody>\n",
              "</table>\n",
              "<p>1235 rows × 3 columns</p>\n",
              "</div>"
            ],
            "text/plain": [
              "             BOVA11.SA   SMAL11.SA  renda_fixa\n",
              "Date                                          \n",
              "2015-01-02   47.259998   52.020000    1.000000\n",
              "2015-01-05   46.320000   50.549999    1.000869\n",
              "2015-01-06   46.580002   50.000000    1.001304\n",
              "2015-01-07   48.150002   51.250000    1.001739\n",
              "2015-01-08   48.509998   52.000000    1.002175\n",
              "...                ...         ...         ...\n",
              "2019-12-20  110.839996  133.199997    1.598532\n",
              "2019-12-23  111.669998  134.580002    1.598805\n",
              "2019-12-26  112.809998  136.809998    1.599352\n",
              "2019-12-27  112.169998  136.949997    1.599625\n",
              "2019-12-30  111.230003  136.440002    1.599898\n",
              "\n",
              "[1235 rows x 3 columns]"
            ]
          },
          "metadata": {},
          "execution_count": 11
        }
      ]
    },
    {
      "cell_type": "markdown",
      "metadata": {
        "id": "NWBLm5E9e09D"
      },
      "source": [
        "# Backtesting"
      ]
    },
    {
      "cell_type": "code",
      "metadata": {
        "id": "3B-m7ause2bt"
      },
      "source": [
        "rebalanceamento = bt.Strategy('rebalanceamento', \n",
        "                [bt.algos.RunMonthly(run_on_end_of_period=True),\n",
        "                 bt.algos.SelectAll(),\n",
        "                 bt.algos.WeighEqually(),\n",
        "                 bt.algos.Rebalance()])"
      ],
      "execution_count": 12,
      "outputs": []
    },
    {
      "cell_type": "code",
      "metadata": {
        "id": "IORPIdIEe6eZ"
      },
      "source": [
        "buy_hold = bt.Strategy('Buy&Hold', \n",
        "                   [ bt.algos.RunOnce(),\n",
        "                     bt.algos.SelectAll(),\n",
        "                     bt.algos.WeighEqually(),\n",
        "                     bt.algos.Rebalance()]\n",
        "                    )"
      ],
      "execution_count": 13,
      "outputs": []
    },
    {
      "cell_type": "markdown",
      "metadata": {
        "id": "iV05J7xVmvxf"
      },
      "source": [
        "Primeira estratégia compra e venda de ativos todos os meses para rebalancear a carteira; Segunda estratégia realizar aporte e manter os ativos em carteira."
      ]
    },
    {
      "cell_type": "code",
      "metadata": {
        "id": "AczNwFlCfDJ1"
      },
      "source": [
        "bt1 = bt.Backtest(rebalanceamento, carteira)\n",
        "bt2 = bt.Backtest(buy_hold, carteira[['BOVA11.SA', 'SMAL11.SA']])"
      ],
      "execution_count": 14,
      "outputs": []
    },
    {
      "cell_type": "code",
      "metadata": {
        "id": "Y9FxnvqYfEcd"
      },
      "source": [
        "resultados = bt.run(bt1, bt2)"
      ],
      "execution_count": null,
      "outputs": []
    },
    {
      "cell_type": "markdown",
      "metadata": {
        "id": "-deIWdPDfLgz"
      },
      "source": [
        "# Resultados"
      ]
    },
    {
      "cell_type": "code",
      "metadata": {
        "colab": {
          "base_uri": "https://localhost:8080/"
        },
        "id": "RficFzHAfKA2",
        "outputId": "4714ff36-dcb0-41fe-d438-c395e9b97657"
      },
      "source": [
        "resultados.display()"
      ],
      "execution_count": 16,
      "outputs": [
        {
          "output_type": "stream",
          "text": [
            "Stat                 rebalanceamento    Buy&Hold\n",
            "-------------------  -----------------  ----------\n",
            "Start                2015-01-01         2015-01-01\n",
            "End                  2019-12-30         2019-12-30\n",
            "Risk-free rate       0.00%              0.00%\n",
            "\n",
            "Total Return         119.97%            148.81%\n",
            "Daily Sharpe         1.24               1.00\n",
            "Daily Sortino        2.06               1.66\n",
            "CAGR                 17.10%             20.02%\n",
            "Max Drawdown         -21.41%            -34.15%\n",
            "Calmar Ratio         0.80               0.59\n",
            "\n",
            "MTD                  6.51%              9.66%\n",
            "3m                   10.62%             15.58%\n",
            "6m                   15.94%             22.98%\n",
            "YTD                  30.15%             43.68%\n",
            "1Y                   30.15%             43.68%\n",
            "3Y (ann.)            22.68%             30.26%\n",
            "5Y (ann.)            17.10%             20.02%\n",
            "10Y (ann.)           -                  -\n",
            "Since Incep. (ann.)  17.10%             20.02%\n",
            "\n",
            "Daily Sharpe         1.24               1.00\n",
            "Daily Sortino        2.06               1.66\n",
            "Daily Mean (ann.)    17.04%             20.75%\n",
            "Daily Vol (ann.)     13.75%             20.68%\n",
            "Daily Skew           -0.34              -0.31\n",
            "Daily Kurt           3.45               3.30\n",
            "Best Day             3.72%              5.52%\n",
            "Worst Day            -6.26%             -9.27%\n",
            "\n",
            "Monthly Sharpe       1.39               1.14\n",
            "Monthly Sortino      3.26               2.49\n",
            "Monthly Mean (ann.)  17.82%             21.93%\n",
            "Monthly Vol (ann.)   12.81%             19.28%\n",
            "Monthly Skew         0.07               0.05\n",
            "Monthly Kurt         -0.29              -0.32\n",
            "Best Month           10.04%             14.67%\n",
            "Worst Month          -7.21%             -11.06%\n",
            "\n",
            "Yearly Sharpe        2.55               2.22\n",
            "Yearly Sortino       inf                inf\n",
            "Yearly Mean          24.12%             31.61%\n",
            "Yearly Vol           9.44%              14.22%\n",
            "Yearly Skew          -1.94              -1.55\n",
            "Yearly Kurt          3.82               2.79\n",
            "Best Year            30.15%             43.68%\n",
            "Worst Year           10.03%             11.08%\n",
            "\n",
            "Avg. Drawdown        -1.94%             -3.29%\n",
            "Avg. Drawdown Days   22.65              26.58\n",
            "Avg. Up Month        3.47%              4.96%\n",
            "Avg. Down Month      -2.38%             -3.85%\n",
            "Win Year %           100.00%            100.00%\n",
            "Win 12m %            89.80%             85.71%\n"
          ],
          "name": "stdout"
        }
      ]
    },
    {
      "cell_type": "code",
      "metadata": {
        "colab": {
          "base_uri": "https://localhost:8080/",
          "height": 314
        },
        "id": "UbEnf9uDiuH6",
        "outputId": "f232a00b-2584-4873-9097-dfad4ef74acc"
      },
      "source": [
        "resultados.plot();"
      ],
      "execution_count": 17,
      "outputs": [
        {
          "output_type": "display_data",
          "data": {
            "image/png": "[encoded data removed]",
            "text/plain": [
              "<Figure size 1080x360 with 1 Axes>"
            ]
          },
          "metadata": {
            "needs_background": "light"
          }
        }
      ]
    },
    {
      "cell_type": "markdown",
      "metadata": {
        "id": "p1pm97Plivr5"
      },
      "source": [
        "## Operações"
      ]
    },
    {
      "cell_type": "code",
      "metadata": {
        "colab": {
          "base_uri": "https://localhost:8080/",
          "height": 445
        },
        "id": "YdVElFnsiyJg",
        "outputId": "b604a698-57d9-43f4-91c0-f0bfb8cd5d7a"
      },
      "source": [
        "resultados.get_transactions()"
      ],
      "execution_count": 18,
      "outputs": [
        {
          "output_type": "execute_result",
          "data": {
            "text/html": [
              "<div>\n",
              "<style scoped>\n",
              "    .dataframe tbody tr th:only-of-type {\n",
              "        vertical-align: middle;\n",
              "    }\n",
              "\n",
              "    .dataframe tbody tr th {\n",
              "        vertical-align: top;\n",
              "    }\n",
              "\n",
              "    .dataframe thead th {\n",
              "        text-align: right;\n",
              "    }\n",
              "</style>\n",
              "<table border=\"1\" class=\"dataframe\">\n",
              "  <thead>\n",
              "    <tr style=\"text-align: right;\">\n",
              "      <th></th>\n",
              "      <th></th>\n",
              "      <th>price</th>\n",
              "      <th>quantity</th>\n",
              "    </tr>\n",
              "    <tr>\n",
              "      <th>Date</th>\n",
              "      <th>Security</th>\n",
              "      <th></th>\n",
              "      <th></th>\n",
              "    </tr>\n",
              "  </thead>\n",
              "  <tbody>\n",
              "    <tr>\n",
              "      <th rowspan=\"3\" valign=\"top\">2015-01-02</th>\n",
              "      <th>BOVA11.SA</th>\n",
              "      <td>47.259998</td>\n",
              "      <td>7053.0</td>\n",
              "    </tr>\n",
              "    <tr>\n",
              "      <th>SMAL11.SA</th>\n",
              "      <td>52.020000</td>\n",
              "      <td>6407.0</td>\n",
              "    </tr>\n",
              "    <tr>\n",
              "      <th>renda_fixa</th>\n",
              "      <td>1.000000</td>\n",
              "      <td>333333.0</td>\n",
              "    </tr>\n",
              "    <tr>\n",
              "      <th rowspan=\"2\" valign=\"top\">2015-01-30</th>\n",
              "      <th>BOVA11.SA</th>\n",
              "      <td>45.610001</td>\n",
              "      <td>-52.0</td>\n",
              "    </tr>\n",
              "    <tr>\n",
              "      <th>SMAL11.SA</th>\n",
              "      <td>46.790001</td>\n",
              "      <td>417.0</td>\n",
              "    </tr>\n",
              "    <tr>\n",
              "      <th>...</th>\n",
              "      <th>...</th>\n",
              "      <td>...</td>\n",
              "      <td>...</td>\n",
              "    </tr>\n",
              "    <tr>\n",
              "      <th rowspan=\"2\" valign=\"top\">2019-10-31</th>\n",
              "      <th>SMAL11.SA</th>\n",
              "      <td>115.570000</td>\n",
              "      <td>-43.0</td>\n",
              "    </tr>\n",
              "    <tr>\n",
              "      <th>renda_fixa</th>\n",
              "      <td>1.588157</td>\n",
              "      <td>5140.0</td>\n",
              "    </tr>\n",
              "    <tr>\n",
              "      <th rowspan=\"3\" valign=\"top\">2019-11-29</th>\n",
              "      <th>BOVA11.SA</th>\n",
              "      <td>104.349998</td>\n",
              "      <td>67.0</td>\n",
              "    </tr>\n",
              "    <tr>\n",
              "      <th>SMAL11.SA</th>\n",
              "      <td>121.199997</td>\n",
              "      <td>-153.0</td>\n",
              "    </tr>\n",
              "    <tr>\n",
              "      <th>renda_fixa</th>\n",
              "      <td>1.594198</td>\n",
              "      <td>7323.0</td>\n",
              "    </tr>\n",
              "  </tbody>\n",
              "</table>\n",
              "<p>179 rows × 2 columns</p>\n",
              "</div>"
            ],
            "text/plain": [
              "                            price  quantity\n",
              "Date       Security                        \n",
              "2015-01-02 BOVA11.SA    47.259998    7053.0\n",
              "           SMAL11.SA    52.020000    6407.0\n",
              "           renda_fixa    1.000000  333333.0\n",
              "2015-01-30 BOVA11.SA    45.610001     -52.0\n",
              "           SMAL11.SA    46.790001     417.0\n",
              "...                           ...       ...\n",
              "2019-10-31 SMAL11.SA   115.570000     -43.0\n",
              "           renda_fixa    1.588157    5140.0\n",
              "2019-11-29 BOVA11.SA   104.349998      67.0\n",
              "           SMAL11.SA   121.199997    -153.0\n",
              "           renda_fixa    1.594198    7323.0\n",
              "\n",
              "[179 rows x 2 columns]"
            ]
          },
          "metadata": {},
          "execution_count": 18
        }
      ]
    },
    {
      "cell_type": "markdown",
      "metadata": {
        "id": "1Aw8AwDAi0_S"
      },
      "source": [
        "## Pesos"
      ]
    },
    {
      "cell_type": "code",
      "metadata": {
        "colab": {
          "base_uri": "https://localhost:8080/",
          "height": 414
        },
        "id": "IqeZ04u2i3qR",
        "outputId": "ba2372f3-96b7-4f1a-c896-9cf9296b2972"
      },
      "source": [
        "resultados.get_security_weights()"
      ],
      "execution_count": 19,
      "outputs": [
        {
          "output_type": "execute_result",
          "data": {
            "text/html": [
              "<div>\n",
              "<style scoped>\n",
              "    .dataframe tbody tr th:only-of-type {\n",
              "        vertical-align: middle;\n",
              "    }\n",
              "\n",
              "    .dataframe tbody tr th {\n",
              "        vertical-align: top;\n",
              "    }\n",
              "\n",
              "    .dataframe thead th {\n",
              "        text-align: right;\n",
              "    }\n",
              "</style>\n",
              "<table border=\"1\" class=\"dataframe\">\n",
              "  <thead>\n",
              "    <tr style=\"text-align: right;\">\n",
              "      <th></th>\n",
              "      <th>BOVA11.SA</th>\n",
              "      <th>SMAL11.SA</th>\n",
              "      <th>renda_fixa</th>\n",
              "    </tr>\n",
              "  </thead>\n",
              "  <tbody>\n",
              "    <tr>\n",
              "      <th>2015-01-01</th>\n",
              "      <td>0.000000</td>\n",
              "      <td>0.000000</td>\n",
              "      <td>0.000000</td>\n",
              "    </tr>\n",
              "    <tr>\n",
              "      <th>2015-01-02</th>\n",
              "      <td>0.333325</td>\n",
              "      <td>0.333292</td>\n",
              "      <td>0.333333</td>\n",
              "    </tr>\n",
              "    <tr>\n",
              "      <th>2015-01-05</th>\n",
              "      <td>0.331926</td>\n",
              "      <td>0.329059</td>\n",
              "      <td>0.338964</td>\n",
              "    </tr>\n",
              "    <tr>\n",
              "      <th>2015-01-06</th>\n",
              "      <td>0.334314</td>\n",
              "      <td>0.325991</td>\n",
              "      <td>0.339645</td>\n",
              "    </tr>\n",
              "    <tr>\n",
              "      <th>2015-01-07</th>\n",
              "      <td>0.338950</td>\n",
              "      <td>0.327728</td>\n",
              "      <td>0.333272</td>\n",
              "    </tr>\n",
              "    <tr>\n",
              "      <th>...</th>\n",
              "      <td>...</td>\n",
              "      <td>...</td>\n",
              "      <td>...</td>\n",
              "    </tr>\n",
              "    <tr>\n",
              "      <th>2019-12-20</th>\n",
              "      <td>0.335707</td>\n",
              "      <td>0.347352</td>\n",
              "      <td>0.316922</td>\n",
              "    </tr>\n",
              "    <tr>\n",
              "      <th>2019-12-23</th>\n",
              "      <td>0.336148</td>\n",
              "      <td>0.348800</td>\n",
              "      <td>0.315034</td>\n",
              "    </tr>\n",
              "    <tr>\n",
              "      <th>2019-12-26</th>\n",
              "      <td>0.336444</td>\n",
              "      <td>0.351306</td>\n",
              "      <td>0.312232</td>\n",
              "    </tr>\n",
              "    <tr>\n",
              "      <th>2019-12-27</th>\n",
              "      <td>0.335037</td>\n",
              "      <td>0.352192</td>\n",
              "      <td>0.312753</td>\n",
              "    </tr>\n",
              "    <tr>\n",
              "      <th>2019-12-30</th>\n",
              "      <td>0.333585</td>\n",
              "      <td>0.352313</td>\n",
              "      <td>0.314083</td>\n",
              "    </tr>\n",
              "  </tbody>\n",
              "</table>\n",
              "<p>1236 rows × 3 columns</p>\n",
              "</div>"
            ],
            "text/plain": [
              "            BOVA11.SA  SMAL11.SA  renda_fixa\n",
              "2015-01-01   0.000000   0.000000    0.000000\n",
              "2015-01-02   0.333325   0.333292    0.333333\n",
              "2015-01-05   0.331926   0.329059    0.338964\n",
              "2015-01-06   0.334314   0.325991    0.339645\n",
              "2015-01-07   0.338950   0.327728    0.333272\n",
              "...               ...        ...         ...\n",
              "2019-12-20   0.335707   0.347352    0.316922\n",
              "2019-12-23   0.336148   0.348800    0.315034\n",
              "2019-12-26   0.336444   0.351306    0.312232\n",
              "2019-12-27   0.335037   0.352192    0.312753\n",
              "2019-12-30   0.333585   0.352313    0.314083\n",
              "\n",
              "[1236 rows x 3 columns]"
            ]
          },
          "metadata": {},
          "execution_count": 19
        }
      ]
    },
    {
      "cell_type": "code",
      "metadata": {
        "colab": {
          "base_uri": "https://localhost:8080/",
          "height": 298
        },
        "id": "1DjA6365i4zJ",
        "outputId": "9a104b41-f933-4e81-a034-28557d3b7d1b"
      },
      "source": [
        "resultados.plot_security_weights()"
      ],
      "execution_count": 20,
      "outputs": [
        {
          "output_type": "display_data",
          "data": {
            "image/png": "[encoded data removed]",
            "text/plain": [
              "<Figure size 1080x360 with 1 Axes>"
            ]
          },
          "metadata": {
            "needs_background": "light"
          }
        }
      ]
    }
  ]
}