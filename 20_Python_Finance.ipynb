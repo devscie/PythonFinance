{
  "nbformat": 4,
  "nbformat_minor": 0,
  "metadata": {
    "colab": {
      "name": "20_Python_Finance.ipynb",
      "provenance": [],
      "authorship_tag": "ABX9TyN64d6jIeUFmGDDkQUQqU62"
    },
    "kernelspec": {
      "name": "python3",
      "display_name": "Python 3"
    },
    "language_info": {
      "name": "python"
    }
  },
  "cells": [
    {
      "cell_type": "markdown",
      "metadata": {
        "id": "ycVm-ni_pipd"
      },
      "source": [
        "## Tesouro Direto"
      ]
    },
    {
      "cell_type": "markdown",
      "metadata": {
        "id": "VkfcxrXspqXl"
      },
      "source": [
        "Analisando os dados dos títulos públicos federais do TESOURO DIRETO com PYTHON. Exemplos de gráficos com Tesouro Selic, Tesouro Pré-fixado, Tesoudo IPCA+. \n",
        "\n",
        "E também informações sobre o volume total de vendas do Tesouro Direto, bem como, o quantitatvo de Recompras (Resgates) do Tesouro Selic.\n",
        "\n",
        "Ao final um comparativo entre os resgates do Tesouro Selic e variação semanal do Índice Bovespa."
      ]
    },
    {
      "cell_type": "markdown",
      "metadata": {
        "id": "lZysW90kp-nB"
      },
      "source": [
        "Base de Dados: https://www.tesourotransparente.gov.br/ckan/dataset"
      ]
    },
    {
      "cell_type": "markdown",
      "metadata": {
        "id": "YDbGYqsxvgXs"
      },
      "source": [
        "### Taxas dos Títulos Ofertados pelo Tesouro Direto"
      ]
    },
    {
      "cell_type": "markdown",
      "metadata": {
        "id": "fSYuRWQPvkDZ"
      },
      "source": [
        "As taxas e preços dos títulos ofertados pelo Tesouro Direto refletem o mercado secundário de títulos públicos federais. Dessa forma, o investidor pessoa física pode ter acesso aos títulos públicos por meio do Tesouro Direto e saber quais são as taxas e preços de compra e venda praticados em cada dia."
      ]
    },
    {
      "cell_type": "markdown",
      "metadata": {
        "id": "jX4FYlbIvlvV"
      },
      "source": [
        "Listagem de preços e taxas dos títulos ofertados pelo Tesouro Direto. A lista é diária.\n",
        "\n",
        "**Frequência:** Atualização diária"
      ]
    },
    {
      "cell_type": "markdown",
      "metadata": {
        "id": "2vW8lfB2_Mxy"
      },
      "source": [
        "### Vendas do Tesouro Direto"
      ]
    },
    {
      "cell_type": "markdown",
      "metadata": {
        "id": "qkPHdLC7_Os0"
      },
      "source": [
        "Volume de vendas diário do programa Tesouro Direto. Os dados de vendas são apresentados também por tipo de título e por data de vencimento do título. No Tesouro Direto não são mais vendidos títulos com prazo de vencimento inferior a 1 ano."
      ]
    },
    {
      "cell_type": "markdown",
      "metadata": {
        "id": "1STM-vM7_QX-"
      },
      "source": [
        "Volume de vendas diário do Tesouro Direto. As vendas estão listadas por dia e por título. Os dados têm defasagem de dois dias úteis da data atual.\n",
        "\n",
        "**Frequência:** Atualização diária com dados até dois dias antes à data do arquivo."
      ]
    },
    {
      "cell_type": "markdown",
      "metadata": {
        "id": "CedKOGuW_eAj"
      },
      "source": [
        "### Resgates do Tesouro Direto"
      ]
    },
    {
      "cell_type": "markdown",
      "metadata": {
        "id": "2MmJgzMP_ffg"
      },
      "source": [
        "Volume financeiro de resgates ocorridos no Tesouro Direto em determinado mês. Os resgates são divididos em três grupos, os títulos recomprados antecipadamente, os que foram carregados até o seu vencimento e os pagamentos de cupons semestrais de juros. O arquivo de Recompras disponibiliza listagem dos títulos que foram entregues pelo investidor antes do vencimento dos mesmos. O arquivo de Vencimentos lista os lançamentos referentes aos títulos que foram levados até a sua data de vencimento. Já o arquivo de Cupom de Juros relaciona os pagamentos de juros semestrais aos quais alguns títulos dão direito."
      ]
    },
    {
      "cell_type": "markdown",
      "metadata": {
        "id": "PXAxIoRr_tKg"
      },
      "source": [
        "**Recompras do Tesouro Direto**\n",
        "\n"
      ]
    },
    {
      "cell_type": "markdown",
      "metadata": {
        "id": "RDhw2-Xe_3wz"
      },
      "source": [
        "Listagem dos títulos que foram entregues pelo investidor antes do vencimento. Estão listados por dia e por título.\n",
        "\n",
        "**Frequência:** Atualização diária com dados até dois dias antes à data do arquivo."
      ]
    },
    {
      "cell_type": "markdown",
      "metadata": {
        "id": "syoSXgkeqA3b"
      },
      "source": [
        "## Importações e Configurações Iniciais"
      ]
    },
    {
      "cell_type": "code",
      "metadata": {
        "id": "axE3xc6_yoCY"
      },
      "source": [
        "import pandas as pd\n",
        "pd.set_option(\"display.max_colwidth\", 150)\n",
        "pd.set_option(\"display.min_rows\", 20)\n",
        "\n",
        "import matplotlib\n",
        "matplotlib.style.use('seaborn-darkgrid')\n",
        "matplotlib.rcParams['figure.figsize'] = (18,8)\n",
        "\n",
        "import plotly.graph_objects as go\n",
        "import plotly.express as px"
      ],
      "execution_count": 1,
      "outputs": []
    },
    {
      "cell_type": "code",
      "metadata": {
        "id": "D8q_-DzUqGOB"
      },
      "source": [
        "!pip install yfinance\n",
        "import yfinance as yf"
      ],
      "execution_count": null,
      "outputs": []
    },
    {
      "cell_type": "code",
      "metadata": {
        "id": "W5vYD-msqHEf"
      },
      "source": [
        "import ssl\n",
        "ssl._create_default_https_context = ssl._create_unverified_context"
      ],
      "execution_count": 3,
      "outputs": []
    },
    {
      "cell_type": "markdown",
      "metadata": {
        "id": "4jKKnSg4qIaR"
      },
      "source": [
        "## 1. Funções para Busca e Tratamento de Dados do Tesouro Direto"
      ]
    },
    {
      "cell_type": "code",
      "metadata": {
        "id": "r-80HDSgqMzm"
      },
      "source": [
        "def busca_titulos_tesouro_direto():\n",
        "  url = 'https://www.tesourotransparente.gov.br/ckan/dataset/df56aa42-484a-4a59-8184-7676580c81e3/resource/796d2059-14e9-44e3-80c9-2d9e30b405c1/download/PrecoTaxaTesouroDireto.csv'\n",
        "  df  = pd.read_csv(url, sep=';', decimal=',')\n",
        "  df['Data Vencimento'] = pd.to_datetime(df['Data Vencimento'], dayfirst=True)\n",
        "  df['Data Base']       = pd.to_datetime(df['Data Base'], dayfirst=True)\n",
        "  multi_indice = pd.MultiIndex.from_frame(df.iloc[:, :3])\n",
        "  df = df.set_index(multi_indice).iloc[: , 3:]  \n",
        "  return df"
      ],
      "execution_count": 4,
      "outputs": []
    },
    {
      "cell_type": "code",
      "metadata": {
        "id": "Tgm78kEzqNv9"
      },
      "source": [
        "def busca_vendas_tesouro():\n",
        "  url = \"https://www.tesourotransparente.gov.br/ckan/dataset/f0468ecc-ae97-4287-89c2-6d8139fb4343/resource/e5f90e3a-8f8d-4895-9c56-4bb2f7877920/download/VendasTesouroDireto.csv\"\n",
        "  df  = pd.read_csv(url, sep=';', decimal=',')\n",
        "  df['Vencimento do Titulo'] = pd.to_datetime(df['Vencimento do Titulo'], dayfirst=True)\n",
        "  df['Data Venda']       = pd.to_datetime(df['Data Venda'], dayfirst=True)\n",
        "  multi_indice = pd.MultiIndex.from_frame(df.iloc[:, :3])\n",
        "  df = df.set_index(multi_indice).iloc[: , 3:]  \n",
        "  return df"
      ],
      "execution_count": 5,
      "outputs": []
    },
    {
      "cell_type": "code",
      "metadata": {
        "id": "niwA-FeAqPEp"
      },
      "source": [
        "def busca_recompras_tesouro():\n",
        "  url = \"https://www.tesourotransparente.gov.br/ckan/dataset/f30db6e4-6123-416c-b094-be8dfc823601/resource/30c2b3f5-6edd-499a-8514-062bfda0f61a/download/RecomprasTesouroDireto.csv\"\n",
        "  df  = pd.read_csv(url, sep=';', decimal=',')\n",
        "  df['Vencimento do Titulo'] = pd.to_datetime(df['Vencimento do Titulo'], dayfirst=True)\n",
        "  df['Data Resgate']       = pd.to_datetime(df['Data Resgate'], dayfirst=True)\n",
        "  multi_indice = pd.MultiIndex.from_frame(df.iloc[:, :3])\n",
        "  df = df.set_index(multi_indice).iloc[: , 3:]  \n",
        "  return df"
      ],
      "execution_count": 6,
      "outputs": []
    },
    {
      "cell_type": "markdown",
      "metadata": {
        "id": "6vKijgPeqQuO"
      },
      "source": [
        "## 2.Preços e Taxas Históricas dos Títulos Negociados"
      ]
    },
    {
      "cell_type": "markdown",
      "metadata": {
        "id": "Xzcp9f1IqTCS"
      },
      "source": [
        "Essa conjunto de dados contém as taxas e preços dos títulos ofertados pelo Tesouro Direto. Refletem o mercado secundário de títulos públicos federais."
      ]
    },
    {
      "cell_type": "markdown",
      "metadata": {
        "id": "NXkNj91GqWDt"
      },
      "source": [
        "### 2.1 Buscando dados"
      ]
    },
    {
      "cell_type": "code",
      "metadata": {
        "id": "thmHE5aOqU2Y"
      },
      "source": [
        "titulos = busca_titulos_tesouro_direto()"
      ],
      "execution_count": 7,
      "outputs": []
    },
    {
      "cell_type": "code",
      "metadata": {
        "colab": {
          "base_uri": "https://localhost:8080/",
          "height": 1000
        },
        "id": "54ZPowhQqYk1",
        "outputId": "b4f238f9-fe73-4c35-f932-ff1ae3d2d8d8"
      },
      "source": [
        "titulos.sort_index(inplace=True)\n",
        "titulos"
      ],
      "execution_count": 8,
      "outputs": [
        {
          "output_type": "execute_result",
          "data": {
            "text/html": [
              "<div>\n",
              "<style scoped>\n",
              "    .dataframe tbody tr th:only-of-type {\n",
              "        vertical-align: middle;\n",
              "    }\n",
              "\n",
              "    .dataframe tbody tr th {\n",
              "        vertical-align: top;\n",
              "    }\n",
              "\n",
              "    .dataframe thead th {\n",
              "        text-align: right;\n",
              "    }\n",
              "</style>\n",
              "<table border=\"1\" class=\"dataframe\">\n",
              "  <thead>\n",
              "    <tr style=\"text-align: right;\">\n",
              "      <th></th>\n",
              "      <th></th>\n",
              "      <th></th>\n",
              "      <th>Taxa Compra Manha</th>\n",
              "      <th>Taxa Venda Manha</th>\n",
              "      <th>PU Compra Manha</th>\n",
              "      <th>PU Venda Manha</th>\n",
              "      <th>PU Base Manha</th>\n",
              "    </tr>\n",
              "    <tr>\n",
              "      <th>Tipo Titulo</th>\n",
              "      <th>Data Vencimento</th>\n",
              "      <th>Data Base</th>\n",
              "      <th></th>\n",
              "      <th></th>\n",
              "      <th></th>\n",
              "      <th></th>\n",
              "      <th></th>\n",
              "    </tr>\n",
              "  </thead>\n",
              "  <tbody>\n",
              "    <tr>\n",
              "      <th rowspan=\"10\" valign=\"top\">Tesouro IGPM+ com Juros Semestrais</th>\n",
              "      <th rowspan=\"10\" valign=\"top\">2005-07-01</th>\n",
              "      <th>2004-12-31</th>\n",
              "      <td>9.23</td>\n",
              "      <td>9.25</td>\n",
              "      <td>1776.67</td>\n",
              "      <td>1776.51</td>\n",
              "      <td>1827.87</td>\n",
              "    </tr>\n",
              "    <tr>\n",
              "      <th>2005-01-03</th>\n",
              "      <td>9.23</td>\n",
              "      <td>9.25</td>\n",
              "      <td>1777.71</td>\n",
              "      <td>1777.55</td>\n",
              "      <td>1776.51</td>\n",
              "    </tr>\n",
              "    <tr>\n",
              "      <th>2005-01-04</th>\n",
              "      <td>9.26</td>\n",
              "      <td>9.28</td>\n",
              "      <td>1778.52</td>\n",
              "      <td>1778.36</td>\n",
              "      <td>1777.32</td>\n",
              "    </tr>\n",
              "    <tr>\n",
              "      <th>2005-01-05</th>\n",
              "      <td>9.28</td>\n",
              "      <td>9.30</td>\n",
              "      <td>1779.40</td>\n",
              "      <td>1779.25</td>\n",
              "      <td>1778.20</td>\n",
              "    </tr>\n",
              "    <tr>\n",
              "      <th>2005-01-06</th>\n",
              "      <td>9.31</td>\n",
              "      <td>9.33</td>\n",
              "      <td>1780.21</td>\n",
              "      <td>1780.06</td>\n",
              "      <td>1779.01</td>\n",
              "    </tr>\n",
              "    <tr>\n",
              "      <th>2005-01-07</th>\n",
              "      <td>9.87</td>\n",
              "      <td>9.89</td>\n",
              "      <td>1777.80</td>\n",
              "      <td>1777.65</td>\n",
              "      <td>1775.73</td>\n",
              "    </tr>\n",
              "    <tr>\n",
              "      <th>2005-01-10</th>\n",
              "      <td>10.14</td>\n",
              "      <td>10.16</td>\n",
              "      <td>1776.84</td>\n",
              "      <td>1776.69</td>\n",
              "      <td>1775.59</td>\n",
              "    </tr>\n",
              "    <tr>\n",
              "      <th>2005-01-11</th>\n",
              "      <td>10.26</td>\n",
              "      <td>10.28</td>\n",
              "      <td>1777.04</td>\n",
              "      <td>1776.89</td>\n",
              "      <td>1775.79</td>\n",
              "    </tr>\n",
              "    <tr>\n",
              "      <th>2005-01-12</th>\n",
              "      <td>10.89</td>\n",
              "      <td>10.91</td>\n",
              "      <td>1772.67</td>\n",
              "      <td>1772.52</td>\n",
              "      <td>1771.45</td>\n",
              "    </tr>\n",
              "    <tr>\n",
              "      <th>2005-01-13</th>\n",
              "      <td>10.89</td>\n",
              "      <td>10.91</td>\n",
              "      <td>1773.75</td>\n",
              "      <td>1773.60</td>\n",
              "      <td>1772.52</td>\n",
              "    </tr>\n",
              "    <tr>\n",
              "      <th>...</th>\n",
              "      <th>...</th>\n",
              "      <th>...</th>\n",
              "      <td>...</td>\n",
              "      <td>...</td>\n",
              "      <td>...</td>\n",
              "      <td>...</td>\n",
              "      <td>...</td>\n",
              "    </tr>\n",
              "    <tr>\n",
              "      <th rowspan=\"10\" valign=\"top\">Tesouro Selic</th>\n",
              "      <th rowspan=\"10\" valign=\"top\">2027-03-01</th>\n",
              "      <th>2021-07-01</th>\n",
              "      <td>0.30</td>\n",
              "      <td>0.31</td>\n",
              "      <td>10716.42</td>\n",
              "      <td>10710.39</td>\n",
              "      <td>10708.49</td>\n",
              "    </tr>\n",
              "    <tr>\n",
              "      <th>2021-07-02</th>\n",
              "      <td>0.30</td>\n",
              "      <td>0.31</td>\n",
              "      <td>10719.24</td>\n",
              "      <td>10713.21</td>\n",
              "      <td>10711.31</td>\n",
              "    </tr>\n",
              "    <tr>\n",
              "      <th>2021-07-05</th>\n",
              "      <td>0.30</td>\n",
              "      <td>0.31</td>\n",
              "      <td>10721.63</td>\n",
              "      <td>10715.61</td>\n",
              "      <td>10713.71</td>\n",
              "    </tr>\n",
              "    <tr>\n",
              "      <th>2021-07-06</th>\n",
              "      <td>0.30</td>\n",
              "      <td>0.31</td>\n",
              "      <td>10723.56</td>\n",
              "      <td>10717.54</td>\n",
              "      <td>10715.64</td>\n",
              "    </tr>\n",
              "    <tr>\n",
              "      <th>2021-07-07</th>\n",
              "      <td>0.30</td>\n",
              "      <td>0.31</td>\n",
              "      <td>10725.95</td>\n",
              "      <td>10719.93</td>\n",
              "      <td>10718.03</td>\n",
              "    </tr>\n",
              "    <tr>\n",
              "      <th>2021-07-08</th>\n",
              "      <td>0.30</td>\n",
              "      <td>0.31</td>\n",
              "      <td>10729.77</td>\n",
              "      <td>10723.76</td>\n",
              "      <td>10719.96</td>\n",
              "    </tr>\n",
              "    <tr>\n",
              "      <th>2021-07-12</th>\n",
              "      <td>0.30</td>\n",
              "      <td>0.31</td>\n",
              "      <td>10731.41</td>\n",
              "      <td>10725.40</td>\n",
              "      <td>10723.49</td>\n",
              "    </tr>\n",
              "    <tr>\n",
              "      <th>2021-07-13</th>\n",
              "      <td>0.30</td>\n",
              "      <td>0.31</td>\n",
              "      <td>10733.26</td>\n",
              "      <td>10727.26</td>\n",
              "      <td>10725.36</td>\n",
              "    </tr>\n",
              "    <tr>\n",
              "      <th>2021-07-14</th>\n",
              "      <td>0.30</td>\n",
              "      <td>0.31</td>\n",
              "      <td>10736.32</td>\n",
              "      <td>10730.32</td>\n",
              "      <td>10728.42</td>\n",
              "    </tr>\n",
              "    <tr>\n",
              "      <th>2021-07-15</th>\n",
              "      <td>0.29</td>\n",
              "      <td>0.30</td>\n",
              "      <td>10740.52</td>\n",
              "      <td>10734.52</td>\n",
              "      <td>10732.63</td>\n",
              "    </tr>\n",
              "  </tbody>\n",
              "</table>\n",
              "<p>116692 rows × 5 columns</p>\n",
              "</div>"
            ],
            "text/plain": [
              "                                                               Taxa Compra Manha  ...  PU Base Manha\n",
              "Tipo Titulo                        Data Vencimento Data Base                      ...               \n",
              "Tesouro IGPM+ com Juros Semestrais 2005-07-01      2004-12-31               9.23  ...        1827.87\n",
              "                                                   2005-01-03               9.23  ...        1776.51\n",
              "                                                   2005-01-04               9.26  ...        1777.32\n",
              "                                                   2005-01-05               9.28  ...        1778.20\n",
              "                                                   2005-01-06               9.31  ...        1779.01\n",
              "                                                   2005-01-07               9.87  ...        1775.73\n",
              "                                                   2005-01-10              10.14  ...        1775.59\n",
              "                                                   2005-01-11              10.26  ...        1775.79\n",
              "                                                   2005-01-12              10.89  ...        1771.45\n",
              "                                                   2005-01-13              10.89  ...        1772.52\n",
              "...                                                                          ...  ...            ...\n",
              "Tesouro Selic                      2027-03-01      2021-07-01               0.30  ...       10708.49\n",
              "                                                   2021-07-02               0.30  ...       10711.31\n",
              "                                                   2021-07-05               0.30  ...       10713.71\n",
              "                                                   2021-07-06               0.30  ...       10715.64\n",
              "                                                   2021-07-07               0.30  ...       10718.03\n",
              "                                                   2021-07-08               0.30  ...       10719.96\n",
              "                                                   2021-07-12               0.30  ...       10723.49\n",
              "                                                   2021-07-13               0.30  ...       10725.36\n",
              "                                                   2021-07-14               0.30  ...       10728.42\n",
              "                                                   2021-07-15               0.29  ...       10732.63\n",
              "\n",
              "[116692 rows x 5 columns]"
            ]
          },
          "metadata": {
            "tags": []
          },
          "execution_count": 8
        }
      ]
    },
    {
      "cell_type": "code",
      "metadata": {
        "colab": {
          "base_uri": "https://localhost:8080/"
        },
        "id": "C2NNjC49qaRZ",
        "outputId": "45153586-05c2-436d-ffda-fc0c14bbf19e"
      },
      "source": [
        "tipos_titulos = titulos.index.droplevel(level=1).droplevel(level=1).drop_duplicates().to_list()\n",
        "tipos_titulos"
      ],
      "execution_count": 17,
      "outputs": [
        {
          "output_type": "execute_result",
          "data": {
            "text/plain": [
              "['Tesouro IGPM+ com Juros Semestrais',\n",
              " 'Tesouro IPCA+',\n",
              " 'Tesouro IPCA+ com Juros Semestrais',\n",
              " 'Tesouro Prefixado',\n",
              " 'Tesouro Prefixado com Juros Semestrais',\n",
              " 'Tesouro Selic']"
            ]
          },
          "metadata": {
            "tags": []
          },
          "execution_count": 17
        }
      ]
    },
    {
      "cell_type": "markdown",
      "metadata": {
        "id": "1LuLc9FWqfSu"
      },
      "source": [
        "### 2.2 Tesouro Selic"
      ]
    },
    {
      "cell_type": "code",
      "metadata": {
        "colab": {
          "base_uri": "https://localhost:8080/",
          "height": 752
        },
        "id": "cBAPUZ3gqgWu",
        "outputId": "c7049f6d-dc8a-423d-a8c9-c688dd3a8212"
      },
      "source": [
        "selic2027 = titulos.loc[('Tesouro Selic', '2027-03-01')]\n",
        "selic2027"
      ],
      "execution_count": 10,
      "outputs": [
        {
          "output_type": "execute_result",
          "data": {
            "text/html": [
              "<div>\n",
              "<style scoped>\n",
              "    .dataframe tbody tr th:only-of-type {\n",
              "        vertical-align: middle;\n",
              "    }\n",
              "\n",
              "    .dataframe tbody tr th {\n",
              "        vertical-align: top;\n",
              "    }\n",
              "\n",
              "    .dataframe thead th {\n",
              "        text-align: right;\n",
              "    }\n",
              "</style>\n",
              "<table border=\"1\" class=\"dataframe\">\n",
              "  <thead>\n",
              "    <tr style=\"text-align: right;\">\n",
              "      <th></th>\n",
              "      <th>Taxa Compra Manha</th>\n",
              "      <th>Taxa Venda Manha</th>\n",
              "      <th>PU Compra Manha</th>\n",
              "      <th>PU Venda Manha</th>\n",
              "      <th>PU Base Manha</th>\n",
              "    </tr>\n",
              "    <tr>\n",
              "      <th>Data Base</th>\n",
              "      <th></th>\n",
              "      <th></th>\n",
              "      <th></th>\n",
              "      <th></th>\n",
              "      <th></th>\n",
              "    </tr>\n",
              "  </thead>\n",
              "  <tbody>\n",
              "    <tr>\n",
              "      <th>2021-02-08</th>\n",
              "      <td>0.32</td>\n",
              "      <td>0.33</td>\n",
              "      <td>10576.87</td>\n",
              "      <td>10570.51</td>\n",
              "      <td>10569.54</td>\n",
              "    </tr>\n",
              "    <tr>\n",
              "      <th>2021-02-09</th>\n",
              "      <td>0.32</td>\n",
              "      <td>0.33</td>\n",
              "      <td>10576.96</td>\n",
              "      <td>10570.61</td>\n",
              "      <td>10569.64</td>\n",
              "    </tr>\n",
              "    <tr>\n",
              "      <th>2021-02-10</th>\n",
              "      <td>0.32</td>\n",
              "      <td>0.33</td>\n",
              "      <td>10574.59</td>\n",
              "      <td>10568.24</td>\n",
              "      <td>10567.27</td>\n",
              "    </tr>\n",
              "    <tr>\n",
              "      <th>2021-02-11</th>\n",
              "      <td>0.33</td>\n",
              "      <td>0.34</td>\n",
              "      <td>10574.56</td>\n",
              "      <td>10568.22</td>\n",
              "      <td>10567.25</td>\n",
              "    </tr>\n",
              "    <tr>\n",
              "      <th>2021-02-12</th>\n",
              "      <td>0.33</td>\n",
              "      <td>0.34</td>\n",
              "      <td>10574.79</td>\n",
              "      <td>10568.45</td>\n",
              "      <td>10567.48</td>\n",
              "    </tr>\n",
              "    <tr>\n",
              "      <th>2021-02-17</th>\n",
              "      <td>0.33</td>\n",
              "      <td>0.34</td>\n",
              "      <td>10575.34</td>\n",
              "      <td>10569.00</td>\n",
              "      <td>10568.03</td>\n",
              "    </tr>\n",
              "    <tr>\n",
              "      <th>2021-02-18</th>\n",
              "      <td>0.33</td>\n",
              "      <td>0.34</td>\n",
              "      <td>10575.51</td>\n",
              "      <td>10569.18</td>\n",
              "      <td>10568.21</td>\n",
              "    </tr>\n",
              "    <tr>\n",
              "      <th>2021-02-19</th>\n",
              "      <td>0.33</td>\n",
              "      <td>0.34</td>\n",
              "      <td>10574.98</td>\n",
              "      <td>10568.65</td>\n",
              "      <td>10567.68</td>\n",
              "    </tr>\n",
              "    <tr>\n",
              "      <th>2021-02-22</th>\n",
              "      <td>0.33</td>\n",
              "      <td>0.34</td>\n",
              "      <td>10574.13</td>\n",
              "      <td>10567.81</td>\n",
              "      <td>10566.84</td>\n",
              "    </tr>\n",
              "    <tr>\n",
              "      <th>2021-02-23</th>\n",
              "      <td>0.33</td>\n",
              "      <td>0.34</td>\n",
              "      <td>10575.70</td>\n",
              "      <td>10569.38</td>\n",
              "      <td>10568.41</td>\n",
              "    </tr>\n",
              "    <tr>\n",
              "      <th>...</th>\n",
              "      <td>...</td>\n",
              "      <td>...</td>\n",
              "      <td>...</td>\n",
              "      <td>...</td>\n",
              "      <td>...</td>\n",
              "    </tr>\n",
              "    <tr>\n",
              "      <th>2021-07-01</th>\n",
              "      <td>0.30</td>\n",
              "      <td>0.31</td>\n",
              "      <td>10716.42</td>\n",
              "      <td>10710.39</td>\n",
              "      <td>10708.49</td>\n",
              "    </tr>\n",
              "    <tr>\n",
              "      <th>2021-07-02</th>\n",
              "      <td>0.30</td>\n",
              "      <td>0.31</td>\n",
              "      <td>10719.24</td>\n",
              "      <td>10713.21</td>\n",
              "      <td>10711.31</td>\n",
              "    </tr>\n",
              "    <tr>\n",
              "      <th>2021-07-05</th>\n",
              "      <td>0.30</td>\n",
              "      <td>0.31</td>\n",
              "      <td>10721.63</td>\n",
              "      <td>10715.61</td>\n",
              "      <td>10713.71</td>\n",
              "    </tr>\n",
              "    <tr>\n",
              "      <th>2021-07-06</th>\n",
              "      <td>0.30</td>\n",
              "      <td>0.31</td>\n",
              "      <td>10723.56</td>\n",
              "      <td>10717.54</td>\n",
              "      <td>10715.64</td>\n",
              "    </tr>\n",
              "    <tr>\n",
              "      <th>2021-07-07</th>\n",
              "      <td>0.30</td>\n",
              "      <td>0.31</td>\n",
              "      <td>10725.95</td>\n",
              "      <td>10719.93</td>\n",
              "      <td>10718.03</td>\n",
              "    </tr>\n",
              "    <tr>\n",
              "      <th>2021-07-08</th>\n",
              "      <td>0.30</td>\n",
              "      <td>0.31</td>\n",
              "      <td>10729.77</td>\n",
              "      <td>10723.76</td>\n",
              "      <td>10719.96</td>\n",
              "    </tr>\n",
              "    <tr>\n",
              "      <th>2021-07-12</th>\n",
              "      <td>0.30</td>\n",
              "      <td>0.31</td>\n",
              "      <td>10731.41</td>\n",
              "      <td>10725.40</td>\n",
              "      <td>10723.49</td>\n",
              "    </tr>\n",
              "    <tr>\n",
              "      <th>2021-07-13</th>\n",
              "      <td>0.30</td>\n",
              "      <td>0.31</td>\n",
              "      <td>10733.26</td>\n",
              "      <td>10727.26</td>\n",
              "      <td>10725.36</td>\n",
              "    </tr>\n",
              "    <tr>\n",
              "      <th>2021-07-14</th>\n",
              "      <td>0.30</td>\n",
              "      <td>0.31</td>\n",
              "      <td>10736.32</td>\n",
              "      <td>10730.32</td>\n",
              "      <td>10728.42</td>\n",
              "    </tr>\n",
              "    <tr>\n",
              "      <th>2021-07-15</th>\n",
              "      <td>0.29</td>\n",
              "      <td>0.30</td>\n",
              "      <td>10740.52</td>\n",
              "      <td>10734.52</td>\n",
              "      <td>10732.63</td>\n",
              "    </tr>\n",
              "  </tbody>\n",
              "</table>\n",
              "<p>108 rows × 5 columns</p>\n",
              "</div>"
            ],
            "text/plain": [
              "            Taxa Compra Manha  Taxa Venda Manha  ...  PU Venda Manha  PU Base Manha\n",
              "Data Base                                        ...                               \n",
              "2021-02-08               0.32              0.33  ...        10570.51       10569.54\n",
              "2021-02-09               0.32              0.33  ...        10570.61       10569.64\n",
              "2021-02-10               0.32              0.33  ...        10568.24       10567.27\n",
              "2021-02-11               0.33              0.34  ...        10568.22       10567.25\n",
              "2021-02-12               0.33              0.34  ...        10568.45       10567.48\n",
              "2021-02-17               0.33              0.34  ...        10569.00       10568.03\n",
              "2021-02-18               0.33              0.34  ...        10569.18       10568.21\n",
              "2021-02-19               0.33              0.34  ...        10568.65       10567.68\n",
              "2021-02-22               0.33              0.34  ...        10567.81       10566.84\n",
              "2021-02-23               0.33              0.34  ...        10569.38       10568.41\n",
              "...                       ...               ...  ...             ...            ...\n",
              "2021-07-01               0.30              0.31  ...        10710.39       10708.49\n",
              "2021-07-02               0.30              0.31  ...        10713.21       10711.31\n",
              "2021-07-05               0.30              0.31  ...        10715.61       10713.71\n",
              "2021-07-06               0.30              0.31  ...        10717.54       10715.64\n",
              "2021-07-07               0.30              0.31  ...        10719.93       10718.03\n",
              "2021-07-08               0.30              0.31  ...        10723.76       10719.96\n",
              "2021-07-12               0.30              0.31  ...        10725.40       10723.49\n",
              "2021-07-13               0.30              0.31  ...        10727.26       10725.36\n",
              "2021-07-14               0.30              0.31  ...        10730.32       10728.42\n",
              "2021-07-15               0.29              0.30  ...        10734.52       10732.63\n",
              "\n",
              "[108 rows x 5 columns]"
            ]
          },
          "metadata": {
            "tags": []
          },
          "execution_count": 10
        }
      ]
    },
    {
      "cell_type": "code",
      "metadata": {
        "colab": {
          "base_uri": "https://localhost:8080/",
          "height": 271
        },
        "id": "d8lzsWz9qhVF",
        "outputId": "ce7f8bf0-4e89-46f4-b85c-26cae27c8cf5"
      },
      "source": [
        "selic2027['PU Base Manha'].plot();"
      ],
      "execution_count": 11,
      "outputs": [
        {
          "output_type": "display_data",
          "data": {
            "image/png": "[encoded data removed]",
            "text/plain": [
              "<Figure size 432x288 with 1 Axes>"
            ]
          },
          "metadata": {
            "tags": [],
            "needs_background": "light"
          }
        }
      ]
    },
    {
      "cell_type": "markdown",
      "metadata": {
        "id": "0GBVCr6lqkmD"
      },
      "source": [
        "### 2.3 Pré-fixado 2023"
      ]
    },
    {
      "cell_type": "code",
      "metadata": {
        "colab": {
          "base_uri": "https://localhost:8080/",
          "height": 752
        },
        "id": "GWMxyvYbqqq1",
        "outputId": "0ac0b0d6-8050-4efb-f40f-e8de979e222c"
      },
      "source": [
        "pre2023 = titulos.loc[('Tesouro Prefixado', '2023-01-01')]\n",
        "pre2023"
      ],
      "execution_count": 18,
      "outputs": [
        {
          "output_type": "execute_result",
          "data": {
            "text/html": [
              "<div>\n",
              "<style scoped>\n",
              "    .dataframe tbody tr th:only-of-type {\n",
              "        vertical-align: middle;\n",
              "    }\n",
              "\n",
              "    .dataframe tbody tr th {\n",
              "        vertical-align: top;\n",
              "    }\n",
              "\n",
              "    .dataframe thead th {\n",
              "        text-align: right;\n",
              "    }\n",
              "</style>\n",
              "<table border=\"1\" class=\"dataframe\">\n",
              "  <thead>\n",
              "    <tr style=\"text-align: right;\">\n",
              "      <th></th>\n",
              "      <th>Taxa Compra Manha</th>\n",
              "      <th>Taxa Venda Manha</th>\n",
              "      <th>PU Compra Manha</th>\n",
              "      <th>PU Venda Manha</th>\n",
              "      <th>PU Base Manha</th>\n",
              "    </tr>\n",
              "    <tr>\n",
              "      <th>Data Base</th>\n",
              "      <th></th>\n",
              "      <th></th>\n",
              "      <th></th>\n",
              "      <th></th>\n",
              "      <th></th>\n",
              "    </tr>\n",
              "  </thead>\n",
              "  <tbody>\n",
              "    <tr>\n",
              "      <th>2016-01-26</th>\n",
              "      <td>16.59</td>\n",
              "      <td>16.65</td>\n",
              "      <td>346.72</td>\n",
              "      <td>345.49</td>\n",
              "      <td>345.28</td>\n",
              "    </tr>\n",
              "    <tr>\n",
              "      <th>2016-01-27</th>\n",
              "      <td>16.32</td>\n",
              "      <td>16.38</td>\n",
              "      <td>352.52</td>\n",
              "      <td>351.27</td>\n",
              "      <td>351.06</td>\n",
              "    </tr>\n",
              "    <tr>\n",
              "      <th>2016-01-28</th>\n",
              "      <td>16.42</td>\n",
              "      <td>16.48</td>\n",
              "      <td>350.65</td>\n",
              "      <td>349.41</td>\n",
              "      <td>349.20</td>\n",
              "    </tr>\n",
              "    <tr>\n",
              "      <th>2016-01-29</th>\n",
              "      <td>15.93</td>\n",
              "      <td>15.99</td>\n",
              "      <td>361.21</td>\n",
              "      <td>359.92</td>\n",
              "      <td>359.71</td>\n",
              "    </tr>\n",
              "    <tr>\n",
              "      <th>2016-02-01</th>\n",
              "      <td>15.89</td>\n",
              "      <td>15.95</td>\n",
              "      <td>362.28</td>\n",
              "      <td>360.99</td>\n",
              "      <td>360.78</td>\n",
              "    </tr>\n",
              "    <tr>\n",
              "      <th>2016-02-02</th>\n",
              "      <td>15.62</td>\n",
              "      <td>15.68</td>\n",
              "      <td>368.36</td>\n",
              "      <td>367.04</td>\n",
              "      <td>366.83</td>\n",
              "    </tr>\n",
              "    <tr>\n",
              "      <th>2016-02-03</th>\n",
              "      <td>15.90</td>\n",
              "      <td>15.96</td>\n",
              "      <td>362.49</td>\n",
              "      <td>361.20</td>\n",
              "      <td>360.99</td>\n",
              "    </tr>\n",
              "    <tr>\n",
              "      <th>2016-02-04</th>\n",
              "      <td>15.73</td>\n",
              "      <td>15.79</td>\n",
              "      <td>366.38</td>\n",
              "      <td>365.07</td>\n",
              "      <td>364.86</td>\n",
              "    </tr>\n",
              "    <tr>\n",
              "      <th>2016-02-05</th>\n",
              "      <td>15.99</td>\n",
              "      <td>16.05</td>\n",
              "      <td>360.98</td>\n",
              "      <td>359.70</td>\n",
              "      <td>359.49</td>\n",
              "    </tr>\n",
              "    <tr>\n",
              "      <th>2016-02-10</th>\n",
              "      <td>15.97</td>\n",
              "      <td>16.03</td>\n",
              "      <td>361.62</td>\n",
              "      <td>360.34</td>\n",
              "      <td>360.13</td>\n",
              "    </tr>\n",
              "    <tr>\n",
              "      <th>...</th>\n",
              "      <td>...</td>\n",
              "      <td>...</td>\n",
              "      <td>...</td>\n",
              "      <td>...</td>\n",
              "      <td>...</td>\n",
              "    </tr>\n",
              "    <tr>\n",
              "      <th>2021-07-01</th>\n",
              "      <td>7.23</td>\n",
              "      <td>7.35</td>\n",
              "      <td>900.58</td>\n",
              "      <td>899.07</td>\n",
              "      <td>898.82</td>\n",
              "    </tr>\n",
              "    <tr>\n",
              "      <th>2021-07-02</th>\n",
              "      <td>7.27</td>\n",
              "      <td>7.39</td>\n",
              "      <td>900.33</td>\n",
              "      <td>898.82</td>\n",
              "      <td>898.57</td>\n",
              "    </tr>\n",
              "    <tr>\n",
              "      <th>2021-07-05</th>\n",
              "      <td>7.20</td>\n",
              "      <td>7.32</td>\n",
              "      <td>901.46</td>\n",
              "      <td>899.95</td>\n",
              "      <td>899.70</td>\n",
              "    </tr>\n",
              "    <tr>\n",
              "      <th>2021-07-06</th>\n",
              "      <td>7.33</td>\n",
              "      <td>7.45</td>\n",
              "      <td>900.08</td>\n",
              "      <td>898.59</td>\n",
              "      <td>898.33</td>\n",
              "    </tr>\n",
              "    <tr>\n",
              "      <th>2021-07-07</th>\n",
              "      <td>7.37</td>\n",
              "      <td>7.49</td>\n",
              "      <td>899.84</td>\n",
              "      <td>898.35</td>\n",
              "      <td>898.09</td>\n",
              "    </tr>\n",
              "    <tr>\n",
              "      <th>2021-07-08</th>\n",
              "      <td>7.32</td>\n",
              "      <td>7.44</td>\n",
              "      <td>900.96</td>\n",
              "      <td>899.48</td>\n",
              "      <td>898.97</td>\n",
              "    </tr>\n",
              "    <tr>\n",
              "      <th>2021-07-12</th>\n",
              "      <td>7.43</td>\n",
              "      <td>7.55</td>\n",
              "      <td>899.86</td>\n",
              "      <td>898.38</td>\n",
              "      <td>898.12</td>\n",
              "    </tr>\n",
              "    <tr>\n",
              "      <th>2021-07-13</th>\n",
              "      <td>7.45</td>\n",
              "      <td>7.57</td>\n",
              "      <td>899.87</td>\n",
              "      <td>898.39</td>\n",
              "      <td>898.13</td>\n",
              "    </tr>\n",
              "    <tr>\n",
              "      <th>2021-07-14</th>\n",
              "      <td>7.46</td>\n",
              "      <td>7.58</td>\n",
              "      <td>900.00</td>\n",
              "      <td>898.53</td>\n",
              "      <td>898.27</td>\n",
              "    </tr>\n",
              "    <tr>\n",
              "      <th>2021-07-15</th>\n",
              "      <td>7.45</td>\n",
              "      <td>7.57</td>\n",
              "      <td>900.38</td>\n",
              "      <td>898.91</td>\n",
              "      <td>898.65</td>\n",
              "    </tr>\n",
              "  </tbody>\n",
              "</table>\n",
              "<p>1359 rows × 5 columns</p>\n",
              "</div>"
            ],
            "text/plain": [
              "            Taxa Compra Manha  Taxa Venda Manha  ...  PU Venda Manha  PU Base Manha\n",
              "Data Base                                        ...                               \n",
              "2016-01-26              16.59             16.65  ...          345.49         345.28\n",
              "2016-01-27              16.32             16.38  ...          351.27         351.06\n",
              "2016-01-28              16.42             16.48  ...          349.41         349.20\n",
              "2016-01-29              15.93             15.99  ...          359.92         359.71\n",
              "2016-02-01              15.89             15.95  ...          360.99         360.78\n",
              "2016-02-02              15.62             15.68  ...          367.04         366.83\n",
              "2016-02-03              15.90             15.96  ...          361.20         360.99\n",
              "2016-02-04              15.73             15.79  ...          365.07         364.86\n",
              "2016-02-05              15.99             16.05  ...          359.70         359.49\n",
              "2016-02-10              15.97             16.03  ...          360.34         360.13\n",
              "...                       ...               ...  ...             ...            ...\n",
              "2021-07-01               7.23              7.35  ...          899.07         898.82\n",
              "2021-07-02               7.27              7.39  ...          898.82         898.57\n",
              "2021-07-05               7.20              7.32  ...          899.95         899.70\n",
              "2021-07-06               7.33              7.45  ...          898.59         898.33\n",
              "2021-07-07               7.37              7.49  ...          898.35         898.09\n",
              "2021-07-08               7.32              7.44  ...          899.48         898.97\n",
              "2021-07-12               7.43              7.55  ...          898.38         898.12\n",
              "2021-07-13               7.45              7.57  ...          898.39         898.13\n",
              "2021-07-14               7.46              7.58  ...          898.53         898.27\n",
              "2021-07-15               7.45              7.57  ...          898.91         898.65\n",
              "\n",
              "[1359 rows x 5 columns]"
            ]
          },
          "metadata": {
            "tags": []
          },
          "execution_count": 18
        }
      ]
    },
    {
      "cell_type": "code",
      "metadata": {
        "colab": {
          "base_uri": "https://localhost:8080/",
          "height": 264
        },
        "id": "T4Tn7vDyqoJX",
        "outputId": "8a1ffd11-dccc-41f0-ec3b-f86608b75844"
      },
      "source": [
        "pre2023['PU Compra Manha'].plot();"
      ],
      "execution_count": 19,
      "outputs": [
        {
          "output_type": "display_data",
          "data": {
            "image/png": "[encoded data removed]",
            "text/plain": [
              "<Figure size 432x288 with 1 Axes>"
            ]
          },
          "metadata": {
            "tags": [],
            "needs_background": "light"
          }
        }
      ]
    },
    {
      "cell_type": "code",
      "metadata": {
        "colab": {
          "base_uri": "https://localhost:8080/",
          "height": 264
        },
        "id": "RtNQ0bMdqs7p",
        "outputId": "a9026491-113b-44f8-c679-6a907fe3a0af"
      },
      "source": [
        "pre2023['Taxa Compra Manha'].plot();"
      ],
      "execution_count": 20,
      "outputs": [
        {
          "output_type": "display_data",
          "data": {
            "image/png": "[encoded data removed]",
            "text/plain": [
              "<Figure size 432x288 with 1 Axes>"
            ]
          },
          "metadata": {
            "tags": [],
            "needs_background": "light"
          }
        }
      ]
    },
    {
      "cell_type": "code",
      "metadata": {
        "colab": {
          "base_uri": "https://localhost:8080/",
          "height": 264
        },
        "id": "zpjd3bWlqxOn",
        "outputId": "bce3abb7-727e-4729-a31d-ad6ead771ed3"
      },
      "source": [
        "(pre2023['Taxa Compra Manha'] / pre2023['Taxa Compra Manha'].iloc[0]).plot();\n",
        "(pre2023['PU Compra Manha'] / pre2023['PU Compra Manha'].iloc[0]).plot();"
      ],
      "execution_count": 21,
      "outputs": [
        {
          "output_type": "display_data",
          "data": {
            "image/png": "[encoded data removed]",
            "text/plain": [
              "<Figure size 432x288 with 1 Axes>"
            ]
          },
          "metadata": {
            "tags": [],
            "needs_background": "light"
          }
        }
      ]
    },
    {
      "cell_type": "markdown",
      "metadata": {
        "id": "_pkogTKyqzVr"
      },
      "source": [
        "### 2.4 Pré-fixado 2026"
      ]
    },
    {
      "cell_type": "code",
      "metadata": {
        "colab": {
          "base_uri": "https://localhost:8080/",
          "height": 752
        },
        "id": "rgSJK-pCqzDf",
        "outputId": "5af6cad7-64f5-4b31-e45a-ba56340d6806"
      },
      "source": [
        "pre2026 = titulos.loc[('Tesouro Prefixado', '2026-01-01')]\n",
        "pre2026"
      ],
      "execution_count": 22,
      "outputs": [
        {
          "output_type": "execute_result",
          "data": {
            "text/html": [
              "<div>\n",
              "<style scoped>\n",
              "    .dataframe tbody tr th:only-of-type {\n",
              "        vertical-align: middle;\n",
              "    }\n",
              "\n",
              "    .dataframe tbody tr th {\n",
              "        vertical-align: top;\n",
              "    }\n",
              "\n",
              "    .dataframe thead th {\n",
              "        text-align: right;\n",
              "    }\n",
              "</style>\n",
              "<table border=\"1\" class=\"dataframe\">\n",
              "  <thead>\n",
              "    <tr style=\"text-align: right;\">\n",
              "      <th></th>\n",
              "      <th>Taxa Compra Manha</th>\n",
              "      <th>Taxa Venda Manha</th>\n",
              "      <th>PU Compra Manha</th>\n",
              "      <th>PU Venda Manha</th>\n",
              "      <th>PU Base Manha</th>\n",
              "    </tr>\n",
              "    <tr>\n",
              "      <th>Data Base</th>\n",
              "      <th></th>\n",
              "      <th></th>\n",
              "      <th></th>\n",
              "      <th></th>\n",
              "      <th></th>\n",
              "    </tr>\n",
              "  </thead>\n",
              "  <tbody>\n",
              "    <tr>\n",
              "      <th>2020-02-10</th>\n",
              "      <td>6.36</td>\n",
              "      <td>6.48</td>\n",
              "      <td>696.02</td>\n",
              "      <td>691.42</td>\n",
              "      <td>691.25</td>\n",
              "    </tr>\n",
              "    <tr>\n",
              "      <th>2020-02-11</th>\n",
              "      <td>6.26</td>\n",
              "      <td>6.38</td>\n",
              "      <td>700.05</td>\n",
              "      <td>695.42</td>\n",
              "      <td>695.25</td>\n",
              "    </tr>\n",
              "    <tr>\n",
              "      <th>2020-02-12</th>\n",
              "      <td>6.22</td>\n",
              "      <td>6.34</td>\n",
              "      <td>701.76</td>\n",
              "      <td>697.13</td>\n",
              "      <td>696.96</td>\n",
              "    </tr>\n",
              "    <tr>\n",
              "      <th>2020-02-13</th>\n",
              "      <td>6.28</td>\n",
              "      <td>6.40</td>\n",
              "      <td>699.61</td>\n",
              "      <td>695.00</td>\n",
              "      <td>694.82</td>\n",
              "    </tr>\n",
              "    <tr>\n",
              "      <th>2020-02-14</th>\n",
              "      <td>6.23</td>\n",
              "      <td>6.35</td>\n",
              "      <td>701.71</td>\n",
              "      <td>697.08</td>\n",
              "      <td>696.91</td>\n",
              "    </tr>\n",
              "    <tr>\n",
              "      <th>2020-02-17</th>\n",
              "      <td>6.19</td>\n",
              "      <td>6.31</td>\n",
              "      <td>703.43</td>\n",
              "      <td>698.79</td>\n",
              "      <td>698.62</td>\n",
              "    </tr>\n",
              "    <tr>\n",
              "      <th>2020-02-18</th>\n",
              "      <td>6.21</td>\n",
              "      <td>6.33</td>\n",
              "      <td>702.82</td>\n",
              "      <td>698.19</td>\n",
              "      <td>698.02</td>\n",
              "    </tr>\n",
              "    <tr>\n",
              "      <th>2020-02-19</th>\n",
              "      <td>6.24</td>\n",
              "      <td>6.36</td>\n",
              "      <td>701.83</td>\n",
              "      <td>697.21</td>\n",
              "      <td>697.04</td>\n",
              "    </tr>\n",
              "    <tr>\n",
              "      <th>2020-02-20</th>\n",
              "      <td>6.21</td>\n",
              "      <td>6.33</td>\n",
              "      <td>703.16</td>\n",
              "      <td>698.53</td>\n",
              "      <td>698.36</td>\n",
              "    </tr>\n",
              "    <tr>\n",
              "      <th>2020-02-21</th>\n",
              "      <td>6.28</td>\n",
              "      <td>6.40</td>\n",
              "      <td>700.63</td>\n",
              "      <td>696.02</td>\n",
              "      <td>695.85</td>\n",
              "    </tr>\n",
              "    <tr>\n",
              "      <th>...</th>\n",
              "      <td>...</td>\n",
              "      <td>...</td>\n",
              "      <td>...</td>\n",
              "      <td>...</td>\n",
              "      <td>...</td>\n",
              "    </tr>\n",
              "    <tr>\n",
              "      <th>2021-07-01</th>\n",
              "      <td>8.51</td>\n",
              "      <td>8.63</td>\n",
              "      <td>692.44</td>\n",
              "      <td>689.01</td>\n",
              "      <td>688.78</td>\n",
              "    </tr>\n",
              "    <tr>\n",
              "      <th>2021-07-02</th>\n",
              "      <td>8.60</td>\n",
              "      <td>8.72</td>\n",
              "      <td>690.09</td>\n",
              "      <td>686.67</td>\n",
              "      <td>686.44</td>\n",
              "    </tr>\n",
              "    <tr>\n",
              "      <th>2021-07-05</th>\n",
              "      <td>8.60</td>\n",
              "      <td>8.72</td>\n",
              "      <td>690.31</td>\n",
              "      <td>686.90</td>\n",
              "      <td>686.67</td>\n",
              "    </tr>\n",
              "    <tr>\n",
              "      <th>2021-07-06</th>\n",
              "      <td>8.72</td>\n",
              "      <td>8.84</td>\n",
              "      <td>687.13</td>\n",
              "      <td>683.73</td>\n",
              "      <td>683.50</td>\n",
              "    </tr>\n",
              "    <tr>\n",
              "      <th>2021-07-07</th>\n",
              "      <td>8.72</td>\n",
              "      <td>8.84</td>\n",
              "      <td>687.35</td>\n",
              "      <td>683.96</td>\n",
              "      <td>683.73</td>\n",
              "    </tr>\n",
              "    <tr>\n",
              "      <th>2021-07-08</th>\n",
              "      <td>8.70</td>\n",
              "      <td>8.82</td>\n",
              "      <td>688.38</td>\n",
              "      <td>684.99</td>\n",
              "      <td>684.53</td>\n",
              "    </tr>\n",
              "    <tr>\n",
              "      <th>2021-07-12</th>\n",
              "      <td>8.74</td>\n",
              "      <td>8.86</td>\n",
              "      <td>687.47</td>\n",
              "      <td>684.09</td>\n",
              "      <td>683.86</td>\n",
              "    </tr>\n",
              "    <tr>\n",
              "      <th>2021-07-13</th>\n",
              "      <td>8.78</td>\n",
              "      <td>8.90</td>\n",
              "      <td>686.57</td>\n",
              "      <td>683.20</td>\n",
              "      <td>682.97</td>\n",
              "    </tr>\n",
              "    <tr>\n",
              "      <th>2021-07-14</th>\n",
              "      <td>8.76</td>\n",
              "      <td>8.88</td>\n",
              "      <td>687.37</td>\n",
              "      <td>683.99</td>\n",
              "      <td>683.76</td>\n",
              "    </tr>\n",
              "    <tr>\n",
              "      <th>2021-07-15</th>\n",
              "      <td>8.73</td>\n",
              "      <td>8.85</td>\n",
              "      <td>688.44</td>\n",
              "      <td>685.06</td>\n",
              "      <td>684.83</td>\n",
              "    </tr>\n",
              "  </tbody>\n",
              "</table>\n",
              "<p>354 rows × 5 columns</p>\n",
              "</div>"
            ],
            "text/plain": [
              "            Taxa Compra Manha  Taxa Venda Manha  ...  PU Venda Manha  PU Base Manha\n",
              "Data Base                                        ...                               \n",
              "2020-02-10               6.36              6.48  ...          691.42         691.25\n",
              "2020-02-11               6.26              6.38  ...          695.42         695.25\n",
              "2020-02-12               6.22              6.34  ...          697.13         696.96\n",
              "2020-02-13               6.28              6.40  ...          695.00         694.82\n",
              "2020-02-14               6.23              6.35  ...          697.08         696.91\n",
              "2020-02-17               6.19              6.31  ...          698.79         698.62\n",
              "2020-02-18               6.21              6.33  ...          698.19         698.02\n",
              "2020-02-19               6.24              6.36  ...          697.21         697.04\n",
              "2020-02-20               6.21              6.33  ...          698.53         698.36\n",
              "2020-02-21               6.28              6.40  ...          696.02         695.85\n",
              "...                       ...               ...  ...             ...            ...\n",
              "2021-07-01               8.51              8.63  ...          689.01         688.78\n",
              "2021-07-02               8.60              8.72  ...          686.67         686.44\n",
              "2021-07-05               8.60              8.72  ...          686.90         686.67\n",
              "2021-07-06               8.72              8.84  ...          683.73         683.50\n",
              "2021-07-07               8.72              8.84  ...          683.96         683.73\n",
              "2021-07-08               8.70              8.82  ...          684.99         684.53\n",
              "2021-07-12               8.74              8.86  ...          684.09         683.86\n",
              "2021-07-13               8.78              8.90  ...          683.20         682.97\n",
              "2021-07-14               8.76              8.88  ...          683.99         683.76\n",
              "2021-07-15               8.73              8.85  ...          685.06         684.83\n",
              "\n",
              "[354 rows x 5 columns]"
            ]
          },
          "metadata": {
            "tags": []
          },
          "execution_count": 22
        }
      ]
    },
    {
      "cell_type": "code",
      "metadata": {
        "colab": {
          "base_uri": "https://localhost:8080/",
          "height": 271
        },
        "id": "_TkL4ZWOq2Pj",
        "outputId": "0387f40c-cd9b-4b23-c29d-b6a18bc71080"
      },
      "source": [
        "pre2026['PU Compra Manha'].plot();"
      ],
      "execution_count": 23,
      "outputs": [
        {
          "output_type": "display_data",
          "data": {
            "image/png": "[encoded data removed]",
            "text/plain": [
              "<Figure size 432x288 with 1 Axes>"
            ]
          },
          "metadata": {
            "tags": [],
            "needs_background": "light"
          }
        }
      ]
    },
    {
      "cell_type": "code",
      "metadata": {
        "colab": {
          "base_uri": "https://localhost:8080/",
          "height": 271
        },
        "id": "eoAo1agyq3bJ",
        "outputId": "ab9ebe5c-10e6-40c5-e617-7161feb7b847"
      },
      "source": [
        "pre2026['Taxa Compra Manha'].plot();"
      ],
      "execution_count": 24,
      "outputs": [
        {
          "output_type": "display_data",
          "data": {
            "image/png": "[encoded data removed]",
            "text/plain": [
              "<Figure size 432x288 with 1 Axes>"
            ]
          },
          "metadata": {
            "tags": [],
            "needs_background": "light"
          }
        }
      ]
    },
    {
      "cell_type": "code",
      "metadata": {
        "colab": {
          "base_uri": "https://localhost:8080/",
          "height": 271
        },
        "id": "QRy9zHl3q4Qn",
        "outputId": "771b474c-4b60-4f36-91ec-4dbcda59e472"
      },
      "source": [
        "(pre2026['Taxa Compra Manha'] / pre2026['Taxa Compra Manha'].iloc[0]).plot();\n",
        "(pre2026['PU Compra Manha'] / pre2026['PU Compra Manha'].iloc[0]).plot();"
      ],
      "execution_count": 25,
      "outputs": [
        {
          "output_type": "display_data",
          "data": {
            "image/png": "[encoded data removed]",
            "text/plain": [
              "<Figure size 432x288 with 1 Axes>"
            ]
          },
          "metadata": {
            "tags": [],
            "needs_background": "light"
          }
        }
      ]
    },
    {
      "cell_type": "markdown",
      "metadata": {
        "id": "nUViThbRq5rX"
      },
      "source": [
        "### 2.5 Pré-fixado 2031 com Juros Semestrais"
      ]
    },
    {
      "cell_type": "code",
      "metadata": {
        "colab": {
          "base_uri": "https://localhost:8080/",
          "height": 752
        },
        "id": "OU_P886Pq75T",
        "outputId": "6177e777-b3eb-466e-b3af-e2fd18d6f677"
      },
      "source": [
        "pre2031 = titulos.loc[('Tesouro Prefixado com Juros Semestrais', '2031-01-01')]\n",
        "pre2031"
      ],
      "execution_count": 26,
      "outputs": [
        {
          "output_type": "execute_result",
          "data": {
            "text/html": [
              "<div>\n",
              "<style scoped>\n",
              "    .dataframe tbody tr th:only-of-type {\n",
              "        vertical-align: middle;\n",
              "    }\n",
              "\n",
              "    .dataframe tbody tr th {\n",
              "        vertical-align: top;\n",
              "    }\n",
              "\n",
              "    .dataframe thead th {\n",
              "        text-align: right;\n",
              "    }\n",
              "</style>\n",
              "<table border=\"1\" class=\"dataframe\">\n",
              "  <thead>\n",
              "    <tr style=\"text-align: right;\">\n",
              "      <th></th>\n",
              "      <th>Taxa Compra Manha</th>\n",
              "      <th>Taxa Venda Manha</th>\n",
              "      <th>PU Compra Manha</th>\n",
              "      <th>PU Venda Manha</th>\n",
              "      <th>PU Base Manha</th>\n",
              "    </tr>\n",
              "    <tr>\n",
              "      <th>Data Base</th>\n",
              "      <th></th>\n",
              "      <th></th>\n",
              "      <th></th>\n",
              "      <th></th>\n",
              "      <th></th>\n",
              "    </tr>\n",
              "  </thead>\n",
              "  <tbody>\n",
              "    <tr>\n",
              "      <th>2020-02-10</th>\n",
              "      <td>6.69</td>\n",
              "      <td>6.81</td>\n",
              "      <td>1257.57</td>\n",
              "      <td>1247.33</td>\n",
              "      <td>1247.00</td>\n",
              "    </tr>\n",
              "    <tr>\n",
              "      <th>2020-02-11</th>\n",
              "      <td>6.57</td>\n",
              "      <td>6.69</td>\n",
              "      <td>1268.26</td>\n",
              "      <td>1257.90</td>\n",
              "      <td>1257.57</td>\n",
              "    </tr>\n",
              "    <tr>\n",
              "      <th>2020-02-12</th>\n",
              "      <td>6.56</td>\n",
              "      <td>6.68</td>\n",
              "      <td>1269.45</td>\n",
              "      <td>1259.08</td>\n",
              "      <td>1258.76</td>\n",
              "    </tr>\n",
              "    <tr>\n",
              "      <th>2020-02-13</th>\n",
              "      <td>6.64</td>\n",
              "      <td>6.76</td>\n",
              "      <td>1262.85</td>\n",
              "      <td>1252.56</td>\n",
              "      <td>1252.23</td>\n",
              "    </tr>\n",
              "    <tr>\n",
              "      <th>2020-02-14</th>\n",
              "      <td>6.56</td>\n",
              "      <td>6.68</td>\n",
              "      <td>1270.09</td>\n",
              "      <td>1259.73</td>\n",
              "      <td>1259.40</td>\n",
              "    </tr>\n",
              "    <tr>\n",
              "      <th>2020-02-17</th>\n",
              "      <td>6.54</td>\n",
              "      <td>6.66</td>\n",
              "      <td>1272.15</td>\n",
              "      <td>1261.77</td>\n",
              "      <td>1261.45</td>\n",
              "    </tr>\n",
              "    <tr>\n",
              "      <th>2020-02-18</th>\n",
              "      <td>6.59</td>\n",
              "      <td>6.71</td>\n",
              "      <td>1268.13</td>\n",
              "      <td>1257.80</td>\n",
              "      <td>1257.48</td>\n",
              "    </tr>\n",
              "    <tr>\n",
              "      <th>2020-02-19</th>\n",
              "      <td>6.63</td>\n",
              "      <td>6.75</td>\n",
              "      <td>1265.00</td>\n",
              "      <td>1254.71</td>\n",
              "      <td>1254.39</td>\n",
              "    </tr>\n",
              "    <tr>\n",
              "      <th>2020-02-20</th>\n",
              "      <td>6.62</td>\n",
              "      <td>6.74</td>\n",
              "      <td>1266.18</td>\n",
              "      <td>1255.89</td>\n",
              "      <td>1255.56</td>\n",
              "    </tr>\n",
              "    <tr>\n",
              "      <th>2020-02-21</th>\n",
              "      <td>6.74</td>\n",
              "      <td>6.86</td>\n",
              "      <td>1256.21</td>\n",
              "      <td>1246.04</td>\n",
              "      <td>1245.71</td>\n",
              "    </tr>\n",
              "    <tr>\n",
              "      <th>...</th>\n",
              "      <td>...</td>\n",
              "      <td>...</td>\n",
              "      <td>...</td>\n",
              "      <td>...</td>\n",
              "      <td>...</td>\n",
              "    </tr>\n",
              "    <tr>\n",
              "      <th>2021-07-01</th>\n",
              "      <td>9.12</td>\n",
              "      <td>9.24</td>\n",
              "      <td>1054.88</td>\n",
              "      <td>1047.42</td>\n",
              "      <td>1047.05</td>\n",
              "    </tr>\n",
              "    <tr>\n",
              "      <th>2021-07-02</th>\n",
              "      <td>9.16</td>\n",
              "      <td>9.28</td>\n",
              "      <td>1052.75</td>\n",
              "      <td>1045.31</td>\n",
              "      <td>1044.94</td>\n",
              "    </tr>\n",
              "    <tr>\n",
              "      <th>2021-07-05</th>\n",
              "      <td>9.19</td>\n",
              "      <td>9.31</td>\n",
              "      <td>1051.25</td>\n",
              "      <td>1043.83</td>\n",
              "      <td>1043.46</td>\n",
              "    </tr>\n",
              "    <tr>\n",
              "      <th>2021-07-06</th>\n",
              "      <td>9.26</td>\n",
              "      <td>9.38</td>\n",
              "      <td>1047.28</td>\n",
              "      <td>1039.91</td>\n",
              "      <td>1039.54</td>\n",
              "    </tr>\n",
              "    <tr>\n",
              "      <th>2021-07-07</th>\n",
              "      <td>9.27</td>\n",
              "      <td>9.39</td>\n",
              "      <td>1047.03</td>\n",
              "      <td>1039.67</td>\n",
              "      <td>1039.30</td>\n",
              "    </tr>\n",
              "    <tr>\n",
              "      <th>2021-07-08</th>\n",
              "      <td>9.26</td>\n",
              "      <td>9.38</td>\n",
              "      <td>1048.39</td>\n",
              "      <td>1041.02</td>\n",
              "      <td>1040.28</td>\n",
              "    </tr>\n",
              "    <tr>\n",
              "      <th>2021-07-12</th>\n",
              "      <td>9.32</td>\n",
              "      <td>9.44</td>\n",
              "      <td>1045.06</td>\n",
              "      <td>1037.73</td>\n",
              "      <td>1037.36</td>\n",
              "    </tr>\n",
              "    <tr>\n",
              "      <th>2021-07-13</th>\n",
              "      <td>9.30</td>\n",
              "      <td>9.42</td>\n",
              "      <td>1046.66</td>\n",
              "      <td>1039.32</td>\n",
              "      <td>1038.95</td>\n",
              "    </tr>\n",
              "    <tr>\n",
              "      <th>2021-07-14</th>\n",
              "      <td>9.33</td>\n",
              "      <td>9.45</td>\n",
              "      <td>1045.19</td>\n",
              "      <td>1037.87</td>\n",
              "      <td>1037.50</td>\n",
              "    </tr>\n",
              "    <tr>\n",
              "      <th>2021-07-15</th>\n",
              "      <td>9.26</td>\n",
              "      <td>9.38</td>\n",
              "      <td>1049.86</td>\n",
              "      <td>1042.50</td>\n",
              "      <td>1042.13</td>\n",
              "    </tr>\n",
              "  </tbody>\n",
              "</table>\n",
              "<p>354 rows × 5 columns</p>\n",
              "</div>"
            ],
            "text/plain": [
              "            Taxa Compra Manha  Taxa Venda Manha  ...  PU Venda Manha  PU Base Manha\n",
              "Data Base                                        ...                               \n",
              "2020-02-10               6.69              6.81  ...         1247.33        1247.00\n",
              "2020-02-11               6.57              6.69  ...         1257.90        1257.57\n",
              "2020-02-12               6.56              6.68  ...         1259.08        1258.76\n",
              "2020-02-13               6.64              6.76  ...         1252.56        1252.23\n",
              "2020-02-14               6.56              6.68  ...         1259.73        1259.40\n",
              "2020-02-17               6.54              6.66  ...         1261.77        1261.45\n",
              "2020-02-18               6.59              6.71  ...         1257.80        1257.48\n",
              "2020-02-19               6.63              6.75  ...         1254.71        1254.39\n",
              "2020-02-20               6.62              6.74  ...         1255.89        1255.56\n",
              "2020-02-21               6.74              6.86  ...         1246.04        1245.71\n",
              "...                       ...               ...  ...             ...            ...\n",
              "2021-07-01               9.12              9.24  ...         1047.42        1047.05\n",
              "2021-07-02               9.16              9.28  ...         1045.31        1044.94\n",
              "2021-07-05               9.19              9.31  ...         1043.83        1043.46\n",
              "2021-07-06               9.26              9.38  ...         1039.91        1039.54\n",
              "2021-07-07               9.27              9.39  ...         1039.67        1039.30\n",
              "2021-07-08               9.26              9.38  ...         1041.02        1040.28\n",
              "2021-07-12               9.32              9.44  ...         1037.73        1037.36\n",
              "2021-07-13               9.30              9.42  ...         1039.32        1038.95\n",
              "2021-07-14               9.33              9.45  ...         1037.87        1037.50\n",
              "2021-07-15               9.26              9.38  ...         1042.50        1042.13\n",
              "\n",
              "[354 rows x 5 columns]"
            ]
          },
          "metadata": {
            "tags": []
          },
          "execution_count": 26
        }
      ]
    },
    {
      "cell_type": "code",
      "metadata": {
        "colab": {
          "base_uri": "https://localhost:8080/",
          "height": 271
        },
        "id": "8i6FbGnnq9Oz",
        "outputId": "120e6d60-ed95-4b2b-b048-2856ce03941a"
      },
      "source": [
        "pre2031['PU Compra Manha'].plot();"
      ],
      "execution_count": 27,
      "outputs": [
        {
          "output_type": "display_data",
          "data": {
            "image/png": "[encoded data removed]",
            "text/plain": [
              "<Figure size 432x288 with 1 Axes>"
            ]
          },
          "metadata": {
            "tags": [],
            "needs_background": "light"
          }
        }
      ]
    },
    {
      "cell_type": "code",
      "metadata": {
        "colab": {
          "base_uri": "https://localhost:8080/",
          "height": 271
        },
        "id": "PvU3R05Jq-Yj",
        "outputId": "a3645623-f1ec-419b-9ec0-3b84db3e3ab4"
      },
      "source": [
        "pre2031['Taxa Compra Manha'].plot();"
      ],
      "execution_count": 28,
      "outputs": [
        {
          "output_type": "display_data",
          "data": {
            "image/png": "[encoded data removed]",
            "text/plain": [
              "<Figure size 432x288 with 1 Axes>"
            ]
          },
          "metadata": {
            "tags": [],
            "needs_background": "light"
          }
        }
      ]
    },
    {
      "cell_type": "code",
      "metadata": {
        "colab": {
          "base_uri": "https://localhost:8080/",
          "height": 271
        },
        "id": "SJ-wB4IBq_Up",
        "outputId": "348f9e16-b6a4-4b3c-cfef-7e86e9b0e5d3"
      },
      "source": [
        "(pre2031['Taxa Compra Manha'] / pre2031['Taxa Compra Manha'].iloc[0]).plot();\n",
        "(pre2031['PU Compra Manha'] / pre2031['PU Compra Manha'].iloc[0]).plot();"
      ],
      "execution_count": 29,
      "outputs": [
        {
          "output_type": "display_data",
          "data": {
            "image/png": "[encoded data removed]",
            "text/plain": [
              "<Figure size 432x288 with 1 Axes>"
            ]
          },
          "metadata": {
            "tags": [],
            "needs_background": "light"
          }
        }
      ]
    },
    {
      "cell_type": "markdown",
      "metadata": {
        "id": "wPSpi7hsrBVB"
      },
      "source": [
        "### 2.6 Tesouro IPCA+ 2026"
      ]
    },
    {
      "cell_type": "code",
      "metadata": {
        "colab": {
          "base_uri": "https://localhost:8080/",
          "height": 752
        },
        "id": "KS0fPgMIrAgD",
        "outputId": "58f8efd5-369b-46f8-867f-e3ec7e31a6c1"
      },
      "source": [
        "ipca2026 = titulos.loc[('Tesouro IPCA+', '2026-08-15')]\n",
        "ipca2026"
      ],
      "execution_count": 30,
      "outputs": [
        {
          "output_type": "execute_result",
          "data": {
            "text/html": [
              "<div>\n",
              "<style scoped>\n",
              "    .dataframe tbody tr th:only-of-type {\n",
              "        vertical-align: middle;\n",
              "    }\n",
              "\n",
              "    .dataframe tbody tr th {\n",
              "        vertical-align: top;\n",
              "    }\n",
              "\n",
              "    .dataframe thead th {\n",
              "        text-align: right;\n",
              "    }\n",
              "</style>\n",
              "<table border=\"1\" class=\"dataframe\">\n",
              "  <thead>\n",
              "    <tr style=\"text-align: right;\">\n",
              "      <th></th>\n",
              "      <th>Taxa Compra Manha</th>\n",
              "      <th>Taxa Venda Manha</th>\n",
              "      <th>PU Compra Manha</th>\n",
              "      <th>PU Venda Manha</th>\n",
              "      <th>PU Base Manha</th>\n",
              "    </tr>\n",
              "    <tr>\n",
              "      <th>Data Base</th>\n",
              "      <th></th>\n",
              "      <th></th>\n",
              "      <th></th>\n",
              "      <th></th>\n",
              "      <th></th>\n",
              "    </tr>\n",
              "  </thead>\n",
              "  <tbody>\n",
              "    <tr>\n",
              "      <th>2020-02-10</th>\n",
              "      <td>2.65</td>\n",
              "      <td>2.77</td>\n",
              "      <td>2785.55</td>\n",
              "      <td>2764.50</td>\n",
              "      <td>2764.01</td>\n",
              "    </tr>\n",
              "    <tr>\n",
              "      <th>2020-02-11</th>\n",
              "      <td>2.58</td>\n",
              "      <td>2.70</td>\n",
              "      <td>2798.39</td>\n",
              "      <td>2777.24</td>\n",
              "      <td>2776.76</td>\n",
              "    </tr>\n",
              "    <tr>\n",
              "      <th>2020-02-12</th>\n",
              "      <td>2.56</td>\n",
              "      <td>2.68</td>\n",
              "      <td>2802.40</td>\n",
              "      <td>2781.23</td>\n",
              "      <td>2780.75</td>\n",
              "    </tr>\n",
              "    <tr>\n",
              "      <th>2020-02-13</th>\n",
              "      <td>2.58</td>\n",
              "      <td>2.70</td>\n",
              "      <td>2799.33</td>\n",
              "      <td>2778.20</td>\n",
              "      <td>2777.72</td>\n",
              "    </tr>\n",
              "    <tr>\n",
              "      <th>2020-02-14</th>\n",
              "      <td>2.54</td>\n",
              "      <td>2.66</td>\n",
              "      <td>2807.15</td>\n",
              "      <td>2785.97</td>\n",
              "      <td>2785.22</td>\n",
              "    </tr>\n",
              "    <tr>\n",
              "      <th>2020-02-17</th>\n",
              "      <td>2.49</td>\n",
              "      <td>2.61</td>\n",
              "      <td>2816.44</td>\n",
              "      <td>2795.20</td>\n",
              "      <td>2794.77</td>\n",
              "    </tr>\n",
              "    <tr>\n",
              "      <th>2020-02-18</th>\n",
              "      <td>2.53</td>\n",
              "      <td>2.65</td>\n",
              "      <td>2809.76</td>\n",
              "      <td>2788.58</td>\n",
              "      <td>2788.15</td>\n",
              "    </tr>\n",
              "    <tr>\n",
              "      <th>2020-02-19</th>\n",
              "      <td>2.56</td>\n",
              "      <td>2.68</td>\n",
              "      <td>2804.86</td>\n",
              "      <td>2783.74</td>\n",
              "      <td>2783.31</td>\n",
              "    </tr>\n",
              "    <tr>\n",
              "      <th>2020-02-20</th>\n",
              "      <td>2.50</td>\n",
              "      <td>2.62</td>\n",
              "      <td>2815.90</td>\n",
              "      <td>2794.70</td>\n",
              "      <td>2794.28</td>\n",
              "    </tr>\n",
              "    <tr>\n",
              "      <th>2020-02-21</th>\n",
              "      <td>2.55</td>\n",
              "      <td>2.67</td>\n",
              "      <td>2808.11</td>\n",
              "      <td>2786.99</td>\n",
              "      <td>2785.97</td>\n",
              "    </tr>\n",
              "    <tr>\n",
              "      <th>...</th>\n",
              "      <td>...</td>\n",
              "      <td>...</td>\n",
              "      <td>...</td>\n",
              "      <td>...</td>\n",
              "      <td>...</td>\n",
              "    </tr>\n",
              "    <tr>\n",
              "      <th>2021-07-01</th>\n",
              "      <td>3.77</td>\n",
              "      <td>3.89</td>\n",
              "      <td>2951.36</td>\n",
              "      <td>2933.96</td>\n",
              "      <td>2932.95</td>\n",
              "    </tr>\n",
              "    <tr>\n",
              "      <th>2021-07-02</th>\n",
              "      <td>3.78</td>\n",
              "      <td>3.90</td>\n",
              "      <td>2952.04</td>\n",
              "      <td>2934.66</td>\n",
              "      <td>2932.52</td>\n",
              "    </tr>\n",
              "    <tr>\n",
              "      <th>2021-07-05</th>\n",
              "      <td>3.74</td>\n",
              "      <td>3.86</td>\n",
              "      <td>2958.87</td>\n",
              "      <td>2941.45</td>\n",
              "      <td>2940.44</td>\n",
              "    </tr>\n",
              "    <tr>\n",
              "      <th>2021-07-06</th>\n",
              "      <td>3.76</td>\n",
              "      <td>3.88</td>\n",
              "      <td>2956.96</td>\n",
              "      <td>2939.57</td>\n",
              "      <td>2938.56</td>\n",
              "    </tr>\n",
              "    <tr>\n",
              "      <th>2021-07-07</th>\n",
              "      <td>3.75</td>\n",
              "      <td>3.87</td>\n",
              "      <td>2959.42</td>\n",
              "      <td>2942.02</td>\n",
              "      <td>2941.01</td>\n",
              "    </tr>\n",
              "    <tr>\n",
              "      <th>2021-07-08</th>\n",
              "      <td>3.73</td>\n",
              "      <td>3.85</td>\n",
              "      <td>2964.15</td>\n",
              "      <td>2946.75</td>\n",
              "      <td>2943.79</td>\n",
              "    </tr>\n",
              "    <tr>\n",
              "      <th>2021-07-12</th>\n",
              "      <td>3.75</td>\n",
              "      <td>3.87</td>\n",
              "      <td>2962.20</td>\n",
              "      <td>2944.83</td>\n",
              "      <td>2943.86</td>\n",
              "    </tr>\n",
              "    <tr>\n",
              "      <th>2021-07-13</th>\n",
              "      <td>3.78</td>\n",
              "      <td>3.90</td>\n",
              "      <td>2958.80</td>\n",
              "      <td>2941.47</td>\n",
              "      <td>2940.50</td>\n",
              "    </tr>\n",
              "    <tr>\n",
              "      <th>2021-07-14</th>\n",
              "      <td>3.74</td>\n",
              "      <td>3.86</td>\n",
              "      <td>2965.56</td>\n",
              "      <td>2948.19</td>\n",
              "      <td>2947.23</td>\n",
              "    </tr>\n",
              "    <tr>\n",
              "      <th>2021-07-15</th>\n",
              "      <td>3.74</td>\n",
              "      <td>3.86</td>\n",
              "      <td>2966.73</td>\n",
              "      <td>2949.38</td>\n",
              "      <td>2948.19</td>\n",
              "    </tr>\n",
              "  </tbody>\n",
              "</table>\n",
              "<p>354 rows × 5 columns</p>\n",
              "</div>"
            ],
            "text/plain": [
              "            Taxa Compra Manha  Taxa Venda Manha  ...  PU Venda Manha  PU Base Manha\n",
              "Data Base                                        ...                               \n",
              "2020-02-10               2.65              2.77  ...         2764.50        2764.01\n",
              "2020-02-11               2.58              2.70  ...         2777.24        2776.76\n",
              "2020-02-12               2.56              2.68  ...         2781.23        2780.75\n",
              "2020-02-13               2.58              2.70  ...         2778.20        2777.72\n",
              "2020-02-14               2.54              2.66  ...         2785.97        2785.22\n",
              "2020-02-17               2.49              2.61  ...         2795.20        2794.77\n",
              "2020-02-18               2.53              2.65  ...         2788.58        2788.15\n",
              "2020-02-19               2.56              2.68  ...         2783.74        2783.31\n",
              "2020-02-20               2.50              2.62  ...         2794.70        2794.28\n",
              "2020-02-21               2.55              2.67  ...         2786.99        2785.97\n",
              "...                       ...               ...  ...             ...            ...\n",
              "2021-07-01               3.77              3.89  ...         2933.96        2932.95\n",
              "2021-07-02               3.78              3.90  ...         2934.66        2932.52\n",
              "2021-07-05               3.74              3.86  ...         2941.45        2940.44\n",
              "2021-07-06               3.76              3.88  ...         2939.57        2938.56\n",
              "2021-07-07               3.75              3.87  ...         2942.02        2941.01\n",
              "2021-07-08               3.73              3.85  ...         2946.75        2943.79\n",
              "2021-07-12               3.75              3.87  ...         2944.83        2943.86\n",
              "2021-07-13               3.78              3.90  ...         2941.47        2940.50\n",
              "2021-07-14               3.74              3.86  ...         2948.19        2947.23\n",
              "2021-07-15               3.74              3.86  ...         2949.38        2948.19\n",
              "\n",
              "[354 rows x 5 columns]"
            ]
          },
          "metadata": {
            "tags": []
          },
          "execution_count": 30
        }
      ]
    },
    {
      "cell_type": "code",
      "metadata": {
        "colab": {
          "base_uri": "https://localhost:8080/",
          "height": 271
        },
        "id": "qS3HIgKUrEpj",
        "outputId": "eee141cc-d55e-4009-dbca-8dc9a511fe68"
      },
      "source": [
        "ipca2026['PU Compra Manha'].plot();"
      ],
      "execution_count": 31,
      "outputs": [
        {
          "output_type": "display_data",
          "data": {
            "image/png": "[encoded data removed]",
            "text/plain": [
              "<Figure size 432x288 with 1 Axes>"
            ]
          },
          "metadata": {
            "tags": [],
            "needs_background": "light"
          }
        }
      ]
    },
    {
      "cell_type": "code",
      "metadata": {
        "colab": {
          "base_uri": "https://localhost:8080/",
          "height": 273
        },
        "id": "92zC8jjfrFtp",
        "outputId": "dbd7276d-5c3c-45b5-8525-99a06115f5a6"
      },
      "source": [
        "ipca2026['Taxa Compra Manha'].plot();"
      ],
      "execution_count": 32,
      "outputs": [
        {
          "output_type": "display_data",
          "data": {
            "image/png": "[encoded data removed]",
            "text/plain": [
              "<Figure size 432x288 with 1 Axes>"
            ]
          },
          "metadata": {
            "tags": [],
            "needs_background": "light"
          }
        }
      ]
    },
    {
      "cell_type": "code",
      "metadata": {
        "colab": {
          "base_uri": "https://localhost:8080/",
          "height": 271
        },
        "id": "bRXtJM8XrG4_",
        "outputId": "34294137-66ce-465d-ab6c-c07ac0abe661"
      },
      "source": [
        "(ipca2026['Taxa Compra Manha'] / ipca2026['Taxa Compra Manha'].iloc[0]).plot();\n",
        "(ipca2026['PU Compra Manha'] / ipca2026['PU Compra Manha'].iloc[0]).plot();"
      ],
      "execution_count": 33,
      "outputs": [
        {
          "output_type": "display_data",
          "data": {
            "image/png": "[encoded data removed]",
            "text/plain": [
              "<Figure size 432x288 with 1 Axes>"
            ]
          },
          "metadata": {
            "tags": [],
            "needs_background": "light"
          }
        }
      ]
    },
    {
      "cell_type": "markdown",
      "metadata": {
        "id": "SnOcnZO6rIIb"
      },
      "source": [
        "### 2.7 Tesouro IPCA+ 2035"
      ]
    },
    {
      "cell_type": "code",
      "metadata": {
        "colab": {
          "base_uri": "https://localhost:8080/",
          "height": 752
        },
        "id": "1XFl0EBerKZv",
        "outputId": "9a7c4e97-f848-41d5-9b2e-54cbfc003aa9"
      },
      "source": [
        "ipca2035 = titulos.loc[('Tesouro IPCA+', '2035-05-15')]\n",
        "ipca2035"
      ],
      "execution_count": 34,
      "outputs": [
        {
          "output_type": "execute_result",
          "data": {
            "text/html": [
              "<div>\n",
              "<style scoped>\n",
              "    .dataframe tbody tr th:only-of-type {\n",
              "        vertical-align: middle;\n",
              "    }\n",
              "\n",
              "    .dataframe tbody tr th {\n",
              "        vertical-align: top;\n",
              "    }\n",
              "\n",
              "    .dataframe thead th {\n",
              "        text-align: right;\n",
              "    }\n",
              "</style>\n",
              "<table border=\"1\" class=\"dataframe\">\n",
              "  <thead>\n",
              "    <tr style=\"text-align: right;\">\n",
              "      <th></th>\n",
              "      <th>Taxa Compra Manha</th>\n",
              "      <th>Taxa Venda Manha</th>\n",
              "      <th>PU Compra Manha</th>\n",
              "      <th>PU Venda Manha</th>\n",
              "      <th>PU Base Manha</th>\n",
              "    </tr>\n",
              "    <tr>\n",
              "      <th>Data Base</th>\n",
              "      <th></th>\n",
              "      <th></th>\n",
              "      <th></th>\n",
              "      <th></th>\n",
              "      <th></th>\n",
              "    </tr>\n",
              "  </thead>\n",
              "  <tbody>\n",
              "    <tr>\n",
              "      <th>2010-03-08</th>\n",
              "      <td>6.23</td>\n",
              "      <td>6.33</td>\n",
              "      <td>415.52</td>\n",
              "      <td>405.82</td>\n",
              "      <td>405.61</td>\n",
              "    </tr>\n",
              "    <tr>\n",
              "      <th>2010-03-09</th>\n",
              "      <td>6.25</td>\n",
              "      <td>6.35</td>\n",
              "      <td>413.78</td>\n",
              "      <td>404.12</td>\n",
              "      <td>403.91</td>\n",
              "    </tr>\n",
              "    <tr>\n",
              "      <th>2010-03-10</th>\n",
              "      <td>6.25</td>\n",
              "      <td>6.35</td>\n",
              "      <td>413.99</td>\n",
              "      <td>404.33</td>\n",
              "      <td>404.12</td>\n",
              "    </tr>\n",
              "    <tr>\n",
              "      <th>2010-03-11</th>\n",
              "      <td>6.25</td>\n",
              "      <td>6.35</td>\n",
              "      <td>414.20</td>\n",
              "      <td>404.54</td>\n",
              "      <td>404.33</td>\n",
              "    </tr>\n",
              "    <tr>\n",
              "      <th>2010-03-12</th>\n",
              "      <td>6.27</td>\n",
              "      <td>6.37</td>\n",
              "      <td>412.69</td>\n",
              "      <td>403.07</td>\n",
              "      <td>402.82</td>\n",
              "    </tr>\n",
              "    <tr>\n",
              "      <th>2010-03-15</th>\n",
              "      <td>6.28</td>\n",
              "      <td>6.38</td>\n",
              "      <td>411.87</td>\n",
              "      <td>402.27</td>\n",
              "      <td>402.12</td>\n",
              "    </tr>\n",
              "    <tr>\n",
              "      <th>2010-03-16</th>\n",
              "      <td>6.27</td>\n",
              "      <td>6.37</td>\n",
              "      <td>413.00</td>\n",
              "      <td>403.37</td>\n",
              "      <td>403.22</td>\n",
              "    </tr>\n",
              "    <tr>\n",
              "      <th>2010-03-17</th>\n",
              "      <td>6.26</td>\n",
              "      <td>6.36</td>\n",
              "      <td>414.13</td>\n",
              "      <td>404.47</td>\n",
              "      <td>404.32</td>\n",
              "    </tr>\n",
              "    <tr>\n",
              "      <th>2010-03-18</th>\n",
              "      <td>6.26</td>\n",
              "      <td>6.36</td>\n",
              "      <td>414.28</td>\n",
              "      <td>404.62</td>\n",
              "      <td>404.47</td>\n",
              "    </tr>\n",
              "    <tr>\n",
              "      <th>2010-03-19</th>\n",
              "      <td>6.22</td>\n",
              "      <td>6.32</td>\n",
              "      <td>418.46</td>\n",
              "      <td>408.71</td>\n",
              "      <td>408.46</td>\n",
              "    </tr>\n",
              "    <tr>\n",
              "      <th>...</th>\n",
              "      <td>...</td>\n",
              "      <td>...</td>\n",
              "      <td>...</td>\n",
              "      <td>...</td>\n",
              "      <td>...</td>\n",
              "    </tr>\n",
              "    <tr>\n",
              "      <th>2021-07-01</th>\n",
              "      <td>4.15</td>\n",
              "      <td>4.27</td>\n",
              "      <td>2033.07</td>\n",
              "      <td>2000.97</td>\n",
              "      <td>2000.26</td>\n",
              "    </tr>\n",
              "    <tr>\n",
              "      <th>2021-07-02</th>\n",
              "      <td>4.13</td>\n",
              "      <td>4.25</td>\n",
              "      <td>2039.99</td>\n",
              "      <td>2007.78</td>\n",
              "      <td>2006.29</td>\n",
              "    </tr>\n",
              "    <tr>\n",
              "      <th>2021-07-05</th>\n",
              "      <td>4.11</td>\n",
              "      <td>4.23</td>\n",
              "      <td>2046.13</td>\n",
              "      <td>2013.83</td>\n",
              "      <td>2013.11</td>\n",
              "    </tr>\n",
              "    <tr>\n",
              "      <th>2021-07-06</th>\n",
              "      <td>4.12</td>\n",
              "      <td>4.24</td>\n",
              "      <td>2044.14</td>\n",
              "      <td>2011.88</td>\n",
              "      <td>2011.16</td>\n",
              "    </tr>\n",
              "    <tr>\n",
              "      <th>2021-07-07</th>\n",
              "      <td>4.08</td>\n",
              "      <td>4.20</td>\n",
              "      <td>2055.74</td>\n",
              "      <td>2023.29</td>\n",
              "      <td>2022.57</td>\n",
              "    </tr>\n",
              "    <tr>\n",
              "      <th>2021-07-08</th>\n",
              "      <td>4.10</td>\n",
              "      <td>4.22</td>\n",
              "      <td>2051.61</td>\n",
              "      <td>2019.25</td>\n",
              "      <td>2017.17</td>\n",
              "    </tr>\n",
              "    <tr>\n",
              "      <th>2021-07-12</th>\n",
              "      <td>4.20</td>\n",
              "      <td>4.32</td>\n",
              "      <td>2025.30</td>\n",
              "      <td>1993.39</td>\n",
              "      <td>1992.71</td>\n",
              "    </tr>\n",
              "    <tr>\n",
              "      <th>2021-07-13</th>\n",
              "      <td>4.20</td>\n",
              "      <td>4.32</td>\n",
              "      <td>2025.98</td>\n",
              "      <td>1994.08</td>\n",
              "      <td>1993.39</td>\n",
              "    </tr>\n",
              "    <tr>\n",
              "      <th>2021-07-14</th>\n",
              "      <td>4.17</td>\n",
              "      <td>4.29</td>\n",
              "      <td>2034.73</td>\n",
              "      <td>2002.69</td>\n",
              "      <td>2002.01</td>\n",
              "    </tr>\n",
              "    <tr>\n",
              "      <th>2021-07-15</th>\n",
              "      <td>4.20</td>\n",
              "      <td>4.32</td>\n",
              "      <td>2027.51</td>\n",
              "      <td>1995.60</td>\n",
              "      <td>1994.77</td>\n",
              "    </tr>\n",
              "  </tbody>\n",
              "</table>\n",
              "<p>2833 rows × 5 columns</p>\n",
              "</div>"
            ],
            "text/plain": [
              "            Taxa Compra Manha  Taxa Venda Manha  ...  PU Venda Manha  PU Base Manha\n",
              "Data Base                                        ...                               \n",
              "2010-03-08               6.23              6.33  ...          405.82         405.61\n",
              "2010-03-09               6.25              6.35  ...          404.12         403.91\n",
              "2010-03-10               6.25              6.35  ...          404.33         404.12\n",
              "2010-03-11               6.25              6.35  ...          404.54         404.33\n",
              "2010-03-12               6.27              6.37  ...          403.07         402.82\n",
              "2010-03-15               6.28              6.38  ...          402.27         402.12\n",
              "2010-03-16               6.27              6.37  ...          403.37         403.22\n",
              "2010-03-17               6.26              6.36  ...          404.47         404.32\n",
              "2010-03-18               6.26              6.36  ...          404.62         404.47\n",
              "2010-03-19               6.22              6.32  ...          408.71         408.46\n",
              "...                       ...               ...  ...             ...            ...\n",
              "2021-07-01               4.15              4.27  ...         2000.97        2000.26\n",
              "2021-07-02               4.13              4.25  ...         2007.78        2006.29\n",
              "2021-07-05               4.11              4.23  ...         2013.83        2013.11\n",
              "2021-07-06               4.12              4.24  ...         2011.88        2011.16\n",
              "2021-07-07               4.08              4.20  ...         2023.29        2022.57\n",
              "2021-07-08               4.10              4.22  ...         2019.25        2017.17\n",
              "2021-07-12               4.20              4.32  ...         1993.39        1992.71\n",
              "2021-07-13               4.20              4.32  ...         1994.08        1993.39\n",
              "2021-07-14               4.17              4.29  ...         2002.69        2002.01\n",
              "2021-07-15               4.20              4.32  ...         1995.60        1994.77\n",
              "\n",
              "[2833 rows x 5 columns]"
            ]
          },
          "metadata": {
            "tags": []
          },
          "execution_count": 34
        }
      ]
    },
    {
      "cell_type": "code",
      "metadata": {
        "colab": {
          "base_uri": "https://localhost:8080/",
          "height": 264
        },
        "id": "Qm6kR_B3rLfP",
        "outputId": "77550121-c7ce-4eeb-cea0-23c7d952f729"
      },
      "source": [
        "ipca2035['PU Compra Manha'].plot();"
      ],
      "execution_count": 35,
      "outputs": [
        {
          "output_type": "display_data",
          "data": {
            "image/png": "[encoded data removed]",
            "text/plain": [
              "<Figure size 432x288 with 1 Axes>"
            ]
          },
          "metadata": {
            "tags": [],
            "needs_background": "light"
          }
        }
      ]
    },
    {
      "cell_type": "code",
      "metadata": {
        "colab": {
          "base_uri": "https://localhost:8080/",
          "height": 266
        },
        "id": "SR3KvEBirMbn",
        "outputId": "92d4aa8b-65dc-4d5f-b458-86a734cb5861"
      },
      "source": [
        "ipca2035['Taxa Compra Manha'].plot();"
      ],
      "execution_count": 36,
      "outputs": [
        {
          "output_type": "display_data",
          "data": {
            "image/png": "[encoded data removed]",
            "text/plain": [
              "<Figure size 432x288 with 1 Axes>"
            ]
          },
          "metadata": {
            "tags": [],
            "needs_background": "light"
          }
        }
      ]
    },
    {
      "cell_type": "code",
      "metadata": {
        "colab": {
          "base_uri": "https://localhost:8080/",
          "height": 264
        },
        "id": "If7ojr01rNiW",
        "outputId": "c9b54cf4-54ba-4a8f-cc10-55e0432f551a"
      },
      "source": [
        "(ipca2035['Taxa Compra Manha'] / ipca2035['Taxa Compra Manha'].iloc[0]).plot();\n",
        "(ipca2035['PU Compra Manha'] / ipca2035['PU Compra Manha'].iloc[0]).plot();"
      ],
      "execution_count": 37,
      "outputs": [
        {
          "output_type": "display_data",
          "data": {
            "image/png": "[encoded data removed]",
            "text/plain": [
              "<Figure size 432x288 with 1 Axes>"
            ]
          },
          "metadata": {
            "tags": [],
            "needs_background": "light"
          }
        }
      ]
    },
    {
      "cell_type": "markdown",
      "metadata": {
        "id": "jgXmER0VrOv9"
      },
      "source": [
        "### 2.8 Tesouro IPCA+ 2045"
      ]
    },
    {
      "cell_type": "code",
      "metadata": {
        "colab": {
          "base_uri": "https://localhost:8080/",
          "height": 752
        },
        "id": "b-T-UxwhrQRw",
        "outputId": "037c678a-4937-4f2e-c8eb-453124c75706"
      },
      "source": [
        "ipca2045 = titulos.loc[('Tesouro IPCA+', '2045-05-15')]\n",
        "ipca2045"
      ],
      "execution_count": 38,
      "outputs": [
        {
          "output_type": "execute_result",
          "data": {
            "text/html": [
              "<div>\n",
              "<style scoped>\n",
              "    .dataframe tbody tr th:only-of-type {\n",
              "        vertical-align: middle;\n",
              "    }\n",
              "\n",
              "    .dataframe tbody tr th {\n",
              "        vertical-align: top;\n",
              "    }\n",
              "\n",
              "    .dataframe thead th {\n",
              "        text-align: right;\n",
              "    }\n",
              "</style>\n",
              "<table border=\"1\" class=\"dataframe\">\n",
              "  <thead>\n",
              "    <tr style=\"text-align: right;\">\n",
              "      <th></th>\n",
              "      <th>Taxa Compra Manha</th>\n",
              "      <th>Taxa Venda Manha</th>\n",
              "      <th>PU Compra Manha</th>\n",
              "      <th>PU Venda Manha</th>\n",
              "      <th>PU Base Manha</th>\n",
              "    </tr>\n",
              "    <tr>\n",
              "      <th>Data Base</th>\n",
              "      <th></th>\n",
              "      <th></th>\n",
              "      <th></th>\n",
              "      <th></th>\n",
              "      <th></th>\n",
              "    </tr>\n",
              "  </thead>\n",
              "  <tbody>\n",
              "    <tr>\n",
              "      <th>2017-02-08</th>\n",
              "      <td>5.34</td>\n",
              "      <td>5.46</td>\n",
              "      <td>685.78</td>\n",
              "      <td>664.14</td>\n",
              "      <td>663.92</td>\n",
              "    </tr>\n",
              "    <tr>\n",
              "      <th>2017-02-09</th>\n",
              "      <td>5.27</td>\n",
              "      <td>5.39</td>\n",
              "      <td>698.96</td>\n",
              "      <td>676.90</td>\n",
              "      <td>676.67</td>\n",
              "    </tr>\n",
              "    <tr>\n",
              "      <th>2017-02-10</th>\n",
              "      <td>5.21</td>\n",
              "      <td>5.33</td>\n",
              "      <td>710.67</td>\n",
              "      <td>688.23</td>\n",
              "      <td>687.84</td>\n",
              "    </tr>\n",
              "    <tr>\n",
              "      <th>2017-02-13</th>\n",
              "      <td>5.21</td>\n",
              "      <td>5.33</td>\n",
              "      <td>710.90</td>\n",
              "      <td>688.46</td>\n",
              "      <td>688.23</td>\n",
              "    </tr>\n",
              "    <tr>\n",
              "      <th>2017-02-14</th>\n",
              "      <td>5.22</td>\n",
              "      <td>5.34</td>\n",
              "      <td>709.23</td>\n",
              "      <td>686.85</td>\n",
              "      <td>686.62</td>\n",
              "    </tr>\n",
              "    <tr>\n",
              "      <th>2017-02-15</th>\n",
              "      <td>5.22</td>\n",
              "      <td>5.34</td>\n",
              "      <td>709.49</td>\n",
              "      <td>687.10</td>\n",
              "      <td>686.85</td>\n",
              "    </tr>\n",
              "    <tr>\n",
              "      <th>2017-02-16</th>\n",
              "      <td>5.25</td>\n",
              "      <td>5.37</td>\n",
              "      <td>704.09</td>\n",
              "      <td>681.88</td>\n",
              "      <td>681.62</td>\n",
              "    </tr>\n",
              "    <tr>\n",
              "      <th>2017-02-17</th>\n",
              "      <td>5.32</td>\n",
              "      <td>5.44</td>\n",
              "      <td>691.53</td>\n",
              "      <td>669.73</td>\n",
              "      <td>669.25</td>\n",
              "    </tr>\n",
              "    <tr>\n",
              "      <th>2017-02-20</th>\n",
              "      <td>5.27</td>\n",
              "      <td>5.39</td>\n",
              "      <td>701.09</td>\n",
              "      <td>678.98</td>\n",
              "      <td>678.73</td>\n",
              "    </tr>\n",
              "    <tr>\n",
              "      <th>2017-02-21</th>\n",
              "      <td>5.25</td>\n",
              "      <td>5.37</td>\n",
              "      <td>705.11</td>\n",
              "      <td>682.87</td>\n",
              "      <td>682.62</td>\n",
              "    </tr>\n",
              "    <tr>\n",
              "      <th>...</th>\n",
              "      <td>...</td>\n",
              "      <td>...</td>\n",
              "      <td>...</td>\n",
              "      <td>...</td>\n",
              "      <td>...</td>\n",
              "    </tr>\n",
              "    <tr>\n",
              "      <th>2021-07-01</th>\n",
              "      <td>4.15</td>\n",
              "      <td>4.27</td>\n",
              "      <td>1355.35</td>\n",
              "      <td>1318.72</td>\n",
              "      <td>1318.24</td>\n",
              "    </tr>\n",
              "    <tr>\n",
              "      <th>2021-07-02</th>\n",
              "      <td>4.13</td>\n",
              "      <td>4.25</td>\n",
              "      <td>1362.56</td>\n",
              "      <td>1325.73</td>\n",
              "      <td>1324.75</td>\n",
              "    </tr>\n",
              "    <tr>\n",
              "      <th>2021-07-05</th>\n",
              "      <td>4.11</td>\n",
              "      <td>4.23</td>\n",
              "      <td>1369.29</td>\n",
              "      <td>1332.27</td>\n",
              "      <td>1331.80</td>\n",
              "    </tr>\n",
              "    <tr>\n",
              "      <th>2021-07-06</th>\n",
              "      <td>4.12</td>\n",
              "      <td>4.24</td>\n",
              "      <td>1366.64</td>\n",
              "      <td>1329.71</td>\n",
              "      <td>1329.24</td>\n",
              "    </tr>\n",
              "    <tr>\n",
              "      <th>2021-07-07</th>\n",
              "      <td>4.08</td>\n",
              "      <td>4.20</td>\n",
              "      <td>1379.67</td>\n",
              "      <td>1342.39</td>\n",
              "      <td>1341.91</td>\n",
              "    </tr>\n",
              "    <tr>\n",
              "      <th>2021-07-08</th>\n",
              "      <td>4.10</td>\n",
              "      <td>4.22</td>\n",
              "      <td>1374.27</td>\n",
              "      <td>1337.14</td>\n",
              "      <td>1335.76</td>\n",
              "    </tr>\n",
              "    <tr>\n",
              "      <th>2021-07-12</th>\n",
              "      <td>4.20</td>\n",
              "      <td>4.32</td>\n",
              "      <td>1343.71</td>\n",
              "      <td>1307.46</td>\n",
              "      <td>1307.01</td>\n",
              "    </tr>\n",
              "    <tr>\n",
              "      <th>2021-07-13</th>\n",
              "      <td>4.20</td>\n",
              "      <td>4.32</td>\n",
              "      <td>1344.17</td>\n",
              "      <td>1307.91</td>\n",
              "      <td>1307.46</td>\n",
              "    </tr>\n",
              "    <tr>\n",
              "      <th>2021-07-14</th>\n",
              "      <td>4.17</td>\n",
              "      <td>4.29</td>\n",
              "      <td>1353.86</td>\n",
              "      <td>1317.33</td>\n",
              "      <td>1316.88</td>\n",
              "    </tr>\n",
              "    <tr>\n",
              "      <th>2021-07-15</th>\n",
              "      <td>4.20</td>\n",
              "      <td>4.32</td>\n",
              "      <td>1345.18</td>\n",
              "      <td>1308.91</td>\n",
              "      <td>1308.36</td>\n",
              "    </tr>\n",
              "  </tbody>\n",
              "</table>\n",
              "<p>1098 rows × 5 columns</p>\n",
              "</div>"
            ],
            "text/plain": [
              "            Taxa Compra Manha  Taxa Venda Manha  ...  PU Venda Manha  PU Base Manha\n",
              "Data Base                                        ...                               \n",
              "2017-02-08               5.34              5.46  ...          664.14         663.92\n",
              "2017-02-09               5.27              5.39  ...          676.90         676.67\n",
              "2017-02-10               5.21              5.33  ...          688.23         687.84\n",
              "2017-02-13               5.21              5.33  ...          688.46         688.23\n",
              "2017-02-14               5.22              5.34  ...          686.85         686.62\n",
              "2017-02-15               5.22              5.34  ...          687.10         686.85\n",
              "2017-02-16               5.25              5.37  ...          681.88         681.62\n",
              "2017-02-17               5.32              5.44  ...          669.73         669.25\n",
              "2017-02-20               5.27              5.39  ...          678.98         678.73\n",
              "2017-02-21               5.25              5.37  ...          682.87         682.62\n",
              "...                       ...               ...  ...             ...            ...\n",
              "2021-07-01               4.15              4.27  ...         1318.72        1318.24\n",
              "2021-07-02               4.13              4.25  ...         1325.73        1324.75\n",
              "2021-07-05               4.11              4.23  ...         1332.27        1331.80\n",
              "2021-07-06               4.12              4.24  ...         1329.71        1329.24\n",
              "2021-07-07               4.08              4.20  ...         1342.39        1341.91\n",
              "2021-07-08               4.10              4.22  ...         1337.14        1335.76\n",
              "2021-07-12               4.20              4.32  ...         1307.46        1307.01\n",
              "2021-07-13               4.20              4.32  ...         1307.91        1307.46\n",
              "2021-07-14               4.17              4.29  ...         1317.33        1316.88\n",
              "2021-07-15               4.20              4.32  ...         1308.91        1308.36\n",
              "\n",
              "[1098 rows x 5 columns]"
            ]
          },
          "metadata": {
            "tags": []
          },
          "execution_count": 38
        }
      ]
    },
    {
      "cell_type": "code",
      "metadata": {
        "colab": {
          "base_uri": "https://localhost:8080/",
          "height": 272
        },
        "id": "NGJg-aDWrRvH",
        "outputId": "38744903-9b0d-4b2b-e69d-0ba1cf556fa2"
      },
      "source": [
        "ipca2045['PU Compra Manha'].plot();"
      ],
      "execution_count": 39,
      "outputs": [
        {
          "output_type": "display_data",
          "data": {
            "image/png": "[encoded data removed]",
            "text/plain": [
              "<Figure size 432x288 with 1 Axes>"
            ]
          },
          "metadata": {
            "tags": [],
            "needs_background": "light"
          }
        }
      ]
    },
    {
      "cell_type": "code",
      "metadata": {
        "colab": {
          "base_uri": "https://localhost:8080/",
          "height": 271
        },
        "id": "GP6eLSiqrS_d",
        "outputId": "8a421abf-f54d-459a-f515-26003a1e5a85"
      },
      "source": [
        "ipca2045['Taxa Compra Manha'].plot();"
      ],
      "execution_count": 40,
      "outputs": [
        {
          "output_type": "display_data",
          "data": {
            "image/png": "[encoded data removed]",
            "text/plain": [
              "<Figure size 432x288 with 1 Axes>"
            ]
          },
          "metadata": {
            "tags": [],
            "needs_background": "light"
          }
        }
      ]
    },
    {
      "cell_type": "code",
      "metadata": {
        "colab": {
          "base_uri": "https://localhost:8080/",
          "height": 271
        },
        "id": "YKD_cTRRrT-q",
        "outputId": "a4af7f45-5960-4059-d635-aaac9cdc3a51"
      },
      "source": [
        "(ipca2045['Taxa Compra Manha'] / ipca2045['Taxa Compra Manha'].iloc[0]).plot();\n",
        "(ipca2045['PU Compra Manha'] / ipca2045['PU Compra Manha'].iloc[0]).plot();"
      ],
      "execution_count": 41,
      "outputs": [
        {
          "output_type": "display_data",
          "data": {
            "image/png": "[encoded data removed]",
            "text/plain": [
              "<Figure size 432x288 with 1 Axes>"
            ]
          },
          "metadata": {
            "tags": [],
            "needs_background": "light"
          }
        }
      ]
    },
    {
      "cell_type": "markdown",
      "metadata": {
        "id": "eDl24CsPrVUA"
      },
      "source": [
        "### 2.9 Tesouro IPCA+ 2055 com Juros Semestrais"
      ]
    },
    {
      "cell_type": "code",
      "metadata": {
        "colab": {
          "base_uri": "https://localhost:8080/",
          "height": 752
        },
        "id": "OCGvfKM8rXi-",
        "outputId": "6e5a877f-7c52-4e9e-aae6-7f2585ac51d5"
      },
      "source": [
        "ipca2055 = titulos.loc[('Tesouro IPCA+ com Juros Semestrais', '2055-05-15')]\n",
        "ipca2055"
      ],
      "execution_count": 42,
      "outputs": [
        {
          "output_type": "execute_result",
          "data": {
            "text/html": [
              "<div>\n",
              "<style scoped>\n",
              "    .dataframe tbody tr th:only-of-type {\n",
              "        vertical-align: middle;\n",
              "    }\n",
              "\n",
              "    .dataframe tbody tr th {\n",
              "        vertical-align: top;\n",
              "    }\n",
              "\n",
              "    .dataframe thead th {\n",
              "        text-align: right;\n",
              "    }\n",
              "</style>\n",
              "<table border=\"1\" class=\"dataframe\">\n",
              "  <thead>\n",
              "    <tr style=\"text-align: right;\">\n",
              "      <th></th>\n",
              "      <th>Taxa Compra Manha</th>\n",
              "      <th>Taxa Venda Manha</th>\n",
              "      <th>PU Compra Manha</th>\n",
              "      <th>PU Venda Manha</th>\n",
              "      <th>PU Base Manha</th>\n",
              "    </tr>\n",
              "    <tr>\n",
              "      <th>Data Base</th>\n",
              "      <th></th>\n",
              "      <th></th>\n",
              "      <th></th>\n",
              "      <th></th>\n",
              "      <th></th>\n",
              "    </tr>\n",
              "  </thead>\n",
              "  <tbody>\n",
              "    <tr>\n",
              "      <th>2020-02-10</th>\n",
              "      <td>3.42</td>\n",
              "      <td>3.54</td>\n",
              "      <td>5063.37</td>\n",
              "      <td>4956.73</td>\n",
              "      <td>4955.71</td>\n",
              "    </tr>\n",
              "    <tr>\n",
              "      <th>2020-02-11</th>\n",
              "      <td>3.36</td>\n",
              "      <td>3.48</td>\n",
              "      <td>5119.00</td>\n",
              "      <td>5010.64</td>\n",
              "      <td>5009.63</td>\n",
              "    </tr>\n",
              "    <tr>\n",
              "      <th>2020-02-12</th>\n",
              "      <td>3.36</td>\n",
              "      <td>3.48</td>\n",
              "      <td>5120.02</td>\n",
              "      <td>5011.66</td>\n",
              "      <td>5010.64</td>\n",
              "    </tr>\n",
              "    <tr>\n",
              "      <th>2020-02-13</th>\n",
              "      <td>3.40</td>\n",
              "      <td>3.52</td>\n",
              "      <td>5084.54</td>\n",
              "      <td>4977.32</td>\n",
              "      <td>4976.30</td>\n",
              "    </tr>\n",
              "    <tr>\n",
              "      <th>2020-02-14</th>\n",
              "      <td>3.37</td>\n",
              "      <td>3.49</td>\n",
              "      <td>5113.38</td>\n",
              "      <td>5005.31</td>\n",
              "      <td>5003.81</td>\n",
              "    </tr>\n",
              "    <tr>\n",
              "      <th>2020-02-17</th>\n",
              "      <td>3.34</td>\n",
              "      <td>3.46</td>\n",
              "      <td>5141.86</td>\n",
              "      <td>5032.93</td>\n",
              "      <td>5032.01</td>\n",
              "    </tr>\n",
              "    <tr>\n",
              "      <th>2020-02-18</th>\n",
              "      <td>3.37</td>\n",
              "      <td>3.49</td>\n",
              "      <td>5115.22</td>\n",
              "      <td>5007.16</td>\n",
              "      <td>5006.23</td>\n",
              "    </tr>\n",
              "    <tr>\n",
              "      <th>2020-02-19</th>\n",
              "      <td>3.37</td>\n",
              "      <td>3.49</td>\n",
              "      <td>5116.14</td>\n",
              "      <td>5008.08</td>\n",
              "      <td>5007.16</td>\n",
              "    </tr>\n",
              "    <tr>\n",
              "      <th>2020-02-20</th>\n",
              "      <td>3.34</td>\n",
              "      <td>3.46</td>\n",
              "      <td>5144.62</td>\n",
              "      <td>5035.70</td>\n",
              "      <td>5034.77</td>\n",
              "    </tr>\n",
              "    <tr>\n",
              "      <th>2020-02-21</th>\n",
              "      <td>3.43</td>\n",
              "      <td>3.55</td>\n",
              "      <td>5064.69</td>\n",
              "      <td>4958.31</td>\n",
              "      <td>4956.35</td>\n",
              "    </tr>\n",
              "    <tr>\n",
              "      <th>...</th>\n",
              "      <td>...</td>\n",
              "      <td>...</td>\n",
              "      <td>...</td>\n",
              "      <td>...</td>\n",
              "      <td>...</td>\n",
              "    </tr>\n",
              "    <tr>\n",
              "      <th>2021-07-01</th>\n",
              "      <td>4.42</td>\n",
              "      <td>4.54</td>\n",
              "      <td>4569.99</td>\n",
              "      <td>4482.95</td>\n",
              "      <td>4481.30</td>\n",
              "    </tr>\n",
              "    <tr>\n",
              "      <th>2021-07-02</th>\n",
              "      <td>4.39</td>\n",
              "      <td>4.51</td>\n",
              "      <td>4595.59</td>\n",
              "      <td>4507.86</td>\n",
              "      <td>4504.47</td>\n",
              "    </tr>\n",
              "    <tr>\n",
              "      <th>2021-07-05</th>\n",
              "      <td>4.37</td>\n",
              "      <td>4.49</td>\n",
              "      <td>4612.14</td>\n",
              "      <td>4523.97</td>\n",
              "      <td>4522.31</td>\n",
              "    </tr>\n",
              "    <tr>\n",
              "      <th>2021-07-06</th>\n",
              "      <td>4.39</td>\n",
              "      <td>4.51</td>\n",
              "      <td>4598.93</td>\n",
              "      <td>4511.18</td>\n",
              "      <td>4509.52</td>\n",
              "    </tr>\n",
              "    <tr>\n",
              "      <th>2021-07-07</th>\n",
              "      <td>4.34</td>\n",
              "      <td>4.46</td>\n",
              "      <td>4637.94</td>\n",
              "      <td>4549.09</td>\n",
              "      <td>4547.43</td>\n",
              "    </tr>\n",
              "    <tr>\n",
              "      <th>2021-07-08</th>\n",
              "      <td>4.34</td>\n",
              "      <td>4.46</td>\n",
              "      <td>4641.01</td>\n",
              "      <td>4552.14</td>\n",
              "      <td>4547.36</td>\n",
              "    </tr>\n",
              "    <tr>\n",
              "      <th>2021-07-12</th>\n",
              "      <td>4.38</td>\n",
              "      <td>4.50</td>\n",
              "      <td>4612.69</td>\n",
              "      <td>4524.69</td>\n",
              "      <td>4523.10</td>\n",
              "    </tr>\n",
              "    <tr>\n",
              "      <th>2021-07-13</th>\n",
              "      <td>4.36</td>\n",
              "      <td>4.48</td>\n",
              "      <td>4629.21</td>\n",
              "      <td>4540.76</td>\n",
              "      <td>4539.17</td>\n",
              "    </tr>\n",
              "    <tr>\n",
              "      <th>2021-07-14</th>\n",
              "      <td>4.35</td>\n",
              "      <td>4.47</td>\n",
              "      <td>4638.30</td>\n",
              "      <td>4549.62</td>\n",
              "      <td>4548.03</td>\n",
              "    </tr>\n",
              "    <tr>\n",
              "      <th>2021-07-15</th>\n",
              "      <td>4.40</td>\n",
              "      <td>4.52</td>\n",
              "      <td>4602.97</td>\n",
              "      <td>4515.37</td>\n",
              "      <td>4513.44</td>\n",
              "    </tr>\n",
              "  </tbody>\n",
              "</table>\n",
              "<p>354 rows × 5 columns</p>\n",
              "</div>"
            ],
            "text/plain": [
              "            Taxa Compra Manha  Taxa Venda Manha  ...  PU Venda Manha  PU Base Manha\n",
              "Data Base                                        ...                               \n",
              "2020-02-10               3.42              3.54  ...         4956.73        4955.71\n",
              "2020-02-11               3.36              3.48  ...         5010.64        5009.63\n",
              "2020-02-12               3.36              3.48  ...         5011.66        5010.64\n",
              "2020-02-13               3.40              3.52  ...         4977.32        4976.30\n",
              "2020-02-14               3.37              3.49  ...         5005.31        5003.81\n",
              "2020-02-17               3.34              3.46  ...         5032.93        5032.01\n",
              "2020-02-18               3.37              3.49  ...         5007.16        5006.23\n",
              "2020-02-19               3.37              3.49  ...         5008.08        5007.16\n",
              "2020-02-20               3.34              3.46  ...         5035.70        5034.77\n",
              "2020-02-21               3.43              3.55  ...         4958.31        4956.35\n",
              "...                       ...               ...  ...             ...            ...\n",
              "2021-07-01               4.42              4.54  ...         4482.95        4481.30\n",
              "2021-07-02               4.39              4.51  ...         4507.86        4504.47\n",
              "2021-07-05               4.37              4.49  ...         4523.97        4522.31\n",
              "2021-07-06               4.39              4.51  ...         4511.18        4509.52\n",
              "2021-07-07               4.34              4.46  ...         4549.09        4547.43\n",
              "2021-07-08               4.34              4.46  ...         4552.14        4547.36\n",
              "2021-07-12               4.38              4.50  ...         4524.69        4523.10\n",
              "2021-07-13               4.36              4.48  ...         4540.76        4539.17\n",
              "2021-07-14               4.35              4.47  ...         4549.62        4548.03\n",
              "2021-07-15               4.40              4.52  ...         4515.37        4513.44\n",
              "\n",
              "[354 rows x 5 columns]"
            ]
          },
          "metadata": {
            "tags": []
          },
          "execution_count": 42
        }
      ]
    },
    {
      "cell_type": "code",
      "metadata": {
        "colab": {
          "base_uri": "https://localhost:8080/",
          "height": 274
        },
        "id": "eSDZ43nIrZEY",
        "outputId": "2817381a-07db-4881-cee0-c2f14b2773b3"
      },
      "source": [
        "ipca2055['PU Compra Manha'].plot();"
      ],
      "execution_count": 43,
      "outputs": [
        {
          "output_type": "display_data",
          "data": {
            "image/png": "[encoded data removed]",
            "text/plain": [
              "<Figure size 432x288 with 1 Axes>"
            ]
          },
          "metadata": {
            "tags": [],
            "needs_background": "light"
          }
        }
      ]
    },
    {
      "cell_type": "code",
      "metadata": {
        "colab": {
          "base_uri": "https://localhost:8080/",
          "height": 274
        },
        "id": "6-j3Ia4YraFF",
        "outputId": "746d4969-6353-4797-c13a-52ae0e0ca2f9"
      },
      "source": [
        "ipca2055['Taxa Compra Manha'].plot();"
      ],
      "execution_count": 44,
      "outputs": [
        {
          "output_type": "display_data",
          "data": {
            "image/png": "[encoded data removed]",
            "text/plain": [
              "<Figure size 432x288 with 1 Axes>"
            ]
          },
          "metadata": {
            "tags": [],
            "needs_background": "light"
          }
        }
      ]
    },
    {
      "cell_type": "code",
      "metadata": {
        "colab": {
          "base_uri": "https://localhost:8080/",
          "height": 271
        },
        "id": "3Qlmrmt3rbcX",
        "outputId": "63047f6d-6cb7-432c-846f-15377862c69f"
      },
      "source": [
        "(ipca2055['Taxa Compra Manha'] / ipca2055['Taxa Compra Manha'].iloc[0]).plot();\n",
        "(ipca2055['PU Compra Manha'] / ipca2055['PU Compra Manha'].iloc[0]).plot();"
      ],
      "execution_count": 45,
      "outputs": [
        {
          "output_type": "display_data",
          "data": {
            "image/png": "[encoded data removed]",
            "text/plain": [
              "<Figure size 432x288 with 1 Axes>"
            ]
          },
          "metadata": {
            "tags": [],
            "needs_background": "light"
          }
        }
      ]
    },
    {
      "cell_type": "markdown",
      "metadata": {
        "id": "UCGjUFggrc76"
      },
      "source": [
        "## 3. Vendas Tesouro Direto"
      ]
    },
    {
      "cell_type": "markdown",
      "metadata": {
        "id": "0cE6ODNOrfcl"
      },
      "source": [
        "Este conjunto de dados traz o volume de vendas diário do programa Tesouro Direto."
      ]
    },
    {
      "cell_type": "markdown",
      "metadata": {
        "id": "oE_WI3KZrg8T"
      },
      "source": [
        "### 3.1 Buscando Dados"
      ]
    },
    {
      "cell_type": "code",
      "metadata": {
        "id": "v5TuazO8re-P"
      },
      "source": [
        "vendas = busca_vendas_tesouro()"
      ],
      "execution_count": 46,
      "outputs": []
    },
    {
      "cell_type": "code",
      "metadata": {
        "colab": {
          "base_uri": "https://localhost:8080/",
          "height": 752
        },
        "id": "V8avJdFprmVP",
        "outputId": "0c02d478-4cb7-4dff-dd9c-d2ce4dc4639e"
      },
      "source": [
        "vendas.sort_index(inplace=True)\n",
        "vendas"
      ],
      "execution_count": 47,
      "outputs": [
        {
          "output_type": "execute_result",
          "data": {
            "text/html": [
              "<div>\n",
              "<style scoped>\n",
              "    .dataframe tbody tr th:only-of-type {\n",
              "        vertical-align: middle;\n",
              "    }\n",
              "\n",
              "    .dataframe tbody tr th {\n",
              "        vertical-align: top;\n",
              "    }\n",
              "\n",
              "    .dataframe thead th {\n",
              "        text-align: right;\n",
              "    }\n",
              "</style>\n",
              "<table border=\"1\" class=\"dataframe\">\n",
              "  <thead>\n",
              "    <tr style=\"text-align: right;\">\n",
              "      <th></th>\n",
              "      <th></th>\n",
              "      <th></th>\n",
              "      <th>PU</th>\n",
              "      <th>Quantidade</th>\n",
              "      <th>Valor</th>\n",
              "    </tr>\n",
              "    <tr>\n",
              "      <th>Tipo Titulo</th>\n",
              "      <th>Vencimento do Titulo</th>\n",
              "      <th>Data Venda</th>\n",
              "      <th></th>\n",
              "      <th></th>\n",
              "      <th></th>\n",
              "    </tr>\n",
              "  </thead>\n",
              "  <tbody>\n",
              "    <tr>\n",
              "      <th rowspan=\"10\" valign=\"top\">Tesouro IGPM+ com Juros Semestrais</th>\n",
              "      <th rowspan=\"10\" valign=\"top\">2005-07-01</th>\n",
              "      <th>2002-01-07</th>\n",
              "      <td>1038.150000</td>\n",
              "      <td>7.40</td>\n",
              "      <td>7682.31</td>\n",
              "    </tr>\n",
              "    <tr>\n",
              "      <th>2002-01-08</th>\n",
              "      <td>1035.590000</td>\n",
              "      <td>6.00</td>\n",
              "      <td>6213.54</td>\n",
              "    </tr>\n",
              "    <tr>\n",
              "      <th>2002-01-09</th>\n",
              "      <td>1035.400000</td>\n",
              "      <td>0.20</td>\n",
              "      <td>207.08</td>\n",
              "    </tr>\n",
              "    <tr>\n",
              "      <th>2002-01-14</th>\n",
              "      <td>1038.166666</td>\n",
              "      <td>0.60</td>\n",
              "      <td>622.89</td>\n",
              "    </tr>\n",
              "    <tr>\n",
              "      <th>2002-01-15</th>\n",
              "      <td>1038.640000</td>\n",
              "      <td>1.00</td>\n",
              "      <td>1038.64</td>\n",
              "    </tr>\n",
              "    <tr>\n",
              "      <th>2002-01-16</th>\n",
              "      <td>1039.052173</td>\n",
              "      <td>18.40</td>\n",
              "      <td>19118.55</td>\n",
              "    </tr>\n",
              "    <tr>\n",
              "      <th>2002-01-17</th>\n",
              "      <td>1039.269911</td>\n",
              "      <td>22.60</td>\n",
              "      <td>23487.49</td>\n",
              "    </tr>\n",
              "    <tr>\n",
              "      <th>2002-01-18</th>\n",
              "      <td>1039.259574</td>\n",
              "      <td>9.40</td>\n",
              "      <td>9769.03</td>\n",
              "    </tr>\n",
              "    <tr>\n",
              "      <th>2002-01-21</th>\n",
              "      <td>1039.720000</td>\n",
              "      <td>12.00</td>\n",
              "      <td>12476.64</td>\n",
              "    </tr>\n",
              "    <tr>\n",
              "      <th>2002-01-22</th>\n",
              "      <td>1040.189743</td>\n",
              "      <td>7.80</td>\n",
              "      <td>8113.47</td>\n",
              "    </tr>\n",
              "    <tr>\n",
              "      <th>...</th>\n",
              "      <th>...</th>\n",
              "      <th>...</th>\n",
              "      <td>...</td>\n",
              "      <td>...</td>\n",
              "      <td>...</td>\n",
              "    </tr>\n",
              "    <tr>\n",
              "      <th rowspan=\"10\" valign=\"top\">Tesouro Selic</th>\n",
              "      <th rowspan=\"10\" valign=\"top\">2027-03-01</th>\n",
              "      <th>2021-06-30</th>\n",
              "      <td>10709.802579</td>\n",
              "      <td>1999.24</td>\n",
              "      <td>21411465.70</td>\n",
              "    </tr>\n",
              "    <tr>\n",
              "      <th>2021-07-01</th>\n",
              "      <td>10713.104142</td>\n",
              "      <td>2753.72</td>\n",
              "      <td>29500889.13</td>\n",
              "    </tr>\n",
              "    <tr>\n",
              "      <th>2021-07-02</th>\n",
              "      <td>10716.410571</td>\n",
              "      <td>2473.16</td>\n",
              "      <td>26503397.96</td>\n",
              "    </tr>\n",
              "    <tr>\n",
              "      <th>2021-07-05</th>\n",
              "      <td>10719.233150</td>\n",
              "      <td>2720.09</td>\n",
              "      <td>29157278.89</td>\n",
              "    </tr>\n",
              "    <tr>\n",
              "      <th>2021-07-06</th>\n",
              "      <td>10721.619955</td>\n",
              "      <td>2583.38</td>\n",
              "      <td>27698018.55</td>\n",
              "    </tr>\n",
              "    <tr>\n",
              "      <th>2021-07-07</th>\n",
              "      <td>10723.551245</td>\n",
              "      <td>2432.60</td>\n",
              "      <td>26086110.75</td>\n",
              "    </tr>\n",
              "    <tr>\n",
              "      <th>2021-07-08</th>\n",
              "      <td>10725.937514</td>\n",
              "      <td>2256.20</td>\n",
              "      <td>24199860.21</td>\n",
              "    </tr>\n",
              "    <tr>\n",
              "      <th>2021-07-12</th>\n",
              "      <td>10729.760628</td>\n",
              "      <td>2161.45</td>\n",
              "      <td>23191841.10</td>\n",
              "    </tr>\n",
              "    <tr>\n",
              "      <th>2021-07-13</th>\n",
              "      <td>10731.401854</td>\n",
              "      <td>3059.64</td>\n",
              "      <td>32834226.36</td>\n",
              "    </tr>\n",
              "    <tr>\n",
              "      <th>2021-07-14</th>\n",
              "      <td>10733.253448</td>\n",
              "      <td>2202.89</td>\n",
              "      <td>23644176.68</td>\n",
              "    </tr>\n",
              "  </tbody>\n",
              "</table>\n",
              "<p>65951 rows × 3 columns</p>\n",
              "</div>"
            ],
            "text/plain": [
              "                                                                              PU  ...        Valor\n",
              "Tipo Titulo                        Vencimento do Titulo Data Venda                ...             \n",
              "Tesouro IGPM+ com Juros Semestrais 2005-07-01           2002-01-07   1038.150000  ...      7682.31\n",
              "                                                        2002-01-08   1035.590000  ...      6213.54\n",
              "                                                        2002-01-09   1035.400000  ...       207.08\n",
              "                                                        2002-01-14   1038.166666  ...       622.89\n",
              "                                                        2002-01-15   1038.640000  ...      1038.64\n",
              "                                                        2002-01-16   1039.052173  ...     19118.55\n",
              "                                                        2002-01-17   1039.269911  ...     23487.49\n",
              "                                                        2002-01-18   1039.259574  ...      9769.03\n",
              "                                                        2002-01-21   1039.720000  ...     12476.64\n",
              "                                                        2002-01-22   1040.189743  ...      8113.47\n",
              "...                                                                          ...  ...          ...\n",
              "Tesouro Selic                      2027-03-01           2021-06-30  10709.802579  ...  21411465.70\n",
              "                                                        2021-07-01  10713.104142  ...  29500889.13\n",
              "                                                        2021-07-02  10716.410571  ...  26503397.96\n",
              "                                                        2021-07-05  10719.233150  ...  29157278.89\n",
              "                                                        2021-07-06  10721.619955  ...  27698018.55\n",
              "                                                        2021-07-07  10723.551245  ...  26086110.75\n",
              "                                                        2021-07-08  10725.937514  ...  24199860.21\n",
              "                                                        2021-07-12  10729.760628  ...  23191841.10\n",
              "                                                        2021-07-13  10731.401854  ...  32834226.36\n",
              "                                                        2021-07-14  10733.253448  ...  23644176.68\n",
              "\n",
              "[65951 rows x 3 columns]"
            ]
          },
          "metadata": {
            "tags": []
          },
          "execution_count": 47
        }
      ]
    },
    {
      "cell_type": "markdown",
      "metadata": {
        "id": "vXP4ht3Mrq6W"
      },
      "source": [
        "### 3.2 Gráficos"
      ]
    },
    {
      "cell_type": "code",
      "metadata": {
        "colab": {
          "base_uri": "https://localhost:8080/",
          "height": 274
        },
        "id": "86WokG0-rtDz",
        "outputId": "23df4cea-8ce3-4ffe-a101-bdb580a1388e"
      },
      "source": [
        "vendas['Valor'].groupby('Data Venda').sum().plot();"
      ],
      "execution_count": 48,
      "outputs": [
        {
          "output_type": "display_data",
          "data": {
            "image/png": "[encoded data removed]",
            "text/plain": [
              "<Figure size 432x288 with 1 Axes>"
            ]
          },
          "metadata": {
            "tags": [],
            "needs_background": "light"
          }
        }
      ]
    },
    {
      "cell_type": "markdown",
      "metadata": {
        "id": "QvLJ6E56rugy"
      },
      "source": [
        "## 4. Recompras Tesouro Direto"
      ]
    },
    {
      "cell_type": "markdown",
      "metadata": {
        "id": "d2h-z4pjrwMv"
      },
      "source": [
        "Esse conjunto da dados contém listagem dos títulos que foram entregues pelo investidor antes do vencimento. Estão listados por dia e por título. Frequência: Atualização diária com dados até dois dias antes à data do arquivo."
      ]
    },
    {
      "cell_type": "markdown",
      "metadata": {
        "id": "xXfLZJS_rxjH"
      },
      "source": [
        "### 4.1 Buscando Dados"
      ]
    },
    {
      "cell_type": "code",
      "metadata": {
        "id": "TG-KRH9UrydL"
      },
      "source": [
        "recompras = busca_recompras_tesouro()"
      ],
      "execution_count": 49,
      "outputs": []
    },
    {
      "cell_type": "code",
      "metadata": {
        "colab": {
          "base_uri": "https://localhost:8080/",
          "height": 752
        },
        "id": "ywKmjNFNr0FN",
        "outputId": "12cdfbf7-9536-4324-d01c-0f37aaf6f951"
      },
      "source": [
        "recompras.sort_index(inplace=True)\n",
        "recompras"
      ],
      "execution_count": 50,
      "outputs": [
        {
          "output_type": "execute_result",
          "data": {
            "text/html": [
              "<div>\n",
              "<style scoped>\n",
              "    .dataframe tbody tr th:only-of-type {\n",
              "        vertical-align: middle;\n",
              "    }\n",
              "\n",
              "    .dataframe tbody tr th {\n",
              "        vertical-align: top;\n",
              "    }\n",
              "\n",
              "    .dataframe thead th {\n",
              "        text-align: right;\n",
              "    }\n",
              "</style>\n",
              "<table border=\"1\" class=\"dataframe\">\n",
              "  <thead>\n",
              "    <tr style=\"text-align: right;\">\n",
              "      <th></th>\n",
              "      <th></th>\n",
              "      <th></th>\n",
              "      <th>Quantidade</th>\n",
              "      <th>Valor</th>\n",
              "    </tr>\n",
              "    <tr>\n",
              "      <th>Tipo Titulo</th>\n",
              "      <th>Vencimento do Titulo</th>\n",
              "      <th>Data Resgate</th>\n",
              "      <th></th>\n",
              "      <th></th>\n",
              "    </tr>\n",
              "  </thead>\n",
              "  <tbody>\n",
              "    <tr>\n",
              "      <th rowspan=\"10\" valign=\"top\">Tesouro IGPM+ com Juros Semestrais</th>\n",
              "      <th rowspan=\"9\" valign=\"top\">2005-07-01</th>\n",
              "      <th>2005-01-13</th>\n",
              "      <td>2.00</td>\n",
              "      <td>3545.04</td>\n",
              "    </tr>\n",
              "    <tr>\n",
              "      <th>2005-02-03</th>\n",
              "      <td>1.00</td>\n",
              "      <td>1783.97</td>\n",
              "    </tr>\n",
              "    <tr>\n",
              "      <th>2005-03-03</th>\n",
              "      <td>2.00</td>\n",
              "      <td>3595.96</td>\n",
              "    </tr>\n",
              "    <tr>\n",
              "      <th>2005-03-10</th>\n",
              "      <td>1.00</td>\n",
              "      <td>1803.81</td>\n",
              "    </tr>\n",
              "    <tr>\n",
              "      <th>2005-03-24</th>\n",
              "      <td>0.20</td>\n",
              "      <td>364.14</td>\n",
              "    </tr>\n",
              "    <tr>\n",
              "      <th>2005-03-31</th>\n",
              "      <td>0.60</td>\n",
              "      <td>1098.15</td>\n",
              "    </tr>\n",
              "    <tr>\n",
              "      <th>2005-04-14</th>\n",
              "      <td>3.60</td>\n",
              "      <td>6666.62</td>\n",
              "    </tr>\n",
              "    <tr>\n",
              "      <th>2005-04-22</th>\n",
              "      <td>36.00</td>\n",
              "      <td>66912.84</td>\n",
              "    </tr>\n",
              "    <tr>\n",
              "      <th>2005-06-02</th>\n",
              "      <td>6.40</td>\n",
              "      <td>11999.94</td>\n",
              "    </tr>\n",
              "    <tr>\n",
              "      <th>2005-12-01</th>\n",
              "      <th>2005-01-06</th>\n",
              "      <td>141.20</td>\n",
              "      <td>249321.07</td>\n",
              "    </tr>\n",
              "    <tr>\n",
              "      <th>...</th>\n",
              "      <th>...</th>\n",
              "      <th>...</th>\n",
              "      <td>...</td>\n",
              "      <td>...</td>\n",
              "    </tr>\n",
              "    <tr>\n",
              "      <th rowspan=\"10\" valign=\"top\">Tesouro Selic</th>\n",
              "      <th rowspan=\"10\" valign=\"top\">2027-03-01</th>\n",
              "      <th>2021-06-30</th>\n",
              "      <td>622.53</td>\n",
              "      <td>6663414.27</td>\n",
              "    </tr>\n",
              "    <tr>\n",
              "      <th>2021-07-01</th>\n",
              "      <td>591.83</td>\n",
              "      <td>6336768.55</td>\n",
              "    </tr>\n",
              "    <tr>\n",
              "      <th>2021-07-02</th>\n",
              "      <td>827.60</td>\n",
              "      <td>8863915.53</td>\n",
              "    </tr>\n",
              "    <tr>\n",
              "      <th>2021-07-05</th>\n",
              "      <td>392.71</td>\n",
              "      <td>4207182.27</td>\n",
              "    </tr>\n",
              "    <tr>\n",
              "      <th>2021-07-06</th>\n",
              "      <td>577.17</td>\n",
              "      <td>6184724.22</td>\n",
              "    </tr>\n",
              "    <tr>\n",
              "      <th>2021-07-07</th>\n",
              "      <td>441.95</td>\n",
              "      <td>4736613.75</td>\n",
              "    </tr>\n",
              "    <tr>\n",
              "      <th>2021-07-08</th>\n",
              "      <td>677.84</td>\n",
              "      <td>7266393.37</td>\n",
              "    </tr>\n",
              "    <tr>\n",
              "      <th>2021-07-12</th>\n",
              "      <td>306.04</td>\n",
              "      <td>3281895.88</td>\n",
              "    </tr>\n",
              "    <tr>\n",
              "      <th>2021-07-13</th>\n",
              "      <td>787.43</td>\n",
              "      <td>8445496.62</td>\n",
              "    </tr>\n",
              "    <tr>\n",
              "      <th>2021-07-14</th>\n",
              "      <td>432.38</td>\n",
              "      <td>4638249.30</td>\n",
              "    </tr>\n",
              "  </tbody>\n",
              "</table>\n",
              "<p>45613 rows × 2 columns</p>\n",
              "</div>"
            ],
            "text/plain": [
              "                                                                      Quantidade       Valor\n",
              "Tipo Titulo                        Vencimento do Titulo Data Resgate                        \n",
              "Tesouro IGPM+ com Juros Semestrais 2005-07-01           2005-01-13          2.00     3545.04\n",
              "                                                        2005-02-03          1.00     1783.97\n",
              "                                                        2005-03-03          2.00     3595.96\n",
              "                                                        2005-03-10          1.00     1803.81\n",
              "                                                        2005-03-24          0.20      364.14\n",
              "                                                        2005-03-31          0.60     1098.15\n",
              "                                                        2005-04-14          3.60     6666.62\n",
              "                                                        2005-04-22         36.00    66912.84\n",
              "                                                        2005-06-02          6.40    11999.94\n",
              "                                   2005-12-01           2005-01-06        141.20   249321.07\n",
              "...                                                                          ...         ...\n",
              "Tesouro Selic                      2027-03-01           2021-06-30        622.53  6663414.27\n",
              "                                                        2021-07-01        591.83  6336768.55\n",
              "                                                        2021-07-02        827.60  8863915.53\n",
              "                                                        2021-07-05        392.71  4207182.27\n",
              "                                                        2021-07-06        577.17  6184724.22\n",
              "                                                        2021-07-07        441.95  4736613.75\n",
              "                                                        2021-07-08        677.84  7266393.37\n",
              "                                                        2021-07-12        306.04  3281895.88\n",
              "                                                        2021-07-13        787.43  8445496.62\n",
              "                                                        2021-07-14        432.38  4638249.30\n",
              "\n",
              "[45613 rows x 2 columns]"
            ]
          },
          "metadata": {
            "tags": []
          },
          "execution_count": 50
        }
      ]
    },
    {
      "cell_type": "code",
      "metadata": {
        "colab": {
          "base_uri": "https://localhost:8080/",
          "height": 274
        },
        "id": "UAojHd3_r1hB",
        "outputId": "db495048-dccd-4fff-9cd7-b0ced16b4a04"
      },
      "source": [
        "recompras['Valor'].groupby('Data Resgate').sum().plot();"
      ],
      "execution_count": 51,
      "outputs": [
        {
          "output_type": "display_data",
          "data": {
            "image/png": "[encoded data removed]",
            "text/plain": [
              "<Figure size 432x288 with 1 Axes>"
            ]
          },
          "metadata": {
            "tags": [],
            "needs_background": "light"
          }
        }
      ]
    },
    {
      "cell_type": "markdown",
      "metadata": {
        "id": "91FOJ5NOr3Ed"
      },
      "source": [
        "### 4.2 Recompras diárias Tesouro Selic 2025"
      ]
    },
    {
      "cell_type": "code",
      "metadata": {
        "id": "p3msNj1qr6PN"
      },
      "source": [
        "recompras_selic = recompras.loc[('Tesouro Selic', '2025-03-01')]"
      ],
      "execution_count": 52,
      "outputs": []
    },
    {
      "cell_type": "code",
      "metadata": {
        "colab": {
          "base_uri": "https://localhost:8080/",
          "height": 542
        },
        "id": "hRHS9qlyr7Ur",
        "outputId": "f1965914-826a-4d6f-e999-4d4156a495c1"
      },
      "source": [
        "fig = px.bar(data_frame=recompras_selic,  x=recompras_selic.index, y='Valor', labels={'x':'Data'})\n",
        "fig.show()"
      ],
      "execution_count": 53,
      "outputs": [
        {
          "output_type": "display_data",
          "data": {
            "text/html": [
              "<html>\n",
              "<head><meta charset=\"utf-8\" /></head>\n",
              "<body>\n",
              "    <div>\n",
              "            <script src=\"https://cdnjs.cloudflare.com/ajax/libs/mathjax/2.7.5/MathJax.js?config=TeX-AMS-MML_SVG\"></script><script type=\"text/javascript\">if (window.MathJax) {MathJax.Hub.Config({SVG: {font: \"STIX-Web\"}});}</script>\n",
              "                <script type=\"text/javascript\">window.PlotlyConfig = {MathJaxConfig: 'local'};</script>\n",
              "        <script src=\"https://cdn.plot.ly/plotly-latest.min.js\"></script>    \n",
              "            <div id=\"6322dd76-491d-48b0-a600-e4cce68f68ee\" class=\"plotly-graph-div\" style=\"height:525px; width:100%;\"></div>\n",
              "            <script type=\"text/javascript\">\n",
              "                \n",
              "                    window.PLOTLYENV=window.PLOTLYENV || {};\n",
              "                    \n",
              "                if (document.getElementById(\"6322dd76-491d-48b0-a600-e4cce68f68ee\")) {\n",
              "                    Plotly.newPlot(\n",
              "                        '6322dd76-491d-48b0-a600-e4cce68f68ee',\n",
              "                        [{\"alignmentgroup\": \"True\", \"hoverlabel\": {\"namelength\": 0}, \"hovertemplate\": \"Data=%{x}<br>Valor=%{y}\", \"legendgroup\": \"\", \"marker\": {\"color\": \"#636efa\"}, \"name\": \"\", \"offsetgroup\": \"\", \"orientation\": \"v\", \"showlegend\": false, \"textposition\": \"auto\", \"type\": \"bar\", \"x\": [\"2019-02-06T00:00:00\", \"2019-02-07T00:00:00\", \"2019-02-08T00:00:00\", \"2019-02-11T00:00:00\", \"2019-02-12T00:00:00\", \"2019-02-13T00:00:00\", \"2019-02-14T00:00:00\", \"2019-02-15T00:00:00\", \"2019-02-18T00:00:00\", \"2019-02-19T00:00:00\", \"2019-02-20T00:00:00\", \"2019-02-21T00:00:00\", \"2019-02-22T00:00:00\", \"2019-02-25T00:00:00\", \"2019-02-26T00:00:00\", \"2019-02-27T00:00:00\", \"2019-02-28T00:00:00\", \"2019-03-01T00:00:00\", \"2019-03-06T00:00:00\", \"2019-03-07T00:00:00\", \"2019-03-08T00:00:00\", \"2019-03-11T00:00:00\", \"2019-03-12T00:00:00\", \"2019-03-13T00:00:00\", \"2019-03-14T00:00:00\", \"2019-03-15T00:00:00\", \"2019-03-18T00:00:00\", \"2019-03-19T00:00:00\", \"2019-03-20T00:00:00\", \"2019-03-21T00:00:00\", \"2019-03-22T00:00:00\", \"2019-03-25T00:00:00\", \"2019-03-26T00:00:00\", \"2019-03-27T00:00:00\", \"2019-03-28T00:00:00\", \"2019-03-29T00:00:00\", \"2019-04-01T00:00:00\", \"2019-04-02T00:00:00\", \"2019-04-03T00:00:00\", \"2019-04-04T00:00:00\", \"2019-04-05T00:00:00\", \"2019-04-08T00:00:00\", \"2019-04-09T00:00:00\", \"2019-04-10T00:00:00\", \"2019-04-11T00:00:00\", \"2019-04-12T00:00:00\", \"2019-04-15T00:00:00\", \"2019-04-16T00:00:00\", \"2019-04-17T00:00:00\", \"2019-04-18T00:00:00\", \"2019-04-22T00:00:00\", \"2019-04-23T00:00:00\", \"2019-04-24T00:00:00\", \"2019-04-25T00:00:00\", \"2019-04-26T00:00:00\", \"2019-04-29T00:00:00\", \"2019-04-30T00:00:00\", \"2019-05-02T00:00:00\", \"2019-05-03T00:00:00\", \"2019-05-06T00:00:00\", \"2019-05-07T00:00:00\", \"2019-05-08T00:00:00\", \"2019-05-09T00:00:00\", \"2019-05-10T00:00:00\", \"2019-05-13T00:00:00\", \"2019-05-14T00:00:00\", \"2019-05-15T00:00:00\", \"2019-05-16T00:00:00\", \"2019-05-17T00:00:00\", \"2019-05-20T00:00:00\", \"2019-05-21T00:00:00\", \"2019-05-22T00:00:00\", \"2019-05-23T00:00:00\", \"2019-05-24T00:00:00\", \"2019-05-27T00:00:00\", \"2019-05-28T00:00:00\", \"2019-05-29T00:00:00\", \"2019-05-30T00:00:00\", \"2019-05-31T00:00:00\", \"2019-06-03T00:00:00\", \"2019-06-04T00:00:00\", \"2019-06-05T00:00:00\", \"2019-06-06T00:00:00\", \"2019-06-07T00:00:00\", \"2019-06-10T00:00:00\", \"2019-06-11T00:00:00\", \"2019-06-12T00:00:00\", \"2019-06-13T00:00:00\", \"2019-06-14T00:00:00\", \"2019-06-17T00:00:00\", \"2019-06-18T00:00:00\", \"2019-06-19T00:00:00\", \"2019-06-21T00:00:00\", \"2019-06-24T00:00:00\", \"2019-06-25T00:00:00\", \"2019-06-26T00:00:00\", \"2019-06-27T00:00:00\", \"2019-06-28T00:00:00\", \"2019-07-01T00:00:00\", \"2019-07-02T00:00:00\", \"2019-07-03T00:00:00\", \"2019-07-04T00:00:00\", \"2019-07-05T00:00:00\", \"2019-07-08T00:00:00\", \"2019-07-10T00:00:00\", \"2019-07-11T00:00:00\", \"2019-07-12T00:00:00\", \"2019-07-15T00:00:00\", \"2019-07-16T00:00:00\", \"2019-07-17T00:00:00\", \"2019-07-18T00:00:00\", \"2019-07-19T00:00:00\", \"2019-07-22T00:00:00\", \"2019-07-23T00:00:00\", \"2019-07-24T00:00:00\", \"2019-07-25T00:00:00\", \"2019-07-26T00:00:00\", \"2019-07-29T00:00:00\", \"2019-07-30T00:00:00\", \"2019-07-31T00:00:00\", \"2019-08-01T00:00:00\", \"2019-08-02T00:00:00\", \"2019-08-05T00:00:00\", \"2019-08-06T00:00:00\", \"2019-08-07T00:00:00\", \"2019-08-08T00:00:00\", \"2019-08-09T00:00:00\", \"2019-08-12T00:00:00\", \"2019-08-13T00:00:00\", \"2019-08-14T00:00:00\", \"2019-08-15T00:00:00\", \"2019-08-16T00:00:00\", \"2019-08-19T00:00:00\", \"2019-08-20T00:00:00\", \"2019-08-21T00:00:00\", \"2019-08-22T00:00:00\", \"2019-08-23T00:00:00\", \"2019-08-26T00:00:00\", \"2019-08-27T00:00:00\", \"2019-08-28T00:00:00\", \"2019-08-29T00:00:00\", \"2019-08-30T00:00:00\", \"2019-09-02T00:00:00\", \"2019-09-03T00:00:00\", \"2019-09-04T00:00:00\", \"2019-09-05T00:00:00\", \"2019-09-06T00:00:00\", \"2019-09-09T00:00:00\", \"2019-09-10T00:00:00\", \"2019-09-11T00:00:00\", \"2019-09-12T00:00:00\", \"2019-09-13T00:00:00\", \"2019-09-16T00:00:00\", \"2019-09-17T00:00:00\", \"2019-09-18T00:00:00\", \"2019-09-19T00:00:00\", \"2019-09-20T00:00:00\", \"2019-09-23T00:00:00\", \"2019-09-24T00:00:00\", \"2019-09-25T00:00:00\", \"2019-09-26T00:00:00\", \"2019-09-27T00:00:00\", \"2019-09-30T00:00:00\", \"2019-10-01T00:00:00\", \"2019-10-02T00:00:00\", \"2019-10-03T00:00:00\", \"2019-10-04T00:00:00\", \"2019-10-07T00:00:00\", \"2019-10-08T00:00:00\", \"2019-10-09T00:00:00\", \"2019-10-10T00:00:00\", \"2019-10-11T00:00:00\", \"2019-10-14T00:00:00\", \"2019-10-15T00:00:00\", \"2019-10-16T00:00:00\", \"2019-10-17T00:00:00\", \"2019-10-18T00:00:00\", \"2019-10-21T00:00:00\", \"2019-10-22T00:00:00\", \"2019-10-23T00:00:00\", \"2019-10-24T00:00:00\", \"2019-10-25T00:00:00\", \"2019-10-28T00:00:00\", \"2019-10-29T00:00:00\", \"2019-10-30T00:00:00\", \"2019-10-31T00:00:00\", \"2019-11-01T00:00:00\", \"2019-11-04T00:00:00\", \"2019-11-05T00:00:00\", \"2019-11-06T00:00:00\", \"2019-11-07T00:00:00\", \"2019-11-08T00:00:00\", \"2019-11-11T00:00:00\", \"2019-11-12T00:00:00\", \"2019-11-13T00:00:00\", \"2019-11-14T00:00:00\", \"2019-11-18T00:00:00\", \"2019-11-19T00:00:00\", \"2019-11-21T00:00:00\", \"2019-11-22T00:00:00\", \"2019-11-25T00:00:00\", \"2019-11-26T00:00:00\", \"2019-11-27T00:00:00\", \"2019-11-28T00:00:00\", \"2019-11-29T00:00:00\", \"2019-12-02T00:00:00\", \"2019-12-03T00:00:00\", \"2019-12-04T00:00:00\", \"2019-12-05T00:00:00\", \"2019-12-06T00:00:00\", \"2019-12-09T00:00:00\", \"2019-12-10T00:00:00\", \"2019-12-11T00:00:00\", \"2019-12-12T00:00:00\", \"2019-12-13T00:00:00\", \"2019-12-16T00:00:00\", \"2019-12-17T00:00:00\", \"2019-12-18T00:00:00\", \"2019-12-19T00:00:00\", \"2019-12-20T00:00:00\", \"2019-12-23T00:00:00\", \"2019-12-26T00:00:00\", \"2019-12-27T00:00:00\", \"2019-12-30T00:00:00\", \"2020-01-03T00:00:00\", \"2020-01-06T00:00:00\", \"2020-01-07T00:00:00\", \"2020-01-08T00:00:00\", \"2020-01-09T00:00:00\", \"2020-01-10T00:00:00\", \"2020-01-13T00:00:00\", \"2020-01-14T00:00:00\", \"2020-01-15T00:00:00\", \"2020-01-16T00:00:00\", \"2020-01-17T00:00:00\", \"2020-01-20T00:00:00\", \"2020-01-21T00:00:00\", \"2020-01-22T00:00:00\", \"2020-01-23T00:00:00\", \"2020-01-24T00:00:00\", \"2020-01-27T00:00:00\", \"2020-01-28T00:00:00\", \"2020-01-29T00:00:00\", \"2020-01-30T00:00:00\", \"2020-01-31T00:00:00\", \"2020-02-03T00:00:00\", \"2020-02-04T00:00:00\", \"2020-02-05T00:00:00\", \"2020-02-06T00:00:00\", \"2020-02-07T00:00:00\", \"2020-02-10T00:00:00\", \"2020-02-11T00:00:00\", \"2020-02-12T00:00:00\", \"2020-02-13T00:00:00\", \"2020-02-14T00:00:00\", \"2020-02-17T00:00:00\", \"2020-02-18T00:00:00\", \"2020-02-19T00:00:00\", \"2020-02-20T00:00:00\", \"2020-02-21T00:00:00\", \"2020-02-26T00:00:00\", \"2020-02-27T00:00:00\", \"2020-02-28T00:00:00\", \"2020-03-02T00:00:00\", \"2020-03-03T00:00:00\", \"2020-03-04T00:00:00\", \"2020-03-05T00:00:00\", \"2020-03-06T00:00:00\", \"2020-03-09T00:00:00\", \"2020-03-10T00:00:00\", \"2020-03-11T00:00:00\", \"2020-03-12T00:00:00\", \"2020-03-13T00:00:00\", \"2020-03-16T00:00:00\", \"2020-03-17T00:00:00\", \"2020-03-18T00:00:00\", \"2020-03-19T00:00:00\", \"2020-03-20T00:00:00\", \"2020-03-23T00:00:00\", \"2020-03-24T00:00:00\", \"2020-03-25T00:00:00\", \"2020-03-26T00:00:00\", \"2020-03-27T00:00:00\", \"2020-03-30T00:00:00\", \"2020-03-31T00:00:00\", \"2020-04-01T00:00:00\", \"2020-04-02T00:00:00\", \"2020-04-03T00:00:00\", \"2020-04-06T00:00:00\", \"2020-04-07T00:00:00\", \"2020-04-08T00:00:00\", \"2020-04-09T00:00:00\", \"2020-04-13T00:00:00\", \"2020-04-14T00:00:00\", \"2020-04-15T00:00:00\", \"2020-04-16T00:00:00\", \"2020-04-17T00:00:00\", \"2020-04-20T00:00:00\", \"2020-04-22T00:00:00\", \"2020-04-23T00:00:00\", \"2020-04-24T00:00:00\", \"2020-04-27T00:00:00\", \"2020-04-28T00:00:00\", \"2020-04-29T00:00:00\", \"2020-04-30T00:00:00\", \"2020-05-04T00:00:00\", \"2020-05-05T00:00:00\", \"2020-05-06T00:00:00\", \"2020-05-07T00:00:00\", \"2020-05-08T00:00:00\", \"2020-05-11T00:00:00\", \"2020-05-12T00:00:00\", \"2020-05-13T00:00:00\", \"2020-05-14T00:00:00\", \"2020-05-15T00:00:00\", \"2020-05-18T00:00:00\", \"2020-05-19T00:00:00\", \"2020-05-20T00:00:00\", \"2020-05-21T00:00:00\", \"2020-05-22T00:00:00\", \"2020-05-25T00:00:00\", \"2020-05-26T00:00:00\", \"2020-05-27T00:00:00\", \"2020-05-28T00:00:00\", \"2020-05-29T00:00:00\", \"2020-06-01T00:00:00\", \"2020-06-02T00:00:00\", \"2020-06-03T00:00:00\", \"2020-06-04T00:00:00\", \"2020-06-05T00:00:00\", \"2020-06-08T00:00:00\", \"2020-06-09T00:00:00\", \"2020-06-10T00:00:00\", \"2020-06-12T00:00:00\", \"2020-06-15T00:00:00\", \"2020-06-16T00:00:00\", \"2020-06-17T00:00:00\", \"2020-06-18T00:00:00\", \"2020-06-19T00:00:00\", \"2020-06-22T00:00:00\", \"2020-06-23T00:00:00\", \"2020-06-24T00:00:00\", \"2020-06-25T00:00:00\", \"2020-06-26T00:00:00\", \"2020-06-29T00:00:00\", \"2020-06-30T00:00:00\", \"2020-07-01T00:00:00\", \"2020-07-02T00:00:00\", \"2020-07-03T00:00:00\", \"2020-07-06T00:00:00\", \"2020-07-07T00:00:00\", \"2020-07-08T00:00:00\", \"2020-07-09T00:00:00\", \"2020-07-10T00:00:00\", \"2020-07-13T00:00:00\", \"2020-07-14T00:00:00\", \"2020-07-15T00:00:00\", \"2020-07-16T00:00:00\", \"2020-07-17T00:00:00\", \"2020-07-20T00:00:00\", \"2020-07-21T00:00:00\", \"2020-07-22T00:00:00\", \"2020-07-23T00:00:00\", \"2020-07-24T00:00:00\", \"2020-07-27T00:00:00\", \"2020-07-28T00:00:00\", \"2020-07-29T00:00:00\", \"2020-07-30T00:00:00\", \"2020-07-31T00:00:00\", \"2020-08-03T00:00:00\", \"2020-08-04T00:00:00\", \"2020-08-05T00:00:00\", \"2020-08-06T00:00:00\", \"2020-08-07T00:00:00\", \"2020-08-10T00:00:00\", \"2020-08-11T00:00:00\", \"2020-08-12T00:00:00\", \"2020-08-13T00:00:00\", \"2020-08-14T00:00:00\", \"2020-08-17T00:00:00\", \"2020-08-18T00:00:00\", \"2020-08-19T00:00:00\", \"2020-08-20T00:00:00\", \"2020-08-21T00:00:00\", \"2020-08-24T00:00:00\", \"2020-08-25T00:00:00\", \"2020-08-26T00:00:00\", \"2020-08-27T00:00:00\", \"2020-08-28T00:00:00\", \"2020-08-31T00:00:00\", \"2020-09-01T00:00:00\", \"2020-09-02T00:00:00\", \"2020-09-03T00:00:00\", \"2020-09-04T00:00:00\", \"2020-09-08T00:00:00\", \"2020-09-09T00:00:00\", \"2020-09-10T00:00:00\", \"2020-09-11T00:00:00\", \"2020-09-14T00:00:00\", \"2020-09-15T00:00:00\", \"2020-09-16T00:00:00\", \"2020-09-17T00:00:00\", \"2020-09-18T00:00:00\", \"2020-09-21T00:00:00\", \"2020-09-22T00:00:00\", \"2020-09-23T00:00:00\", \"2020-09-24T00:00:00\", \"2020-09-25T00:00:00\", \"2020-09-28T00:00:00\", \"2020-09-29T00:00:00\", \"2020-09-30T00:00:00\", \"2020-10-01T00:00:00\", \"2020-10-02T00:00:00\", \"2020-10-05T00:00:00\", \"2020-10-06T00:00:00\", \"2020-10-07T00:00:00\", \"2020-10-08T00:00:00\", \"2020-10-09T00:00:00\", \"2020-10-13T00:00:00\", \"2020-10-14T00:00:00\", \"2020-10-15T00:00:00\", \"2020-10-16T00:00:00\", \"2020-10-19T00:00:00\", \"2020-10-20T00:00:00\", \"2020-10-21T00:00:00\", \"2020-10-22T00:00:00\", \"2020-10-23T00:00:00\", \"2020-10-26T00:00:00\", \"2020-10-27T00:00:00\", \"2020-10-28T00:00:00\", \"2020-10-29T00:00:00\", \"2020-10-30T00:00:00\", \"2020-11-03T00:00:00\", \"2020-11-04T00:00:00\", \"2020-11-05T00:00:00\", \"2020-11-06T00:00:00\", \"2020-11-09T00:00:00\", \"2020-11-10T00:00:00\", \"2020-11-11T00:00:00\", \"2020-11-12T00:00:00\", \"2020-11-13T00:00:00\", \"2020-11-16T00:00:00\", \"2020-11-17T00:00:00\", \"2020-11-18T00:00:00\", \"2020-11-19T00:00:00\", \"2020-11-20T00:00:00\", \"2020-11-23T00:00:00\", \"2020-11-24T00:00:00\", \"2020-11-25T00:00:00\", \"2020-11-26T00:00:00\", \"2020-11-27T00:00:00\", \"2020-11-30T00:00:00\", \"2020-12-01T00:00:00\", \"2020-12-02T00:00:00\", \"2020-12-03T00:00:00\", \"2020-12-04T00:00:00\", \"2020-12-07T00:00:00\", \"2020-12-08T00:00:00\", \"2020-12-09T00:00:00\", \"2020-12-10T00:00:00\", \"2020-12-11T00:00:00\", \"2020-12-14T00:00:00\", \"2020-12-15T00:00:00\", \"2020-12-16T00:00:00\", \"2020-12-17T00:00:00\", \"2020-12-18T00:00:00\", \"2020-12-21T00:00:00\", \"2020-12-22T00:00:00\", \"2020-12-23T00:00:00\", \"2020-12-28T00:00:00\", \"2020-12-29T00:00:00\", \"2020-12-30T00:00:00\", \"2021-01-05T00:00:00\", \"2021-01-06T00:00:00\", \"2021-01-07T00:00:00\", \"2021-01-08T00:00:00\", \"2021-01-11T00:00:00\", \"2021-01-12T00:00:00\", \"2021-01-13T00:00:00\", \"2021-01-14T00:00:00\", \"2021-01-15T00:00:00\", \"2021-01-18T00:00:00\", \"2021-01-19T00:00:00\", \"2021-01-20T00:00:00\", \"2021-01-21T00:00:00\", \"2021-01-22T00:00:00\", \"2021-01-26T00:00:00\", \"2021-01-27T00:00:00\", \"2021-01-28T00:00:00\", \"2021-01-29T00:00:00\", \"2021-02-01T00:00:00\", \"2021-02-02T00:00:00\", \"2021-02-03T00:00:00\", \"2021-02-04T00:00:00\", \"2021-02-05T00:00:00\", \"2021-02-08T00:00:00\", \"2021-02-09T00:00:00\", \"2021-02-10T00:00:00\", \"2021-02-11T00:00:00\", \"2021-02-12T00:00:00\", \"2021-02-17T00:00:00\", \"2021-02-18T00:00:00\", \"2021-02-19T00:00:00\", \"2021-02-22T00:00:00\", \"2021-02-23T00:00:00\", \"2021-02-24T00:00:00\", \"2021-02-25T00:00:00\", \"2021-02-26T00:00:00\", \"2021-03-01T00:00:00\", \"2021-03-02T00:00:00\", \"2021-03-03T00:00:00\", \"2021-03-04T00:00:00\", \"2021-03-05T00:00:00\", \"2021-03-08T00:00:00\", \"2021-03-09T00:00:00\", \"2021-03-10T00:00:00\", \"2021-03-11T00:00:00\", \"2021-03-12T00:00:00\", \"2021-03-15T00:00:00\", \"2021-03-16T00:00:00\", \"2021-03-17T00:00:00\", \"2021-03-18T00:00:00\", \"2021-03-19T00:00:00\", \"2021-03-22T00:00:00\", \"2021-03-23T00:00:00\", \"2021-03-24T00:00:00\", \"2021-03-25T00:00:00\", \"2021-03-26T00:00:00\", \"2021-03-29T00:00:00\", \"2021-03-30T00:00:00\", \"2021-03-31T00:00:00\", \"2021-04-01T00:00:00\", \"2021-04-05T00:00:00\", \"2021-04-06T00:00:00\", \"2021-04-07T00:00:00\", \"2021-04-08T00:00:00\", \"2021-04-09T00:00:00\", \"2021-04-12T00:00:00\", \"2021-04-13T00:00:00\", \"2021-04-14T00:00:00\", \"2021-04-15T00:00:00\", \"2021-04-16T00:00:00\", \"2021-04-19T00:00:00\", \"2021-04-20T00:00:00\", \"2021-04-22T00:00:00\", \"2021-04-23T00:00:00\", \"2021-04-26T00:00:00\", \"2021-04-27T00:00:00\", \"2021-04-28T00:00:00\", \"2021-04-29T00:00:00\", \"2021-04-30T00:00:00\", \"2021-05-03T00:00:00\", \"2021-05-04T00:00:00\", \"2021-05-05T00:00:00\", \"2021-05-06T00:00:00\", \"2021-05-07T00:00:00\", \"2021-05-10T00:00:00\", \"2021-05-11T00:00:00\", \"2021-05-12T00:00:00\", \"2021-05-13T00:00:00\", \"2021-05-14T00:00:00\", \"2021-05-17T00:00:00\", \"2021-05-18T00:00:00\", \"2021-05-19T00:00:00\", \"2021-05-20T00:00:00\", \"2021-05-21T00:00:00\", \"2021-05-24T00:00:00\", \"2021-05-25T00:00:00\", \"2021-05-26T00:00:00\", \"2021-05-27T00:00:00\", \"2021-05-28T00:00:00\", \"2021-05-31T00:00:00\", \"2021-06-01T00:00:00\", \"2021-06-02T00:00:00\", \"2021-06-04T00:00:00\", \"2021-06-07T00:00:00\", \"2021-06-08T00:00:00\", \"2021-06-09T00:00:00\", \"2021-06-10T00:00:00\", \"2021-06-11T00:00:00\", \"2021-06-14T00:00:00\", \"2021-06-15T00:00:00\", \"2021-06-16T00:00:00\", \"2021-06-17T00:00:00\", \"2021-06-18T00:00:00\", \"2021-06-21T00:00:00\", \"2021-06-22T00:00:00\", \"2021-06-23T00:00:00\", \"2021-06-24T00:00:00\", \"2021-06-25T00:00:00\", \"2021-06-28T00:00:00\", \"2021-06-29T00:00:00\", \"2021-06-30T00:00:00\", \"2021-07-01T00:00:00\", \"2021-07-02T00:00:00\", \"2021-07-05T00:00:00\", \"2021-07-06T00:00:00\", \"2021-07-07T00:00:00\", \"2021-07-08T00:00:00\", \"2021-07-12T00:00:00\", \"2021-07-13T00:00:00\", \"2021-07-14T00:00:00\"], \"xaxis\": \"x\", \"y\": [138709.86, 517021.46, 225218.42, 865700.65, 1255681.15, 1343291.93, 1694985.79, 1087990.74, 1276289.43, 1842916.72, 1916082.59, 1199646.72, 1488728.43, 1336819.95, 2444435.73, 1932086.3, 2764465.63, 2513520.41, 3215884.77, 2456335.32, 2901535.17, 4055594.7, 4566761.57, 2978336.58, 3388329.4, 4142173.88, 3438480.51, 4960551.39, 3935049.1, 4340197.83, 5896177.54, 7301462.69, 8023834.7, 8278867.13, 6060310.64, 5980467.54, 5040742.15, 7374257.78, 4713783.58, 6341364.11, 5559109.89, 5125323.8, 7755835.04, 5623646.64, 6931528.26, 7209954.68, 6768497.16, 11412159.02, 9663537.87, 5804599.23, 6458242.49, 10798720.06, 7566516.28, 7874612.91, 8774663.43, 6475491.48, 12665834.06, 7145212.67, 13146781.53, 7440234.17, 10733135.81, 8489576.05, 9351840.33, 7521594.96, 7400226.61, 14936357.93, 11578314.35, 11507814.98, 10338624.42, 9769506.68, 14794260.96, 11400307.98, 8513007.34, 8370383.62, 10696175.24, 16883454.99, 11939446.11, 12439026.93, 13147008.74, 9883273.77, 19173292.13, 15473778.34, 12997450.71, 12142193.44, 10102347.87, 15286751.94, 13222939.68, 14820913.01, 11532335.66, 13099838.78, 24468795.43, 15862438.65, 13453183.12, 19090311.66, 23186507.58, 17110370.82, 18726575.43, 17651487.19, 16866599.17, 30318664.43, 20019068.03, 19210761.93, 19856023.95, 16049096.62, 28056376.96, 35703038.82, 20008506.79, 18416671.44, 28127160.55, 19222058.8, 20374983.53, 18903701.57, 18018200.15, 25264336.85, 20011051.23, 21431495.04, 19784027.88, 16827003.37, 27815919.83, 23487033.3, 22865414.19, 37071040.07, 23634568.14, 37939766.82, 29349835.42, 24753026.59, 24682006.52, 20028638.48, 31210147.87, 22716445.16, 24197650.51, 28454618.05, 20667607.92, 29745734.67, 21265895.76, 14243229.23, 18250346.78, 16454243.48, 31058656.03, 17846122.23, 18580083.57, 17167488.93, 20411491.99, 26907197.02, 20738893.55, 18871259.29, 17636327.46, 15186123.99, 27638632.51, 17750154.89, 22374039.92, 18157198.29, 16479361.3, 30077282.41, 19269548.88, 24141450.98, 31630605.6, 21050052.04, 29835906.11, 21877465.22, 22203008.66, 24355715.15, 18659876.29, 29762092.77, 26408884.58, 23965192.57, 23262381.38, 21212937.46, 34669374.68, 25787059.14, 25073907.57, 23147056.24, 18675608.22, 26279291.86, 25852863.88, 25775365.07, 19975750.58, 19971237.98, 34345724.69, 24728100.86, 25116534.61, 23869685.37, 21174506.34, 35075682.68, 28274626.41, 23817425.02, 38906108.31, 36203758.18, 49358748.06, 36709744.67, 29703388.18, 27858454.78, 30250353.86, 37130439.93, 27121473.65, 25490457.3, 18925816.44, 35422285.68, 24615920.52, 34834241.77, 20941029.84, 34169454.8, 27984210.3, 25448189.05, 23739271.41, 14850006.4, 36998918.72, 24961732.07, 27508635.98, 21369110.91, 19422533.01, 36720392.64, 24487439.93, 26223675.89, 32777290.12, 25891252.49, 40190543.33, 30832835.99, 29234046.55, 28369562.67, 25136953.29, 30100730.6, 34039833.74, 20795795.29, 55878418.62, 32379200.51, 42500070.4, 30155558.24, 28798687.55, 28984294.18, 23317502.84, 39811676.53, 30130291.59, 26525723.9, 29173055.45, 27699428.1, 36677282.37, 30093042.84, 31843942.07, 27818091.49, 22716107.57, 48298403.57, 30648577.75, 28401678.63, 31468745.97, 25655491.35, 41925202.87, 29677778.22, 29583418.69, 45268128.57, 38702012.11, 57892263.84, 32772214.47, 29378269.71, 28058578.56, 31203837.79, 43576639.21, 33050930.35, 27017230.86, 27868350.37, 27135968.91, 70136144.88, 72025576.35, 48510116.06, 52985026.31, 32271792.09, 31264958.25, 30755847.0, 48224524.76, 119130397.63, 68714909.38, 39509271.58, 15395728.66, 202499582.23, 93105566.09, 54690107.27, 96960182.92, 90710621.95, 64763974.44, 65859170.34, 40035466.89, 37607415.05, 32588692.56, 22806876.85, 30630819.49, 21857892.03, 26728149.74, 17580433.98, 24030587.37, 32900813.71, 26087809.33, 23848000.13, 24211498.89, 27493797.7, 24850892.33, 18839336.72, 20012132.64, 19348990.76, 30872302.07, 31742982.59, 23287282.65, 49341421.57, 39770063.79, 22831499.38, 21065318.75, 21111455.42, 30161292.76, 17258389.74, 19870459.4, 38208433.41, 27179823.15, 29383990.44, 25751540.34, 27948871.86, 28453761.34, 18683812.71, 31747112.61, 21094409.64, 23669980.99, 23800821.25, 16206108.07, 28150750.11, 26338602.61, 25361958.33, 22706461.68, 23393675.4, 39052021.25, 30635821.7, 42742275.71, 33276434.37, 31279737.62, 52218239.28, 36563514.63, 30433260.26, 41529092.17, 37311814.48, 25912477.75, 27711988.93, 44265979.79, 35354343.78, 48492963.72, 42395894.72, 33847944.25, 34476395.13, 26635228.95, 45232293.51, 39396763.41, 33981988.87, 36115914.23, 35940775.54, 57883477.11, 59332994.85, 41601208.31, 36030077.01, 35692463.97, 56170797.43, 33335587.06, 46319513.49, 33684748.45, 32846664.56, 48783774.89, 42706438.94, 30541489.34, 34901617.52, 34855595.08, 50358480.92, 35455210.76, 34188133.67, 32068853.83, 31183099.62, 55709691.72, 39560897.79, 34589868.72, 50690286.04, 44723288.75, 56146573.87, 42325920.6, 38647072.77, 39122494.24, 32720671.74, 50290341.1, 40822561.0, 35095390.11, 31778588.3, 22654991.02, 39267548.83, 32605483.81, 31896448.86, 30564523.11, 29731823.33, 41527420.0, 33993578.66, 30664435.99, 27827034.84, 28170219.16, 41636740.92, 30397725.9, 33186949.85, 29581281.76, 43881643.38, 39764798.23, 48159358.11, 50528277.98, 45320930.5, 84755217.15, 59220392.69, 46236039.28, 51027021.77, 39705999.06, 77678614.43, 79965131.86, 73702978.8, 78885554.48, 82717617.77, 120144626.83, 85944111.58, 69282807.48, 58157172.94, 36146947.68, 46147879.58, 33079027.97, 31114076.17, 27128727.12, 43283925.0, 28929389.4, 26467425.0, 29577610.59, 26787366.36, 42661571.89, 34888111.24, 37718922.6, 35538191.4, 29962126.75, 42207455.69, 26059723.65, 27228665.88, 27067518.51, 42751965.07, 27159535.92, 24231108.55, 25899594.04, 26465517.3, 43258264.13, 31494045.4, 29091548.27, 28025390.32, 18967055.47, 38791130.56, 36803109.67, 30831981.71, 34223238.16, 29419252.77, 42109362.6, 34370742.81, 28354257.95, 28368444.36, 24049993.43, 42865344.69, 29482441.65, 29645683.29, 28487801.83, 21909904.24, 39513201.66, 26494775.4, 30707271.16, 25455795.56, 22394525.63, 37258139.6, 21230640.59, 21800170.63, 37205661.16, 23621117.44, 63227860.79, 40528393.93, 36496555.23, 36028316.77, 25805799.8, 42683582.12, 33751674.19, 31452030.81, 29639306.96, 31573738.8, 37833787.7, 26971006.29, 28837533.8, 29647333.08, 31126729.02, 62121061.95, 30657513.23, 28812754.49, 23968144.94, 47524855.29, 30609064.49, 36657044.72, 33160298.71, 29205640.51, 45241112.3, 36271962.32, 29294829.56, 29333712.09, 23625652.54, 43173456.17, 48619226.29, 34078703.97, 104186067.99, 59076285.95, 37260796.84, 34822994.35, 37172450.22, 54160696.16, 47193588.62, 40013024.82, 30919821.87, 24179300.73, 35879199.22, 30394536.07, 25962369.06, 25138561.8, 18687437.5, 32856105.08, 22196178.7, 18904245.74, 21368474.09, 23396564.21, 29203055.01, 25662409.93, 25580868.67, 22003810.09, 15527251.13, 25260535.11, 21196728.64, 21354656.5, 22403982.68, 33358057.35, 23719297.09, 22083738.85, 23376769.46, 23508503.74, 36166141.88, 27260701.08, 27775668.08, 22793476.71, 19471105.16, 30599807.7, 21500340.19, 26892200.64, 19543674.63, 30371063.03, 23111929.68, 22852838.25, 23894780.85, 18573823.82, 31812847.46, 22683880.72, 21877647.47, 19127886.94, 20721604.5, 28424327.55, 19047680.44, 19666387.93, 17618747.74, 18639761.01, 30719006.94, 19067538.09, 19537844.11, 16231126.1, 13358440.77, 31503973.8, 17291044.64, 17872067.03, 21762472.24, 14266978.37, 24035781.65, 18420910.89, 18528395.09, 19343926.49, 24779693.78, 17353325.16, 18969619.54, 16492477.9, 15474117.53, 20207791.85, 15666077.3, 13798011.18, 14219485.28, 17479429.64, 23653939.38, 13715190.52, 13149601.19, 12945842.19, 12368451.68, 20941016.31, 16795656.81, 15287148.39, 16038765.2, 16353546.81, 19000051.34, 13861158.4, 13997058.89, 11030955.8, 23075014.1, 14451076.89], \"yaxis\": \"y\"}],\n",
              "                        {\"barmode\": \"relative\", \"legend\": {\"tracegroupgap\": 0}, \"margin\": {\"t\": 60}, \"template\": {\"data\": {\"bar\": [{\"error_x\": {\"color\": \"#2a3f5f\"}, \"error_y\": {\"color\": \"#2a3f5f\"}, \"marker\": {\"line\": {\"color\": \"#E5ECF6\", \"width\": 0.5}}, \"type\": \"bar\"}], \"barpolar\": [{\"marker\": {\"line\": {\"color\": \"#E5ECF6\", \"width\": 0.5}}, \"type\": \"barpolar\"}], \"carpet\": [{\"aaxis\": {\"endlinecolor\": \"#2a3f5f\", \"gridcolor\": \"white\", \"linecolor\": \"white\", \"minorgridcolor\": \"white\", \"startlinecolor\": \"#2a3f5f\"}, \"baxis\": {\"endlinecolor\": \"#2a3f5f\", \"gridcolor\": \"white\", \"linecolor\": \"white\", \"minorgridcolor\": \"white\", \"startlinecolor\": \"#2a3f5f\"}, \"type\": \"carpet\"}], \"choropleth\": [{\"colorbar\": {\"outlinewidth\": 0, \"ticks\": \"\"}, \"type\": \"choropleth\"}], \"contour\": [{\"colorbar\": {\"outlinewidth\": 0, \"ticks\": \"\"}, \"colorscale\": [[0.0, \"#0d0887\"], [0.1111111111111111, \"#46039f\"], [0.2222222222222222, \"#7201a8\"], [0.3333333333333333, \"#9c179e\"], [0.4444444444444444, \"#bd3786\"], [0.5555555555555556, \"#d8576b\"], [0.6666666666666666, \"#ed7953\"], [0.7777777777777778, \"#fb9f3a\"], [0.8888888888888888, \"#fdca26\"], [1.0, \"#f0f921\"]], \"type\": \"contour\"}], \"contourcarpet\": [{\"colorbar\": {\"outlinewidth\": 0, \"ticks\": \"\"}, \"type\": \"contourcarpet\"}], \"heatmap\": [{\"colorbar\": {\"outlinewidth\": 0, \"ticks\": \"\"}, \"colorscale\": [[0.0, \"#0d0887\"], [0.1111111111111111, \"#46039f\"], [0.2222222222222222, \"#7201a8\"], [0.3333333333333333, \"#9c179e\"], [0.4444444444444444, \"#bd3786\"], [0.5555555555555556, \"#d8576b\"], [0.6666666666666666, \"#ed7953\"], [0.7777777777777778, \"#fb9f3a\"], [0.8888888888888888, \"#fdca26\"], [1.0, \"#f0f921\"]], \"type\": \"heatmap\"}], \"heatmapgl\": [{\"colorbar\": {\"outlinewidth\": 0, \"ticks\": \"\"}, \"colorscale\": [[0.0, \"#0d0887\"], [0.1111111111111111, \"#46039f\"], [0.2222222222222222, \"#7201a8\"], [0.3333333333333333, \"#9c179e\"], [0.4444444444444444, \"#bd3786\"], [0.5555555555555556, \"#d8576b\"], [0.6666666666666666, \"#ed7953\"], [0.7777777777777778, \"#fb9f3a\"], [0.8888888888888888, \"#fdca26\"], [1.0, \"#f0f921\"]], \"type\": \"heatmapgl\"}], \"histogram\": [{\"marker\": {\"colorbar\": {\"outlinewidth\": 0, \"ticks\": \"\"}}, \"type\": \"histogram\"}], \"histogram2d\": [{\"colorbar\": {\"outlinewidth\": 0, \"ticks\": \"\"}, \"colorscale\": [[0.0, \"#0d0887\"], [0.1111111111111111, \"#46039f\"], [0.2222222222222222, \"#7201a8\"], [0.3333333333333333, \"#9c179e\"], [0.4444444444444444, \"#bd3786\"], [0.5555555555555556, \"#d8576b\"], [0.6666666666666666, \"#ed7953\"], [0.7777777777777778, \"#fb9f3a\"], [0.8888888888888888, \"#fdca26\"], [1.0, \"#f0f921\"]], \"type\": \"histogram2d\"}], \"histogram2dcontour\": [{\"colorbar\": {\"outlinewidth\": 0, \"ticks\": \"\"}, \"colorscale\": [[0.0, \"#0d0887\"], [0.1111111111111111, \"#46039f\"], [0.2222222222222222, \"#7201a8\"], [0.3333333333333333, \"#9c179e\"], [0.4444444444444444, \"#bd3786\"], [0.5555555555555556, \"#d8576b\"], [0.6666666666666666, \"#ed7953\"], [0.7777777777777778, \"#fb9f3a\"], [0.8888888888888888, \"#fdca26\"], [1.0, \"#f0f921\"]], \"type\": \"histogram2dcontour\"}], \"mesh3d\": [{\"colorbar\": {\"outlinewidth\": 0, \"ticks\": \"\"}, \"type\": \"mesh3d\"}], \"parcoords\": [{\"line\": {\"colorbar\": {\"outlinewidth\": 0, \"ticks\": \"\"}}, \"type\": \"parcoords\"}], \"pie\": [{\"automargin\": true, \"type\": \"pie\"}], \"scatter\": [{\"marker\": {\"colorbar\": {\"outlinewidth\": 0, \"ticks\": \"\"}}, \"type\": \"scatter\"}], \"scatter3d\": [{\"line\": {\"colorbar\": {\"outlinewidth\": 0, \"ticks\": \"\"}}, \"marker\": {\"colorbar\": {\"outlinewidth\": 0, \"ticks\": \"\"}}, \"type\": \"scatter3d\"}], \"scattercarpet\": [{\"marker\": {\"colorbar\": {\"outlinewidth\": 0, \"ticks\": \"\"}}, \"type\": \"scattercarpet\"}], \"scattergeo\": [{\"marker\": {\"colorbar\": {\"outlinewidth\": 0, \"ticks\": \"\"}}, \"type\": \"scattergeo\"}], \"scattergl\": [{\"marker\": {\"colorbar\": {\"outlinewidth\": 0, \"ticks\": \"\"}}, \"type\": \"scattergl\"}], \"scattermapbox\": [{\"marker\": {\"colorbar\": {\"outlinewidth\": 0, \"ticks\": \"\"}}, \"type\": \"scattermapbox\"}], \"scatterpolar\": [{\"marker\": {\"colorbar\": {\"outlinewidth\": 0, \"ticks\": \"\"}}, \"type\": \"scatterpolar\"}], \"scatterpolargl\": [{\"marker\": {\"colorbar\": {\"outlinewidth\": 0, \"ticks\": \"\"}}, \"type\": \"scatterpolargl\"}], \"scatterternary\": [{\"marker\": {\"colorbar\": {\"outlinewidth\": 0, \"ticks\": \"\"}}, \"type\": \"scatterternary\"}], \"surface\": [{\"colorbar\": {\"outlinewidth\": 0, \"ticks\": \"\"}, \"colorscale\": [[0.0, \"#0d0887\"], [0.1111111111111111, \"#46039f\"], [0.2222222222222222, \"#7201a8\"], [0.3333333333333333, \"#9c179e\"], [0.4444444444444444, \"#bd3786\"], [0.5555555555555556, \"#d8576b\"], [0.6666666666666666, \"#ed7953\"], [0.7777777777777778, \"#fb9f3a\"], [0.8888888888888888, \"#fdca26\"], [1.0, \"#f0f921\"]], \"type\": \"surface\"}], \"table\": [{\"cells\": {\"fill\": {\"color\": \"#EBF0F8\"}, \"line\": {\"color\": \"white\"}}, \"header\": {\"fill\": {\"color\": \"#C8D4E3\"}, \"line\": {\"color\": \"white\"}}, \"type\": \"table\"}]}, \"layout\": {\"annotationdefaults\": {\"arrowcolor\": \"#2a3f5f\", \"arrowhead\": 0, \"arrowwidth\": 1}, \"coloraxis\": {\"colorbar\": {\"outlinewidth\": 0, \"ticks\": \"\"}}, \"colorscale\": {\"diverging\": [[0, \"#8e0152\"], [0.1, \"#c51b7d\"], [0.2, \"#de77ae\"], [0.3, \"#f1b6da\"], [0.4, \"#fde0ef\"], [0.5, \"#f7f7f7\"], [0.6, \"#e6f5d0\"], [0.7, \"#b8e186\"], [0.8, \"#7fbc41\"], [0.9, \"#4d9221\"], [1, \"#276419\"]], \"sequential\": [[0.0, \"#0d0887\"], [0.1111111111111111, \"#46039f\"], [0.2222222222222222, \"#7201a8\"], [0.3333333333333333, \"#9c179e\"], [0.4444444444444444, \"#bd3786\"], [0.5555555555555556, \"#d8576b\"], [0.6666666666666666, \"#ed7953\"], [0.7777777777777778, \"#fb9f3a\"], [0.8888888888888888, \"#fdca26\"], [1.0, \"#f0f921\"]], \"sequentialminus\": [[0.0, \"#0d0887\"], [0.1111111111111111, \"#46039f\"], [0.2222222222222222, \"#7201a8\"], [0.3333333333333333, \"#9c179e\"], [0.4444444444444444, \"#bd3786\"], [0.5555555555555556, \"#d8576b\"], [0.6666666666666666, \"#ed7953\"], [0.7777777777777778, \"#fb9f3a\"], [0.8888888888888888, \"#fdca26\"], [1.0, \"#f0f921\"]]}, \"colorway\": [\"#636efa\", \"#EF553B\", \"#00cc96\", \"#ab63fa\", \"#FFA15A\", \"#19d3f3\", \"#FF6692\", \"#B6E880\", \"#FF97FF\", \"#FECB52\"], \"font\": {\"color\": \"#2a3f5f\"}, \"geo\": {\"bgcolor\": \"white\", \"lakecolor\": \"white\", \"landcolor\": \"#E5ECF6\", \"showlakes\": true, \"showland\": true, \"subunitcolor\": \"white\"}, \"hoverlabel\": {\"align\": \"left\"}, \"hovermode\": \"closest\", \"mapbox\": {\"style\": \"light\"}, \"paper_bgcolor\": \"white\", \"plot_bgcolor\": \"#E5ECF6\", \"polar\": {\"angularaxis\": {\"gridcolor\": \"white\", \"linecolor\": \"white\", \"ticks\": \"\"}, \"bgcolor\": \"#E5ECF6\", \"radialaxis\": {\"gridcolor\": \"white\", \"linecolor\": \"white\", \"ticks\": \"\"}}, \"scene\": {\"xaxis\": {\"backgroundcolor\": \"#E5ECF6\", \"gridcolor\": \"white\", \"gridwidth\": 2, \"linecolor\": \"white\", \"showbackground\": true, \"ticks\": \"\", \"zerolinecolor\": \"white\"}, \"yaxis\": {\"backgroundcolor\": \"#E5ECF6\", \"gridcolor\": \"white\", \"gridwidth\": 2, \"linecolor\": \"white\", \"showbackground\": true, \"ticks\": \"\", \"zerolinecolor\": \"white\"}, \"zaxis\": {\"backgroundcolor\": \"#E5ECF6\", \"gridcolor\": \"white\", \"gridwidth\": 2, \"linecolor\": \"white\", \"showbackground\": true, \"ticks\": \"\", \"zerolinecolor\": \"white\"}}, \"shapedefaults\": {\"line\": {\"color\": \"#2a3f5f\"}}, \"ternary\": {\"aaxis\": {\"gridcolor\": \"white\", \"linecolor\": \"white\", \"ticks\": \"\"}, \"baxis\": {\"gridcolor\": \"white\", \"linecolor\": \"white\", \"ticks\": \"\"}, \"bgcolor\": \"#E5ECF6\", \"caxis\": {\"gridcolor\": \"white\", \"linecolor\": \"white\", \"ticks\": \"\"}}, \"title\": {\"x\": 0.05}, \"xaxis\": {\"automargin\": true, \"gridcolor\": \"white\", \"linecolor\": \"white\", \"ticks\": \"\", \"title\": {\"standoff\": 15}, \"zerolinecolor\": \"white\", \"zerolinewidth\": 2}, \"yaxis\": {\"automargin\": true, \"gridcolor\": \"white\", \"linecolor\": \"white\", \"ticks\": \"\", \"title\": {\"standoff\": 15}, \"zerolinecolor\": \"white\", \"zerolinewidth\": 2}}}, \"xaxis\": {\"anchor\": \"y\", \"domain\": [0.0, 1.0], \"title\": {\"text\": \"Data\"}}, \"yaxis\": {\"anchor\": \"x\", \"domain\": [0.0, 1.0], \"title\": {\"text\": \"Valor\"}}},\n",
              "                        {\"responsive\": true}\n",
              "                    ).then(function(){\n",
              "                            \n",
              "var gd = document.getElementById('6322dd76-491d-48b0-a600-e4cce68f68ee');\n",
              "var x = new MutationObserver(function (mutations, observer) {{\n",
              "        var display = window.getComputedStyle(gd).display;\n",
              "        if (!display || display === 'none') {{\n",
              "            console.log([gd, 'removed!']);\n",
              "            Plotly.purge(gd);\n",
              "            observer.disconnect();\n",
              "        }}\n",
              "}});\n",
              "\n",
              "// Listen for the removal of the full notebook cells\n",
              "var notebookContainer = gd.closest('#notebook-container');\n",
              "if (notebookContainer) {{\n",
              "    x.observe(notebookContainer, {childList: true});\n",
              "}}\n",
              "\n",
              "// Listen for the clearing of the current output cell\n",
              "var outputEl = gd.closest('.output');\n",
              "if (outputEl) {{\n",
              "    x.observe(outputEl, {childList: true});\n",
              "}}\n",
              "\n",
              "                        })\n",
              "                };\n",
              "                \n",
              "            </script>\n",
              "        </div>\n",
              "</body>\n",
              "</html>"
            ]
          },
          "metadata": {
            "tags": []
          }
        }
      ]
    },
    {
      "cell_type": "code",
      "metadata": {
        "id": "XiH1toiOr9hd"
      },
      "source": [
        "recompras_selic_semanal = recompras_selic.resample('W').sum()"
      ],
      "execution_count": 54,
      "outputs": []
    },
    {
      "cell_type": "code",
      "metadata": {
        "colab": {
          "base_uri": "https://localhost:8080/",
          "height": 542
        },
        "id": "2uJhxHElr-g1",
        "outputId": "ce1f7d5b-cf8e-4ef7-899a-ff3ef0a57f1f"
      },
      "source": [
        "fig = px.bar(data_frame=recompras_selic_semanal,  x=recompras_selic_semanal.index, y='Valor' )\n",
        "fig.show()"
      ],
      "execution_count": 55,
      "outputs": [
        {
          "output_type": "display_data",
          "data": {
            "text/html": [
              "<html>\n",
              "<head><meta charset=\"utf-8\" /></head>\n",
              "<body>\n",
              "    <div>\n",
              "            <script src=\"https://cdnjs.cloudflare.com/ajax/libs/mathjax/2.7.5/MathJax.js?config=TeX-AMS-MML_SVG\"></script><script type=\"text/javascript\">if (window.MathJax) {MathJax.Hub.Config({SVG: {font: \"STIX-Web\"}});}</script>\n",
              "                <script type=\"text/javascript\">window.PlotlyConfig = {MathJaxConfig: 'local'};</script>\n",
              "        <script src=\"https://cdn.plot.ly/plotly-latest.min.js\"></script>    \n",
              "            <div id=\"7fe9af35-f5eb-4a6f-8823-407e6a3be02a\" class=\"plotly-graph-div\" style=\"height:525px; width:100%;\"></div>\n",
              "            <script type=\"text/javascript\">\n",
              "                \n",
              "                    window.PLOTLYENV=window.PLOTLYENV || {};\n",
              "                    \n",
              "                if (document.getElementById(\"7fe9af35-f5eb-4a6f-8823-407e6a3be02a\")) {\n",
              "                    Plotly.newPlot(\n",
              "                        '7fe9af35-f5eb-4a6f-8823-407e6a3be02a',\n",
              "                        [{\"alignmentgroup\": \"True\", \"hoverlabel\": {\"namelength\": 0}, \"hovertemplate\": \"x=%{x}<br>Valor=%{y}\", \"legendgroup\": \"\", \"marker\": {\"color\": \"#636efa\"}, \"name\": \"\", \"offsetgroup\": \"\", \"orientation\": \"v\", \"showlegend\": false, \"textposition\": \"auto\", \"type\": \"bar\", \"x\": [\"2019-02-10T00:00:00\", \"2019-02-17T00:00:00\", \"2019-02-24T00:00:00\", \"2019-03-03T00:00:00\", \"2019-03-10T00:00:00\", \"2019-03-17T00:00:00\", \"2019-03-24T00:00:00\", \"2019-03-31T00:00:00\", \"2019-04-07T00:00:00\", \"2019-04-14T00:00:00\", \"2019-04-21T00:00:00\", \"2019-04-28T00:00:00\", \"2019-05-05T00:00:00\", \"2019-05-12T00:00:00\", \"2019-05-19T00:00:00\", \"2019-05-26T00:00:00\", \"2019-06-02T00:00:00\", \"2019-06-09T00:00:00\", \"2019-06-16T00:00:00\", \"2019-06-23T00:00:00\", \"2019-06-30T00:00:00\", \"2019-07-07T00:00:00\", \"2019-07-14T00:00:00\", \"2019-07-21T00:00:00\", \"2019-07-28T00:00:00\", \"2019-08-04T00:00:00\", \"2019-08-11T00:00:00\", \"2019-08-18T00:00:00\", \"2019-08-25T00:00:00\", \"2019-09-01T00:00:00\", \"2019-09-08T00:00:00\", \"2019-09-15T00:00:00\", \"2019-09-22T00:00:00\", \"2019-09-29T00:00:00\", \"2019-10-06T00:00:00\", \"2019-10-13T00:00:00\", \"2019-10-20T00:00:00\", \"2019-10-27T00:00:00\", \"2019-11-03T00:00:00\", \"2019-11-10T00:00:00\", \"2019-11-17T00:00:00\", \"2019-11-24T00:00:00\", \"2019-12-01T00:00:00\", \"2019-12-08T00:00:00\", \"2019-12-15T00:00:00\", \"2019-12-22T00:00:00\", \"2019-12-29T00:00:00\", \"2020-01-05T00:00:00\", \"2020-01-12T00:00:00\", \"2020-01-19T00:00:00\", \"2020-01-26T00:00:00\", \"2020-02-02T00:00:00\", \"2020-02-09T00:00:00\", \"2020-02-16T00:00:00\", \"2020-02-23T00:00:00\", \"2020-03-01T00:00:00\", \"2020-03-08T00:00:00\", \"2020-03-15T00:00:00\", \"2020-03-22T00:00:00\", \"2020-03-29T00:00:00\", \"2020-04-05T00:00:00\", \"2020-04-12T00:00:00\", \"2020-04-19T00:00:00\", \"2020-04-26T00:00:00\", \"2020-05-03T00:00:00\", \"2020-05-10T00:00:00\", \"2020-05-17T00:00:00\", \"2020-05-24T00:00:00\", \"2020-05-31T00:00:00\", \"2020-06-07T00:00:00\", \"2020-06-14T00:00:00\", \"2020-06-21T00:00:00\", \"2020-06-28T00:00:00\", \"2020-07-05T00:00:00\", \"2020-07-12T00:00:00\", \"2020-07-19T00:00:00\", \"2020-07-26T00:00:00\", \"2020-08-02T00:00:00\", \"2020-08-09T00:00:00\", \"2020-08-16T00:00:00\", \"2020-08-23T00:00:00\", \"2020-08-30T00:00:00\", \"2020-09-06T00:00:00\", \"2020-09-13T00:00:00\", \"2020-09-20T00:00:00\", \"2020-09-27T00:00:00\", \"2020-10-04T00:00:00\", \"2020-10-11T00:00:00\", \"2020-10-18T00:00:00\", \"2020-10-25T00:00:00\", \"2020-11-01T00:00:00\", \"2020-11-08T00:00:00\", \"2020-11-15T00:00:00\", \"2020-11-22T00:00:00\", \"2020-11-29T00:00:00\", \"2020-12-06T00:00:00\", \"2020-12-13T00:00:00\", \"2020-12-20T00:00:00\", \"2020-12-27T00:00:00\", \"2021-01-03T00:00:00\", \"2021-01-10T00:00:00\", \"2021-01-17T00:00:00\", \"2021-01-24T00:00:00\", \"2021-01-31T00:00:00\", \"2021-02-07T00:00:00\", \"2021-02-14T00:00:00\", \"2021-02-21T00:00:00\", \"2021-02-28T00:00:00\", \"2021-03-07T00:00:00\", \"2021-03-14T00:00:00\", \"2021-03-21T00:00:00\", \"2021-03-28T00:00:00\", \"2021-04-04T00:00:00\", \"2021-04-11T00:00:00\", \"2021-04-18T00:00:00\", \"2021-04-25T00:00:00\", \"2021-05-02T00:00:00\", \"2021-05-09T00:00:00\", \"2021-05-16T00:00:00\", \"2021-05-23T00:00:00\", \"2021-05-30T00:00:00\", \"2021-06-06T00:00:00\", \"2021-06-13T00:00:00\", \"2021-06-20T00:00:00\", \"2021-06-27T00:00:00\", \"2021-07-04T00:00:00\", \"2021-07-11T00:00:00\", \"2021-07-18T00:00:00\"], \"xaxis\": \"x\", \"y\": [880949.7400000001, 6247650.26, 7723663.89, 10991328.02, 8573755.26, 19131196.13, 22570456.369999997, 35644942.7, 29029257.509999998, 32646288.42, 33648793.28, 41472755.17, 39433319.74, 43536381.32, 55761338.29000001, 52847466.580000006, 65105112.01, 69669988.39, 64965288.16, 66884255.98, 95765252.67999999, 106271117.51, 99817019.19, 105044575.89000002, 104509111.15, 128066410.75999999, 140359203.49, 126607500.07000001, 104172814.36000001, 101106594.24000001, 104565169.31, 101106149.6, 121598249.17000002, 119322147.18, 122058427.59, 129890335.08999999, 116558879.61, 128031283.51, 147248348.76, 179834093.87, 119992724.74, 113798264.41, 132282155.39999999, 125688404.08, 139631331.59, 154518241.02999997, 89277517.63, 76674213.91, 162817810.88, 148958250.31, 154131786.87, 161533513.49, 172110019.7, 186803338.69, 162716988.57999998, 169297690.14, 195787739.71, 290974832.01, 537966060.46, 240854719.28000003, 119604172.09, 106867210.53999999, 115407658.28, 105251558.07, 133008303.49, 126610030.72999999, 138717987.13, 118996137.2, 118763880.79999998, 169100228.43, 150494751.79, 176731353.12, 194567541.6, 181362188.96999997, 230788532.82, 205203110.40000004, 189779985.25, 186926274.26, 211733843.89, 220965350.23000002, 190707552.25, 156988995.63, 163744292.82, 133391635.82999998, 211915359.46, 286559601.39, 349938278.63000005, 416246336.6, 146487931.39999998, 155387077.11, 177594163.49, 125457971.97, 147109722.09, 158334765.42000002, 159616515.57, 162622060.49, 154531264.89, 144080948.01999998, 80883305.82000001, 82626949.22999999, 176281126.72, 163332393.88, 154863399.67, 152718058.69, 171919408.15, 169347256.78, 115418335.0, 269424849.09999996, 209459581.69, 141553966.88000003, 114012441.11, 125846707.91000001, 83339171.38, 124941845.43, 137504491.49, 98463453.69, 119774286.44, 114076086.41, 105478748.15999998, 104195276.25, 101787998.48, 75252066.0, 96939042.87, 79365483.14, 80944002.91999999, 81431038.39, 63211815.44, 48557046.79000001], \"yaxis\": \"y\"}],\n",
              "                        {\"barmode\": \"relative\", \"legend\": {\"tracegroupgap\": 0}, \"margin\": {\"t\": 60}, \"template\": {\"data\": {\"bar\": [{\"error_x\": {\"color\": \"#2a3f5f\"}, \"error_y\": {\"color\": \"#2a3f5f\"}, \"marker\": {\"line\": {\"color\": \"#E5ECF6\", \"width\": 0.5}}, \"type\": \"bar\"}], \"barpolar\": [{\"marker\": {\"line\": {\"color\": \"#E5ECF6\", \"width\": 0.5}}, \"type\": \"barpolar\"}], \"carpet\": [{\"aaxis\": {\"endlinecolor\": \"#2a3f5f\", \"gridcolor\": \"white\", \"linecolor\": \"white\", \"minorgridcolor\": \"white\", \"startlinecolor\": \"#2a3f5f\"}, \"baxis\": {\"endlinecolor\": \"#2a3f5f\", \"gridcolor\": \"white\", \"linecolor\": \"white\", \"minorgridcolor\": \"white\", \"startlinecolor\": \"#2a3f5f\"}, \"type\": \"carpet\"}], \"choropleth\": [{\"colorbar\": {\"outlinewidth\": 0, \"ticks\": \"\"}, \"type\": \"choropleth\"}], \"contour\": [{\"colorbar\": {\"outlinewidth\": 0, \"ticks\": \"\"}, \"colorscale\": [[0.0, \"#0d0887\"], [0.1111111111111111, \"#46039f\"], [0.2222222222222222, \"#7201a8\"], [0.3333333333333333, \"#9c179e\"], [0.4444444444444444, \"#bd3786\"], [0.5555555555555556, \"#d8576b\"], [0.6666666666666666, \"#ed7953\"], [0.7777777777777778, \"#fb9f3a\"], [0.8888888888888888, \"#fdca26\"], [1.0, \"#f0f921\"]], \"type\": \"contour\"}], \"contourcarpet\": [{\"colorbar\": {\"outlinewidth\": 0, \"ticks\": \"\"}, \"type\": \"contourcarpet\"}], \"heatmap\": [{\"colorbar\": {\"outlinewidth\": 0, \"ticks\": \"\"}, \"colorscale\": [[0.0, \"#0d0887\"], [0.1111111111111111, \"#46039f\"], [0.2222222222222222, \"#7201a8\"], [0.3333333333333333, \"#9c179e\"], [0.4444444444444444, \"#bd3786\"], [0.5555555555555556, \"#d8576b\"], [0.6666666666666666, \"#ed7953\"], [0.7777777777777778, \"#fb9f3a\"], [0.8888888888888888, \"#fdca26\"], [1.0, \"#f0f921\"]], \"type\": \"heatmap\"}], \"heatmapgl\": [{\"colorbar\": {\"outlinewidth\": 0, \"ticks\": \"\"}, \"colorscale\": [[0.0, \"#0d0887\"], [0.1111111111111111, \"#46039f\"], [0.2222222222222222, \"#7201a8\"], [0.3333333333333333, \"#9c179e\"], [0.4444444444444444, \"#bd3786\"], [0.5555555555555556, \"#d8576b\"], [0.6666666666666666, \"#ed7953\"], [0.7777777777777778, \"#fb9f3a\"], [0.8888888888888888, \"#fdca26\"], [1.0, \"#f0f921\"]], \"type\": \"heatmapgl\"}], \"histogram\": [{\"marker\": {\"colorbar\": {\"outlinewidth\": 0, \"ticks\": \"\"}}, \"type\": \"histogram\"}], \"histogram2d\": [{\"colorbar\": {\"outlinewidth\": 0, \"ticks\": \"\"}, \"colorscale\": [[0.0, \"#0d0887\"], [0.1111111111111111, \"#46039f\"], [0.2222222222222222, \"#7201a8\"], [0.3333333333333333, \"#9c179e\"], [0.4444444444444444, \"#bd3786\"], [0.5555555555555556, \"#d8576b\"], [0.6666666666666666, \"#ed7953\"], [0.7777777777777778, \"#fb9f3a\"], [0.8888888888888888, \"#fdca26\"], [1.0, \"#f0f921\"]], \"type\": \"histogram2d\"}], \"histogram2dcontour\": [{\"colorbar\": {\"outlinewidth\": 0, \"ticks\": \"\"}, \"colorscale\": [[0.0, \"#0d0887\"], [0.1111111111111111, \"#46039f\"], [0.2222222222222222, \"#7201a8\"], [0.3333333333333333, \"#9c179e\"], [0.4444444444444444, \"#bd3786\"], [0.5555555555555556, \"#d8576b\"], [0.6666666666666666, \"#ed7953\"], [0.7777777777777778, \"#fb9f3a\"], [0.8888888888888888, \"#fdca26\"], [1.0, \"#f0f921\"]], \"type\": \"histogram2dcontour\"}], \"mesh3d\": [{\"colorbar\": {\"outlinewidth\": 0, \"ticks\": \"\"}, \"type\": \"mesh3d\"}], \"parcoords\": [{\"line\": {\"colorbar\": {\"outlinewidth\": 0, \"ticks\": \"\"}}, \"type\": \"parcoords\"}], \"pie\": [{\"automargin\": true, \"type\": \"pie\"}], \"scatter\": [{\"marker\": {\"colorbar\": {\"outlinewidth\": 0, \"ticks\": \"\"}}, \"type\": \"scatter\"}], \"scatter3d\": [{\"line\": {\"colorbar\": {\"outlinewidth\": 0, \"ticks\": \"\"}}, \"marker\": {\"colorbar\": {\"outlinewidth\": 0, \"ticks\": \"\"}}, \"type\": \"scatter3d\"}], \"scattercarpet\": [{\"marker\": {\"colorbar\": {\"outlinewidth\": 0, \"ticks\": \"\"}}, \"type\": \"scattercarpet\"}], \"scattergeo\": [{\"marker\": {\"colorbar\": {\"outlinewidth\": 0, \"ticks\": \"\"}}, \"type\": \"scattergeo\"}], \"scattergl\": [{\"marker\": {\"colorbar\": {\"outlinewidth\": 0, \"ticks\": \"\"}}, \"type\": \"scattergl\"}], \"scattermapbox\": [{\"marker\": {\"colorbar\": {\"outlinewidth\": 0, \"ticks\": \"\"}}, \"type\": \"scattermapbox\"}], \"scatterpolar\": [{\"marker\": {\"colorbar\": {\"outlinewidth\": 0, \"ticks\": \"\"}}, \"type\": \"scatterpolar\"}], \"scatterpolargl\": [{\"marker\": {\"colorbar\": {\"outlinewidth\": 0, \"ticks\": \"\"}}, \"type\": \"scatterpolargl\"}], \"scatterternary\": [{\"marker\": {\"colorbar\": {\"outlinewidth\": 0, \"ticks\": \"\"}}, \"type\": \"scatterternary\"}], \"surface\": [{\"colorbar\": {\"outlinewidth\": 0, \"ticks\": \"\"}, \"colorscale\": [[0.0, \"#0d0887\"], [0.1111111111111111, \"#46039f\"], [0.2222222222222222, \"#7201a8\"], [0.3333333333333333, \"#9c179e\"], [0.4444444444444444, \"#bd3786\"], [0.5555555555555556, \"#d8576b\"], [0.6666666666666666, \"#ed7953\"], [0.7777777777777778, \"#fb9f3a\"], [0.8888888888888888, \"#fdca26\"], [1.0, \"#f0f921\"]], \"type\": \"surface\"}], \"table\": [{\"cells\": {\"fill\": {\"color\": \"#EBF0F8\"}, \"line\": {\"color\": \"white\"}}, \"header\": {\"fill\": {\"color\": \"#C8D4E3\"}, \"line\": {\"color\": \"white\"}}, \"type\": \"table\"}]}, \"layout\": {\"annotationdefaults\": {\"arrowcolor\": \"#2a3f5f\", \"arrowhead\": 0, \"arrowwidth\": 1}, \"coloraxis\": {\"colorbar\": {\"outlinewidth\": 0, \"ticks\": \"\"}}, \"colorscale\": {\"diverging\": [[0, \"#8e0152\"], [0.1, \"#c51b7d\"], [0.2, \"#de77ae\"], [0.3, \"#f1b6da\"], [0.4, \"#fde0ef\"], [0.5, \"#f7f7f7\"], [0.6, \"#e6f5d0\"], [0.7, \"#b8e186\"], [0.8, \"#7fbc41\"], [0.9, \"#4d9221\"], [1, \"#276419\"]], \"sequential\": [[0.0, \"#0d0887\"], [0.1111111111111111, \"#46039f\"], [0.2222222222222222, \"#7201a8\"], [0.3333333333333333, \"#9c179e\"], [0.4444444444444444, \"#bd3786\"], [0.5555555555555556, \"#d8576b\"], [0.6666666666666666, \"#ed7953\"], [0.7777777777777778, \"#fb9f3a\"], [0.8888888888888888, \"#fdca26\"], [1.0, \"#f0f921\"]], \"sequentialminus\": [[0.0, \"#0d0887\"], [0.1111111111111111, \"#46039f\"], [0.2222222222222222, \"#7201a8\"], [0.3333333333333333, \"#9c179e\"], [0.4444444444444444, \"#bd3786\"], [0.5555555555555556, \"#d8576b\"], [0.6666666666666666, \"#ed7953\"], [0.7777777777777778, \"#fb9f3a\"], [0.8888888888888888, \"#fdca26\"], [1.0, \"#f0f921\"]]}, \"colorway\": [\"#636efa\", \"#EF553B\", \"#00cc96\", \"#ab63fa\", \"#FFA15A\", \"#19d3f3\", \"#FF6692\", \"#B6E880\", \"#FF97FF\", \"#FECB52\"], \"font\": {\"color\": \"#2a3f5f\"}, \"geo\": {\"bgcolor\": \"white\", \"lakecolor\": \"white\", \"landcolor\": \"#E5ECF6\", \"showlakes\": true, \"showland\": true, \"subunitcolor\": \"white\"}, \"hoverlabel\": {\"align\": \"left\"}, \"hovermode\": \"closest\", \"mapbox\": {\"style\": \"light\"}, \"paper_bgcolor\": \"white\", \"plot_bgcolor\": \"#E5ECF6\", \"polar\": {\"angularaxis\": {\"gridcolor\": \"white\", \"linecolor\": \"white\", \"ticks\": \"\"}, \"bgcolor\": \"#E5ECF6\", \"radialaxis\": {\"gridcolor\": \"white\", \"linecolor\": \"white\", \"ticks\": \"\"}}, \"scene\": {\"xaxis\": {\"backgroundcolor\": \"#E5ECF6\", \"gridcolor\": \"white\", \"gridwidth\": 2, \"linecolor\": \"white\", \"showbackground\": true, \"ticks\": \"\", \"zerolinecolor\": \"white\"}, \"yaxis\": {\"backgroundcolor\": \"#E5ECF6\", \"gridcolor\": \"white\", \"gridwidth\": 2, \"linecolor\": \"white\", \"showbackground\": true, \"ticks\": \"\", \"zerolinecolor\": \"white\"}, \"zaxis\": {\"backgroundcolor\": \"#E5ECF6\", \"gridcolor\": \"white\", \"gridwidth\": 2, \"linecolor\": \"white\", \"showbackground\": true, \"ticks\": \"\", \"zerolinecolor\": \"white\"}}, \"shapedefaults\": {\"line\": {\"color\": \"#2a3f5f\"}}, \"ternary\": {\"aaxis\": {\"gridcolor\": \"white\", \"linecolor\": \"white\", \"ticks\": \"\"}, \"baxis\": {\"gridcolor\": \"white\", \"linecolor\": \"white\", \"ticks\": \"\"}, \"bgcolor\": \"#E5ECF6\", \"caxis\": {\"gridcolor\": \"white\", \"linecolor\": \"white\", \"ticks\": \"\"}}, \"title\": {\"x\": 0.05}, \"xaxis\": {\"automargin\": true, \"gridcolor\": \"white\", \"linecolor\": \"white\", \"ticks\": \"\", \"title\": {\"standoff\": 15}, \"zerolinecolor\": \"white\", \"zerolinewidth\": 2}, \"yaxis\": {\"automargin\": true, \"gridcolor\": \"white\", \"linecolor\": \"white\", \"ticks\": \"\", \"title\": {\"standoff\": 15}, \"zerolinecolor\": \"white\", \"zerolinewidth\": 2}}}, \"xaxis\": {\"anchor\": \"y\", \"domain\": [0.0, 1.0], \"title\": {\"text\": \"x\"}}, \"yaxis\": {\"anchor\": \"x\", \"domain\": [0.0, 1.0], \"title\": {\"text\": \"Valor\"}}},\n",
              "                        {\"responsive\": true}\n",
              "                    ).then(function(){\n",
              "                            \n",
              "var gd = document.getElementById('7fe9af35-f5eb-4a6f-8823-407e6a3be02a');\n",
              "var x = new MutationObserver(function (mutations, observer) {{\n",
              "        var display = window.getComputedStyle(gd).display;\n",
              "        if (!display || display === 'none') {{\n",
              "            console.log([gd, 'removed!']);\n",
              "            Plotly.purge(gd);\n",
              "            observer.disconnect();\n",
              "        }}\n",
              "}});\n",
              "\n",
              "// Listen for the removal of the full notebook cells\n",
              "var notebookContainer = gd.closest('#notebook-container');\n",
              "if (notebookContainer) {{\n",
              "    x.observe(notebookContainer, {childList: true});\n",
              "}}\n",
              "\n",
              "// Listen for the clearing of the current output cell\n",
              "var outputEl = gd.closest('.output');\n",
              "if (outputEl) {{\n",
              "    x.observe(outputEl, {childList: true});\n",
              "}}\n",
              "\n",
              "                        })\n",
              "                };\n",
              "                \n",
              "            </script>\n",
              "        </div>\n",
              "</body>\n",
              "</html>"
            ]
          },
          "metadata": {
            "tags": []
          }
        }
      ]
    },
    {
      "cell_type": "markdown",
      "metadata": {
        "id": "rc9PDFH1sAHP"
      },
      "source": [
        "### 4.3 Resgastes Tesouro Selic vs Índice Bovespa"
      ]
    },
    {
      "cell_type": "code",
      "metadata": {
        "colab": {
          "base_uri": "https://localhost:8080/"
        },
        "id": "ppvR-69IsCDU",
        "outputId": "317132c3-621a-40e0-8fb8-4d9b2b6e6cc5"
      },
      "source": [
        "ibov = yf.download('^BVSP')['Adj Close'].resample('W').last().pct_change()[1:]"
      ],
      "execution_count": 56,
      "outputs": [
        {
          "output_type": "stream",
          "text": [
            "\r[*********************100%***********************]  1 of 1 completed\n"
          ],
          "name": "stdout"
        }
      ]
    },
    {
      "cell_type": "code",
      "metadata": {
        "colab": {
          "base_uri": "https://localhost:8080/",
          "height": 752
        },
        "id": "r5k4zDpbsDwB",
        "outputId": "9a154716-17d6-4709-80ae-a12275d1ba92"
      },
      "source": [
        "selic_ibov = pd.concat([recompras_selic_semanal['Valor'].pct_change()[1:], ibov], axis=1).dropna()[1:]\n",
        "selic_ibov.columns = ['Recompra(%)', 'IBOV(%)']\n",
        "selic_ibov"
      ],
      "execution_count": 57,
      "outputs": [
        {
          "output_type": "execute_result",
          "data": {
            "text/html": [
              "<div>\n",
              "<style scoped>\n",
              "    .dataframe tbody tr th:only-of-type {\n",
              "        vertical-align: middle;\n",
              "    }\n",
              "\n",
              "    .dataframe tbody tr th {\n",
              "        vertical-align: top;\n",
              "    }\n",
              "\n",
              "    .dataframe thead th {\n",
              "        text-align: right;\n",
              "    }\n",
              "</style>\n",
              "<table border=\"1\" class=\"dataframe\">\n",
              "  <thead>\n",
              "    <tr style=\"text-align: right;\">\n",
              "      <th></th>\n",
              "      <th>Recompra(%)</th>\n",
              "      <th>IBOV(%)</th>\n",
              "    </tr>\n",
              "    <tr>\n",
              "      <th>Date</th>\n",
              "      <th></th>\n",
              "      <th></th>\n",
              "    </tr>\n",
              "  </thead>\n",
              "  <tbody>\n",
              "    <tr>\n",
              "      <th>2019-02-24</th>\n",
              "      <td>0.236251</td>\n",
              "      <td>0.003691</td>\n",
              "    </tr>\n",
              "    <tr>\n",
              "      <th>2019-03-03</th>\n",
              "      <td>0.423072</td>\n",
              "      <td>-0.033529</td>\n",
              "    </tr>\n",
              "    <tr>\n",
              "      <th>2019-03-10</th>\n",
              "      <td>-0.219953</td>\n",
              "      <td>0.008044</td>\n",
              "    </tr>\n",
              "    <tr>\n",
              "      <th>2019-03-17</th>\n",
              "      <td>1.231367</td>\n",
              "      <td>0.039553</td>\n",
              "    </tr>\n",
              "    <tr>\n",
              "      <th>2019-03-24</th>\n",
              "      <td>0.179772</td>\n",
              "      <td>-0.054490</td>\n",
              "    </tr>\n",
              "    <tr>\n",
              "      <th>2019-03-31</th>\n",
              "      <td>0.579274</td>\n",
              "      <td>0.017923</td>\n",
              "    </tr>\n",
              "    <tr>\n",
              "      <th>2019-04-07</th>\n",
              "      <td>-0.185600</td>\n",
              "      <td>0.017744</td>\n",
              "    </tr>\n",
              "    <tr>\n",
              "      <th>2019-04-14</th>\n",
              "      <td>0.124599</td>\n",
              "      <td>-0.043591</td>\n",
              "    </tr>\n",
              "    <tr>\n",
              "      <th>2019-04-21</th>\n",
              "      <td>0.030708</td>\n",
              "      <td>0.018336</td>\n",
              "    </tr>\n",
              "    <tr>\n",
              "      <th>2019-04-28</th>\n",
              "      <td>0.232518</td>\n",
              "      <td>0.017531</td>\n",
              "    </tr>\n",
              "    <tr>\n",
              "      <th>...</th>\n",
              "      <td>...</td>\n",
              "      <td>...</td>\n",
              "    </tr>\n",
              "    <tr>\n",
              "      <th>2021-05-16</th>\n",
              "      <td>-0.075365</td>\n",
              "      <td>-0.001286</td>\n",
              "    </tr>\n",
              "    <tr>\n",
              "      <th>2021-05-23</th>\n",
              "      <td>-0.012168</td>\n",
              "      <td>0.005834</td>\n",
              "    </tr>\n",
              "    <tr>\n",
              "      <th>2021-05-30</th>\n",
              "      <td>-0.023104</td>\n",
              "      <td>0.024219</td>\n",
              "    </tr>\n",
              "    <tr>\n",
              "      <th>2021-06-06</th>\n",
              "      <td>-0.260698</td>\n",
              "      <td>0.036357</td>\n",
              "    </tr>\n",
              "    <tr>\n",
              "      <th>2021-06-13</th>\n",
              "      <td>0.288191</td>\n",
              "      <td>-0.005264</td>\n",
              "    </tr>\n",
              "    <tr>\n",
              "      <th>2021-06-20</th>\n",
              "      <td>-0.181285</td>\n",
              "      <td>-0.008004</td>\n",
              "    </tr>\n",
              "    <tr>\n",
              "      <th>2021-06-27</th>\n",
              "      <td>0.019889</td>\n",
              "      <td>-0.008948</td>\n",
              "    </tr>\n",
              "    <tr>\n",
              "      <th>2021-07-04</th>\n",
              "      <td>0.006017</td>\n",
              "      <td>0.002876</td>\n",
              "    </tr>\n",
              "    <tr>\n",
              "      <th>2021-07-11</th>\n",
              "      <td>-0.223738</td>\n",
              "      <td>-0.017191</td>\n",
              "    </tr>\n",
              "    <tr>\n",
              "      <th>2021-07-18</th>\n",
              "      <td>-0.231836</td>\n",
              "      <td>0.004241</td>\n",
              "    </tr>\n",
              "  </tbody>\n",
              "</table>\n",
              "<p>126 rows × 2 columns</p>\n",
              "</div>"
            ],
            "text/plain": [
              "            Recompra(%)   IBOV(%)\n",
              "Date                             \n",
              "2019-02-24     0.236251  0.003691\n",
              "2019-03-03     0.423072 -0.033529\n",
              "2019-03-10    -0.219953  0.008044\n",
              "2019-03-17     1.231367  0.039553\n",
              "2019-03-24     0.179772 -0.054490\n",
              "2019-03-31     0.579274  0.017923\n",
              "2019-04-07    -0.185600  0.017744\n",
              "2019-04-14     0.124599 -0.043591\n",
              "2019-04-21     0.030708  0.018336\n",
              "2019-04-28     0.232518  0.017531\n",
              "...                 ...       ...\n",
              "2021-05-16    -0.075365 -0.001286\n",
              "2021-05-23    -0.012168  0.005834\n",
              "2021-05-30    -0.023104  0.024219\n",
              "2021-06-06    -0.260698  0.036357\n",
              "2021-06-13     0.288191 -0.005264\n",
              "2021-06-20    -0.181285 -0.008004\n",
              "2021-06-27     0.019889 -0.008948\n",
              "2021-07-04     0.006017  0.002876\n",
              "2021-07-11    -0.223738 -0.017191\n",
              "2021-07-18    -0.231836  0.004241\n",
              "\n",
              "[126 rows x 2 columns]"
            ]
          },
          "metadata": {
            "tags": []
          },
          "execution_count": 57
        }
      ]
    },
    {
      "cell_type": "code",
      "metadata": {
        "colab": {
          "base_uri": "https://localhost:8080/",
          "height": 542
        },
        "id": "BwqK8Os9sE3u",
        "outputId": "6fb6b485-1df4-483c-9cf3-854d8655dac8"
      },
      "source": [
        "fig = go.Figure(data=[\n",
        "    go.Bar(name='Recompras Selic(%)', x=selic_ibov.index,  y=selic_ibov['Recompra(%)']),\n",
        "    go.Bar(name='IBOV(%)', x=selic_ibov.index,  y=selic_ibov['IBOV(%)']),\n",
        "])\n",
        "fig.update_layout(barmode='group')\n",
        "fig.show()"
      ],
      "execution_count": 58,
      "outputs": [
        {
          "output_type": "display_data",
          "data": {
            "text/html": [
              "<html>\n",
              "<head><meta charset=\"utf-8\" /></head>\n",
              "<body>\n",
              "    <div>\n",
              "            <script src=\"https://cdnjs.cloudflare.com/ajax/libs/mathjax/2.7.5/MathJax.js?config=TeX-AMS-MML_SVG\"></script><script type=\"text/javascript\">if (window.MathJax) {MathJax.Hub.Config({SVG: {font: \"STIX-Web\"}});}</script>\n",
              "                <script type=\"text/javascript\">window.PlotlyConfig = {MathJaxConfig: 'local'};</script>\n",
              "        <script src=\"https://cdn.plot.ly/plotly-latest.min.js\"></script>    \n",
              "            <div id=\"a7f0c225-442f-4648-a612-459b4b12bfd4\" class=\"plotly-graph-div\" style=\"height:525px; width:100%;\"></div>\n",
              "            <script type=\"text/javascript\">\n",
              "                \n",
              "                    window.PLOTLYENV=window.PLOTLYENV || {};\n",
              "                    \n",
              "                if (document.getElementById(\"a7f0c225-442f-4648-a612-459b4b12bfd4\")) {\n",
              "                    Plotly.newPlot(\n",
              "                        'a7f0c225-442f-4648-a612-459b4b12bfd4',\n",
              "                        [{\"name\": \"Recompras Selic(%)\", \"type\": \"bar\", \"x\": [\"2019-02-24T00:00:00\", \"2019-03-03T00:00:00\", \"2019-03-10T00:00:00\", \"2019-03-17T00:00:00\", \"2019-03-24T00:00:00\", \"2019-03-31T00:00:00\", \"2019-04-07T00:00:00\", \"2019-04-14T00:00:00\", \"2019-04-21T00:00:00\", \"2019-04-28T00:00:00\", \"2019-05-05T00:00:00\", \"2019-05-12T00:00:00\", \"2019-05-19T00:00:00\", \"2019-05-26T00:00:00\", \"2019-06-02T00:00:00\", \"2019-06-09T00:00:00\", \"2019-06-16T00:00:00\", \"2019-06-23T00:00:00\", \"2019-06-30T00:00:00\", \"2019-07-07T00:00:00\", \"2019-07-14T00:00:00\", \"2019-07-21T00:00:00\", \"2019-07-28T00:00:00\", \"2019-08-04T00:00:00\", \"2019-08-11T00:00:00\", \"2019-08-18T00:00:00\", \"2019-08-25T00:00:00\", \"2019-09-01T00:00:00\", \"2019-09-08T00:00:00\", \"2019-09-15T00:00:00\", \"2019-09-22T00:00:00\", \"2019-09-29T00:00:00\", \"2019-10-06T00:00:00\", \"2019-10-13T00:00:00\", \"2019-10-20T00:00:00\", \"2019-10-27T00:00:00\", \"2019-11-03T00:00:00\", \"2019-11-10T00:00:00\", \"2019-11-17T00:00:00\", \"2019-11-24T00:00:00\", \"2019-12-01T00:00:00\", \"2019-12-08T00:00:00\", \"2019-12-15T00:00:00\", \"2019-12-22T00:00:00\", \"2019-12-29T00:00:00\", \"2020-01-05T00:00:00\", \"2020-01-12T00:00:00\", \"2020-01-19T00:00:00\", \"2020-01-26T00:00:00\", \"2020-02-02T00:00:00\", \"2020-02-09T00:00:00\", \"2020-02-16T00:00:00\", \"2020-02-23T00:00:00\", \"2020-03-01T00:00:00\", \"2020-03-08T00:00:00\", \"2020-03-15T00:00:00\", \"2020-03-22T00:00:00\", \"2020-03-29T00:00:00\", \"2020-04-05T00:00:00\", \"2020-04-12T00:00:00\", \"2020-04-19T00:00:00\", \"2020-04-26T00:00:00\", \"2020-05-03T00:00:00\", \"2020-05-10T00:00:00\", \"2020-05-17T00:00:00\", \"2020-05-24T00:00:00\", \"2020-05-31T00:00:00\", \"2020-06-07T00:00:00\", \"2020-06-14T00:00:00\", \"2020-06-21T00:00:00\", \"2020-06-28T00:00:00\", \"2020-07-05T00:00:00\", \"2020-07-12T00:00:00\", \"2020-07-19T00:00:00\", \"2020-07-26T00:00:00\", \"2020-08-02T00:00:00\", \"2020-08-09T00:00:00\", \"2020-08-16T00:00:00\", \"2020-08-23T00:00:00\", \"2020-08-30T00:00:00\", \"2020-09-06T00:00:00\", \"2020-09-13T00:00:00\", \"2020-09-20T00:00:00\", \"2020-09-27T00:00:00\", \"2020-10-04T00:00:00\", \"2020-10-11T00:00:00\", \"2020-10-18T00:00:00\", \"2020-10-25T00:00:00\", \"2020-11-01T00:00:00\", \"2020-11-08T00:00:00\", \"2020-11-15T00:00:00\", \"2020-11-22T00:00:00\", \"2020-11-29T00:00:00\", \"2020-12-06T00:00:00\", \"2020-12-13T00:00:00\", \"2020-12-20T00:00:00\", \"2020-12-27T00:00:00\", \"2021-01-03T00:00:00\", \"2021-01-10T00:00:00\", \"2021-01-17T00:00:00\", \"2021-01-24T00:00:00\", \"2021-01-31T00:00:00\", \"2021-02-07T00:00:00\", \"2021-02-14T00:00:00\", \"2021-02-21T00:00:00\", \"2021-02-28T00:00:00\", \"2021-03-07T00:00:00\", \"2021-03-14T00:00:00\", \"2021-03-21T00:00:00\", \"2021-03-28T00:00:00\", \"2021-04-04T00:00:00\", \"2021-04-11T00:00:00\", \"2021-04-18T00:00:00\", \"2021-04-25T00:00:00\", \"2021-05-02T00:00:00\", \"2021-05-09T00:00:00\", \"2021-05-16T00:00:00\", \"2021-05-23T00:00:00\", \"2021-05-30T00:00:00\", \"2021-06-06T00:00:00\", \"2021-06-13T00:00:00\", \"2021-06-20T00:00:00\", \"2021-06-27T00:00:00\", \"2021-07-04T00:00:00\", \"2021-07-11T00:00:00\", \"2021-07-18T00:00:00\"], \"y\": [0.23625100134846533, 0.42307176704448746, -0.21995274416348465, 1.231367183905364, 0.17977235801826463, 0.5792743449963307, -0.1855995462155703, 0.12459949789463298, 0.03070808071970088, 0.23251834991213105, -0.04917530609288434, 0.10405062538617504, 0.28079864700156043, -0.05225612941435731, 0.23194386076094076, 0.07011548308677895, -0.06752836248032568, 0.029538356164508395, 0.4318056062197375, 0.10970435033576753, -0.06073238403080394, 0.052371396605717546, -0.005097500137091648, 0.22540905142890955, 0.09598764154511241, -0.09797507450930887, -0.17719871016800803, -0.029433976021841723, 0.0342072156222597, -0.033080037385538885, 0.2026790620656771, -0.018718213506659254, 0.0229318737105213, 0.06416523344301739, -0.10263623903012287, 0.09842582511419184, 0.150096638283713, 0.22129786435236376, -0.3327587547067613, -0.05162363254457425, 0.1624268268574378, -0.04984611340858147, 0.11093248905543751, 0.10661582375875667, -0.4222202049745919, -0.14116996142559524, 1.1235015343113286, -0.0851231231711792, 0.03473145360685459, 0.04802206456117242, 0.06547561544035085, 0.08537166526162454, -0.12893961253000563, 0.040442621372411836, 0.15647023623354928, 0.48617493843583204, 0.8488405225422095, -0.5522864043243699, -0.5034177762946095, -0.106492619173984, 0.07991644674587395, -0.0880019607135556, 0.26371814279024486, -0.04810431072433796, 0.09563188896005093, -0.14217226142070238, -0.0019517978101226685, 0.4238354901417134, -0.11002632469950713, 0.17433565634641202, 0.10092260464892888, -0.06787027538821522, 0.27252838163624005, -0.11086089116895126, -0.07516028933448382, -0.015036943891848065, 0.13271312301177396, 0.04359957846321438, -0.13693458249678092, -0.1768076629487546, 0.04303038670252568, -0.18536619791302233, 0.5886705200172673, 0.35223611030463986, 0.22117101270581196, 0.18948500926961875, -0.6480739443942052, 0.060750026469416296, 0.14291462837851943, -0.2935692845724387, 0.17258170030978537, 0.07630388509015518, 0.008095190886221237, 0.01882978656229306, -0.04975214048832899, -0.06762590649496625, -0.4386259465146458, 0.021557519098938993, 1.1334580105251701, -0.07345501518473618, -0.05185128319506638, -0.013853118196885283, 0.12573070679857534, -0.014961378692950111, -0.31845169981146715, 1.334333181118927, -0.22256769414666422, -0.32419435894081094, -0.19456555246768803, 0.10379803015165878, -0.337772336169489, 0.4991971165672515, 0.10054794706100578, -0.28392554582727403, 0.21643393514404363, -0.04757448530369224, -0.07536494738345412, -0.012168061646437911, -0.023103521163705287, -0.26069804767026605, 0.28819111584258694, -0.1812846424898893, 0.019889248040177554, 0.006016943225322979, -0.2237380648732754, -0.23183590833441803]}, {\"name\": \"IBOV(%)\", \"type\": \"bar\", \"x\": [\"2019-02-24T00:00:00\", \"2019-03-03T00:00:00\", \"2019-03-10T00:00:00\", \"2019-03-17T00:00:00\", \"2019-03-24T00:00:00\", \"2019-03-31T00:00:00\", \"2019-04-07T00:00:00\", \"2019-04-14T00:00:00\", \"2019-04-21T00:00:00\", \"2019-04-28T00:00:00\", \"2019-05-05T00:00:00\", \"2019-05-12T00:00:00\", \"2019-05-19T00:00:00\", \"2019-05-26T00:00:00\", \"2019-06-02T00:00:00\", \"2019-06-09T00:00:00\", \"2019-06-16T00:00:00\", \"2019-06-23T00:00:00\", \"2019-06-30T00:00:00\", \"2019-07-07T00:00:00\", \"2019-07-14T00:00:00\", \"2019-07-21T00:00:00\", \"2019-07-28T00:00:00\", \"2019-08-04T00:00:00\", \"2019-08-11T00:00:00\", \"2019-08-18T00:00:00\", \"2019-08-25T00:00:00\", \"2019-09-01T00:00:00\", \"2019-09-08T00:00:00\", \"2019-09-15T00:00:00\", \"2019-09-22T00:00:00\", \"2019-09-29T00:00:00\", \"2019-10-06T00:00:00\", \"2019-10-13T00:00:00\", \"2019-10-20T00:00:00\", \"2019-10-27T00:00:00\", \"2019-11-03T00:00:00\", \"2019-11-10T00:00:00\", \"2019-11-17T00:00:00\", \"2019-11-24T00:00:00\", \"2019-12-01T00:00:00\", \"2019-12-08T00:00:00\", \"2019-12-15T00:00:00\", \"2019-12-22T00:00:00\", \"2019-12-29T00:00:00\", \"2020-01-05T00:00:00\", \"2020-01-12T00:00:00\", \"2020-01-19T00:00:00\", \"2020-01-26T00:00:00\", \"2020-02-02T00:00:00\", \"2020-02-09T00:00:00\", \"2020-02-16T00:00:00\", \"2020-02-23T00:00:00\", \"2020-03-01T00:00:00\", \"2020-03-08T00:00:00\", \"2020-03-15T00:00:00\", \"2020-03-22T00:00:00\", \"2020-03-29T00:00:00\", \"2020-04-05T00:00:00\", \"2020-04-12T00:00:00\", \"2020-04-19T00:00:00\", \"2020-04-26T00:00:00\", \"2020-05-03T00:00:00\", \"2020-05-10T00:00:00\", \"2020-05-17T00:00:00\", \"2020-05-24T00:00:00\", \"2020-05-31T00:00:00\", \"2020-06-07T00:00:00\", \"2020-06-14T00:00:00\", \"2020-06-21T00:00:00\", \"2020-06-28T00:00:00\", \"2020-07-05T00:00:00\", \"2020-07-12T00:00:00\", \"2020-07-19T00:00:00\", \"2020-07-26T00:00:00\", \"2020-08-02T00:00:00\", \"2020-08-09T00:00:00\", \"2020-08-16T00:00:00\", \"2020-08-23T00:00:00\", \"2020-08-30T00:00:00\", \"2020-09-06T00:00:00\", \"2020-09-13T00:00:00\", \"2020-09-20T00:00:00\", \"2020-09-27T00:00:00\", \"2020-10-04T00:00:00\", \"2020-10-11T00:00:00\", \"2020-10-18T00:00:00\", \"2020-10-25T00:00:00\", \"2020-11-01T00:00:00\", \"2020-11-08T00:00:00\", \"2020-11-15T00:00:00\", \"2020-11-22T00:00:00\", \"2020-11-29T00:00:00\", \"2020-12-06T00:00:00\", \"2020-12-13T00:00:00\", \"2020-12-20T00:00:00\", \"2020-12-27T00:00:00\", \"2021-01-03T00:00:00\", \"2021-01-10T00:00:00\", \"2021-01-17T00:00:00\", \"2021-01-24T00:00:00\", \"2021-01-31T00:00:00\", \"2021-02-07T00:00:00\", \"2021-02-14T00:00:00\", \"2021-02-21T00:00:00\", \"2021-02-28T00:00:00\", \"2021-03-07T00:00:00\", \"2021-03-14T00:00:00\", \"2021-03-21T00:00:00\", \"2021-03-28T00:00:00\", \"2021-04-04T00:00:00\", \"2021-04-11T00:00:00\", \"2021-04-18T00:00:00\", \"2021-04-25T00:00:00\", \"2021-05-02T00:00:00\", \"2021-05-09T00:00:00\", \"2021-05-16T00:00:00\", \"2021-05-23T00:00:00\", \"2021-05-30T00:00:00\", \"2021-06-06T00:00:00\", \"2021-06-13T00:00:00\", \"2021-06-20T00:00:00\", \"2021-06-27T00:00:00\", \"2021-07-04T00:00:00\", \"2021-07-11T00:00:00\", \"2021-07-18T00:00:00\"], \"y\": [0.0036913233394171296, -0.03352879880677517, 0.008044057333727928, 0.03955329523410067, -0.05449025086496462, 0.017922867658825448, 0.017743541371901594, -0.04359064134777768, 0.0183364737550471, 0.017530503922688068, -0.0023691757762167587, -0.018227647696025362, -0.045248148698253776, 0.04039203049126039, 0.036335284316657335, 0.008152117901679912, 0.002238783083386986, 0.04052427580579354, -0.010253595130032434, 0.03092099398813475, -0.0017581108474478135, -0.004369333820953503, -0.006118779723929935, -0.001410245188146142, 0.012875703683503215, -0.04029001115427522, -0.021431577259884205, 0.03550841123409132, 0.017797992781925176, 0.005498615631223558, 0.012714852996589476, 0.0024900540942784932, -0.024048801842440848, 0.012491345769422013, 0.008638955235380275, 0.02516017530960868, 0.007749338698260111, -0.005240489482051136, -0.009960140854230692, 0.020036224743564368, -0.004222941890847487, 0.026729370894274407, 0.01294926479851699, 0.02270688046906222, 0.012274042094839288, 0.010065731889405738, -0.018724459887687228, 0.02575690674701092, -0.0008609193267948845, -0.03898594309657366, 7.9113228610872e-05, 0.005370484310450951, -0.006119897535429852, -0.08364634371618829, -0.05927696501939106, -0.15632111187077158, -0.1887926655216624, 0.09482771474153484, -0.0529899630936006, 0.1171158215651873, 0.0168378775005793, -0.046322319280921675, 0.06869681804303673, -0.00301840856582114, -0.033714164683602665, 0.059517516149412586, 0.06364620982561187, 0.08276603777902358, -0.01946384606443563, 0.04070262406379643, -0.028351903243176046, 0.03123601253277064, 0.033762207409703926, 0.02855086372360849, -0.004917969053728322, 0.00517669121525266, -0.0013215174129352913, -0.013845644897641507, 0.0016575730368120212, 0.006126811201623283, -0.008820966683962705, -0.028436814760672502, -0.0007421489787826641, -0.01313460168887981, -0.030752894359735716, 0.03687670183798497, 0.008473272262855991, 0.030017597574993227, -0.07217064981236421, 0.07287763964577665, 0.036835682893679556, 0.01918439987752607, 0.038097205140963375, 0.028098575627402145, 0.014435002902834171, 0.02042957606028284, 0.0015125893319962724, 0.012294560357042794, 0.04837141468157502, -0.03657746827953978, -0.02763439610960816, -0.009942648414296928, 0.0337738239933798, -0.006745882843443796, -0.0030894254340306793, -0.07337386734934481, 0.04695778615894941, -0.009044981857953882, 0.01806236860546595, -0.012398685274732868, 0.004112178844930758, 0.020971254544350337, 0.029268292682926855, -0.00482190333074628, -0.013573384219696338, 0.026443722980133533, -0.0012864845376030498, 0.005833558963250995, 0.02421854607152185, 0.036356830544516106, -0.005264128613805097, -0.008003646448961343, -0.008948249678750853, 0.002876092286414833, -0.017191393333437777, 0.004241477182128417]}],\n",
              "                        {\"barmode\": \"group\", \"template\": {\"data\": {\"bar\": [{\"error_x\": {\"color\": \"#2a3f5f\"}, \"error_y\": {\"color\": \"#2a3f5f\"}, \"marker\": {\"line\": {\"color\": \"#E5ECF6\", \"width\": 0.5}}, \"type\": \"bar\"}], \"barpolar\": [{\"marker\": {\"line\": {\"color\": \"#E5ECF6\", \"width\": 0.5}}, \"type\": \"barpolar\"}], \"carpet\": [{\"aaxis\": {\"endlinecolor\": \"#2a3f5f\", \"gridcolor\": \"white\", \"linecolor\": \"white\", \"minorgridcolor\": \"white\", \"startlinecolor\": \"#2a3f5f\"}, \"baxis\": {\"endlinecolor\": \"#2a3f5f\", \"gridcolor\": \"white\", \"linecolor\": \"white\", \"minorgridcolor\": \"white\", \"startlinecolor\": \"#2a3f5f\"}, \"type\": \"carpet\"}], \"choropleth\": [{\"colorbar\": {\"outlinewidth\": 0, \"ticks\": \"\"}, \"type\": \"choropleth\"}], \"contour\": [{\"colorbar\": {\"outlinewidth\": 0, \"ticks\": \"\"}, \"colorscale\": [[0.0, \"#0d0887\"], [0.1111111111111111, \"#46039f\"], [0.2222222222222222, \"#7201a8\"], [0.3333333333333333, \"#9c179e\"], [0.4444444444444444, \"#bd3786\"], [0.5555555555555556, \"#d8576b\"], [0.6666666666666666, \"#ed7953\"], [0.7777777777777778, \"#fb9f3a\"], [0.8888888888888888, \"#fdca26\"], [1.0, \"#f0f921\"]], \"type\": \"contour\"}], \"contourcarpet\": [{\"colorbar\": {\"outlinewidth\": 0, \"ticks\": \"\"}, \"type\": \"contourcarpet\"}], \"heatmap\": [{\"colorbar\": {\"outlinewidth\": 0, \"ticks\": \"\"}, \"colorscale\": [[0.0, \"#0d0887\"], [0.1111111111111111, \"#46039f\"], [0.2222222222222222, \"#7201a8\"], [0.3333333333333333, \"#9c179e\"], [0.4444444444444444, \"#bd3786\"], [0.5555555555555556, \"#d8576b\"], [0.6666666666666666, \"#ed7953\"], [0.7777777777777778, \"#fb9f3a\"], [0.8888888888888888, \"#fdca26\"], [1.0, \"#f0f921\"]], \"type\": \"heatmap\"}], \"heatmapgl\": [{\"colorbar\": {\"outlinewidth\": 0, \"ticks\": \"\"}, \"colorscale\": [[0.0, \"#0d0887\"], [0.1111111111111111, \"#46039f\"], [0.2222222222222222, \"#7201a8\"], [0.3333333333333333, \"#9c179e\"], [0.4444444444444444, \"#bd3786\"], [0.5555555555555556, \"#d8576b\"], [0.6666666666666666, \"#ed7953\"], [0.7777777777777778, \"#fb9f3a\"], [0.8888888888888888, \"#fdca26\"], [1.0, \"#f0f921\"]], \"type\": \"heatmapgl\"}], \"histogram\": [{\"marker\": {\"colorbar\": {\"outlinewidth\": 0, \"ticks\": \"\"}}, \"type\": \"histogram\"}], \"histogram2d\": [{\"colorbar\": {\"outlinewidth\": 0, \"ticks\": \"\"}, \"colorscale\": [[0.0, \"#0d0887\"], [0.1111111111111111, \"#46039f\"], [0.2222222222222222, \"#7201a8\"], [0.3333333333333333, \"#9c179e\"], [0.4444444444444444, \"#bd3786\"], [0.5555555555555556, \"#d8576b\"], [0.6666666666666666, \"#ed7953\"], [0.7777777777777778, \"#fb9f3a\"], [0.8888888888888888, \"#fdca26\"], [1.0, \"#f0f921\"]], \"type\": \"histogram2d\"}], \"histogram2dcontour\": [{\"colorbar\": {\"outlinewidth\": 0, \"ticks\": \"\"}, \"colorscale\": [[0.0, \"#0d0887\"], [0.1111111111111111, \"#46039f\"], [0.2222222222222222, \"#7201a8\"], [0.3333333333333333, \"#9c179e\"], [0.4444444444444444, \"#bd3786\"], [0.5555555555555556, \"#d8576b\"], [0.6666666666666666, \"#ed7953\"], [0.7777777777777778, \"#fb9f3a\"], [0.8888888888888888, \"#fdca26\"], [1.0, \"#f0f921\"]], \"type\": \"histogram2dcontour\"}], \"mesh3d\": [{\"colorbar\": {\"outlinewidth\": 0, \"ticks\": \"\"}, \"type\": \"mesh3d\"}], \"parcoords\": [{\"line\": {\"colorbar\": {\"outlinewidth\": 0, \"ticks\": \"\"}}, \"type\": \"parcoords\"}], \"pie\": [{\"automargin\": true, \"type\": \"pie\"}], \"scatter\": [{\"marker\": {\"colorbar\": {\"outlinewidth\": 0, \"ticks\": \"\"}}, \"type\": \"scatter\"}], \"scatter3d\": [{\"line\": {\"colorbar\": {\"outlinewidth\": 0, \"ticks\": \"\"}}, \"marker\": {\"colorbar\": {\"outlinewidth\": 0, \"ticks\": \"\"}}, \"type\": \"scatter3d\"}], \"scattercarpet\": [{\"marker\": {\"colorbar\": {\"outlinewidth\": 0, \"ticks\": \"\"}}, \"type\": \"scattercarpet\"}], \"scattergeo\": [{\"marker\": {\"colorbar\": {\"outlinewidth\": 0, \"ticks\": \"\"}}, \"type\": \"scattergeo\"}], \"scattergl\": [{\"marker\": {\"colorbar\": {\"outlinewidth\": 0, \"ticks\": \"\"}}, \"type\": \"scattergl\"}], \"scattermapbox\": [{\"marker\": {\"colorbar\": {\"outlinewidth\": 0, \"ticks\": \"\"}}, \"type\": \"scattermapbox\"}], \"scatterpolar\": [{\"marker\": {\"colorbar\": {\"outlinewidth\": 0, \"ticks\": \"\"}}, \"type\": \"scatterpolar\"}], \"scatterpolargl\": [{\"marker\": {\"colorbar\": {\"outlinewidth\": 0, \"ticks\": \"\"}}, \"type\": \"scatterpolargl\"}], \"scatterternary\": [{\"marker\": {\"colorbar\": {\"outlinewidth\": 0, \"ticks\": \"\"}}, \"type\": \"scatterternary\"}], \"surface\": [{\"colorbar\": {\"outlinewidth\": 0, \"ticks\": \"\"}, \"colorscale\": [[0.0, \"#0d0887\"], [0.1111111111111111, \"#46039f\"], [0.2222222222222222, \"#7201a8\"], [0.3333333333333333, \"#9c179e\"], [0.4444444444444444, \"#bd3786\"], [0.5555555555555556, \"#d8576b\"], [0.6666666666666666, \"#ed7953\"], [0.7777777777777778, \"#fb9f3a\"], [0.8888888888888888, \"#fdca26\"], [1.0, \"#f0f921\"]], \"type\": \"surface\"}], \"table\": [{\"cells\": {\"fill\": {\"color\": \"#EBF0F8\"}, \"line\": {\"color\": \"white\"}}, \"header\": {\"fill\": {\"color\": \"#C8D4E3\"}, \"line\": {\"color\": \"white\"}}, \"type\": \"table\"}]}, \"layout\": {\"annotationdefaults\": {\"arrowcolor\": \"#2a3f5f\", \"arrowhead\": 0, \"arrowwidth\": 1}, \"coloraxis\": {\"colorbar\": {\"outlinewidth\": 0, \"ticks\": \"\"}}, \"colorscale\": {\"diverging\": [[0, \"#8e0152\"], [0.1, \"#c51b7d\"], [0.2, \"#de77ae\"], [0.3, \"#f1b6da\"], [0.4, \"#fde0ef\"], [0.5, \"#f7f7f7\"], [0.6, \"#e6f5d0\"], [0.7, \"#b8e186\"], [0.8, \"#7fbc41\"], [0.9, \"#4d9221\"], [1, \"#276419\"]], \"sequential\": [[0.0, \"#0d0887\"], [0.1111111111111111, \"#46039f\"], [0.2222222222222222, \"#7201a8\"], [0.3333333333333333, \"#9c179e\"], [0.4444444444444444, \"#bd3786\"], [0.5555555555555556, \"#d8576b\"], [0.6666666666666666, \"#ed7953\"], [0.7777777777777778, \"#fb9f3a\"], [0.8888888888888888, \"#fdca26\"], [1.0, \"#f0f921\"]], \"sequentialminus\": [[0.0, \"#0d0887\"], [0.1111111111111111, \"#46039f\"], [0.2222222222222222, \"#7201a8\"], [0.3333333333333333, \"#9c179e\"], [0.4444444444444444, \"#bd3786\"], [0.5555555555555556, \"#d8576b\"], [0.6666666666666666, \"#ed7953\"], [0.7777777777777778, \"#fb9f3a\"], [0.8888888888888888, \"#fdca26\"], [1.0, \"#f0f921\"]]}, \"colorway\": [\"#636efa\", \"#EF553B\", \"#00cc96\", \"#ab63fa\", \"#FFA15A\", \"#19d3f3\", \"#FF6692\", \"#B6E880\", \"#FF97FF\", \"#FECB52\"], \"font\": {\"color\": \"#2a3f5f\"}, \"geo\": {\"bgcolor\": \"white\", \"lakecolor\": \"white\", \"landcolor\": \"#E5ECF6\", \"showlakes\": true, \"showland\": true, \"subunitcolor\": \"white\"}, \"hoverlabel\": {\"align\": \"left\"}, \"hovermode\": \"closest\", \"mapbox\": {\"style\": \"light\"}, \"paper_bgcolor\": \"white\", \"plot_bgcolor\": \"#E5ECF6\", \"polar\": {\"angularaxis\": {\"gridcolor\": \"white\", \"linecolor\": \"white\", \"ticks\": \"\"}, \"bgcolor\": \"#E5ECF6\", \"radialaxis\": {\"gridcolor\": \"white\", \"linecolor\": \"white\", \"ticks\": \"\"}}, \"scene\": {\"xaxis\": {\"backgroundcolor\": \"#E5ECF6\", \"gridcolor\": \"white\", \"gridwidth\": 2, \"linecolor\": \"white\", \"showbackground\": true, \"ticks\": \"\", \"zerolinecolor\": \"white\"}, \"yaxis\": {\"backgroundcolor\": \"#E5ECF6\", \"gridcolor\": \"white\", \"gridwidth\": 2, \"linecolor\": \"white\", \"showbackground\": true, \"ticks\": \"\", \"zerolinecolor\": \"white\"}, \"zaxis\": {\"backgroundcolor\": \"#E5ECF6\", \"gridcolor\": \"white\", \"gridwidth\": 2, \"linecolor\": \"white\", \"showbackground\": true, \"ticks\": \"\", \"zerolinecolor\": \"white\"}}, \"shapedefaults\": {\"line\": {\"color\": \"#2a3f5f\"}}, \"ternary\": {\"aaxis\": {\"gridcolor\": \"white\", \"linecolor\": \"white\", \"ticks\": \"\"}, \"baxis\": {\"gridcolor\": \"white\", \"linecolor\": \"white\", \"ticks\": \"\"}, \"bgcolor\": \"#E5ECF6\", \"caxis\": {\"gridcolor\": \"white\", \"linecolor\": \"white\", \"ticks\": \"\"}}, \"title\": {\"x\": 0.05}, \"xaxis\": {\"automargin\": true, \"gridcolor\": \"white\", \"linecolor\": \"white\", \"ticks\": \"\", \"title\": {\"standoff\": 15}, \"zerolinecolor\": \"white\", \"zerolinewidth\": 2}, \"yaxis\": {\"automargin\": true, \"gridcolor\": \"white\", \"linecolor\": \"white\", \"ticks\": \"\", \"title\": {\"standoff\": 15}, \"zerolinecolor\": \"white\", \"zerolinewidth\": 2}}}},\n",
              "                        {\"responsive\": true}\n",
              "                    ).then(function(){\n",
              "                            \n",
              "var gd = document.getElementById('a7f0c225-442f-4648-a612-459b4b12bfd4');\n",
              "var x = new MutationObserver(function (mutations, observer) {{\n",
              "        var display = window.getComputedStyle(gd).display;\n",
              "        if (!display || display === 'none') {{\n",
              "            console.log([gd, 'removed!']);\n",
              "            Plotly.purge(gd);\n",
              "            observer.disconnect();\n",
              "        }}\n",
              "}});\n",
              "\n",
              "// Listen for the removal of the full notebook cells\n",
              "var notebookContainer = gd.closest('#notebook-container');\n",
              "if (notebookContainer) {{\n",
              "    x.observe(notebookContainer, {childList: true});\n",
              "}}\n",
              "\n",
              "// Listen for the clearing of the current output cell\n",
              "var outputEl = gd.closest('.output');\n",
              "if (outputEl) {{\n",
              "    x.observe(outputEl, {childList: true});\n",
              "}}\n",
              "\n",
              "                        })\n",
              "                };\n",
              "                \n",
              "            </script>\n",
              "        </div>\n",
              "</body>\n",
              "</html>"
            ]
          },
          "metadata": {
            "tags": []
          }
        }
      ]
    },
    {
      "cell_type": "code",
      "metadata": {
        "colab": {
          "base_uri": "https://localhost:8080/",
          "height": 110
        },
        "id": "NJXAD8_nsGP7",
        "outputId": "6a8f997b-9ad1-4907-a097-a5ccf78326ac"
      },
      "source": [
        "selic_ibov.corr()"
      ],
      "execution_count": 59,
      "outputs": [
        {
          "output_type": "execute_result",
          "data": {
            "text/html": [
              "<div>\n",
              "<style scoped>\n",
              "    .dataframe tbody tr th:only-of-type {\n",
              "        vertical-align: middle;\n",
              "    }\n",
              "\n",
              "    .dataframe tbody tr th {\n",
              "        vertical-align: top;\n",
              "    }\n",
              "\n",
              "    .dataframe thead th {\n",
              "        text-align: right;\n",
              "    }\n",
              "</style>\n",
              "<table border=\"1\" class=\"dataframe\">\n",
              "  <thead>\n",
              "    <tr style=\"text-align: right;\">\n",
              "      <th></th>\n",
              "      <th>Recompra(%)</th>\n",
              "      <th>IBOV(%)</th>\n",
              "    </tr>\n",
              "  </thead>\n",
              "  <tbody>\n",
              "    <tr>\n",
              "      <th>Recompra(%)</th>\n",
              "      <td>1.000000</td>\n",
              "      <td>-0.211668</td>\n",
              "    </tr>\n",
              "    <tr>\n",
              "      <th>IBOV(%)</th>\n",
              "      <td>-0.211668</td>\n",
              "      <td>1.000000</td>\n",
              "    </tr>\n",
              "  </tbody>\n",
              "</table>\n",
              "</div>"
            ],
            "text/plain": [
              "             Recompra(%)   IBOV(%)\n",
              "Recompra(%)     1.000000 -0.211668\n",
              "IBOV(%)        -0.211668  1.000000"
            ]
          },
          "metadata": {
            "tags": []
          },
          "execution_count": 59
        }
      ]
    }
  ]
}